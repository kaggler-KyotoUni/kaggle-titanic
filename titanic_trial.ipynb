{
  "nbformat": 4,
  "nbformat_minor": 0,
  "metadata": {
    "colab": {
      "name": "titanic_trial.ipynb",
      "provenance": [],
      "toc_visible": true,
      "mount_file_id": "1THSn5I69XwAUaVRIzo1U-t6Sol6S-Fs2",
      "authorship_tag": "ABX9TyP3xN9uIuA0IkB5N8dYumXv",
      "include_colab_link": true
    },
    "kernelspec": {
      "name": "python3",
      "display_name": "Python 3"
    }
  },
  "cells": [
    {
      "cell_type": "markdown",
      "metadata": {
        "id": "view-in-github",
        "colab_type": "text"
      },
      "source": [
        "<a href=\"https://colab.research.google.com/github/kaggler-KyotoUni/kaggle-titanic/blob/potedo_branch/titanic_trial.ipynb\" target=\"_parent\"><img src=\"https://colab.research.google.com/assets/colab-badge.svg\" alt=\"Open In Colab\"/></a>"
      ]
    },
    {
      "cell_type": "code",
      "metadata": {
        "id": "e__1NVUKGtwv",
        "colab_type": "code",
        "colab": {
          "base_uri": "https://localhost:8080/",
          "height": 34
        },
        "outputId": "9a9ff9ad-7ea4-4812-d109-cc3e168f2701"
      },
      "source": [
        "# kaggle.json を google drive からダウンロードするコード\n",
        "from googleapiclient.discovery import build\n",
        "import io, os\n",
        "from googleapiclient.http import MediaIoBaseDownload\n",
        "from google.colab import auth\n",
        "\n",
        "auth.authenticate_user()\n",
        "\n",
        "drive_service = build(\"drive\", \"v3\")\n",
        "results = drive_service.files().list(\n",
        "    q=\"name = 'kaggle.json'\", fields=\"files(id)\").execute()\n",
        "kaggle_api_key = results.get(\"files\", [])\n",
        "\n",
        "filename = \"/root/.kaggle/kaggle.json\"\n",
        "os.makedirs(os.path.dirname(filename), exist_ok=True)\n",
        "\n",
        "request = drive_service.files().get_media(fileId=kaggle_api_key[0][\"id\"])\n",
        "fh = io.FileIO(filename, \"wb\")\n",
        "downloader = MediaIoBaseDownload(fh, request)\n",
        "done = False\n",
        "while done is False:\n",
        "    status, done = downloader.next_chunk()\n",
        "    print(\"Download %d%%.\" % int(status.progress() * 100))\n",
        "\n",
        "os.chmod(filename, 600)"
      ],
      "execution_count": null,
      "outputs": [
        {
          "output_type": "stream",
          "text": [
            "Download 100%.\n"
          ],
          "name": "stdout"
        }
      ]
    },
    {
      "cell_type": "code",
      "metadata": {
        "id": "r9w6UlH4GzVv",
        "colab_type": "code",
        "colab": {
          "base_uri": "https://localhost:8080/",
          "height": 210
        },
        "outputId": "c682f398-0742-426a-a1ca-9d4d6ee0b740"
      },
      "source": [
        "!pip install kaggle"
      ],
      "execution_count": null,
      "outputs": [
        {
          "output_type": "stream",
          "text": [
            "Requirement already satisfied: kaggle in /usr/local/lib/python3.6/dist-packages (1.5.6)\n",
            "Requirement already satisfied: urllib3<1.25,>=1.21.1 in /usr/local/lib/python3.6/dist-packages (from kaggle) (1.24.3)\n",
            "Requirement already satisfied: python-dateutil in /usr/local/lib/python3.6/dist-packages (from kaggle) (2.8.1)\n",
            "Requirement already satisfied: certifi in /usr/local/lib/python3.6/dist-packages (from kaggle) (2020.6.20)\n",
            "Requirement already satisfied: tqdm in /usr/local/lib/python3.6/dist-packages (from kaggle) (4.41.1)\n",
            "Requirement already satisfied: requests in /usr/local/lib/python3.6/dist-packages (from kaggle) (2.23.0)\n",
            "Requirement already satisfied: six>=1.10 in /usr/local/lib/python3.6/dist-packages (from kaggle) (1.12.0)\n",
            "Requirement already satisfied: python-slugify in /usr/local/lib/python3.6/dist-packages (from kaggle) (4.0.1)\n",
            "Requirement already satisfied: idna<3,>=2.5 in /usr/local/lib/python3.6/dist-packages (from requests->kaggle) (2.10)\n",
            "Requirement already satisfied: chardet<4,>=3.0.2 in /usr/local/lib/python3.6/dist-packages (from requests->kaggle) (3.0.4)\n",
            "Requirement already satisfied: text-unidecode>=1.3 in /usr/local/lib/python3.6/dist-packages (from python-slugify->kaggle) (1.3)\n"
          ],
          "name": "stdout"
        }
      ]
    },
    {
      "cell_type": "code",
      "metadata": {
        "id": "YVtTvoaaHBtD",
        "colab_type": "code",
        "colab": {}
      },
      "source": [
        "!chmod 600 /root/.kaggle/kaggle.json"
      ],
      "execution_count": null,
      "outputs": []
    },
    {
      "cell_type": "code",
      "metadata": {
        "id": "AeRr7z5rHG2j",
        "colab_type": "code",
        "colab": {
          "base_uri": "https://localhost:8080/",
          "height": 193
        },
        "outputId": "c41cbdce-67d9-4179-a21f-1d4a27bf3eb2"
      },
      "source": [
        "\"\"\"\n",
        "kaggleのサイトからデータをダウンロード。\n",
        "ここのコマンドは join しているコンペの Data タブの中に記載がある。\n",
        "コンペごとに貼りかえる。\n",
        "\"\"\"\n",
        "!kaggle competitions download -c titanic"
      ],
      "execution_count": null,
      "outputs": [
        {
          "output_type": "stream",
          "text": [
            "Warning: Looks like you're using an outdated API Version, please consider updating (server 1.5.6 / client 1.5.4)\n",
            "Downloading test.csv to /content\n",
            "  0% 0.00/28.0k [00:00<?, ?B/s]\n",
            "100% 28.0k/28.0k [00:00<00:00, 10.7MB/s]\n",
            "Downloading train.csv to /content\n",
            "  0% 0.00/59.8k [00:00<?, ?B/s]\n",
            "100% 59.8k/59.8k [00:00<00:00, 51.9MB/s]\n",
            "Downloading gender_submission.csv to /content\n",
            "  0% 0.00/3.18k [00:00<?, ?B/s]\n",
            "100% 3.18k/3.18k [00:00<00:00, 3.27MB/s]\n"
          ],
          "name": "stdout"
        }
      ]
    },
    {
      "cell_type": "code",
      "metadata": {
        "id": "vDeCE1XYJz0q",
        "colab_type": "code",
        "colab": {}
      },
      "source": [
        "import pandas as pd\n",
        "\n",
        "train_df = pd.read_csv(\"train.csv\")\n",
        "test_df = pd.read_csv(\"test.csv\")"
      ],
      "execution_count": null,
      "outputs": []
    },
    {
      "cell_type": "code",
      "metadata": {
        "id": "QcE-vKxuKEcB",
        "colab_type": "code",
        "colab": {
          "base_uri": "https://localhost:8080/",
          "height": 469
        },
        "outputId": "c3240bc2-874c-4cc7-c487-e5b8c9d41d52"
      },
      "source": [
        "train_df"
      ],
      "execution_count": null,
      "outputs": [
        {
          "output_type": "execute_result",
          "data": {
            "text/html": [
              "<div>\n",
              "<style scoped>\n",
              "    .dataframe tbody tr th:only-of-type {\n",
              "        vertical-align: middle;\n",
              "    }\n",
              "\n",
              "    .dataframe tbody tr th {\n",
              "        vertical-align: top;\n",
              "    }\n",
              "\n",
              "    .dataframe thead th {\n",
              "        text-align: right;\n",
              "    }\n",
              "</style>\n",
              "<table border=\"1\" class=\"dataframe\">\n",
              "  <thead>\n",
              "    <tr style=\"text-align: right;\">\n",
              "      <th></th>\n",
              "      <th>PassengerId</th>\n",
              "      <th>Survived</th>\n",
              "      <th>Pclass</th>\n",
              "      <th>Name</th>\n",
              "      <th>Sex</th>\n",
              "      <th>Age</th>\n",
              "      <th>SibSp</th>\n",
              "      <th>Parch</th>\n",
              "      <th>Ticket</th>\n",
              "      <th>Fare</th>\n",
              "      <th>Cabin</th>\n",
              "      <th>Embarked</th>\n",
              "    </tr>\n",
              "  </thead>\n",
              "  <tbody>\n",
              "    <tr>\n",
              "      <th>0</th>\n",
              "      <td>1</td>\n",
              "      <td>0</td>\n",
              "      <td>3</td>\n",
              "      <td>Braund, Mr. Owen Harris</td>\n",
              "      <td>male</td>\n",
              "      <td>22.0</td>\n",
              "      <td>1</td>\n",
              "      <td>0</td>\n",
              "      <td>A/5 21171</td>\n",
              "      <td>7.2500</td>\n",
              "      <td>NaN</td>\n",
              "      <td>S</td>\n",
              "    </tr>\n",
              "    <tr>\n",
              "      <th>1</th>\n",
              "      <td>2</td>\n",
              "      <td>1</td>\n",
              "      <td>1</td>\n",
              "      <td>Cumings, Mrs. John Bradley (Florence Briggs Th...</td>\n",
              "      <td>female</td>\n",
              "      <td>38.0</td>\n",
              "      <td>1</td>\n",
              "      <td>0</td>\n",
              "      <td>PC 17599</td>\n",
              "      <td>71.2833</td>\n",
              "      <td>C85</td>\n",
              "      <td>C</td>\n",
              "    </tr>\n",
              "    <tr>\n",
              "      <th>2</th>\n",
              "      <td>3</td>\n",
              "      <td>1</td>\n",
              "      <td>3</td>\n",
              "      <td>Heikkinen, Miss. Laina</td>\n",
              "      <td>female</td>\n",
              "      <td>26.0</td>\n",
              "      <td>0</td>\n",
              "      <td>0</td>\n",
              "      <td>STON/O2. 3101282</td>\n",
              "      <td>7.9250</td>\n",
              "      <td>NaN</td>\n",
              "      <td>S</td>\n",
              "    </tr>\n",
              "    <tr>\n",
              "      <th>3</th>\n",
              "      <td>4</td>\n",
              "      <td>1</td>\n",
              "      <td>1</td>\n",
              "      <td>Futrelle, Mrs. Jacques Heath (Lily May Peel)</td>\n",
              "      <td>female</td>\n",
              "      <td>35.0</td>\n",
              "      <td>1</td>\n",
              "      <td>0</td>\n",
              "      <td>113803</td>\n",
              "      <td>53.1000</td>\n",
              "      <td>C123</td>\n",
              "      <td>S</td>\n",
              "    </tr>\n",
              "    <tr>\n",
              "      <th>4</th>\n",
              "      <td>5</td>\n",
              "      <td>0</td>\n",
              "      <td>3</td>\n",
              "      <td>Allen, Mr. William Henry</td>\n",
              "      <td>male</td>\n",
              "      <td>35.0</td>\n",
              "      <td>0</td>\n",
              "      <td>0</td>\n",
              "      <td>373450</td>\n",
              "      <td>8.0500</td>\n",
              "      <td>NaN</td>\n",
              "      <td>S</td>\n",
              "    </tr>\n",
              "    <tr>\n",
              "      <th>...</th>\n",
              "      <td>...</td>\n",
              "      <td>...</td>\n",
              "      <td>...</td>\n",
              "      <td>...</td>\n",
              "      <td>...</td>\n",
              "      <td>...</td>\n",
              "      <td>...</td>\n",
              "      <td>...</td>\n",
              "      <td>...</td>\n",
              "      <td>...</td>\n",
              "      <td>...</td>\n",
              "      <td>...</td>\n",
              "    </tr>\n",
              "    <tr>\n",
              "      <th>886</th>\n",
              "      <td>887</td>\n",
              "      <td>0</td>\n",
              "      <td>2</td>\n",
              "      <td>Montvila, Rev. Juozas</td>\n",
              "      <td>male</td>\n",
              "      <td>27.0</td>\n",
              "      <td>0</td>\n",
              "      <td>0</td>\n",
              "      <td>211536</td>\n",
              "      <td>13.0000</td>\n",
              "      <td>NaN</td>\n",
              "      <td>S</td>\n",
              "    </tr>\n",
              "    <tr>\n",
              "      <th>887</th>\n",
              "      <td>888</td>\n",
              "      <td>1</td>\n",
              "      <td>1</td>\n",
              "      <td>Graham, Miss. Margaret Edith</td>\n",
              "      <td>female</td>\n",
              "      <td>19.0</td>\n",
              "      <td>0</td>\n",
              "      <td>0</td>\n",
              "      <td>112053</td>\n",
              "      <td>30.0000</td>\n",
              "      <td>B42</td>\n",
              "      <td>S</td>\n",
              "    </tr>\n",
              "    <tr>\n",
              "      <th>888</th>\n",
              "      <td>889</td>\n",
              "      <td>0</td>\n",
              "      <td>3</td>\n",
              "      <td>Johnston, Miss. Catherine Helen \"Carrie\"</td>\n",
              "      <td>female</td>\n",
              "      <td>NaN</td>\n",
              "      <td>1</td>\n",
              "      <td>2</td>\n",
              "      <td>W./C. 6607</td>\n",
              "      <td>23.4500</td>\n",
              "      <td>NaN</td>\n",
              "      <td>S</td>\n",
              "    </tr>\n",
              "    <tr>\n",
              "      <th>889</th>\n",
              "      <td>890</td>\n",
              "      <td>1</td>\n",
              "      <td>1</td>\n",
              "      <td>Behr, Mr. Karl Howell</td>\n",
              "      <td>male</td>\n",
              "      <td>26.0</td>\n",
              "      <td>0</td>\n",
              "      <td>0</td>\n",
              "      <td>111369</td>\n",
              "      <td>30.0000</td>\n",
              "      <td>C148</td>\n",
              "      <td>C</td>\n",
              "    </tr>\n",
              "    <tr>\n",
              "      <th>890</th>\n",
              "      <td>891</td>\n",
              "      <td>0</td>\n",
              "      <td>3</td>\n",
              "      <td>Dooley, Mr. Patrick</td>\n",
              "      <td>male</td>\n",
              "      <td>32.0</td>\n",
              "      <td>0</td>\n",
              "      <td>0</td>\n",
              "      <td>370376</td>\n",
              "      <td>7.7500</td>\n",
              "      <td>NaN</td>\n",
              "      <td>Q</td>\n",
              "    </tr>\n",
              "  </tbody>\n",
              "</table>\n",
              "<p>891 rows × 12 columns</p>\n",
              "</div>"
            ],
            "text/plain": [
              "     PassengerId  Survived  Pclass  ...     Fare Cabin  Embarked\n",
              "0              1         0       3  ...   7.2500   NaN         S\n",
              "1              2         1       1  ...  71.2833   C85         C\n",
              "2              3         1       3  ...   7.9250   NaN         S\n",
              "3              4         1       1  ...  53.1000  C123         S\n",
              "4              5         0       3  ...   8.0500   NaN         S\n",
              "..           ...       ...     ...  ...      ...   ...       ...\n",
              "886          887         0       2  ...  13.0000   NaN         S\n",
              "887          888         1       1  ...  30.0000   B42         S\n",
              "888          889         0       3  ...  23.4500   NaN         S\n",
              "889          890         1       1  ...  30.0000  C148         C\n",
              "890          891         0       3  ...   7.7500   NaN         Q\n",
              "\n",
              "[891 rows x 12 columns]"
            ]
          },
          "metadata": {
            "tags": []
          },
          "execution_count": 6
        }
      ]
    },
    {
      "cell_type": "code",
      "metadata": {
        "id": "DR6JSzucKGT5",
        "colab_type": "code",
        "colab": {
          "base_uri": "https://localhost:8080/",
          "height": 246
        },
        "outputId": "99957c37-ca10-4433-bc60-305bb297b0bb"
      },
      "source": [
        "train_df.isnull().sum()"
      ],
      "execution_count": null,
      "outputs": [
        {
          "output_type": "execute_result",
          "data": {
            "text/plain": [
              "PassengerId      0\n",
              "Survived         0\n",
              "Pclass           0\n",
              "Name             0\n",
              "Sex              0\n",
              "Age            177\n",
              "SibSp            0\n",
              "Parch            0\n",
              "Ticket           0\n",
              "Fare             0\n",
              "Cabin          687\n",
              "Embarked         2\n",
              "dtype: int64"
            ]
          },
          "metadata": {
            "tags": []
          },
          "execution_count": 8
        }
      ]
    },
    {
      "cell_type": "code",
      "metadata": {
        "id": "3Z-B38y2Ksfx",
        "colab_type": "code",
        "colab": {
          "base_uri": "https://localhost:8080/",
          "height": 228
        },
        "outputId": "bf5a6cf4-ecb6-413f-d100-3b4b355f2435"
      },
      "source": [
        "test_df.isnull().sum()"
      ],
      "execution_count": null,
      "outputs": [
        {
          "output_type": "execute_result",
          "data": {
            "text/plain": [
              "PassengerId      0\n",
              "Pclass           0\n",
              "Name             0\n",
              "Sex              0\n",
              "Age             86\n",
              "SibSp            0\n",
              "Parch            0\n",
              "Ticket           0\n",
              "Fare             1\n",
              "Cabin          327\n",
              "Embarked         0\n",
              "dtype: int64"
            ]
          },
          "metadata": {
            "tags": []
          },
          "execution_count": 9
        }
      ]
    },
    {
      "cell_type": "code",
      "metadata": {
        "id": "NnCP-bz4K01B",
        "colab_type": "code",
        "colab": {
          "base_uri": "https://localhost:8080/",
          "height": 284
        },
        "outputId": "42eb41cf-851c-4a68-afb5-2303184e1811"
      },
      "source": [
        "train_df.describe()"
      ],
      "execution_count": null,
      "outputs": [
        {
          "output_type": "execute_result",
          "data": {
            "text/html": [
              "<div>\n",
              "<style scoped>\n",
              "    .dataframe tbody tr th:only-of-type {\n",
              "        vertical-align: middle;\n",
              "    }\n",
              "\n",
              "    .dataframe tbody tr th {\n",
              "        vertical-align: top;\n",
              "    }\n",
              "\n",
              "    .dataframe thead th {\n",
              "        text-align: right;\n",
              "    }\n",
              "</style>\n",
              "<table border=\"1\" class=\"dataframe\">\n",
              "  <thead>\n",
              "    <tr style=\"text-align: right;\">\n",
              "      <th></th>\n",
              "      <th>PassengerId</th>\n",
              "      <th>Survived</th>\n",
              "      <th>Pclass</th>\n",
              "      <th>Age</th>\n",
              "      <th>SibSp</th>\n",
              "      <th>Parch</th>\n",
              "      <th>Fare</th>\n",
              "    </tr>\n",
              "  </thead>\n",
              "  <tbody>\n",
              "    <tr>\n",
              "      <th>count</th>\n",
              "      <td>891.000000</td>\n",
              "      <td>891.000000</td>\n",
              "      <td>891.000000</td>\n",
              "      <td>714.000000</td>\n",
              "      <td>891.000000</td>\n",
              "      <td>891.000000</td>\n",
              "      <td>891.000000</td>\n",
              "    </tr>\n",
              "    <tr>\n",
              "      <th>mean</th>\n",
              "      <td>446.000000</td>\n",
              "      <td>0.383838</td>\n",
              "      <td>2.308642</td>\n",
              "      <td>29.699118</td>\n",
              "      <td>0.523008</td>\n",
              "      <td>0.381594</td>\n",
              "      <td>32.204208</td>\n",
              "    </tr>\n",
              "    <tr>\n",
              "      <th>std</th>\n",
              "      <td>257.353842</td>\n",
              "      <td>0.486592</td>\n",
              "      <td>0.836071</td>\n",
              "      <td>14.526497</td>\n",
              "      <td>1.102743</td>\n",
              "      <td>0.806057</td>\n",
              "      <td>49.693429</td>\n",
              "    </tr>\n",
              "    <tr>\n",
              "      <th>min</th>\n",
              "      <td>1.000000</td>\n",
              "      <td>0.000000</td>\n",
              "      <td>1.000000</td>\n",
              "      <td>0.420000</td>\n",
              "      <td>0.000000</td>\n",
              "      <td>0.000000</td>\n",
              "      <td>0.000000</td>\n",
              "    </tr>\n",
              "    <tr>\n",
              "      <th>25%</th>\n",
              "      <td>223.500000</td>\n",
              "      <td>0.000000</td>\n",
              "      <td>2.000000</td>\n",
              "      <td>20.125000</td>\n",
              "      <td>0.000000</td>\n",
              "      <td>0.000000</td>\n",
              "      <td>7.910400</td>\n",
              "    </tr>\n",
              "    <tr>\n",
              "      <th>50%</th>\n",
              "      <td>446.000000</td>\n",
              "      <td>0.000000</td>\n",
              "      <td>3.000000</td>\n",
              "      <td>28.000000</td>\n",
              "      <td>0.000000</td>\n",
              "      <td>0.000000</td>\n",
              "      <td>14.454200</td>\n",
              "    </tr>\n",
              "    <tr>\n",
              "      <th>75%</th>\n",
              "      <td>668.500000</td>\n",
              "      <td>1.000000</td>\n",
              "      <td>3.000000</td>\n",
              "      <td>38.000000</td>\n",
              "      <td>1.000000</td>\n",
              "      <td>0.000000</td>\n",
              "      <td>31.000000</td>\n",
              "    </tr>\n",
              "    <tr>\n",
              "      <th>max</th>\n",
              "      <td>891.000000</td>\n",
              "      <td>1.000000</td>\n",
              "      <td>3.000000</td>\n",
              "      <td>80.000000</td>\n",
              "      <td>8.000000</td>\n",
              "      <td>6.000000</td>\n",
              "      <td>512.329200</td>\n",
              "    </tr>\n",
              "  </tbody>\n",
              "</table>\n",
              "</div>"
            ],
            "text/plain": [
              "       PassengerId    Survived      Pclass  ...       SibSp       Parch        Fare\n",
              "count   891.000000  891.000000  891.000000  ...  891.000000  891.000000  891.000000\n",
              "mean    446.000000    0.383838    2.308642  ...    0.523008    0.381594   32.204208\n",
              "std     257.353842    0.486592    0.836071  ...    1.102743    0.806057   49.693429\n",
              "min       1.000000    0.000000    1.000000  ...    0.000000    0.000000    0.000000\n",
              "25%     223.500000    0.000000    2.000000  ...    0.000000    0.000000    7.910400\n",
              "50%     446.000000    0.000000    3.000000  ...    0.000000    0.000000   14.454200\n",
              "75%     668.500000    1.000000    3.000000  ...    1.000000    0.000000   31.000000\n",
              "max     891.000000    1.000000    3.000000  ...    8.000000    6.000000  512.329200\n",
              "\n",
              "[8 rows x 7 columns]"
            ]
          },
          "metadata": {
            "tags": []
          },
          "execution_count": 10
        }
      ]
    },
    {
      "cell_type": "code",
      "metadata": {
        "id": "OUZ91WLuPMBS",
        "colab_type": "code",
        "colab": {
          "base_uri": "https://localhost:8080/",
          "height": 246
        },
        "outputId": "d5bbbf0c-8a3b-4157-fd2a-3e4e861834cf"
      },
      "source": [
        "train_df.dtypes"
      ],
      "execution_count": null,
      "outputs": [
        {
          "output_type": "execute_result",
          "data": {
            "text/plain": [
              "PassengerId      int64\n",
              "Survived         int64\n",
              "Pclass           int64\n",
              "Name            object\n",
              "Sex             object\n",
              "Age            float64\n",
              "SibSp            int64\n",
              "Parch            int64\n",
              "Ticket          object\n",
              "Fare           float64\n",
              "Cabin           object\n",
              "Embarked        object\n",
              "dtype: object"
            ]
          },
          "metadata": {
            "tags": []
          },
          "execution_count": 30
        }
      ]
    },
    {
      "cell_type": "code",
      "metadata": {
        "id": "mZjsX7nLLfuX",
        "colab_type": "code",
        "colab": {
          "base_uri": "https://localhost:8080/",
          "height": 892
        },
        "outputId": "0b35719e-2116-49a3-cc42-f8e456a43126"
      },
      "source": [
        "train_df.hist(figsize=(12,12))"
      ],
      "execution_count": null,
      "outputs": [
        {
          "output_type": "execute_result",
          "data": {
            "text/plain": [
              "array([[<matplotlib.axes._subplots.AxesSubplot object at 0x7f1687642b00>,\n",
              "        <matplotlib.axes._subplots.AxesSubplot object at 0x7f1687436908>,\n",
              "        <matplotlib.axes._subplots.AxesSubplot object at 0x7f16872bf6a0>],\n",
              "       [<matplotlib.axes._subplots.AxesSubplot object at 0x7f168728fe10>,\n",
              "        <matplotlib.axes._subplots.AxesSubplot object at 0x7f16885cf630>,\n",
              "        <matplotlib.axes._subplots.AxesSubplot object at 0x7f1686da2cf8>],\n",
              "       [<matplotlib.axes._subplots.AxesSubplot object at 0x7f1686d56f60>,\n",
              "        <matplotlib.axes._subplots.AxesSubplot object at 0x7f1686d171d0>,\n",
              "        <matplotlib.axes._subplots.AxesSubplot object at 0x7f1686d17240>]],\n",
              "      dtype=object)"
            ]
          },
          "metadata": {
            "tags": []
          },
          "execution_count": 12
        },
        {
          "output_type": "display_data",
          "data": {
            "image/png": "[encoded data removed]",
            "text/plain": [
              "<Figure size 864x864 with 9 Axes>"
            ]
          },
          "metadata": {
            "tags": [],
            "needs_background": "light"
          }
        }
      ]
    },
    {
      "cell_type": "code",
      "metadata": {
        "id": "sUB2k8aPLx4h",
        "colab_type": "code",
        "colab": {
          "base_uri": "https://localhost:8080/",
          "height": 940
        },
        "outputId": "e51b2949-c623-443f-b2de-d846beb864e3"
      },
      "source": [
        "import matplotlib.pyplot as plt \n",
        "import seaborn as sns\n",
        "plt.figure(figsize=(15,15))\n",
        "sns.heatmap(train_df.corr(), annot=True)"
      ],
      "execution_count": null,
      "outputs": [
        {
          "output_type": "stream",
          "text": [
            "/usr/local/lib/python3.6/dist-packages/statsmodels/tools/_testing.py:19: FutureWarning: pandas.util.testing is deprecated. Use the functions in the public API at pandas.testing instead.\n",
            "  import pandas.util.testing as tm\n"
          ],
          "name": "stderr"
        },
        {
          "output_type": "execute_result",
          "data": {
            "text/plain": [
              "<matplotlib.axes._subplots.AxesSubplot at 0x7f167be354e0>"
            ]
          },
          "metadata": {
            "tags": []
          },
          "execution_count": 13
        },
        {
          "output_type": "display_data",
          "data": {
            "image/png": "[encoded data removed]",
            "text/plain": [
              "<Figure size 1080x1080 with 2 Axes>"
            ]
          },
          "metadata": {
            "tags": [],
            "needs_background": "light"
          }
        }
      ]
    },
    {
      "cell_type": "code",
      "metadata": {
        "id": "4_mD8XI6MV-4",
        "colab_type": "code",
        "colab": {
          "base_uri": "https://localhost:8080/",
          "height": 297
        },
        "outputId": "691ee059-0591-47e9-bd35-3d00be755f29"
      },
      "source": [
        "sns.countplot(\"Sex\", hue=\"Survived\", data=train_df)"
      ],
      "execution_count": null,
      "outputs": [
        {
          "output_type": "execute_result",
          "data": {
            "text/plain": [
              "<matplotlib.axes._subplots.AxesSubplot at 0x7f16785074a8>"
            ]
          },
          "metadata": {
            "tags": []
          },
          "execution_count": 14
        },
        {
          "output_type": "display_data",
          "data": {
            "image/png": "[encoded data removed]",
            "text/plain": [
              "<Figure size 432x288 with 1 Axes>"
            ]
          },
          "metadata": {
            "tags": [],
            "needs_background": "light"
          }
        }
      ]
    },
    {
      "cell_type": "code",
      "metadata": {
        "id": "t-L8xmjpOuDB",
        "colab_type": "code",
        "colab": {
          "base_uri": "https://localhost:8080/",
          "height": 297
        },
        "outputId": "6ac530ec-19b7-4041-ae8f-b31080e0b5fa"
      },
      "source": [
        "sns.countplot(\"Pclass\", hue=\"Survived\", data=train_df)"
      ],
      "execution_count": null,
      "outputs": [
        {
          "output_type": "execute_result",
          "data": {
            "text/plain": [
              "<matplotlib.axes._subplots.AxesSubplot at 0x7f167566db38>"
            ]
          },
          "metadata": {
            "tags": []
          },
          "execution_count": 24
        },
        {
          "output_type": "display_data",
          "data": {
            "image/png": "[encoded data removed]",
            "text/plain": [
              "<Figure size 432x288 with 1 Axes>"
            ]
          },
          "metadata": {
            "tags": [],
            "needs_background": "light"
          }
        }
      ]
    },
    {
      "cell_type": "code",
      "metadata": {
        "id": "F-TFjrVZO8Qc",
        "colab_type": "code",
        "colab": {
          "base_uri": "https://localhost:8080/",
          "height": 297
        },
        "outputId": "437d4315-1dc5-4c39-8530-d44eb4fa37cd"
      },
      "source": [
        "sns.countplot(\"Embarked\", hue=\"Survived\", data=train_df)"
      ],
      "execution_count": null,
      "outputs": [
        {
          "output_type": "execute_result",
          "data": {
            "text/plain": [
              "<matplotlib.axes._subplots.AxesSubplot at 0x7f16759a6278>"
            ]
          },
          "metadata": {
            "tags": []
          },
          "execution_count": 25
        },
        {
          "output_type": "display_data",
          "data": {
            "image/png": "[encoded data removed]",
            "text/plain": [
              "<Figure size 432x288 with 1 Axes>"
            ]
          },
          "metadata": {
            "tags": [],
            "needs_background": "light"
          }
        }
      ]
    },
    {
      "cell_type": "code",
      "metadata": {
        "id": "rUQT_JK5PjCV",
        "colab_type": "code",
        "colab": {
          "base_uri": "https://localhost:8080/",
          "height": 297
        },
        "outputId": "00f43146-215a-451d-c93f-0430a56e8346"
      },
      "source": [
        "sns.countplot(\"SibSp\", hue=\"Survived\", data=train_df)"
      ],
      "execution_count": null,
      "outputs": [
        {
          "output_type": "execute_result",
          "data": {
            "text/plain": [
              "<matplotlib.axes._subplots.AxesSubplot at 0x7f1675580630>"
            ]
          },
          "metadata": {
            "tags": []
          },
          "execution_count": 31
        },
        {
          "output_type": "display_data",
          "data": {
            "image/png": "[encoded data removed]",
            "text/plain": [
              "<Figure size 432x288 with 1 Axes>"
            ]
          },
          "metadata": {
            "tags": [],
            "needs_background": "light"
          }
        }
      ]
    },
    {
      "cell_type": "code",
      "metadata": {
        "id": "08wcmTNIPu_v",
        "colab_type": "code",
        "colab": {
          "base_uri": "https://localhost:8080/",
          "height": 297
        },
        "outputId": "ab6131b6-7d4b-4dd4-e041-b5ec215663f4"
      },
      "source": [
        "sns.countplot(\"Parch\", hue=\"Survived\", data=train_df)"
      ],
      "execution_count": null,
      "outputs": [
        {
          "output_type": "execute_result",
          "data": {
            "text/plain": [
              "<matplotlib.axes._subplots.AxesSubplot at 0x7f16755254a8>"
            ]
          },
          "metadata": {
            "tags": []
          },
          "execution_count": 32
        },
        {
          "output_type": "display_data",
          "data": {
            "image/png": "[encoded data removed]",
            "text/plain": [
              "<Figure size 432x288 with 1 Axes>"
            ]
          },
          "metadata": {
            "tags": [],
            "needs_background": "light"
          }
        }
      ]
    },
    {
      "cell_type": "code",
      "metadata": {
        "id": "ii8YK6RUP6aX",
        "colab_type": "code",
        "colab": {
          "base_uri": "https://localhost:8080/",
          "height": 894
        },
        "outputId": "51bec4b6-0d5d-4e3c-9f01-3c9754ec94d0"
      },
      "source": [
        "plt.figure(figsize=(15,15))\n",
        "sns.countplot(\"Cabin\", hue=\"Survived\", data=train_df)"
      ],
      "execution_count": null,
      "outputs": [
        {
          "output_type": "execute_result",
          "data": {
            "text/plain": [
              "<matplotlib.axes._subplots.AxesSubplot at 0x7f167571c080>"
            ]
          },
          "metadata": {
            "tags": []
          },
          "execution_count": 34
        },
        {
          "output_type": "display_data",
          "data": {
            "image/png": "[encoded data removed]",
            "text/plain": [
              "<Figure size 1080x1080 with 1 Axes>"
            ]
          },
          "metadata": {
            "tags": [],
            "needs_background": "light"
          }
        }
      ]
    },
    {
      "cell_type": "code",
      "metadata": {
        "id": "DNj2dJTTMkhx",
        "colab_type": "code",
        "colab": {
          "base_uri": "https://localhost:8080/",
          "height": 894
        },
        "outputId": "437a5515-6107-4514-8763-3d3f6140e2db"
      },
      "source": [
        "plt.figure(figsize=(15,15))\n",
        "sns.countplot(\"Fare\", hue=\"Survived\", data=train_df)"
      ],
      "execution_count": null,
      "outputs": [
        {
          "output_type": "execute_result",
          "data": {
            "text/plain": [
              "<matplotlib.axes._subplots.AxesSubplot at 0x7f1686adc748>"
            ]
          },
          "metadata": {
            "tags": []
          },
          "execution_count": 18
        },
        {
          "output_type": "display_data",
          "data": {
            "image/png": "[encoded data removed]",
            "text/plain": [
              "<Figure size 1080x1080 with 1 Axes>"
            ]
          },
          "metadata": {
            "tags": [],
            "needs_background": "light"
          }
        }
      ]
    },
    {
      "cell_type": "code",
      "metadata": {
        "id": "LSaBlIV7NkL-",
        "colab_type": "code",
        "colab": {
          "base_uri": "https://localhost:8080/",
          "height": 282
        },
        "outputId": "55eb5bee-6b7b-40d9-fb23-6be886c7c48a"
      },
      "source": [
        "sns.kdeplot(train_df[\"Fare\"][train_df[\"Survived\"]==0])\n",
        "sns.kdeplot(train_df[\"Fare\"][train_df[\"Survived\"]==1])"
      ],
      "execution_count": null,
      "outputs": [
        {
          "output_type": "execute_result",
          "data": {
            "text/plain": [
              "<matplotlib.axes._subplots.AxesSubplot at 0x7f16756c2e80>"
            ]
          },
          "metadata": {
            "tags": []
          },
          "execution_count": 23
        },
        {
          "output_type": "display_data",
          "data": {
            "image/png": "[encoded data removed]",
            "text/plain": [
              "<Figure size 432x288 with 1 Axes>"
            ]
          },
          "metadata": {
            "tags": [],
            "needs_background": "light"
          }
        }
      ]
    },
    {
      "cell_type": "code",
      "metadata": {
        "id": "tj4J-vTcN3CX",
        "colab_type": "code",
        "colab": {}
      },
      "source": [
        "# 欠損値の処理\n",
        "train_df[\"Fare\"] = train_df[\"Fare\"].fillna(train_df[\"Fare\"].median())\n",
        "train_df[\"Age\"] = train_df[\"Age\"].fillna(train_df[\"Age\"].median())\n",
        "train_df[\"Embarked\"] = train_df[\"Embarked\"].fillna(\"S\")"
      ],
      "execution_count": null,
      "outputs": []
    },
    {
      "cell_type": "code",
      "metadata": {
        "id": "ipEs84w5RN47",
        "colab_type": "code",
        "colab": {}
      },
      "source": [
        "# カテゴリ変数の変換\n",
        "train_df[\"Sex\"] = train_df[\"Sex\"].map({\"female\": 0, \"male\": 1})\n",
        "train_df[\"Embarked\"] = train_df[\"Embarked\"].map({\"S\": 0, \"C\": 1, \"Q\": 2}).astype(int)"
      ],
      "execution_count": null,
      "outputs": []
    },
    {
      "cell_type": "code",
      "metadata": {
        "id": "TV6VsIemRwnQ",
        "colab_type": "code",
        "colab": {}
      },
      "source": [
        "train_df_main = train_df.drop([\"Cabin\", \"Name\", \"PassengerId\", \"Ticket\"], axis=1)\n",
        "train_df_id = train_df[\"PassengerId\"]\n",
        "train_df_label = train_df[\"Survived\"]"
      ],
      "execution_count": null,
      "outputs": []
    },
    {
      "cell_type": "markdown",
      "metadata": {
        "id": "jKnq0rbnzz33",
        "colab_type": "text"
      },
      "source": [
        "# Qiita の記事を実際に実装してみる\n",
        "https://qiita.com/shiroino11111/items/bc3889fa38ff32d46c13"
      ]
    },
    {
      "cell_type": "code",
      "metadata": {
        "id": "VPC2C8CQz5-W",
        "colab_type": "code",
        "colab": {}
      },
      "source": [
        "import pandas as pd\n",
        "import numpy as np\n",
        "import matplotlib.pyplot as plt\n",
        "import seaborn as sns\n",
        "\n",
        "from sklearn.ensemble import RandomForestRegressor\n",
        "from sklearn.pipeline import Pipeline, make_pipeline\n",
        "from sklearn.ensemble import RandomForestClassifier\n",
        "from sklearn.feature_selection import SelectKBest\n",
        "from sklearn import model_selection\n",
        "from sklearn.model_selection import GridSearchCV\n",
        "\n",
        "import warnings\n",
        "\n",
        "warnings.filterwarnings(\"ignore\")"
      ],
      "execution_count": null,
      "outputs": []
    },
    {
      "cell_type": "code",
      "metadata": {
        "id": "M6LsYPfT03rT",
        "colab_type": "code",
        "colab": {}
      },
      "source": [
        "train = pd.read_csv(\"train.csv\")\n",
        "test = pd.read_csv(\"test.csv\")"
      ],
      "execution_count": null,
      "outputs": []
    },
    {
      "cell_type": "code",
      "metadata": {
        "id": "Yn7Uj-Oe1JM8",
        "colab_type": "code",
        "colab": {
          "base_uri": "https://localhost:8080/",
          "height": 246
        },
        "outputId": "d18ae85b-48df-4bb7-8dee-8aa36465dbdc"
      },
      "source": [
        "dataset = pd.concat([train, test], ignore_index=True)\n",
        "PassengerId = test[\"PassengerId\"]\n",
        "train.head()"
      ],
      "execution_count": null,
      "outputs": [
        {
          "output_type": "execute_result",
          "data": {
            "text/html": [
              "<div>\n",
              "<style scoped>\n",
              "    .dataframe tbody tr th:only-of-type {\n",
              "        vertical-align: middle;\n",
              "    }\n",
              "\n",
              "    .dataframe tbody tr th {\n",
              "        vertical-align: top;\n",
              "    }\n",
              "\n",
              "    .dataframe thead th {\n",
              "        text-align: right;\n",
              "    }\n",
              "</style>\n",
              "<table border=\"1\" class=\"dataframe\">\n",
              "  <thead>\n",
              "    <tr style=\"text-align: right;\">\n",
              "      <th></th>\n",
              "      <th>PassengerId</th>\n",
              "      <th>Survived</th>\n",
              "      <th>Pclass</th>\n",
              "      <th>Name</th>\n",
              "      <th>Sex</th>\n",
              "      <th>Age</th>\n",
              "      <th>SibSp</th>\n",
              "      <th>Parch</th>\n",
              "      <th>Ticket</th>\n",
              "      <th>Fare</th>\n",
              "      <th>Cabin</th>\n",
              "      <th>Embarked</th>\n",
              "    </tr>\n",
              "  </thead>\n",
              "  <tbody>\n",
              "    <tr>\n",
              "      <th>0</th>\n",
              "      <td>1</td>\n",
              "      <td>0</td>\n",
              "      <td>3</td>\n",
              "      <td>Braund, Mr. Owen Harris</td>\n",
              "      <td>male</td>\n",
              "      <td>22.0</td>\n",
              "      <td>1</td>\n",
              "      <td>0</td>\n",
              "      <td>A/5 21171</td>\n",
              "      <td>7.2500</td>\n",
              "      <td>NaN</td>\n",
              "      <td>S</td>\n",
              "    </tr>\n",
              "    <tr>\n",
              "      <th>1</th>\n",
              "      <td>2</td>\n",
              "      <td>1</td>\n",
              "      <td>1</td>\n",
              "      <td>Cumings, Mrs. John Bradley (Florence Briggs Th...</td>\n",
              "      <td>female</td>\n",
              "      <td>38.0</td>\n",
              "      <td>1</td>\n",
              "      <td>0</td>\n",
              "      <td>PC 17599</td>\n",
              "      <td>71.2833</td>\n",
              "      <td>C85</td>\n",
              "      <td>C</td>\n",
              "    </tr>\n",
              "    <tr>\n",
              "      <th>2</th>\n",
              "      <td>3</td>\n",
              "      <td>1</td>\n",
              "      <td>3</td>\n",
              "      <td>Heikkinen, Miss. Laina</td>\n",
              "      <td>female</td>\n",
              "      <td>26.0</td>\n",
              "      <td>0</td>\n",
              "      <td>0</td>\n",
              "      <td>STON/O2. 3101282</td>\n",
              "      <td>7.9250</td>\n",
              "      <td>NaN</td>\n",
              "      <td>S</td>\n",
              "    </tr>\n",
              "    <tr>\n",
              "      <th>3</th>\n",
              "      <td>4</td>\n",
              "      <td>1</td>\n",
              "      <td>1</td>\n",
              "      <td>Futrelle, Mrs. Jacques Heath (Lily May Peel)</td>\n",
              "      <td>female</td>\n",
              "      <td>35.0</td>\n",
              "      <td>1</td>\n",
              "      <td>0</td>\n",
              "      <td>113803</td>\n",
              "      <td>53.1000</td>\n",
              "      <td>C123</td>\n",
              "      <td>S</td>\n",
              "    </tr>\n",
              "    <tr>\n",
              "      <th>4</th>\n",
              "      <td>5</td>\n",
              "      <td>0</td>\n",
              "      <td>3</td>\n",
              "      <td>Allen, Mr. William Henry</td>\n",
              "      <td>male</td>\n",
              "      <td>35.0</td>\n",
              "      <td>0</td>\n",
              "      <td>0</td>\n",
              "      <td>373450</td>\n",
              "      <td>8.0500</td>\n",
              "      <td>NaN</td>\n",
              "      <td>S</td>\n",
              "    </tr>\n",
              "  </tbody>\n",
              "</table>\n",
              "</div>"
            ],
            "text/plain": [
              "   PassengerId  Survived  Pclass  ...     Fare Cabin  Embarked\n",
              "0            1         0       3  ...   7.2500   NaN         S\n",
              "1            2         1       1  ...  71.2833   C85         C\n",
              "2            3         1       3  ...   7.9250   NaN         S\n",
              "3            4         1       1  ...  53.1000  C123         S\n",
              "4            5         0       3  ...   8.0500   NaN         S\n",
              "\n",
              "[5 rows x 12 columns]"
            ]
          },
          "metadata": {
            "tags": []
          },
          "execution_count": 10
        }
      ]
    },
    {
      "cell_type": "code",
      "metadata": {
        "id": "lVrkvhPF1bxt",
        "colab_type": "code",
        "colab": {
          "base_uri": "https://localhost:8080/",
          "height": 246
        },
        "outputId": "492b48e5-d7c9-4297-fbd6-89601c7de745"
      },
      "source": [
        "dataset_null = dataset.fillna(np.nan)\n",
        "dataset_null.isnull().sum()"
      ],
      "execution_count": null,
      "outputs": [
        {
          "output_type": "execute_result",
          "data": {
            "text/plain": [
              "PassengerId       0\n",
              "Survived        418\n",
              "Pclass            0\n",
              "Name              0\n",
              "Sex               0\n",
              "Age             263\n",
              "SibSp             0\n",
              "Parch             0\n",
              "Ticket            0\n",
              "Fare              1\n",
              "Cabin          1014\n",
              "Embarked          2\n",
              "dtype: int64"
            ]
          },
          "metadata": {
            "tags": []
          },
          "execution_count": 12
        }
      ]
    },
    {
      "cell_type": "code",
      "metadata": {
        "id": "fS0fvCd91npN",
        "colab_type": "code",
        "colab": {
          "base_uri": "https://localhost:8080/",
          "height": 284
        },
        "outputId": "d903038e-f393-4aea-a1dd-ec156b534590"
      },
      "source": [
        "dataset.describe()"
      ],
      "execution_count": null,
      "outputs": [
        {
          "output_type": "execute_result",
          "data": {
            "text/html": [
              "<div>\n",
              "<style scoped>\n",
              "    .dataframe tbody tr th:only-of-type {\n",
              "        vertical-align: middle;\n",
              "    }\n",
              "\n",
              "    .dataframe tbody tr th {\n",
              "        vertical-align: top;\n",
              "    }\n",
              "\n",
              "    .dataframe thead th {\n",
              "        text-align: right;\n",
              "    }\n",
              "</style>\n",
              "<table border=\"1\" class=\"dataframe\">\n",
              "  <thead>\n",
              "    <tr style=\"text-align: right;\">\n",
              "      <th></th>\n",
              "      <th>PassengerId</th>\n",
              "      <th>Survived</th>\n",
              "      <th>Pclass</th>\n",
              "      <th>Age</th>\n",
              "      <th>SibSp</th>\n",
              "      <th>Parch</th>\n",
              "      <th>Fare</th>\n",
              "    </tr>\n",
              "  </thead>\n",
              "  <tbody>\n",
              "    <tr>\n",
              "      <th>count</th>\n",
              "      <td>1309.000000</td>\n",
              "      <td>891.000000</td>\n",
              "      <td>1309.000000</td>\n",
              "      <td>1046.000000</td>\n",
              "      <td>1309.000000</td>\n",
              "      <td>1309.000000</td>\n",
              "      <td>1308.000000</td>\n",
              "    </tr>\n",
              "    <tr>\n",
              "      <th>mean</th>\n",
              "      <td>655.000000</td>\n",
              "      <td>0.383838</td>\n",
              "      <td>2.294882</td>\n",
              "      <td>29.881138</td>\n",
              "      <td>0.498854</td>\n",
              "      <td>0.385027</td>\n",
              "      <td>33.295479</td>\n",
              "    </tr>\n",
              "    <tr>\n",
              "      <th>std</th>\n",
              "      <td>378.020061</td>\n",
              "      <td>0.486592</td>\n",
              "      <td>0.837836</td>\n",
              "      <td>14.413493</td>\n",
              "      <td>1.041658</td>\n",
              "      <td>0.865560</td>\n",
              "      <td>51.758668</td>\n",
              "    </tr>\n",
              "    <tr>\n",
              "      <th>min</th>\n",
              "      <td>1.000000</td>\n",
              "      <td>0.000000</td>\n",
              "      <td>1.000000</td>\n",
              "      <td>0.170000</td>\n",
              "      <td>0.000000</td>\n",
              "      <td>0.000000</td>\n",
              "      <td>0.000000</td>\n",
              "    </tr>\n",
              "    <tr>\n",
              "      <th>25%</th>\n",
              "      <td>328.000000</td>\n",
              "      <td>0.000000</td>\n",
              "      <td>2.000000</td>\n",
              "      <td>21.000000</td>\n",
              "      <td>0.000000</td>\n",
              "      <td>0.000000</td>\n",
              "      <td>7.895800</td>\n",
              "    </tr>\n",
              "    <tr>\n",
              "      <th>50%</th>\n",
              "      <td>655.000000</td>\n",
              "      <td>0.000000</td>\n",
              "      <td>3.000000</td>\n",
              "      <td>28.000000</td>\n",
              "      <td>0.000000</td>\n",
              "      <td>0.000000</td>\n",
              "      <td>14.454200</td>\n",
              "    </tr>\n",
              "    <tr>\n",
              "      <th>75%</th>\n",
              "      <td>982.000000</td>\n",
              "      <td>1.000000</td>\n",
              "      <td>3.000000</td>\n",
              "      <td>39.000000</td>\n",
              "      <td>1.000000</td>\n",
              "      <td>0.000000</td>\n",
              "      <td>31.275000</td>\n",
              "    </tr>\n",
              "    <tr>\n",
              "      <th>max</th>\n",
              "      <td>1309.000000</td>\n",
              "      <td>1.000000</td>\n",
              "      <td>3.000000</td>\n",
              "      <td>80.000000</td>\n",
              "      <td>8.000000</td>\n",
              "      <td>9.000000</td>\n",
              "      <td>512.329200</td>\n",
              "    </tr>\n",
              "  </tbody>\n",
              "</table>\n",
              "</div>"
            ],
            "text/plain": [
              "       PassengerId    Survived  ...        Parch         Fare\n",
              "count  1309.000000  891.000000  ...  1309.000000  1308.000000\n",
              "mean    655.000000    0.383838  ...     0.385027    33.295479\n",
              "std     378.020061    0.486592  ...     0.865560    51.758668\n",
              "min       1.000000    0.000000  ...     0.000000     0.000000\n",
              "25%     328.000000    0.000000  ...     0.000000     7.895800\n",
              "50%     655.000000    0.000000  ...     0.000000    14.454200\n",
              "75%     982.000000    1.000000  ...     0.000000    31.275000\n",
              "max    1309.000000    1.000000  ...     9.000000   512.329200\n",
              "\n",
              "[8 rows x 7 columns]"
            ]
          },
          "metadata": {
            "tags": []
          },
          "execution_count": 13
        }
      ]
    },
    {
      "cell_type": "code",
      "metadata": {
        "id": "TovnRcqQ1yWE",
        "colab_type": "code",
        "colab": {}
      },
      "source": [
        "del dataset[\"Cabin\"]"
      ],
      "execution_count": null,
      "outputs": []
    },
    {
      "cell_type": "code",
      "metadata": {
        "id": "7fE3bNbi12Ht",
        "colab_type": "code",
        "colab": {
          "base_uri": "https://localhost:8080/",
          "height": 228
        },
        "outputId": "94a61f4b-0336-471c-dbe2-0167df64e0fc"
      },
      "source": [
        "dataset[\"Age\"].fillna(dataset.Age.mean(), inplace=True)\n",
        "dataset[\"Fare\"].fillna(dataset.Fare.mean(), inplace=True)\n",
        "dataset[\"Embarked\"].fillna(\"S\", inplace=True)\n",
        "\n",
        "dataset_null = dataset.fillna(np.nan)\n",
        "dataset_null.isnull().sum()"
      ],
      "execution_count": null,
      "outputs": [
        {
          "output_type": "execute_result",
          "data": {
            "text/plain": [
              "PassengerId      0\n",
              "Survived       418\n",
              "Pclass           0\n",
              "Name             0\n",
              "Sex              0\n",
              "Age              0\n",
              "SibSp            0\n",
              "Parch            0\n",
              "Ticket           0\n",
              "Fare             0\n",
              "Embarked         0\n",
              "dtype: int64"
            ]
          },
          "metadata": {
            "tags": []
          },
          "execution_count": 16
        }
      ]
    },
    {
      "cell_type": "code",
      "metadata": {
        "id": "KdohvHP02Yq1",
        "colab_type": "code",
        "colab": {
          "base_uri": "https://localhost:8080/",
          "height": 195
        },
        "outputId": "37281f5e-b99c-4539-fc7f-a265e25c42ea"
      },
      "source": [
        "dataset1 = dataset[[\"Survived\", \"Pclass\", \"Sex\", \"Age\", \"Fare\", \"Embarked\"]]\n",
        "\n",
        "dataset_dummies = pd.get_dummies(dataset1)\n",
        "dataset_dummies.head()"
      ],
      "execution_count": null,
      "outputs": [
        {
          "output_type": "execute_result",
          "data": {
            "text/html": [
              "<div>\n",
              "<style scoped>\n",
              "    .dataframe tbody tr th:only-of-type {\n",
              "        vertical-align: middle;\n",
              "    }\n",
              "\n",
              "    .dataframe tbody tr th {\n",
              "        vertical-align: top;\n",
              "    }\n",
              "\n",
              "    .dataframe thead th {\n",
              "        text-align: right;\n",
              "    }\n",
              "</style>\n",
              "<table border=\"1\" class=\"dataframe\">\n",
              "  <thead>\n",
              "    <tr style=\"text-align: right;\">\n",
              "      <th></th>\n",
              "      <th>Survived</th>\n",
              "      <th>Pclass</th>\n",
              "      <th>Age</th>\n",
              "      <th>Fare</th>\n",
              "      <th>Sex_female</th>\n",
              "      <th>Sex_male</th>\n",
              "      <th>Embarked_C</th>\n",
              "      <th>Embarked_Q</th>\n",
              "      <th>Embarked_S</th>\n",
              "    </tr>\n",
              "  </thead>\n",
              "  <tbody>\n",
              "    <tr>\n",
              "      <th>0</th>\n",
              "      <td>0.0</td>\n",
              "      <td>3</td>\n",
              "      <td>22.0</td>\n",
              "      <td>7.2500</td>\n",
              "      <td>0</td>\n",
              "      <td>1</td>\n",
              "      <td>0</td>\n",
              "      <td>0</td>\n",
              "      <td>1</td>\n",
              "    </tr>\n",
              "    <tr>\n",
              "      <th>1</th>\n",
              "      <td>1.0</td>\n",
              "      <td>1</td>\n",
              "      <td>38.0</td>\n",
              "      <td>71.2833</td>\n",
              "      <td>1</td>\n",
              "      <td>0</td>\n",
              "      <td>1</td>\n",
              "      <td>0</td>\n",
              "      <td>0</td>\n",
              "    </tr>\n",
              "    <tr>\n",
              "      <th>2</th>\n",
              "      <td>1.0</td>\n",
              "      <td>3</td>\n",
              "      <td>26.0</td>\n",
              "      <td>7.9250</td>\n",
              "      <td>1</td>\n",
              "      <td>0</td>\n",
              "      <td>0</td>\n",
              "      <td>0</td>\n",
              "      <td>1</td>\n",
              "    </tr>\n",
              "    <tr>\n",
              "      <th>3</th>\n",
              "      <td>1.0</td>\n",
              "      <td>1</td>\n",
              "      <td>35.0</td>\n",
              "      <td>53.1000</td>\n",
              "      <td>1</td>\n",
              "      <td>0</td>\n",
              "      <td>0</td>\n",
              "      <td>0</td>\n",
              "      <td>1</td>\n",
              "    </tr>\n",
              "    <tr>\n",
              "      <th>4</th>\n",
              "      <td>0.0</td>\n",
              "      <td>3</td>\n",
              "      <td>35.0</td>\n",
              "      <td>8.0500</td>\n",
              "      <td>0</td>\n",
              "      <td>1</td>\n",
              "      <td>0</td>\n",
              "      <td>0</td>\n",
              "      <td>1</td>\n",
              "    </tr>\n",
              "  </tbody>\n",
              "</table>\n",
              "</div>"
            ],
            "text/plain": [
              "   Survived  Pclass   Age  ...  Embarked_C  Embarked_Q  Embarked_S\n",
              "0       0.0       3  22.0  ...           0           0           1\n",
              "1       1.0       1  38.0  ...           1           0           0\n",
              "2       1.0       3  26.0  ...           0           0           1\n",
              "3       1.0       1  35.0  ...           0           0           1\n",
              "4       0.0       3  35.0  ...           0           0           1\n",
              "\n",
              "[5 rows x 9 columns]"
            ]
          },
          "metadata": {
            "tags": []
          },
          "execution_count": 17
        }
      ]
    },
    {
      "cell_type": "code",
      "metadata": {
        "id": "aBsM9Rr_2wGF",
        "colab_type": "code",
        "colab": {}
      },
      "source": [
        "train_set = dataset_dummies[dataset_dummies[\"Survived\"].notnull()]\n",
        "test_set = dataset_dummies[dataset_dummies[\"Survived\"].isnull()]\n",
        "del test_set[\"Survived\"]"
      ],
      "execution_count": null,
      "outputs": []
    },
    {
      "cell_type": "code",
      "metadata": {
        "id": "RPuS55DK3QtN",
        "colab_type": "code",
        "colab": {}
      },
      "source": [
        "X = train_set.values[:, 1:]\n",
        "y = train_set.values[:, 0]"
      ],
      "execution_count": null,
      "outputs": []
    },
    {
      "cell_type": "code",
      "metadata": {
        "id": "-47RWmoS3zOA",
        "colab_type": "code",
        "colab": {
          "base_uri": "https://localhost:8080/",
          "height": 52
        },
        "outputId": "19484a0a-b2c2-42eb-9573-aebfb6f54826"
      },
      "source": [
        "clf = RandomForestClassifier(random_state=10, max_features=\"sqrt\")\n",
        "pipe = Pipeline([(\"classify\", clf)])\n",
        "param_test = {\"classify__n_estimators\": list(range(20, 30, 1)),\n",
        "              \"classify__max_depth\": list(range(3, 10, 1))}\n",
        "grid = GridSearchCV(estimator=pipe, param_grid=param_test, scoring=\"accuracy\", cv=10)\n",
        "grid.fit(X, y)\n",
        "\n",
        "print(grid.best_params_, grid.best_score_, sep=\"\\n\")"
      ],
      "execution_count": null,
      "outputs": [
        {
          "output_type": "stream",
          "text": [
            "{'classify__max_depth': 8, 'classify__n_estimators': 29}\n",
            "0.8339200998751559\n"
          ],
          "name": "stdout"
        }
      ]
    },
    {
      "cell_type": "code",
      "metadata": {
        "id": "CdbpzwzH43mO",
        "colab_type": "code",
        "colab": {}
      },
      "source": [
        "# 提出テスト\n",
        "pred = grid.predict(test_set)\n",
        "\n",
        "submission = pd.DataFrame({\"PassengerId\": PassengerId, \"Survived\": pred.astype(np.int32)})\n",
        "submission.to_csv(\"submission1.csv\", index=False)"
      ],
      "execution_count": null,
      "outputs": []
    },
    {
      "cell_type": "markdown",
      "metadata": {
        "id": "_xVTeZ4Q58WF",
        "colab_type": "text"
      },
      "source": [
        "# Parch と SibSp を加えて予測"
      ]
    },
    {
      "cell_type": "code",
      "metadata": {
        "id": "cE3FsDcq6Rz8",
        "colab_type": "code",
        "colab": {
          "base_uri": "https://localhost:8080/",
          "height": 195
        },
        "outputId": "bb82f450-bcc6-4aed-fd93-f09fff441754"
      },
      "source": [
        "dataset2 = dataset[[\"Survived\", \"Pclass\", \"Sex\", \"Age\", \"Fare\", \"Embarked\", \"Parch\", \"SibSp\"]]\n",
        "\n",
        "dataset_dummies = pd.get_dummies(dataset2)\n",
        "dataset_dummies.head()"
      ],
      "execution_count": null,
      "outputs": [
        {
          "output_type": "execute_result",
          "data": {
            "text/html": [
              "<div>\n",
              "<style scoped>\n",
              "    .dataframe tbody tr th:only-of-type {\n",
              "        vertical-align: middle;\n",
              "    }\n",
              "\n",
              "    .dataframe tbody tr th {\n",
              "        vertical-align: top;\n",
              "    }\n",
              "\n",
              "    .dataframe thead th {\n",
              "        text-align: right;\n",
              "    }\n",
              "</style>\n",
              "<table border=\"1\" class=\"dataframe\">\n",
              "  <thead>\n",
              "    <tr style=\"text-align: right;\">\n",
              "      <th></th>\n",
              "      <th>Survived</th>\n",
              "      <th>Pclass</th>\n",
              "      <th>Age</th>\n",
              "      <th>Fare</th>\n",
              "      <th>Parch</th>\n",
              "      <th>SibSp</th>\n",
              "      <th>Sex_female</th>\n",
              "      <th>Sex_male</th>\n",
              "      <th>Embarked_C</th>\n",
              "      <th>Embarked_Q</th>\n",
              "      <th>Embarked_S</th>\n",
              "    </tr>\n",
              "  </thead>\n",
              "  <tbody>\n",
              "    <tr>\n",
              "      <th>0</th>\n",
              "      <td>0.0</td>\n",
              "      <td>3</td>\n",
              "      <td>22.0</td>\n",
              "      <td>7.2500</td>\n",
              "      <td>0</td>\n",
              "      <td>1</td>\n",
              "      <td>0</td>\n",
              "      <td>1</td>\n",
              "      <td>0</td>\n",
              "      <td>0</td>\n",
              "      <td>1</td>\n",
              "    </tr>\n",
              "    <tr>\n",
              "      <th>1</th>\n",
              "      <td>1.0</td>\n",
              "      <td>1</td>\n",
              "      <td>38.0</td>\n",
              "      <td>71.2833</td>\n",
              "      <td>0</td>\n",
              "      <td>1</td>\n",
              "      <td>1</td>\n",
              "      <td>0</td>\n",
              "      <td>1</td>\n",
              "      <td>0</td>\n",
              "      <td>0</td>\n",
              "    </tr>\n",
              "    <tr>\n",
              "      <th>2</th>\n",
              "      <td>1.0</td>\n",
              "      <td>3</td>\n",
              "      <td>26.0</td>\n",
              "      <td>7.9250</td>\n",
              "      <td>0</td>\n",
              "      <td>0</td>\n",
              "      <td>1</td>\n",
              "      <td>0</td>\n",
              "      <td>0</td>\n",
              "      <td>0</td>\n",
              "      <td>1</td>\n",
              "    </tr>\n",
              "    <tr>\n",
              "      <th>3</th>\n",
              "      <td>1.0</td>\n",
              "      <td>1</td>\n",
              "      <td>35.0</td>\n",
              "      <td>53.1000</td>\n",
              "      <td>0</td>\n",
              "      <td>1</td>\n",
              "      <td>1</td>\n",
              "      <td>0</td>\n",
              "      <td>0</td>\n",
              "      <td>0</td>\n",
              "      <td>1</td>\n",
              "    </tr>\n",
              "    <tr>\n",
              "      <th>4</th>\n",
              "      <td>0.0</td>\n",
              "      <td>3</td>\n",
              "      <td>35.0</td>\n",
              "      <td>8.0500</td>\n",
              "      <td>0</td>\n",
              "      <td>0</td>\n",
              "      <td>0</td>\n",
              "      <td>1</td>\n",
              "      <td>0</td>\n",
              "      <td>0</td>\n",
              "      <td>1</td>\n",
              "    </tr>\n",
              "  </tbody>\n",
              "</table>\n",
              "</div>"
            ],
            "text/plain": [
              "   Survived  Pclass   Age  ...  Embarked_C  Embarked_Q  Embarked_S\n",
              "0       0.0       3  22.0  ...           0           0           1\n",
              "1       1.0       1  38.0  ...           1           0           0\n",
              "2       1.0       3  26.0  ...           0           0           1\n",
              "3       1.0       1  35.0  ...           0           0           1\n",
              "4       0.0       3  35.0  ...           0           0           1\n",
              "\n",
              "[5 rows x 11 columns]"
            ]
          },
          "metadata": {
            "tags": []
          },
          "execution_count": 30
        }
      ]
    },
    {
      "cell_type": "code",
      "metadata": {
        "id": "_wD0q3do6r9E",
        "colab_type": "code",
        "colab": {
          "base_uri": "https://localhost:8080/",
          "height": 52
        },
        "outputId": "05f109f7-325d-4942-e1d1-4e9ffa87daeb"
      },
      "source": [
        "train_set = dataset_dummies[dataset_dummies[\"Survived\"].notnull()]\n",
        "test_set = dataset_dummies[dataset_dummies[\"Survived\"].isnull()]\n",
        "del test_set[\"Survived\"]\n",
        "\n",
        "X = train_set.values[:, 1:]\n",
        "y = train_set.values[:, 0]\n",
        "\n",
        "clf = RandomForestClassifier(random_state=10, max_features=\"sqrt\")\n",
        "pipe = Pipeline([(\"classify\", clf)])\n",
        "param_test = {\"classify__n_estimators\": list(range(20, 30, 1)),\n",
        "              \"classify__max_depth\": list(range(3, 10, 1))}\n",
        "grid = GridSearchCV(estimator=pipe, param_grid=param_test, scoring=\"accuracy\", cv=10)\n",
        "grid.fit(X, y)\n",
        "print(grid.best_params_, grid.best_score_, sep=\"\\n\")"
      ],
      "execution_count": null,
      "outputs": [
        {
          "output_type": "stream",
          "text": [
            "{'classify__max_depth': 8, 'classify__n_estimators': 26}\n",
            "0.8418227215980025\n"
          ],
          "name": "stdout"
        }
      ]
    },
    {
      "cell_type": "code",
      "metadata": {
        "id": "4FzDCkmI8fK6",
        "colab_type": "code",
        "colab": {}
      },
      "source": [
        "pred = grid.predict(test_set)\n",
        "\n",
        "submission = pd.DataFrame({\"PassengerId\": PassengerId, \"Survived\": pred.astype(np.int32)})\n",
        "submission.to_csv(\"submission2.csv\", index=False)"
      ],
      "execution_count": null,
      "outputs": []
    },
    {
      "cell_type": "markdown",
      "metadata": {
        "id": "3SMaHL7eCbbK",
        "colab_type": "text"
      },
      "source": [
        "# EDA的なことをやってみる"
      ]
    },
    {
      "cell_type": "code",
      "metadata": {
        "id": "snNQObSmCf4I",
        "colab_type": "code",
        "colab": {}
      },
      "source": [
        "train = pd.read_csv(\"train.csv\")\n",
        "test = pd.read_csv(\"test.csv\")\n",
        "\n",
        "dataset = pd.concat([train, test], ignore_index=True)\n",
        "PassengerId = test[\"PassengerId\"]"
      ],
      "execution_count": null,
      "outputs": []
    },
    {
      "cell_type": "code",
      "metadata": {
        "id": "saw1AqLN9vCT",
        "colab_type": "code",
        "colab": {
          "base_uri": "https://localhost:8080/",
          "height": 297
        },
        "outputId": "28735266-7c57-442c-8588-4c65dc383166"
      },
      "source": [
        "# 年齢と生存の帯グラフ\n",
        "sns.barplot(x=\"Sex\", y=\"Survived\", data=train, palette=\"Set3\")"
      ],
      "execution_count": null,
      "outputs": [
        {
          "output_type": "execute_result",
          "data": {
            "text/plain": [
              "<matplotlib.axes._subplots.AxesSubplot at 0x7f50d60aea58>"
            ]
          },
          "metadata": {
            "tags": []
          },
          "execution_count": 38
        },
        {
          "output_type": "display_data",
          "data": {
            "image/png": "[encoded data removed]",
            "text/plain": [
              "<Figure size 432x288 with 1 Axes>"
            ]
          },
          "metadata": {
            "tags": [],
            "needs_background": "light"
          }
        }
      ]
    },
    {
      "cell_type": "code",
      "metadata": {
        "id": "2HBGs7p7-hJS",
        "colab_type": "code",
        "colab": {
          "base_uri": "https://localhost:8080/",
          "height": 52
        },
        "outputId": "7302600d-3a0f-4d50-818d-591c2bc25fb2"
      },
      "source": [
        "# 性別ごとの生存率\n",
        "print(\"females: %.2f\" %(train[\"Survived\"][train[\"Sex\"]==\"female\"].value_counts(normalize=True)[1]))\n",
        "print(\"males: %.2f\" %(train[\"Survived\"][train[\"Sex\"]==\"male\"].value_counts(normalize=True)[1]))"
      ],
      "execution_count": null,
      "outputs": [
        {
          "output_type": "stream",
          "text": [
            "females: 0.74\n",
            "males: 0.19\n"
          ],
          "name": "stdout"
        }
      ]
    },
    {
      "cell_type": "code",
      "metadata": {
        "id": "x56gkEzh_H4Y",
        "colab_type": "code",
        "colab": {
          "base_uri": "https://localhost:8080/",
          "height": 297
        },
        "outputId": "9aef85a3-837a-4973-ff7b-919d57fa5aaa"
      },
      "source": [
        "# チケットクラスと生存の帯グラフ\n",
        "sns.barplot(x=\"Pclass\", y=\"Survived\", data=train, palette=\"Set3\")"
      ],
      "execution_count": null,
      "outputs": [
        {
          "output_type": "execute_result",
          "data": {
            "text/plain": [
              "<matplotlib.axes._subplots.AxesSubplot at 0x7f50d6041be0>"
            ]
          },
          "metadata": {
            "tags": []
          },
          "execution_count": 41
        },
        {
          "output_type": "display_data",
          "data": {
            "image/png": "[encoded data removed]",
            "text/plain": [
              "<Figure size 432x288 with 1 Axes>"
            ]
          },
          "metadata": {
            "tags": [],
            "needs_background": "light"
          }
        }
      ]
    },
    {
      "cell_type": "code",
      "metadata": {
        "id": "FTesngO__o-m",
        "colab_type": "code",
        "colab": {
          "base_uri": "https://localhost:8080/",
          "height": 70
        },
        "outputId": "67d3bce7-19eb-4bad-848d-2af1180fb1e5"
      },
      "source": [
        "# チケットクラスごとの生存率\n",
        "# ※ 値が小さいほど高級なチケット\n",
        "print(\"Pclass = 1 : %.2f\" %(train[\"Survived\"][train[\"Pclass\"]==1].value_counts(normalize=True)[1]))\n",
        "print(\"Pclass = 2 : %.2f\" %(train[\"Survived\"][train[\"Pclass\"]==2].value_counts(normalize=True)[1]))\n",
        "print(\"Pclass = 3 : %.2f\" %(train[\"Survived\"][train[\"Pclass\"]==3].value_counts(normalize=True)[1]))"
      ],
      "execution_count": null,
      "outputs": [
        {
          "output_type": "stream",
          "text": [
            "Pclass = 1 : 0.63\n",
            "Pclass = 2 : 0.47\n",
            "Pclass = 3 : 0.24\n"
          ],
          "name": "stdout"
        }
      ]
    },
    {
      "cell_type": "code",
      "metadata": {
        "id": "fgpvxjW9AZv_",
        "colab_type": "code",
        "colab": {
          "base_uri": "https://localhost:8080/",
          "height": 242
        },
        "outputId": "bcf1f693-6987-4cc5-e87b-fc656536498b"
      },
      "source": [
        "# 料金による生存率比較\n",
        "fare = sns.FacetGrid(train, hue=\"Survived\", aspect=2)\n",
        "fare.map(sns.kdeplot, \"Fare\", shade=True)\n",
        "fare.set(xlim=(0, 200))\n",
        "fare.add_legend()"
      ],
      "execution_count": null,
      "outputs": [
        {
          "output_type": "execute_result",
          "data": {
            "text/plain": [
              "<seaborn.axisgrid.FacetGrid at 0x7f50d48e8278>"
            ]
          },
          "metadata": {
            "tags": []
          },
          "execution_count": 44
        },
        {
          "output_type": "display_data",
          "data": {
            "image/png": "[encoded data removed]",
            "text/plain": [
              "<Figure size 483.875x216 with 1 Axes>"
            ]
          },
          "metadata": {
            "tags": [],
            "needs_background": "light"
          }
        }
      ]
    },
    {
      "cell_type": "markdown",
      "metadata": {
        "id": "Z4fSNS5eA8VG",
        "colab_type": "text"
      },
      "source": [
        "### 上記からわかること → チケット料金が安い人は生存率が低い"
      ]
    },
    {
      "cell_type": "code",
      "metadata": {
        "id": "puXU_N5uA4Cb",
        "colab_type": "code",
        "colab": {
          "base_uri": "https://localhost:8080/",
          "height": 242
        },
        "outputId": "bdb51bb2-4b3c-4001-fa9f-dc734b10d65b"
      },
      "source": [
        "# 年齢による生存率比較\n",
        "age = sns.FacetGrid(train, hue=\"Survived\", aspect=2)\n",
        "age.map(sns.kdeplot, \"Age\", shade=True)\n",
        "age.set(xlim=(0, train[\"Age\"].max()))\n",
        "age.add_legend()"
      ],
      "execution_count": null,
      "outputs": [
        {
          "output_type": "execute_result",
          "data": {
            "text/plain": [
              "<seaborn.axisgrid.FacetGrid at 0x7f50d1f95588>"
            ]
          },
          "metadata": {
            "tags": []
          },
          "execution_count": 46
        },
        {
          "output_type": "display_data",
          "data": {
            "image/png": "[encoded data removed]",
            "text/plain": [
              "<Figure size 483.875x216 with 1 Axes>"
            ]
          },
          "metadata": {
            "tags": [],
            "needs_background": "light"
          }
        }
      ]
    },
    {
      "cell_type": "markdown",
      "metadata": {
        "id": "neVt47i4BeoH",
        "colab_type": "text"
      },
      "source": [
        "### 上記からわかること → 10歳以下の子供の生存率が高い(優先的に助けられた？)"
      ]
    },
    {
      "cell_type": "code",
      "metadata": {
        "id": "rAJmMh5LBYwr",
        "colab_type": "code",
        "colab": {
          "base_uri": "https://localhost:8080/",
          "height": 297
        },
        "outputId": "ee0cfe2b-045e-4430-eb15-009cb64b6db1"
      },
      "source": [
        "# 客室階層による生存率比較\n",
        "# 階層の図がないとこれには気づけない？\n",
        "# Deck → 「客室階層」の情報\n",
        "dataset[\"Cabin\"] = dataset[\"Cabin\"].fillna(\"Unknown\")\n",
        "dataset[\"Deck\"] = dataset[\"Cabin\"].str.get(0)\n",
        "sns.barplot(x=\"Deck\", y=\"Survived\", data=dataset, palette=\"Set3\")"
      ],
      "execution_count": null,
      "outputs": [
        {
          "output_type": "execute_result",
          "data": {
            "text/plain": [
              "<matplotlib.axes._subplots.AxesSubplot at 0x7f50d1f136d8>"
            ]
          },
          "metadata": {
            "tags": []
          },
          "execution_count": 49
        },
        {
          "output_type": "display_data",
          "data": {
            "image/png": "[encoded data removed]",
            "text/plain": [
              "<Figure size 432x288 with 1 Axes>"
            ]
          },
          "metadata": {
            "tags": [],
            "needs_background": "light"
          }
        }
      ]
    },
    {
      "cell_type": "code",
      "metadata": {
        "id": "70R_WvxBCHmR",
        "colab_type": "code",
        "colab": {
          "base_uri": "https://localhost:8080/",
          "height": 263
        },
        "outputId": "28d4deb1-9db9-4252-ee51-061b3d215a1d"
      },
      "source": [
        "# Age と Fare がそれぞれの中央値、Embarked(出港地)はS(Southampton)を代入する\n",
        "dataset[\"Age\"].fillna(dataset.Age.median(), inplace=True)\n",
        "dataset[\"Fare\"].fillna(dataset.Fare.median(), inplace=True)\n",
        "dataset[\"Embarked\"].fillna(\"S\", inplace=True)\n",
        "\n",
        "dataset_null = dataset.fillna(np.nan)\n",
        "dataset_null.isnull().sum()"
      ],
      "execution_count": null,
      "outputs": [
        {
          "output_type": "execute_result",
          "data": {
            "text/plain": [
              "PassengerId      0\n",
              "Survived       418\n",
              "Pclass           0\n",
              "Name             0\n",
              "Sex              0\n",
              "Age              0\n",
              "SibSp            0\n",
              "Parch            0\n",
              "Ticket           0\n",
              "Fare             0\n",
              "Cabin            0\n",
              "Embarked         0\n",
              "Deck             0\n",
              "dtype: int64"
            ]
          },
          "metadata": {
            "tags": []
          },
          "execution_count": 50
        }
      ]
    },
    {
      "cell_type": "code",
      "metadata": {
        "id": "gl3xrj0ODqxV",
        "colab_type": "code",
        "colab": {
          "base_uri": "https://localhost:8080/",
          "height": 215
        },
        "outputId": "f72db094-3670-4c9d-89f4-8e5213d7f5be"
      },
      "source": [
        "dataset3 = dataset[[\"Survived\", \"Pclass\", \"Sex\", \"Age\", \"Fare\", \"Embarked\", \"Deck\"]]\n",
        "\n",
        "dataset_dummies = pd.get_dummies(dataset3)\n",
        "dataset_dummies.head()"
      ],
      "execution_count": null,
      "outputs": [
        {
          "output_type": "execute_result",
          "data": {
            "text/html": [
              "<div>\n",
              "<style scoped>\n",
              "    .dataframe tbody tr th:only-of-type {\n",
              "        vertical-align: middle;\n",
              "    }\n",
              "\n",
              "    .dataframe tbody tr th {\n",
              "        vertical-align: top;\n",
              "    }\n",
              "\n",
              "    .dataframe thead th {\n",
              "        text-align: right;\n",
              "    }\n",
              "</style>\n",
              "<table border=\"1\" class=\"dataframe\">\n",
              "  <thead>\n",
              "    <tr style=\"text-align: right;\">\n",
              "      <th></th>\n",
              "      <th>Survived</th>\n",
              "      <th>Pclass</th>\n",
              "      <th>Age</th>\n",
              "      <th>Fare</th>\n",
              "      <th>Sex_female</th>\n",
              "      <th>Sex_male</th>\n",
              "      <th>Embarked_C</th>\n",
              "      <th>Embarked_Q</th>\n",
              "      <th>Embarked_S</th>\n",
              "      <th>Deck_A</th>\n",
              "      <th>Deck_B</th>\n",
              "      <th>Deck_C</th>\n",
              "      <th>Deck_D</th>\n",
              "      <th>Deck_E</th>\n",
              "      <th>Deck_F</th>\n",
              "      <th>Deck_G</th>\n",
              "      <th>Deck_T</th>\n",
              "      <th>Deck_U</th>\n",
              "    </tr>\n",
              "  </thead>\n",
              "  <tbody>\n",
              "    <tr>\n",
              "      <th>0</th>\n",
              "      <td>0.0</td>\n",
              "      <td>3</td>\n",
              "      <td>22.0</td>\n",
              "      <td>7.2500</td>\n",
              "      <td>0</td>\n",
              "      <td>1</td>\n",
              "      <td>0</td>\n",
              "      <td>0</td>\n",
              "      <td>1</td>\n",
              "      <td>0</td>\n",
              "      <td>0</td>\n",
              "      <td>0</td>\n",
              "      <td>0</td>\n",
              "      <td>0</td>\n",
              "      <td>0</td>\n",
              "      <td>0</td>\n",
              "      <td>0</td>\n",
              "      <td>1</td>\n",
              "    </tr>\n",
              "    <tr>\n",
              "      <th>1</th>\n",
              "      <td>1.0</td>\n",
              "      <td>1</td>\n",
              "      <td>38.0</td>\n",
              "      <td>71.2833</td>\n",
              "      <td>1</td>\n",
              "      <td>0</td>\n",
              "      <td>1</td>\n",
              "      <td>0</td>\n",
              "      <td>0</td>\n",
              "      <td>0</td>\n",
              "      <td>0</td>\n",
              "      <td>1</td>\n",
              "      <td>0</td>\n",
              "      <td>0</td>\n",
              "      <td>0</td>\n",
              "      <td>0</td>\n",
              "      <td>0</td>\n",
              "      <td>0</td>\n",
              "    </tr>\n",
              "    <tr>\n",
              "      <th>2</th>\n",
              "      <td>1.0</td>\n",
              "      <td>3</td>\n",
              "      <td>26.0</td>\n",
              "      <td>7.9250</td>\n",
              "      <td>1</td>\n",
              "      <td>0</td>\n",
              "      <td>0</td>\n",
              "      <td>0</td>\n",
              "      <td>1</td>\n",
              "      <td>0</td>\n",
              "      <td>0</td>\n",
              "      <td>0</td>\n",
              "      <td>0</td>\n",
              "      <td>0</td>\n",
              "      <td>0</td>\n",
              "      <td>0</td>\n",
              "      <td>0</td>\n",
              "      <td>1</td>\n",
              "    </tr>\n",
              "    <tr>\n",
              "      <th>3</th>\n",
              "      <td>1.0</td>\n",
              "      <td>1</td>\n",
              "      <td>35.0</td>\n",
              "      <td>53.1000</td>\n",
              "      <td>1</td>\n",
              "      <td>0</td>\n",
              "      <td>0</td>\n",
              "      <td>0</td>\n",
              "      <td>1</td>\n",
              "      <td>0</td>\n",
              "      <td>0</td>\n",
              "      <td>1</td>\n",
              "      <td>0</td>\n",
              "      <td>0</td>\n",
              "      <td>0</td>\n",
              "      <td>0</td>\n",
              "      <td>0</td>\n",
              "      <td>0</td>\n",
              "    </tr>\n",
              "    <tr>\n",
              "      <th>4</th>\n",
              "      <td>0.0</td>\n",
              "      <td>3</td>\n",
              "      <td>35.0</td>\n",
              "      <td>8.0500</td>\n",
              "      <td>0</td>\n",
              "      <td>1</td>\n",
              "      <td>0</td>\n",
              "      <td>0</td>\n",
              "      <td>1</td>\n",
              "      <td>0</td>\n",
              "      <td>0</td>\n",
              "      <td>0</td>\n",
              "      <td>0</td>\n",
              "      <td>0</td>\n",
              "      <td>0</td>\n",
              "      <td>0</td>\n",
              "      <td>0</td>\n",
              "      <td>1</td>\n",
              "    </tr>\n",
              "  </tbody>\n",
              "</table>\n",
              "</div>"
            ],
            "text/plain": [
              "   Survived  Pclass   Age     Fare  ...  Deck_F  Deck_G  Deck_T  Deck_U\n",
              "0       0.0       3  22.0   7.2500  ...       0       0       0       1\n",
              "1       1.0       1  38.0  71.2833  ...       0       0       0       0\n",
              "2       1.0       3  26.0   7.9250  ...       0       0       0       1\n",
              "3       1.0       1  35.0  53.1000  ...       0       0       0       0\n",
              "4       0.0       3  35.0   8.0500  ...       0       0       0       1\n",
              "\n",
              "[5 rows x 18 columns]"
            ]
          },
          "metadata": {
            "tags": []
          },
          "execution_count": 51
        }
      ]
    },
    {
      "cell_type": "code",
      "metadata": {
        "id": "-0E0mHzIDpA-",
        "colab_type": "code",
        "colab": {
          "base_uri": "https://localhost:8080/",
          "height": 34
        },
        "outputId": "d1a20ccf-e6b4-43eb-bf65-ba8361e9e5d8"
      },
      "source": [
        "train_set = dataset_dummies[dataset_dummies[\"Survived\"].notnull()]\n",
        "test_set = dataset_dummies[dataset_dummies[\"Survived\"].isnull()]\n",
        "del test_set[\"Survived\"]\n",
        "\n",
        "X = train_set.values[:, 1:]\n",
        "y = train_set.values[:, 0]\n",
        "\n",
        "clf = RandomForestClassifier(random_state=10, max_features=\"sqrt\")\n",
        "pipe = Pipeline([(\"classify\", clf)])\n",
        "param_test = {\"classify__n_estimators\": list(range(20, 30, 1)),\n",
        "              \"classify__max_depth\": list(range(3, 10, 1))}\n",
        "grid = GridSearchCV(estimator=pipe, param_grid=param_test, scoring=\"accuracy\", cv=10)\n",
        "grid.fit(X, y)\n",
        "print(grid.best_params_, grid.best_score_)"
      ],
      "execution_count": null,
      "outputs": [
        {
          "output_type": "stream",
          "text": [
            "{'classify__max_depth': 7, 'classify__n_estimators': 20} 0.8316978776529339\n"
          ],
          "name": "stdout"
        }
      ]
    },
    {
      "cell_type": "code",
      "metadata": {
        "id": "fwWxJfuTFL3s",
        "colab_type": "code",
        "colab": {}
      },
      "source": [
        "pred = grid.predict(test_set)\n",
        "\n",
        "submission = pd.DataFrame({\"PassengerId\": PassengerId, \"Survived\": pred.astype(np.int32)})\n",
        "submission.to_csv(\"submission3.csv\", index=False)"
      ],
      "execution_count": null,
      "outputs": []
    },
    {
      "cell_type": "markdown",
      "metadata": {
        "id": "nL0YBjqpF-DM",
        "colab_type": "text"
      },
      "source": [
        "# チケットと生存率の関係を確認してみる"
      ]
    },
    {
      "cell_type": "code",
      "metadata": {
        "id": "AxmQRkiiFlqp",
        "colab_type": "code",
        "colab": {}
      },
      "source": [
        "Ticket_Count = dict(dataset[\"Ticket\"].value_counts())\n",
        "dataset[\"TicketGroup\"] = dataset[\"Ticket\"].apply(lambda x: Ticket_Count[x])"
      ],
      "execution_count": null,
      "outputs": []
    },
    {
      "cell_type": "code",
      "metadata": {
        "id": "4CHBBFB0Gxl1",
        "colab_type": "code",
        "colab": {
          "base_uri": "https://localhost:8080/",
          "height": 228
        },
        "outputId": "68770c40-092a-4896-c5f0-22ddc409fc66"
      },
      "source": [
        "dataset[\"TicketGroup\"]"
      ],
      "execution_count": null,
      "outputs": [
        {
          "output_type": "execute_result",
          "data": {
            "text/plain": [
              "0       1\n",
              "1       2\n",
              "2       1\n",
              "3       2\n",
              "4       1\n",
              "       ..\n",
              "1304    1\n",
              "1305    3\n",
              "1306    1\n",
              "1307    1\n",
              "1308    3\n",
              "Name: TicketGroup, Length: 1309, dtype: int64"
            ]
          },
          "metadata": {
            "tags": []
          },
          "execution_count": 71
        }
      ]
    },
    {
      "cell_type": "code",
      "metadata": {
        "id": "pTTXAxjCIZaA",
        "colab_type": "code",
        "colab": {
          "base_uri": "https://localhost:8080/",
          "height": 122
        },
        "outputId": "022d2309-c182-4c14-b972-1af7e9a66ad7"
      },
      "source": [
        "dataset[\"Ticket\"].head()"
      ],
      "execution_count": null,
      "outputs": [
        {
          "output_type": "execute_result",
          "data": {
            "text/plain": [
              "0           A/5 21171\n",
              "1            PC 17599\n",
              "2    STON/O2. 3101282\n",
              "3              113803\n",
              "4              373450\n",
              "Name: Ticket, dtype: object"
            ]
          },
          "metadata": {
            "tags": []
          },
          "execution_count": 72
        }
      ]
    },
    {
      "cell_type": "code",
      "metadata": {
        "id": "ROJ5D679Gg2o",
        "colab_type": "code",
        "colab": {
          "base_uri": "https://localhost:8080/",
          "height": 297
        },
        "outputId": "0d14b485-fb9a-4caa-b701-8df92bb03fc8"
      },
      "source": [
        "sns.barplot(x=\"TicketGroup\", y=\"Survived\", data=dataset, palette=\"Set3\")"
      ],
      "execution_count": null,
      "outputs": [
        {
          "output_type": "execute_result",
          "data": {
            "text/plain": [
              "<matplotlib.axes._subplots.AxesSubplot at 0x7f50d1f07b38>"
            ]
          },
          "metadata": {
            "tags": []
          },
          "execution_count": 56
        },
        {
          "output_type": "display_data",
          "data": {
            "image/png": "[encoded data removed]",
            "text/plain": [
              "<Figure size 432x288 with 1 Axes>"
            ]
          },
          "metadata": {
            "tags": [],
            "needs_background": "light"
          }
        }
      ]
    },
    {
      "cell_type": "code",
      "metadata": {
        "id": "VkfnXRTfGu_w",
        "colab_type": "code",
        "colab": {
          "base_uri": "https://localhost:8080/",
          "height": 215
        },
        "outputId": "a636c73f-f56f-4b11-a6de-0ff46b761ccc"
      },
      "source": [
        "dataset4 = dataset[[\"Survived\", \"Pclass\", \"Sex\", \"Age\", \"Fare\", \"Embarked\", \"Deck\", \"TicketGroup\"]]\n",
        "\n",
        "dataset_dummies = pd.get_dummies(dataset4)\n",
        "dataset_dummies.head()"
      ],
      "execution_count": null,
      "outputs": [
        {
          "output_type": "execute_result",
          "data": {
            "text/html": [
              "<div>\n",
              "<style scoped>\n",
              "    .dataframe tbody tr th:only-of-type {\n",
              "        vertical-align: middle;\n",
              "    }\n",
              "\n",
              "    .dataframe tbody tr th {\n",
              "        vertical-align: top;\n",
              "    }\n",
              "\n",
              "    .dataframe thead th {\n",
              "        text-align: right;\n",
              "    }\n",
              "</style>\n",
              "<table border=\"1\" class=\"dataframe\">\n",
              "  <thead>\n",
              "    <tr style=\"text-align: right;\">\n",
              "      <th></th>\n",
              "      <th>Survived</th>\n",
              "      <th>Pclass</th>\n",
              "      <th>Age</th>\n",
              "      <th>Fare</th>\n",
              "      <th>TicketGroup</th>\n",
              "      <th>Sex_female</th>\n",
              "      <th>Sex_male</th>\n",
              "      <th>Embarked_C</th>\n",
              "      <th>Embarked_Q</th>\n",
              "      <th>Embarked_S</th>\n",
              "      <th>Deck_A</th>\n",
              "      <th>Deck_B</th>\n",
              "      <th>Deck_C</th>\n",
              "      <th>Deck_D</th>\n",
              "      <th>Deck_E</th>\n",
              "      <th>Deck_F</th>\n",
              "      <th>Deck_G</th>\n",
              "      <th>Deck_T</th>\n",
              "      <th>Deck_U</th>\n",
              "    </tr>\n",
              "  </thead>\n",
              "  <tbody>\n",
              "    <tr>\n",
              "      <th>0</th>\n",
              "      <td>0.0</td>\n",
              "      <td>3</td>\n",
              "      <td>22.0</td>\n",
              "      <td>7.2500</td>\n",
              "      <td>1</td>\n",
              "      <td>0</td>\n",
              "      <td>1</td>\n",
              "      <td>0</td>\n",
              "      <td>0</td>\n",
              "      <td>1</td>\n",
              "      <td>0</td>\n",
              "      <td>0</td>\n",
              "      <td>0</td>\n",
              "      <td>0</td>\n",
              "      <td>0</td>\n",
              "      <td>0</td>\n",
              "      <td>0</td>\n",
              "      <td>0</td>\n",
              "      <td>1</td>\n",
              "    </tr>\n",
              "    <tr>\n",
              "      <th>1</th>\n",
              "      <td>1.0</td>\n",
              "      <td>1</td>\n",
              "      <td>38.0</td>\n",
              "      <td>71.2833</td>\n",
              "      <td>2</td>\n",
              "      <td>1</td>\n",
              "      <td>0</td>\n",
              "      <td>1</td>\n",
              "      <td>0</td>\n",
              "      <td>0</td>\n",
              "      <td>0</td>\n",
              "      <td>0</td>\n",
              "      <td>1</td>\n",
              "      <td>0</td>\n",
              "      <td>0</td>\n",
              "      <td>0</td>\n",
              "      <td>0</td>\n",
              "      <td>0</td>\n",
              "      <td>0</td>\n",
              "    </tr>\n",
              "    <tr>\n",
              "      <th>2</th>\n",
              "      <td>1.0</td>\n",
              "      <td>3</td>\n",
              "      <td>26.0</td>\n",
              "      <td>7.9250</td>\n",
              "      <td>1</td>\n",
              "      <td>1</td>\n",
              "      <td>0</td>\n",
              "      <td>0</td>\n",
              "      <td>0</td>\n",
              "      <td>1</td>\n",
              "      <td>0</td>\n",
              "      <td>0</td>\n",
              "      <td>0</td>\n",
              "      <td>0</td>\n",
              "      <td>0</td>\n",
              "      <td>0</td>\n",
              "      <td>0</td>\n",
              "      <td>0</td>\n",
              "      <td>1</td>\n",
              "    </tr>\n",
              "    <tr>\n",
              "      <th>3</th>\n",
              "      <td>1.0</td>\n",
              "      <td>1</td>\n",
              "      <td>35.0</td>\n",
              "      <td>53.1000</td>\n",
              "      <td>2</td>\n",
              "      <td>1</td>\n",
              "      <td>0</td>\n",
              "      <td>0</td>\n",
              "      <td>0</td>\n",
              "      <td>1</td>\n",
              "      <td>0</td>\n",
              "      <td>0</td>\n",
              "      <td>1</td>\n",
              "      <td>0</td>\n",
              "      <td>0</td>\n",
              "      <td>0</td>\n",
              "      <td>0</td>\n",
              "      <td>0</td>\n",
              "      <td>0</td>\n",
              "    </tr>\n",
              "    <tr>\n",
              "      <th>4</th>\n",
              "      <td>0.0</td>\n",
              "      <td>3</td>\n",
              "      <td>35.0</td>\n",
              "      <td>8.0500</td>\n",
              "      <td>1</td>\n",
              "      <td>0</td>\n",
              "      <td>1</td>\n",
              "      <td>0</td>\n",
              "      <td>0</td>\n",
              "      <td>1</td>\n",
              "      <td>0</td>\n",
              "      <td>0</td>\n",
              "      <td>0</td>\n",
              "      <td>0</td>\n",
              "      <td>0</td>\n",
              "      <td>0</td>\n",
              "      <td>0</td>\n",
              "      <td>0</td>\n",
              "      <td>1</td>\n",
              "    </tr>\n",
              "  </tbody>\n",
              "</table>\n",
              "</div>"
            ],
            "text/plain": [
              "   Survived  Pclass   Age     Fare  ...  Deck_F  Deck_G  Deck_T  Deck_U\n",
              "0       0.0       3  22.0   7.2500  ...       0       0       0       1\n",
              "1       1.0       1  38.0  71.2833  ...       0       0       0       0\n",
              "2       1.0       3  26.0   7.9250  ...       0       0       0       1\n",
              "3       1.0       1  35.0  53.1000  ...       0       0       0       0\n",
              "4       0.0       3  35.0   8.0500  ...       0       0       0       1\n",
              "\n",
              "[5 rows x 19 columns]"
            ]
          },
          "metadata": {
            "tags": []
          },
          "execution_count": 73
        }
      ]
    },
    {
      "cell_type": "code",
      "metadata": {
        "id": "8osXGQX_I8j5",
        "colab_type": "code",
        "colab": {
          "base_uri": "https://localhost:8080/",
          "height": 52
        },
        "outputId": "67e15469-97f1-48cb-c937-a57d17638d72"
      },
      "source": [
        "train_set = dataset_dummies[dataset_dummies[\"Survived\"].notnull()]\n",
        "test_set = dataset_dummies[dataset_dummies[\"Survived\"].isnull()]\n",
        "del test_set[\"Survived\"]\n",
        "\n",
        "X = train_set.values[:, 1:]\n",
        "y = train_set.values[:, 0]\n",
        "\n",
        "clf = RandomForestClassifier(random_state=10, max_features=\"sqrt\")\n",
        "pipe = Pipeline([(\"classify\", clf)])\n",
        "param_test = {\"classify__n_estimators\": list(range(20, 30, 1)),\n",
        "              \"classify__max_depth\": list(range(3, 10, 1))}\n",
        "grid = GridSearchCV(estimator=pipe, param_grid=param_test, scoring=\"accuracy\", cv=10)\n",
        "grid.fit(X, y)\n",
        "print(grid.best_params_, grid.best_score_, sep=\"\\n\")"
      ],
      "execution_count": null,
      "outputs": [
        {
          "output_type": "stream",
          "text": [
            "{'classify__max_depth': 6, 'classify__n_estimators': 21}\n",
            "0.8373033707865168\n"
          ],
          "name": "stdout"
        }
      ]
    },
    {
      "cell_type": "code",
      "metadata": {
        "id": "SyiTwUGDKF8W",
        "colab_type": "code",
        "colab": {}
      },
      "source": [
        "pred = grid.predict(test_set)\n",
        "\n",
        "submission = pd.DataFrame({\"PassengerId\": PassengerId, \"Survived\": pred.astype(np.int32)})\n",
        "submission.to_csv(\"submission4.csv\", index=False)"
      ],
      "execution_count": null,
      "outputs": []
    },
    {
      "cell_type": "markdown",
      "metadata": {
        "id": "tPrtXekrKuUs",
        "colab_type": "text"
      },
      "source": [
        "# これだと微妙なので、さらにグループ分けして予測を行う"
      ]
    },
    {
      "cell_type": "code",
      "metadata": {
        "id": "4vRrKsrsKk6A",
        "colab_type": "code",
        "colab": {
          "base_uri": "https://localhost:8080/",
          "height": 297
        },
        "outputId": "62f4006e-2c46-4c05-d4df-89160abdfd64"
      },
      "source": [
        "\"\"\"\n",
        "文字数でグループ分けしたと記事では書かれているが、実際のところは何枚同じ番号のチケットがあるかという区分である\n",
        "→ つまり、複数枚同じ名称のチケットがあったとき、その同じ名称のチケットの枚数によって生存率が高いグループとそうでないグループに分けた、\n",
        "　　というのが正確な解釈になる。\n",
        "\"\"\"\n",
        "\n",
        "def Ticket_Labels(s):\n",
        "    if (s >= 2) & (s <= 4): # 文字数での生存率が高いグループ\n",
        "        return 2\n",
        "    elif ((s > 4) & (s <= 8)) | (s==1): # 文字数での生存率が低いグループ\n",
        "        return 1\n",
        "    elif (s > 8):\n",
        "        return 0\n",
        "\n",
        "dataset[\"TicketGroup\"] = dataset[\"TicketGroup\"].apply(Ticket_Labels)\n",
        "sns.barplot(x=\"TicketGroup\", y=\"Survived\", data=dataset, palette=\"Set3\")"
      ],
      "execution_count": null,
      "outputs": [
        {
          "output_type": "execute_result",
          "data": {
            "text/plain": [
              "<matplotlib.axes._subplots.AxesSubplot at 0x7f50d1c4c860>"
            ]
          },
          "metadata": {
            "tags": []
          },
          "execution_count": 85
        },
        {
          "output_type": "display_data",
          "data": {
            "image/png": "[encoded data removed]",
            "text/plain": [
              "<Figure size 432x288 with 1 Axes>"
            ]
          },
          "metadata": {
            "tags": [],
            "needs_background": "light"
          }
        }
      ]
    },
    {
      "cell_type": "code",
      "metadata": {
        "id": "pYd6ut9jLflZ",
        "colab_type": "code",
        "colab": {
          "base_uri": "https://localhost:8080/",
          "height": 52
        },
        "outputId": "86c70408-2a16-4857-b7dc-aabeebd369a9"
      },
      "source": [
        "train_set = dataset_dummies[dataset_dummies[\"Survived\"].notnull()]\n",
        "test_set = dataset_dummies[dataset_dummies[\"Survived\"].isnull()]\n",
        "del test_set[\"Survived\"]\n",
        "\n",
        "X = train_set.values[:, 1:]\n",
        "y = train_set.values[:, 0]\n",
        "\n",
        "clf = RandomForestClassifier(random_state=10, max_features=\"sqrt\")\n",
        "pipe = Pipeline([(\"classify\", clf)])\n",
        "param_test = {\"classify__n_estimators\": list(range(20, 30, 1)),\n",
        "              \"classify__max_depth\": list(range(3, 10, 1))}\n",
        "grid = GridSearchCV(estimator=pipe, param_grid=param_test, scoring=\"accuracy\", cv=10)\n",
        "grid.fit(X, y)\n",
        "print(grid.best_params_, grid.best_score_, sep=\"\\n\")"
      ],
      "execution_count": null,
      "outputs": [
        {
          "output_type": "stream",
          "text": [
            "{'classify__max_depth': 6, 'classify__n_estimators': 21}\n",
            "0.8373033707865168\n"
          ],
          "name": "stdout"
        }
      ]
    },
    {
      "cell_type": "code",
      "metadata": {
        "id": "l-czdpB9MShp",
        "colab_type": "code",
        "colab": {}
      },
      "source": [
        "pred = grid.predict(test_set)\n",
        "\n",
        "submission = pd.DataFrame({\"PassengerId\": PassengerId, \"Survived\": pred.astype(np.int32)})\n",
        "submission.to_csv(\"submission5.csv\", index=False)"
      ],
      "execution_count": null,
      "outputs": []
    },
    {
      "cell_type": "markdown",
      "metadata": {
        "id": "OslHXXlsr-Yz",
        "colab_type": "text"
      },
      "source": [
        "# 精度上昇のために色々やるやつ"
      ]
    },
    {
      "cell_type": "code",
      "metadata": {
        "id": "ivPBV-z1sF4e",
        "colab_type": "code",
        "colab": {}
      },
      "source": [
        "import pandas as pd\n",
        "import numpy as np\n",
        "import matplotlib.pyplot as plt \n",
        "import seaborn as sns\n",
        "\n",
        "from sklearn.ensemble import RandomForestRegressor\n",
        "from sklearn.pipeline import Pipeline, make_pipeline\n",
        "from sklearn.ensemble import RandomForestClassifier\n",
        "from sklearn.feature_selection import SelectKBest\n",
        "from sklearn import model_selection\n",
        "from sklearn.model_selection import GridSearchCV\n",
        "\n",
        "import warnings\n",
        "\n",
        "warnings.filterwarnings(\"ignore\")"
      ],
      "execution_count": 36,
      "outputs": []
    },
    {
      "cell_type": "code",
      "metadata": {
        "id": "c3d2QnrPs59Q",
        "colab_type": "code",
        "colab": {}
      },
      "source": [
        "train = pd.read_csv(\"train.csv\")\n",
        "test = pd.read_csv(\"test.csv\")\n",
        "\n",
        "dataset = pd.concat([train, test], ignore_index=True)\n",
        "\n",
        "PassengerId = test[\"PassengerId\"]"
      ],
      "execution_count": 37,
      "outputs": []
    },
    {
      "cell_type": "code",
      "metadata": {
        "id": "hulQmvYJtSPb",
        "colab_type": "code",
        "colab": {}
      },
      "source": [
        "dataset[\"Cabin\"] = dataset[\"Cabin\"].fillna(\"Unknown\")\n",
        "dataset[\"Deck\"] = dataset[\"Cabin\"].str.get(0)\n",
        "\n",
        "Ticket_Count = dict(dataset[\"Ticket\"].value_counts())\n",
        "dataset[\"TicketGroup\"] = dataset[\"Ticket\"].apply(lambda x: Ticket_Count[x])\n",
        "\n",
        "def Ticket_Label(s):\n",
        "    if (s >= 2) & (s <= 4):\n",
        "        return 2\n",
        "    elif ((s > 4) & (s <= 8)) | (s == 1):\n",
        "        return 1\n",
        "    elif (s > 8):\n",
        "        return 0\n",
        "\n",
        "dataset[\"TicketGroup\"] = dataset[\"TicketGroup\"].apply(Ticket_Label)"
      ],
      "execution_count": 38,
      "outputs": []
    },
    {
      "cell_type": "markdown",
      "metadata": {
        "id": "rW6ZuXFVxVIa",
        "colab_type": "text"
      },
      "source": [
        "# 敬称で特徴を作る"
      ]
    },
    {
      "cell_type": "code",
      "metadata": {
        "id": "qPugv_bMuXsK",
        "colab_type": "code",
        "colab": {
          "base_uri": "https://localhost:8080/",
          "height": 332
        },
        "outputId": "cfc02eb1-818f-4a7f-d4ed-7f3da21cd0c3"
      },
      "source": [
        "# Honorifics(敬称)による特徴別に分ける\n",
        "dataset[\"Honorifics\"] = dataset[\"Name\"].apply(lambda x: x.split(\",\")[1].split(\".\")[0].strip())\n",
        "\n",
        "Honorifics_Dict = {}\n",
        "Honorifics_Dict.update(dict.fromkeys([\"Capt\", \"Col\", \"Major\", \"Dr\", \"Rev\"], \"Officer\"))\n",
        "Honorifics_Dict.update(dict.fromkeys([\"Don\", \"Sir\", \"the Countess\", \"Dona\", \"Lady\"], \"Royalty\"))\n",
        "Honorifics_Dict.update(dict.fromkeys([\"Mme\", \"Ms\", \"Mrs\"], \"Mrs\"))\n",
        "Honorifics_Dict.update(dict.fromkeys([\"Mlle\", \"Miss\"], \"Miss\"))\n",
        "Honorifics_Dict.update(dict.fromkeys([\"Mr\"], \"Mr\"))\n",
        "Honorifics_Dict.update(dict.fromkeys([\"Master\", \"Jonkheer\"], \"Master\"))\n",
        "\n",
        "dataset[\"Honorifics\"] = dataset[\"Honorifics\"].map(Honorifics_Dict)\n",
        "sns.barplot(x=\"Honorifics\", y=\"Survived\", data=dataset, palette=\"Set3\")\n",
        "\n",
        "\"\"\"敬称一覧\n",
        "Mr：男 , Master：男の子, Jonkheer：オランダ貴族(男),\n",
        "Mlle：マドモワゼル (フランス未婚女性), Miss：未婚女性、女の子, Mme：マダム(フランス既婚女性), Ms：女性(未婚・既婚問わず), Mrs：既婚女性, \n",
        "Don：男(スペイン), Sir：男(イギリス), the Countess：伯爵夫人, Dona：既婚女性(スペイン), Lady：既婚女性(イギリス),\n",
        "Capt：船長, Col：大佐, Major：軍人, Dr：医者, Rev：聖職者や牧師\n",
        "\"\"\""
      ],
      "execution_count": 39,
      "outputs": [
        {
          "output_type": "execute_result",
          "data": {
            "application/vnd.google.colaboratory.intrinsic": {
              "type": "string"
            },
            "text/plain": [
              "'敬称一覧\\nMr：男 , Master：男の子, Jonkheer：オランダ貴族(男),\\nMlle：マドモワゼル (フランス未婚女性), Miss：未婚女性、女の子, Mme：マダム(フランス既婚女性), Ms：女性(未婚・既婚問わず), Mrs：既婚女性, \\nDon：男(スペイン), Sir：男(イギリス), the Countess：伯爵夫人, Dona：既婚女性(スペイン), Lady：既婚女性(イギリス),\\nCapt：船長, Col：大佐, Major：軍人, Dr：医者, Rev：聖職者や牧師\\n'"
            ]
          },
          "metadata": {
            "tags": []
          },
          "execution_count": 39
        },
        {
          "output_type": "display_data",
          "data": {
            "image/png": "[encoded data removed]",
            "text/plain": [
              "<Figure size 432x288 with 1 Axes>"
            ]
          },
          "metadata": {
            "tags": [],
            "needs_background": "light"
          }
        }
      ]
    },
    {
      "cell_type": "markdown",
      "metadata": {
        "id": "cSTWih7KxUFa",
        "colab_type": "text"
      },
      "source": [
        "# 欠損値の代入を見直し ─ 学習モデルを利用して穴埋め"
      ]
    },
    {
      "cell_type": "code",
      "metadata": {
        "id": "XCeU3K37w08t",
        "colab_type": "code",
        "colab": {
          "base_uri": "https://localhost:8080/",
          "height": 215
        },
        "outputId": "bbf1f8e1-ef3b-4569-90dd-a10deb81eeb8"
      },
      "source": [
        "## 年齢の欠損値を予測して代入\n",
        "# 年齢予測のために使う項目を抽出し、ダミー変数を作成\n",
        "\n",
        "age = dataset[[\"Age\", \"Pclass\", \"Sex\", \"Honorifics\"]]\n",
        "age_dummies = pd.get_dummies(age)\n",
        "age_dummies.head()\n"
      ],
      "execution_count": 40,
      "outputs": [
        {
          "output_type": "execute_result",
          "data": {
            "text/html": [
              "<div>\n",
              "<style scoped>\n",
              "    .dataframe tbody tr th:only-of-type {\n",
              "        vertical-align: middle;\n",
              "    }\n",
              "\n",
              "    .dataframe tbody tr th {\n",
              "        vertical-align: top;\n",
              "    }\n",
              "\n",
              "    .dataframe thead th {\n",
              "        text-align: right;\n",
              "    }\n",
              "</style>\n",
              "<table border=\"1\" class=\"dataframe\">\n",
              "  <thead>\n",
              "    <tr style=\"text-align: right;\">\n",
              "      <th></th>\n",
              "      <th>Age</th>\n",
              "      <th>Pclass</th>\n",
              "      <th>Sex_female</th>\n",
              "      <th>Sex_male</th>\n",
              "      <th>Honorifics_Master</th>\n",
              "      <th>Honorifics_Miss</th>\n",
              "      <th>Honorifics_Mr</th>\n",
              "      <th>Honorifics_Mrs</th>\n",
              "      <th>Honorifics_Officer</th>\n",
              "      <th>Honorifics_Royalty</th>\n",
              "    </tr>\n",
              "  </thead>\n",
              "  <tbody>\n",
              "    <tr>\n",
              "      <th>0</th>\n",
              "      <td>22.0</td>\n",
              "      <td>3</td>\n",
              "      <td>0</td>\n",
              "      <td>1</td>\n",
              "      <td>0</td>\n",
              "      <td>0</td>\n",
              "      <td>1</td>\n",
              "      <td>0</td>\n",
              "      <td>0</td>\n",
              "      <td>0</td>\n",
              "    </tr>\n",
              "    <tr>\n",
              "      <th>1</th>\n",
              "      <td>38.0</td>\n",
              "      <td>1</td>\n",
              "      <td>1</td>\n",
              "      <td>0</td>\n",
              "      <td>0</td>\n",
              "      <td>0</td>\n",
              "      <td>0</td>\n",
              "      <td>1</td>\n",
              "      <td>0</td>\n",
              "      <td>0</td>\n",
              "    </tr>\n",
              "    <tr>\n",
              "      <th>2</th>\n",
              "      <td>26.0</td>\n",
              "      <td>3</td>\n",
              "      <td>1</td>\n",
              "      <td>0</td>\n",
              "      <td>0</td>\n",
              "      <td>1</td>\n",
              "      <td>0</td>\n",
              "      <td>0</td>\n",
              "      <td>0</td>\n",
              "      <td>0</td>\n",
              "    </tr>\n",
              "    <tr>\n",
              "      <th>3</th>\n",
              "      <td>35.0</td>\n",
              "      <td>1</td>\n",
              "      <td>1</td>\n",
              "      <td>0</td>\n",
              "      <td>0</td>\n",
              "      <td>0</td>\n",
              "      <td>0</td>\n",
              "      <td>1</td>\n",
              "      <td>0</td>\n",
              "      <td>0</td>\n",
              "    </tr>\n",
              "    <tr>\n",
              "      <th>4</th>\n",
              "      <td>35.0</td>\n",
              "      <td>3</td>\n",
              "      <td>0</td>\n",
              "      <td>1</td>\n",
              "      <td>0</td>\n",
              "      <td>0</td>\n",
              "      <td>1</td>\n",
              "      <td>0</td>\n",
              "      <td>0</td>\n",
              "      <td>0</td>\n",
              "    </tr>\n",
              "  </tbody>\n",
              "</table>\n",
              "</div>"
            ],
            "text/plain": [
              "    Age  Pclass  ...  Honorifics_Officer  Honorifics_Royalty\n",
              "0  22.0       3  ...                   0                   0\n",
              "1  38.0       1  ...                   0                   0\n",
              "2  26.0       3  ...                   0                   0\n",
              "3  35.0       1  ...                   0                   0\n",
              "4  35.0       3  ...                   0                   0\n",
              "\n",
              "[5 rows x 10 columns]"
            ]
          },
          "metadata": {
            "tags": []
          },
          "execution_count": 40
        }
      ]
    },
    {
      "cell_type": "code",
      "metadata": {
        "id": "IA364SU8x01z",
        "colab_type": "code",
        "colab": {}
      },
      "source": [
        "# age が分かるものと欠損しているものに分ける\n",
        "known_age = age_dummies[age_dummies.Age.notnull()].values\n",
        "null_age = age_dummies[age_dummies.Age.isnull()].values\n",
        "\n",
        "age_X = known_age[:,1:]\n",
        "age_y = known_age[:,0]\n",
        "\n",
        "rf = RandomForestRegressor()\n",
        "rf.fit(age_X, age_y)\n",
        "pred_Age = rf.predict(null_age[:,1:])\n",
        "dataset.loc[(dataset.Age.isnull()), \"Age\"] = pred_Age"
      ],
      "execution_count": 41,
      "outputs": []
    },
    {
      "cell_type": "code",
      "metadata": {
        "id": "aw94bwWuy0Fi",
        "colab_type": "code",
        "colab": {
          "base_uri": "https://localhost:8080/",
          "height": 244
        },
        "outputId": "5ad2506b-2b1e-46b3-b3d9-5474060a93ea"
      },
      "source": [
        "dataset[dataset[\"Embarked\"].isnull()]"
      ],
      "execution_count": 42,
      "outputs": [
        {
          "output_type": "execute_result",
          "data": {
            "text/html": [
              "<div>\n",
              "<style scoped>\n",
              "    .dataframe tbody tr th:only-of-type {\n",
              "        vertical-align: middle;\n",
              "    }\n",
              "\n",
              "    .dataframe tbody tr th {\n",
              "        vertical-align: top;\n",
              "    }\n",
              "\n",
              "    .dataframe thead th {\n",
              "        text-align: right;\n",
              "    }\n",
              "</style>\n",
              "<table border=\"1\" class=\"dataframe\">\n",
              "  <thead>\n",
              "    <tr style=\"text-align: right;\">\n",
              "      <th></th>\n",
              "      <th>PassengerId</th>\n",
              "      <th>Survived</th>\n",
              "      <th>Pclass</th>\n",
              "      <th>Name</th>\n",
              "      <th>Sex</th>\n",
              "      <th>Age</th>\n",
              "      <th>SibSp</th>\n",
              "      <th>Parch</th>\n",
              "      <th>Ticket</th>\n",
              "      <th>Fare</th>\n",
              "      <th>Cabin</th>\n",
              "      <th>Embarked</th>\n",
              "      <th>Deck</th>\n",
              "      <th>TicketGroup</th>\n",
              "      <th>Honorifics</th>\n",
              "    </tr>\n",
              "  </thead>\n",
              "  <tbody>\n",
              "    <tr>\n",
              "      <th>61</th>\n",
              "      <td>62</td>\n",
              "      <td>1.0</td>\n",
              "      <td>1</td>\n",
              "      <td>Icard, Miss. Amelie</td>\n",
              "      <td>female</td>\n",
              "      <td>38.0</td>\n",
              "      <td>0</td>\n",
              "      <td>0</td>\n",
              "      <td>113572</td>\n",
              "      <td>80.0</td>\n",
              "      <td>B28</td>\n",
              "      <td>NaN</td>\n",
              "      <td>B</td>\n",
              "      <td>2</td>\n",
              "      <td>Miss</td>\n",
              "    </tr>\n",
              "    <tr>\n",
              "      <th>829</th>\n",
              "      <td>830</td>\n",
              "      <td>1.0</td>\n",
              "      <td>1</td>\n",
              "      <td>Stone, Mrs. George Nelson (Martha Evelyn)</td>\n",
              "      <td>female</td>\n",
              "      <td>62.0</td>\n",
              "      <td>0</td>\n",
              "      <td>0</td>\n",
              "      <td>113572</td>\n",
              "      <td>80.0</td>\n",
              "      <td>B28</td>\n",
              "      <td>NaN</td>\n",
              "      <td>B</td>\n",
              "      <td>2</td>\n",
              "      <td>Mrs</td>\n",
              "    </tr>\n",
              "  </tbody>\n",
              "</table>\n",
              "</div>"
            ],
            "text/plain": [
              "     PassengerId  Survived  Pclass  ... Deck TicketGroup  Honorifics\n",
              "61            62       1.0       1  ...    B           2        Miss\n",
              "829          830       1.0       1  ...    B           2         Mrs\n",
              "\n",
              "[2 rows x 15 columns]"
            ]
          },
          "metadata": {
            "tags": []
          },
          "execution_count": 42
        }
      ]
    },
    {
      "cell_type": "markdown",
      "metadata": {
        "id": "-SSkZwDazEHE",
        "colab_type": "text"
      },
      "source": [
        "# Embarked の欠損値 → どちらも Pclassが1で、Fareが80.0である\n",
        "### チケットクラス1のもののうち、EmbarkedごとのFareの中央値を確認し、最も近いもので埋めることにする"
      ]
    },
    {
      "cell_type": "code",
      "metadata": {
        "id": "3VetqSOUy-Ja",
        "colab_type": "code",
        "colab": {
          "base_uri": "https://localhost:8080/",
          "height": 70
        },
        "outputId": "45a9a6cb-36d8-4195-fd24-1f307ce637e2"
      },
      "source": [
        "C = dataset[(dataset[\"Embarked\"]==\"C\") & (dataset[\"Pclass\"]==1)][\"Fare\"].median()\n",
        "S = dataset[(dataset[\"Embarked\"]==\"S\") & (dataset[\"Pclass\"]==1)][\"Fare\"].median()\n",
        "Q = dataset[(dataset[\"Embarked\"]==\"Q\") & (dataset[\"Pclass\"]==1)][\"Fare\"].median()\n",
        "\n",
        "print(\"C median: \", C)\n",
        "print(\"S median: \", S)\n",
        "print(\"Q median: \", Q)"
      ],
      "execution_count": 43,
      "outputs": [
        {
          "output_type": "stream",
          "text": [
            "C median:  76.7292\n",
            "S median:  52.0\n",
            "Q median:  90.0\n"
          ],
          "name": "stdout"
        }
      ]
    },
    {
      "cell_type": "code",
      "metadata": {
        "id": "dq4eh-S90EGr",
        "colab_type": "code",
        "colab": {}
      },
      "source": [
        "dataset[\"Embarked\"] = dataset[\"Embarked\"].fillna(\"C\")"
      ],
      "execution_count": 44,
      "outputs": []
    },
    {
      "cell_type": "code",
      "metadata": {
        "id": "2iSa0lCm0VbJ",
        "colab_type": "code",
        "colab": {
          "base_uri": "https://localhost:8080/",
          "height": 130
        },
        "outputId": "272df50a-8f18-4a9a-f143-77981d8242e5"
      },
      "source": [
        "dataset[dataset[\"Fare\"].isnull()]"
      ],
      "execution_count": 45,
      "outputs": [
        {
          "output_type": "execute_result",
          "data": {
            "text/html": [
              "<div>\n",
              "<style scoped>\n",
              "    .dataframe tbody tr th:only-of-type {\n",
              "        vertical-align: middle;\n",
              "    }\n",
              "\n",
              "    .dataframe tbody tr th {\n",
              "        vertical-align: top;\n",
              "    }\n",
              "\n",
              "    .dataframe thead th {\n",
              "        text-align: right;\n",
              "    }\n",
              "</style>\n",
              "<table border=\"1\" class=\"dataframe\">\n",
              "  <thead>\n",
              "    <tr style=\"text-align: right;\">\n",
              "      <th></th>\n",
              "      <th>PassengerId</th>\n",
              "      <th>Survived</th>\n",
              "      <th>Pclass</th>\n",
              "      <th>Name</th>\n",
              "      <th>Sex</th>\n",
              "      <th>Age</th>\n",
              "      <th>SibSp</th>\n",
              "      <th>Parch</th>\n",
              "      <th>Ticket</th>\n",
              "      <th>Fare</th>\n",
              "      <th>Cabin</th>\n",
              "      <th>Embarked</th>\n",
              "      <th>Deck</th>\n",
              "      <th>TicketGroup</th>\n",
              "      <th>Honorifics</th>\n",
              "    </tr>\n",
              "  </thead>\n",
              "  <tbody>\n",
              "    <tr>\n",
              "      <th>1043</th>\n",
              "      <td>1044</td>\n",
              "      <td>NaN</td>\n",
              "      <td>3</td>\n",
              "      <td>Storey, Mr. Thomas</td>\n",
              "      <td>male</td>\n",
              "      <td>60.5</td>\n",
              "      <td>0</td>\n",
              "      <td>0</td>\n",
              "      <td>3701</td>\n",
              "      <td>NaN</td>\n",
              "      <td>Unknown</td>\n",
              "      <td>S</td>\n",
              "      <td>U</td>\n",
              "      <td>1</td>\n",
              "      <td>Mr</td>\n",
              "    </tr>\n",
              "  </tbody>\n",
              "</table>\n",
              "</div>"
            ],
            "text/plain": [
              "      PassengerId  Survived  Pclass  ... Deck TicketGroup  Honorifics\n",
              "1043         1044       NaN       3  ...    U           1          Mr\n",
              "\n",
              "[1 rows x 15 columns]"
            ]
          },
          "metadata": {
            "tags": []
          },
          "execution_count": 45
        }
      ]
    },
    {
      "cell_type": "markdown",
      "metadata": {
        "id": "LsIGtoIV0gaH",
        "colab_type": "text"
      },
      "source": [
        "# Fareの欠損値 → Pclassが3で、\"Embarked\"が\"S\"とわかる"
      ]
    },
    {
      "cell_type": "code",
      "metadata": {
        "id": "-47pkfGU0dKa",
        "colab_type": "code",
        "colab": {
          "base_uri": "https://localhost:8080/",
          "height": 298
        },
        "outputId": "ccf3fcd6-238c-4533-a64e-8635913ac647"
      },
      "source": [
        "fare_median = dataset[(dataset[\"Embarked\"]==\"S\") & (dataset[\"Pclass\"]==3)].Fare.median()\n",
        "dataset[\"Fare\"] = dataset[\"Fare\"].fillna(fare_median)\n",
        "\n",
        "dataset_null = dataset.fillna(np.nan)\n",
        "dataset_null.isnull().sum()"
      ],
      "execution_count": 46,
      "outputs": [
        {
          "output_type": "execute_result",
          "data": {
            "text/plain": [
              "PassengerId      0\n",
              "Survived       418\n",
              "Pclass           0\n",
              "Name             0\n",
              "Sex              0\n",
              "Age              0\n",
              "SibSp            0\n",
              "Parch            0\n",
              "Ticket           0\n",
              "Fare             0\n",
              "Cabin            0\n",
              "Embarked         0\n",
              "Deck             0\n",
              "TicketGroup      0\n",
              "Honorifics       0\n",
              "dtype: int64"
            ]
          },
          "metadata": {
            "tags": []
          },
          "execution_count": 46
        }
      ]
    },
    {
      "cell_type": "markdown",
      "metadata": {
        "id": "Svm4cHVM2meB",
        "colab_type": "text"
      },
      "source": [
        "# 家族の人数をうまく使う"
      ]
    },
    {
      "cell_type": "code",
      "metadata": {
        "id": "QhBW5_Ep2X5i",
        "colab_type": "code",
        "colab": {
          "base_uri": "https://localhost:8080/",
          "height": 297
        },
        "outputId": "40fa35b2-d046-4e32-f51d-fcecf17260f7"
      },
      "source": [
        "# 同乗している兄弟/配偶者の数による生存率比較\n",
        "sns.barplot(x=\"SibSp\", y=\"Survived\", data=train, palette=\"Set3\")"
      ],
      "execution_count": 47,
      "outputs": [
        {
          "output_type": "execute_result",
          "data": {
            "text/plain": [
              "<matplotlib.axes._subplots.AxesSubplot at 0x7fb46827e3c8>"
            ]
          },
          "metadata": {
            "tags": []
          },
          "execution_count": 47
        },
        {
          "output_type": "display_data",
          "data": {
            "image/png": "[encoded data removed]",
            "text/plain": [
              "<Figure size 432x288 with 1 Axes>"
            ]
          },
          "metadata": {
            "tags": [],
            "needs_background": "light"
          }
        }
      ]
    },
    {
      "cell_type": "code",
      "metadata": {
        "id": "KOJ2iQwO2xax",
        "colab_type": "code",
        "colab": {
          "base_uri": "https://localhost:8080/",
          "height": 297
        },
        "outputId": "77db4f24-d463-4095-d997-1c46e901def2"
      },
      "source": [
        "# 同乗している親/子供の数による生存率比較\n",
        "sns.barplot(x=\"Parch\", y=\"Survived\", data=train, palette=\"Set3\")"
      ],
      "execution_count": 48,
      "outputs": [
        {
          "output_type": "execute_result",
          "data": {
            "text/plain": [
              "<matplotlib.axes._subplots.AxesSubplot at 0x7fb465299cc0>"
            ]
          },
          "metadata": {
            "tags": []
          },
          "execution_count": 48
        },
        {
          "output_type": "display_data",
          "data": {
            "image/png": "[encoded data removed]",
            "text/plain": [
              "<Figure size 432x288 with 1 Axes>"
            ]
          },
          "metadata": {
            "tags": [],
            "needs_background": "light"
          }
        }
      ]
    },
    {
      "cell_type": "code",
      "metadata": {
        "id": "y1Mdq0lC3GHq",
        "colab_type": "code",
        "colab": {
          "base_uri": "https://localhost:8080/",
          "height": 297
        },
        "outputId": "a1628acc-bfed-447c-f35b-713aa3c92076"
      },
      "source": [
        "# 同乗している家族の数\n",
        "dataset[\"FamilySize\"] = dataset[\"SibSp\"] + dataset[\"Parch\"] + 1\n",
        "sns.barplot(x=\"FamilySize\", y=\"Survived\", data=dataset, palette=\"Set3\")"
      ],
      "execution_count": 49,
      "outputs": [
        {
          "output_type": "execute_result",
          "data": {
            "text/plain": [
              "<matplotlib.axes._subplots.AxesSubplot at 0x7fb4652148d0>"
            ]
          },
          "metadata": {
            "tags": []
          },
          "execution_count": 49
        },
        {
          "output_type": "display_data",
          "data": {
            "image/png": "[encoded data removed]",
            "text/plain": [
              "<Figure size 432x288 with 1 Axes>"
            ]
          },
          "metadata": {
            "tags": [],
            "needs_background": "light"
          }
        }
      ]
    },
    {
      "cell_type": "code",
      "metadata": {
        "id": "UXQS-Nnd3cbp",
        "colab_type": "code",
        "colab": {
          "base_uri": "https://localhost:8080/",
          "height": 297
        },
        "outputId": "2dd4d876-ff19-476e-e5e7-2f67b3de8202"
      },
      "source": [
        "# 家族数による生存率でグループ分け\n",
        "def Family_label(s):\n",
        "    if (s >= 2) & (s <= 4):\n",
        "        return 2\n",
        "    elif ((s > 4) & (s <= 7)) | (s == 1):\n",
        "        return 1\n",
        "    elif (s > 7):\n",
        "        return 0\n",
        "\n",
        "dataset[\"FamilyLabel\"] = dataset[\"FamilySize\"].apply(Family_label)\n",
        "sns.barplot(x=\"FamilyLabel\", y=\"Survived\", data=dataset, palette=\"Set3\")"
      ],
      "execution_count": 50,
      "outputs": [
        {
          "output_type": "execute_result",
          "data": {
            "text/plain": [
              "<matplotlib.axes._subplots.AxesSubplot at 0x7fb46518d9b0>"
            ]
          },
          "metadata": {
            "tags": []
          },
          "execution_count": 50
        },
        {
          "output_type": "display_data",
          "data": {
            "image/png": "[encoded data removed]",
            "text/plain": [
              "<Figure size 432x288 with 1 Axes>"
            ]
          },
          "metadata": {
            "tags": [],
            "needs_background": "light"
          }
        }
      ]
    },
    {
      "cell_type": "markdown",
      "metadata": {
        "id": "jYjqaipR4PaM",
        "colab_type": "text"
      },
      "source": [
        "# 苗字における生存率比較\n",
        "### 上記の特徴量では、3等親以降の家族関係が不明 → 苗字における生存率で調査"
      ]
    },
    {
      "cell_type": "code",
      "metadata": {
        "id": "-Tz3WXKc4L3D",
        "colab_type": "code",
        "colab": {}
      },
      "source": [
        "# 苗字による特徴量調査\n",
        "dataset[\"Surname\"] = dataset[\"Name\"].apply(lambda x: x.split(\",\")[0].strip())\n",
        "Surname_Count = dict(dataset[\"Surname\"].value_counts())\n",
        "dataset[\"Surname_Count\"] = dataset[\"Surname\"].apply(lambda x: Surname_Count[x])"
      ],
      "execution_count": 51,
      "outputs": []
    },
    {
      "cell_type": "code",
      "metadata": {
        "id": "cMT4aylZ4_F-",
        "colab_type": "code",
        "colab": {}
      },
      "source": [
        "# 苗字にダブりがある人を、女・子供のグループと、大人で男性のグループに分ける\n",
        "Female_Child_Group = dataset.loc[(dataset[\"Surname_Count\"]>=2) & ((dataset[\"Age\"]<=12) | (dataset[\"Sex\"]==\"female\"))]\n",
        "Male_Adult_Group = dataset.loc[(dataset[\"Surname_Count\"]>=2) & (dataset[\"Age\"]>12) & (dataset[\"Sex\"]==\"male\")]"
      ],
      "execution_count": 52,
      "outputs": []
    },
    {
      "cell_type": "code",
      "metadata": {
        "id": "JyJnAcfq539w",
        "colab_type": "code",
        "colab": {
          "base_uri": "https://localhost:8080/",
          "height": 195
        },
        "outputId": "965fba0e-6794-4af0-a814-b7e136ff2b19"
      },
      "source": [
        "# 女・子供グループにおける苗字ごとの生存率平均の個数を比較\n",
        "Female_Child_mean = Female_Child_Group.groupby(\"Surname\")[\"Survived\"].mean()\n",
        "Female_Child_mean_count = pd.DataFrame(Female_Child_mean.value_counts())\n",
        "Female_Child_mean_count.columns=[\"GroupCount\"]\n",
        "Female_Child_mean_count"
      ],
      "execution_count": 53,
      "outputs": [
        {
          "output_type": "execute_result",
          "data": {
            "text/html": [
              "<div>\n",
              "<style scoped>\n",
              "    .dataframe tbody tr th:only-of-type {\n",
              "        vertical-align: middle;\n",
              "    }\n",
              "\n",
              "    .dataframe tbody tr th {\n",
              "        vertical-align: top;\n",
              "    }\n",
              "\n",
              "    .dataframe thead th {\n",
              "        text-align: right;\n",
              "    }\n",
              "</style>\n",
              "<table border=\"1\" class=\"dataframe\">\n",
              "  <thead>\n",
              "    <tr style=\"text-align: right;\">\n",
              "      <th></th>\n",
              "      <th>GroupCount</th>\n",
              "    </tr>\n",
              "  </thead>\n",
              "  <tbody>\n",
              "    <tr>\n",
              "      <th>1.000000</th>\n",
              "      <td>115</td>\n",
              "    </tr>\n",
              "    <tr>\n",
              "      <th>0.000000</th>\n",
              "      <td>31</td>\n",
              "    </tr>\n",
              "    <tr>\n",
              "      <th>0.750000</th>\n",
              "      <td>2</td>\n",
              "    </tr>\n",
              "    <tr>\n",
              "      <th>0.333333</th>\n",
              "      <td>1</td>\n",
              "    </tr>\n",
              "    <tr>\n",
              "      <th>0.142857</th>\n",
              "      <td>1</td>\n",
              "    </tr>\n",
              "  </tbody>\n",
              "</table>\n",
              "</div>"
            ],
            "text/plain": [
              "          GroupCount\n",
              "1.000000         115\n",
              "0.000000          31\n",
              "0.750000           2\n",
              "0.333333           1\n",
              "0.142857           1"
            ]
          },
          "metadata": {
            "tags": []
          },
          "execution_count": 53
        }
      ]
    },
    {
      "cell_type": "code",
      "metadata": {
        "id": "Cleei0Ko6jap",
        "colab_type": "code",
        "colab": {
          "base_uri": "https://localhost:8080/",
          "height": 195
        },
        "outputId": "4d726f1c-a6d7-4dac-a25f-9fd389de5ec4"
      },
      "source": [
        "# 男(大人)グループにおける苗字ごとの生存率平均の個数を比較\n",
        "Male_Adult_mean = Male_Adult_Group.groupby(\"Surname\")[\"Survived\"].mean()\n",
        "Male_Adult_mean_count = pd.DataFrame(Male_Adult_mean.value_counts())\n",
        "Male_Adult_mean_count.columns=[\"GroupCount\"]\n",
        "Male_Adult_mean_count"
      ],
      "execution_count": 54,
      "outputs": [
        {
          "output_type": "execute_result",
          "data": {
            "text/html": [
              "<div>\n",
              "<style scoped>\n",
              "    .dataframe tbody tr th:only-of-type {\n",
              "        vertical-align: middle;\n",
              "    }\n",
              "\n",
              "    .dataframe tbody tr th {\n",
              "        vertical-align: top;\n",
              "    }\n",
              "\n",
              "    .dataframe thead th {\n",
              "        text-align: right;\n",
              "    }\n",
              "</style>\n",
              "<table border=\"1\" class=\"dataframe\">\n",
              "  <thead>\n",
              "    <tr style=\"text-align: right;\">\n",
              "      <th></th>\n",
              "      <th>GroupCount</th>\n",
              "    </tr>\n",
              "  </thead>\n",
              "  <tbody>\n",
              "    <tr>\n",
              "      <th>0.000000</th>\n",
              "      <td>122</td>\n",
              "    </tr>\n",
              "    <tr>\n",
              "      <th>1.000000</th>\n",
              "      <td>20</td>\n",
              "    </tr>\n",
              "    <tr>\n",
              "      <th>0.500000</th>\n",
              "      <td>6</td>\n",
              "    </tr>\n",
              "    <tr>\n",
              "      <th>0.333333</th>\n",
              "      <td>2</td>\n",
              "    </tr>\n",
              "    <tr>\n",
              "      <th>0.250000</th>\n",
              "      <td>1</td>\n",
              "    </tr>\n",
              "  </tbody>\n",
              "</table>\n",
              "</div>"
            ],
            "text/plain": [
              "          GroupCount\n",
              "0.000000         122\n",
              "1.000000          20\n",
              "0.500000           6\n",
              "0.333333           2\n",
              "0.250000           1"
            ]
          },
          "metadata": {
            "tags": []
          },
          "execution_count": 54
        }
      ]
    },
    {
      "cell_type": "code",
      "metadata": {
        "id": "HcIB69bf7I1Z",
        "colab_type": "code",
        "colab": {
          "base_uri": "https://localhost:8080/",
          "height": 107
        },
        "outputId": "b63672b7-96fd-4340-8564-d4c5dda2ddaf"
      },
      "source": [
        "# 各グループの例外を処理\n",
        "# 各グループの例外となる苗字を抽出\n",
        "# Dead_List: 女・子供グループで全員死亡した苗字\n",
        "# Survived_List: 男(大人)グループで全員生存した苗字\n",
        "Dead_List = set(Female_Child_mean[Female_Child_mean.apply(lambda x: x==0)].index)\n",
        "print(\"Dead_List\", Dead_List, sep=\"\\n\")\n",
        "Survived_List = set(Male_Adult_mean[Male_Adult_mean.apply(lambda x: x==1)].index)\n",
        "print(\"Survived_List\", Survived_List, sep=\"\\n\")"
      ],
      "execution_count": 55,
      "outputs": [
        {
          "output_type": "stream",
          "text": [
            "Dead_List\n",
            "{'Turpin', 'Zabour', 'Bourke', 'Arnold-Franchi', 'Sage', 'Barbara', 'Cacic', 'Oreskovic', 'Johnston', 'Strom', 'Rosblom', 'Attalah', 'Jussila', 'Rice', 'Canavan', 'Ford', 'Skoog', 'Panula', 'Danbom', 'Lobb', 'Caram', 'Vander Planke', 'Van Impe', 'Robins', 'Palsson', 'Lefebre', 'Lahtinen', 'Boulos', 'Goodwin', 'Ilmakangas', 'Olsson'}\n",
            "Survived_List\n",
            "{'Chambers', 'Bishop', 'Beckwith', 'Frolicher-Stehli', 'Goldenberg', 'Harder', 'Jonsson', 'Beane', 'Jussila', 'Dick', 'Bradley', 'Frauenthal', 'McCoy', 'Greenfield', 'Kimball', 'Taylor', 'Duff Gordon', 'Cardeza', 'Daly', 'Nakid'}\n"
          ],
          "name": "stdout"
        }
      ]
    },
    {
      "cell_type": "code",
      "metadata": {
        "id": "4EDvYGTL8XNt",
        "colab_type": "code",
        "colab": {}
      },
      "source": [
        "# テストデータを書き換える\n",
        "# データをtrainとtestに分解\n",
        "train = dataset.loc[dataset[\"Survived\"].notnull()]\n",
        "test = dataset.loc[dataset[\"Survived\"].isnull()]\n",
        "\n",
        "# 女・子供グループで全員死亡した苗字の人 → 60歳の男性、敬称は\"Mr\"に\n",
        "# 男(大人)グループで全員生存した苗字の人 → 5歳の女性、敬称は\"Miss\"に\n",
        "test.loc[(test[\"Surname\"].apply(lambda x:x in Dead_List)), \"Sex\"] = \"male\"\n",
        "test.loc[(test[\"Surname\"].apply(lambda x:x in Dead_List)), \"Age\"] = 60\n",
        "test.loc[(test[\"Surname\"].apply(lambda x:x in Dead_List)), \"Title\"] = \"Mr\"\n",
        "\n",
        "test.loc[(test[\"Surname\"].apply(lambda x:x in Survived_List), \"Sex\")] = \"female\"\n",
        "test.loc[(test[\"Surname\"].apply(lambda x:x in Survived_List), \"Age\")] = 5\n",
        "test.loc[(test[\"Surname\"].apply(lambda x:x in Survived_List), \"Title\")] = \"Miss\"\n",
        "\n",
        "dataset = pd.concat([train, test])"
      ],
      "execution_count": 56,
      "outputs": []
    },
    {
      "cell_type": "markdown",
      "metadata": {
        "id": "nuxHyTqj-DId",
        "colab_type": "text"
      },
      "source": [
        "# 再度予測を行う"
      ]
    },
    {
      "cell_type": "code",
      "metadata": {
        "id": "WW33S0xm990Q",
        "colab_type": "code",
        "colab": {
          "base_uri": "https://localhost:8080/",
          "height": 215
        },
        "outputId": "6acd6471-d6bf-47a2-dc87-f7ccc24dfdb1"
      },
      "source": [
        "dataset6 = dataset[[\"Survived\", \"Pclass\", \"Sex\", \"Age\", \"Fare\", \"Embarked\", \"Honorifics\", \"FamilyLabel\", \"Deck\", \"TicketGroup\"]]\n",
        "\n",
        "dataset_dummies = pd.get_dummies(dataset6)\n",
        "dataset_dummies.head()"
      ],
      "execution_count": 57,
      "outputs": [
        {
          "output_type": "execute_result",
          "data": {
            "text/html": [
              "<div>\n",
              "<style scoped>\n",
              "    .dataframe tbody tr th:only-of-type {\n",
              "        vertical-align: middle;\n",
              "    }\n",
              "\n",
              "    .dataframe tbody tr th {\n",
              "        vertical-align: top;\n",
              "    }\n",
              "\n",
              "    .dataframe thead th {\n",
              "        text-align: right;\n",
              "    }\n",
              "</style>\n",
              "<table border=\"1\" class=\"dataframe\">\n",
              "  <thead>\n",
              "    <tr style=\"text-align: right;\">\n",
              "      <th></th>\n",
              "      <th>Survived</th>\n",
              "      <th>Pclass</th>\n",
              "      <th>Age</th>\n",
              "      <th>Fare</th>\n",
              "      <th>FamilyLabel</th>\n",
              "      <th>TicketGroup</th>\n",
              "      <th>Sex_female</th>\n",
              "      <th>Sex_male</th>\n",
              "      <th>Embarked_C</th>\n",
              "      <th>Embarked_Q</th>\n",
              "      <th>Embarked_S</th>\n",
              "      <th>Honorifics_Master</th>\n",
              "      <th>Honorifics_Miss</th>\n",
              "      <th>Honorifics_Mr</th>\n",
              "      <th>Honorifics_Mrs</th>\n",
              "      <th>Honorifics_Officer</th>\n",
              "      <th>Honorifics_Royalty</th>\n",
              "      <th>Deck_A</th>\n",
              "      <th>Deck_B</th>\n",
              "      <th>Deck_C</th>\n",
              "      <th>Deck_D</th>\n",
              "      <th>Deck_E</th>\n",
              "      <th>Deck_F</th>\n",
              "      <th>Deck_G</th>\n",
              "      <th>Deck_T</th>\n",
              "      <th>Deck_U</th>\n",
              "    </tr>\n",
              "  </thead>\n",
              "  <tbody>\n",
              "    <tr>\n",
              "      <th>0</th>\n",
              "      <td>0.0</td>\n",
              "      <td>3</td>\n",
              "      <td>22.0</td>\n",
              "      <td>7.2500</td>\n",
              "      <td>2</td>\n",
              "      <td>1</td>\n",
              "      <td>0</td>\n",
              "      <td>1</td>\n",
              "      <td>0</td>\n",
              "      <td>0</td>\n",
              "      <td>1</td>\n",
              "      <td>0</td>\n",
              "      <td>0</td>\n",
              "      <td>1</td>\n",
              "      <td>0</td>\n",
              "      <td>0</td>\n",
              "      <td>0</td>\n",
              "      <td>0</td>\n",
              "      <td>0</td>\n",
              "      <td>0</td>\n",
              "      <td>0</td>\n",
              "      <td>0</td>\n",
              "      <td>0</td>\n",
              "      <td>0</td>\n",
              "      <td>0</td>\n",
              "      <td>1</td>\n",
              "    </tr>\n",
              "    <tr>\n",
              "      <th>1</th>\n",
              "      <td>1.0</td>\n",
              "      <td>1</td>\n",
              "      <td>38.0</td>\n",
              "      <td>71.2833</td>\n",
              "      <td>2</td>\n",
              "      <td>2</td>\n",
              "      <td>1</td>\n",
              "      <td>0</td>\n",
              "      <td>1</td>\n",
              "      <td>0</td>\n",
              "      <td>0</td>\n",
              "      <td>0</td>\n",
              "      <td>0</td>\n",
              "      <td>0</td>\n",
              "      <td>1</td>\n",
              "      <td>0</td>\n",
              "      <td>0</td>\n",
              "      <td>0</td>\n",
              "      <td>0</td>\n",
              "      <td>1</td>\n",
              "      <td>0</td>\n",
              "      <td>0</td>\n",
              "      <td>0</td>\n",
              "      <td>0</td>\n",
              "      <td>0</td>\n",
              "      <td>0</td>\n",
              "    </tr>\n",
              "    <tr>\n",
              "      <th>2</th>\n",
              "      <td>1.0</td>\n",
              "      <td>3</td>\n",
              "      <td>26.0</td>\n",
              "      <td>7.9250</td>\n",
              "      <td>1</td>\n",
              "      <td>1</td>\n",
              "      <td>1</td>\n",
              "      <td>0</td>\n",
              "      <td>0</td>\n",
              "      <td>0</td>\n",
              "      <td>1</td>\n",
              "      <td>0</td>\n",
              "      <td>1</td>\n",
              "      <td>0</td>\n",
              "      <td>0</td>\n",
              "      <td>0</td>\n",
              "      <td>0</td>\n",
              "      <td>0</td>\n",
              "      <td>0</td>\n",
              "      <td>0</td>\n",
              "      <td>0</td>\n",
              "      <td>0</td>\n",
              "      <td>0</td>\n",
              "      <td>0</td>\n",
              "      <td>0</td>\n",
              "      <td>1</td>\n",
              "    </tr>\n",
              "    <tr>\n",
              "      <th>3</th>\n",
              "      <td>1.0</td>\n",
              "      <td>1</td>\n",
              "      <td>35.0</td>\n",
              "      <td>53.1000</td>\n",
              "      <td>2</td>\n",
              "      <td>2</td>\n",
              "      <td>1</td>\n",
              "      <td>0</td>\n",
              "      <td>0</td>\n",
              "      <td>0</td>\n",
              "      <td>1</td>\n",
              "      <td>0</td>\n",
              "      <td>0</td>\n",
              "      <td>0</td>\n",
              "      <td>1</td>\n",
              "      <td>0</td>\n",
              "      <td>0</td>\n",
              "      <td>0</td>\n",
              "      <td>0</td>\n",
              "      <td>1</td>\n",
              "      <td>0</td>\n",
              "      <td>0</td>\n",
              "      <td>0</td>\n",
              "      <td>0</td>\n",
              "      <td>0</td>\n",
              "      <td>0</td>\n",
              "    </tr>\n",
              "    <tr>\n",
              "      <th>4</th>\n",
              "      <td>0.0</td>\n",
              "      <td>3</td>\n",
              "      <td>35.0</td>\n",
              "      <td>8.0500</td>\n",
              "      <td>1</td>\n",
              "      <td>1</td>\n",
              "      <td>0</td>\n",
              "      <td>1</td>\n",
              "      <td>0</td>\n",
              "      <td>0</td>\n",
              "      <td>1</td>\n",
              "      <td>0</td>\n",
              "      <td>0</td>\n",
              "      <td>1</td>\n",
              "      <td>0</td>\n",
              "      <td>0</td>\n",
              "      <td>0</td>\n",
              "      <td>0</td>\n",
              "      <td>0</td>\n",
              "      <td>0</td>\n",
              "      <td>0</td>\n",
              "      <td>0</td>\n",
              "      <td>0</td>\n",
              "      <td>0</td>\n",
              "      <td>0</td>\n",
              "      <td>1</td>\n",
              "    </tr>\n",
              "  </tbody>\n",
              "</table>\n",
              "</div>"
            ],
            "text/plain": [
              "   Survived  Pclass   Age     Fare  ...  Deck_F  Deck_G  Deck_T  Deck_U\n",
              "0       0.0       3  22.0   7.2500  ...       0       0       0       1\n",
              "1       1.0       1  38.0  71.2833  ...       0       0       0       0\n",
              "2       1.0       3  26.0   7.9250  ...       0       0       0       1\n",
              "3       1.0       1  35.0  53.1000  ...       0       0       0       0\n",
              "4       0.0       3  35.0   8.0500  ...       0       0       0       1\n",
              "\n",
              "[5 rows x 26 columns]"
            ]
          },
          "metadata": {
            "tags": []
          },
          "execution_count": 57
        }
      ]
    },
    {
      "cell_type": "code",
      "metadata": {
        "id": "CqllhT2t-iQ3",
        "colab_type": "code",
        "colab": {
          "base_uri": "https://localhost:8080/",
          "height": 34
        },
        "outputId": "a1f3e75e-f82c-4eb0-892a-b22fe088c730"
      },
      "source": [
        "# データをtrainとtestに分解 \n",
        "#（ 'Survived'が存在するのがtrain, しないのがtest ）\n",
        "train_set = dataset_dummies[dataset_dummies['Survived'].notnull()]\n",
        "test_set = dataset_dummies[dataset_dummies['Survived'].isnull()]\n",
        "del test_set[\"Survived\"]\n",
        "\n",
        "# trainデータを変数と正解に分離\n",
        "X = train_set.values[:, 1:] # Pclass以降の変数\n",
        "y = train_set.values[:, 0] # 正解データ\n",
        "\n",
        "# 予測モデルの作成\n",
        "pipe = Pipeline([('classify', RandomForestClassifier(random_state = 10, max_features = 'sqrt'))])\n",
        "\n",
        "param_test = {'classify__n_estimators':list(range(20, 30, 1)), \n",
        "              'classify__max_depth':list(range(3, 10, 1))}\n",
        "gsearch = GridSearchCV(estimator = pipe, param_grid = param_test, scoring='accuracy', cv=10)\n",
        "gsearch.fit(X, y)\n",
        "print(gsearch.best_params_, gsearch.best_score_)\n",
        "\n",
        "# testデータの予測\n",
        "predictions = gsearch.predict(test_set)\n",
        "\n",
        "# Kaggle提出用csvファイルの作成\n",
        "submission = pd.DataFrame({\"PassengerId\": PassengerId, \"Survived\": predictions.astype(np.int32)})\n",
        "submission.to_csv(\"submission6.csv\", index=False)"
      ],
      "execution_count": 58,
      "outputs": [
        {
          "output_type": "stream",
          "text": [
            "{'classify__max_depth': 9, 'classify__n_estimators': 27} 0.8417727840199751\n"
          ],
          "name": "stdout"
        }
      ]
    },
    {
      "cell_type": "code",
      "metadata": {
        "id": "V5S3xEUy-wyY",
        "colab_type": "code",
        "colab": {
          "base_uri": "https://localhost:8080/",
          "height": 34
        },
        "outputId": "4541b5c6-5497-4704-8028-9e6093aa0c7b"
      },
      "source": [
        "pipe = Pipeline([(\"select\", SelectKBest(k=20)),\n",
        "                 (\"classify\", RandomForestClassifier(random_state=10, max_features=\"sqrt\"))])\n",
        "param_test = {\"classify__n_estimators\": list(range(20, 30, 1)),\n",
        "              \"classify__max_depth\": list(range(3, 10, 1))}\n",
        "gsearch = GridSearchCV(estimator=pipe, param_grid=param_test, scoring=\"accuracy\", cv=10)\n",
        "gsearch.fit(X, y)\n",
        "print(gsearch.best_params_, gsearch.best_score_)"
      ],
      "execution_count": 59,
      "outputs": [
        {
          "output_type": "stream",
          "text": [
            "{'classify__max_depth': 6, 'classify__n_estimators': 26} 0.8462421972534331\n"
          ],
          "name": "stdout"
        }
      ]
    },
    {
      "cell_type": "code",
      "metadata": {
        "id": "AeSdGVtbAPiU",
        "colab_type": "code",
        "colab": {
          "base_uri": "https://localhost:8080/",
          "height": 316
        },
        "outputId": "03710d6b-7b12-419a-9d66-275003459ac8"
      },
      "source": [
        "select = SelectKBest(k = 20)\n",
        "clf = RandomForestClassifier(random_state = 10, warm_start = True, \n",
        "                                  n_estimators = 26,\n",
        "                                  max_depth = 6, \n",
        "                                  max_features = 'sqrt')\n",
        "pipeline = make_pipeline(select, clf)\n",
        "pipeline.fit(X, y)"
      ],
      "execution_count": 60,
      "outputs": [
        {
          "output_type": "execute_result",
          "data": {
            "text/plain": [
              "Pipeline(memory=None,\n",
              "         steps=[('selectkbest',\n",
              "                 SelectKBest(k=20,\n",
              "                             score_func=<function f_classif at 0x7fb4682c0620>)),\n",
              "                ('randomforestclassifier',\n",
              "                 RandomForestClassifier(bootstrap=True, ccp_alpha=0.0,\n",
              "                                        class_weight=None, criterion='gini',\n",
              "                                        max_depth=6, max_features='sqrt',\n",
              "                                        max_leaf_nodes=None, max_samples=None,\n",
              "                                        min_impurity_decrease=0.0,\n",
              "                                        min_impurity_split=None,\n",
              "                                        min_samples_leaf=1, min_samples_split=2,\n",
              "                                        min_weight_fraction_leaf=0.0,\n",
              "                                        n_estimators=26, n_jobs=None,\n",
              "                                        oob_score=False, random_state=10,\n",
              "                                        verbose=0, warm_start=True))],\n",
              "         verbose=False)"
            ]
          },
          "metadata": {
            "tags": []
          },
          "execution_count": 60
        }
      ]
    },
    {
      "cell_type": "code",
      "metadata": {
        "id": "JLjgRhR8AYtv",
        "colab_type": "code",
        "colab": {
          "base_uri": "https://localhost:8080/",
          "height": 34
        },
        "outputId": "b6505c06-6996-4b08-e924-7a251d46e77e"
      },
      "source": [
        "# 与えられたmax_depthとn_estimatorsを利用して、特徴量を２０に絞って再度予測モデルを作成し、予測\n",
        "select = SelectKBest(k = 20)\n",
        "clf = RandomForestClassifier(random_state = 10,\n",
        "                             warm_start = True, \n",
        "                             n_estimators = 26,\n",
        "                             max_depth = 6, \n",
        "                             max_features = 'sqrt')\n",
        "pipeline = make_pipeline(select, clf)\n",
        "pipeline.fit(X, y)\n",
        "\n",
        "cv_score = model_selection.cross_val_score(pipeline, X, y, cv= 10)\n",
        "print(\"CV Score : Mean - %.7g | Std - %.7g \" % (np.mean(cv_score), np.std(cv_score)))\n",
        "\n",
        "# testデータの予測\n",
        "predictions = pipeline.predict(test_set)\n",
        "\n",
        "# Kaggle提出用csvファイルの作成\n",
        "submission = pd.DataFrame({\"PassengerId\": PassengerId, \"Survived\": predictions.astype(np.int32)})\n",
        "submission.to_csv(\"submission7.csv\", index=False)"
      ],
      "execution_count": 61,
      "outputs": [
        {
          "output_type": "stream",
          "text": [
            "CV Score : Mean - 0.8462422 | Std - 0.03623982 \n"
          ],
          "name": "stdout"
        }
      ]
    },
    {
      "cell_type": "markdown",
      "metadata": {
        "id": "HuA7dNbdgHl3",
        "colab_type": "text"
      },
      "source": [
        "# Ex: LightGBMも試してみる"
      ]
    },
    {
      "cell_type": "code",
      "metadata": {
        "id": "y1NhbCh6Aiyu",
        "colab_type": "code",
        "colab": {}
      },
      "source": [
        "import lightgbm as lgb\n",
        "from sklearn.model_selection import train_test_split "
      ],
      "execution_count": 62,
      "outputs": []
    },
    {
      "cell_type": "code",
      "metadata": {
        "id": "qSfcmWd8jxq1",
        "colab_type": "code",
        "colab": {
          "base_uri": "https://localhost:8080/",
          "height": 1000
        },
        "outputId": "1c3a57dc-714c-4780-ec86-680ead888ea1"
      },
      "source": [
        "!pip install optuna"
      ],
      "execution_count": 69,
      "outputs": [
        {
          "output_type": "stream",
          "text": [
            "Collecting optuna\n",
            "\u001b[?25l  Downloading https://files.pythonhosted.org/packages/33/32/266d4afd269e3ecd7fcc595937c1733f65eae6c09c3caea74c0de0b88d78/optuna-1.5.0.tar.gz (200kB)\n",
            "\u001b[K     |████████████████████████████████| 204kB 3.4MB/s \n",
            "\u001b[?25hCollecting alembic\n",
            "\u001b[?25l  Downloading https://files.pythonhosted.org/packages/60/1e/cabc75a189de0fbb2841d0975243e59bde8b7822bacbb95008ac6fe9ad47/alembic-1.4.2.tar.gz (1.1MB)\n",
            "\u001b[K     |████████████████████████████████| 1.1MB 10.8MB/s \n",
            "\u001b[?25h  Installing build dependencies ... \u001b[?25l\u001b[?25hdone\n",
            "  Getting requirements to build wheel ... \u001b[?25l\u001b[?25hdone\n",
            "    Preparing wheel metadata ... \u001b[?25l\u001b[?25hdone\n",
            "Collecting cliff\n",
            "\u001b[?25l  Downloading https://files.pythonhosted.org/packages/52/59/4db149d8962dc29a37c8bc08cd79185935527af9a27259a2d80cac707212/cliff-3.3.0-py3-none-any.whl (81kB)\n",
            "\u001b[K     |████████████████████████████████| 81kB 7.3MB/s \n",
            "\u001b[?25hCollecting cmaes>=0.5.0\n",
            "  Downloading https://files.pythonhosted.org/packages/0e/7f/ebba8a7950487c760c245168f7ba318b35bf0cac9c0eba30b9fb50150a20/cmaes-0.5.1-py3-none-any.whl\n",
            "Collecting colorlog\n",
            "  Downloading https://files.pythonhosted.org/packages/00/0d/22c73c2eccb21dd3498df7d22c0b1d4a30f5a5fb3feb64e1ce06bc247747/colorlog-4.1.0-py2.py3-none-any.whl\n",
            "Requirement already satisfied: joblib in /usr/local/lib/python3.6/dist-packages (from optuna) (0.16.0)\n",
            "Requirement already satisfied: numpy in /usr/local/lib/python3.6/dist-packages (from optuna) (1.18.5)\n",
            "Requirement already satisfied: scipy!=1.4.0 in /usr/local/lib/python3.6/dist-packages (from optuna) (1.4.1)\n",
            "Requirement already satisfied: sqlalchemy>=1.1.0 in /usr/local/lib/python3.6/dist-packages (from optuna) (1.3.18)\n",
            "Requirement already satisfied: tqdm in /usr/local/lib/python3.6/dist-packages (from optuna) (4.41.1)\n",
            "Requirement already satisfied: python-dateutil in /usr/local/lib/python3.6/dist-packages (from alembic->optuna) (2.8.1)\n",
            "Collecting Mako\n",
            "\u001b[?25l  Downloading https://files.pythonhosted.org/packages/a6/37/0e706200d22172eb8fa17d68a7ae22dec7631a0a92266634fb518a88a5b2/Mako-1.1.3-py2.py3-none-any.whl (75kB)\n",
            "\u001b[K     |████████████████████████████████| 81kB 5.0MB/s \n",
            "\u001b[?25hCollecting python-editor>=0.3\n",
            "  Downloading https://files.pythonhosted.org/packages/c6/d3/201fc3abe391bbae6606e6f1d598c15d367033332bd54352b12f35513717/python_editor-1.0.4-py3-none-any.whl\n",
            "Collecting cmd2!=0.8.3,>=0.8.0\n",
            "\u001b[?25l  Downloading https://files.pythonhosted.org/packages/db/17/641b563f5839c61a4767a070644ff2be3f70fe0d8ddd879a52dbd4976980/cmd2-1.2.1-py3-none-any.whl (121kB)\n",
            "\u001b[K     |████████████████████████████████| 122kB 18.0MB/s \n",
            "\u001b[?25hRequirement already satisfied: PyYAML>=3.12 in /usr/local/lib/python3.6/dist-packages (from cliff->optuna) (3.13)\n",
            "Requirement already satisfied: PrettyTable<0.8,>=0.7.2 in /usr/local/lib/python3.6/dist-packages (from cliff->optuna) (0.7.2)\n",
            "Requirement already satisfied: pyparsing>=2.1.0 in /usr/local/lib/python3.6/dist-packages (from cliff->optuna) (2.4.7)\n",
            "Requirement already satisfied: six>=1.10.0 in /usr/local/lib/python3.6/dist-packages (from cliff->optuna) (1.12.0)\n",
            "Collecting stevedore>=1.20.0\n",
            "\u001b[?25l  Downloading https://files.pythonhosted.org/packages/63/ce/7e20de854cdf19b9ac0eb650648a12a7100c0bb39f32241b4b3d26ad40f2/stevedore-3.1.0-py3-none-any.whl (41kB)\n",
            "\u001b[K     |████████████████████████████████| 51kB 6.0MB/s \n",
            "\u001b[?25hCollecting pbr!=2.1.0,>=2.0.0\n",
            "\u001b[?25l  Downloading https://files.pythonhosted.org/packages/96/ba/aa953a11ec014b23df057ecdbc922fdb40ca8463466b1193f3367d2711a6/pbr-5.4.5-py2.py3-none-any.whl (110kB)\n",
            "\u001b[K     |████████████████████████████████| 112kB 14.9MB/s \n",
            "\u001b[?25hRequirement already satisfied: MarkupSafe>=0.9.2 in /usr/local/lib/python3.6/dist-packages (from Mako->alembic->optuna) (1.1.1)\n",
            "Requirement already satisfied: wcwidth>=0.1.7 in /usr/local/lib/python3.6/dist-packages (from cmd2!=0.8.3,>=0.8.0->cliff->optuna) (0.2.5)\n",
            "Collecting colorama>=0.3.7\n",
            "  Downloading https://files.pythonhosted.org/packages/c9/dc/45cdef1b4d119eb96316b3117e6d5708a08029992b2fee2c143c7a0a5cc5/colorama-0.4.3-py2.py3-none-any.whl\n",
            "Requirement already satisfied: importlib-metadata>=1.6.0; python_version < \"3.8\" in /usr/local/lib/python3.6/dist-packages (from cmd2!=0.8.3,>=0.8.0->cliff->optuna) (1.7.0)\n",
            "Requirement already satisfied: attrs>=16.3.0 in /usr/local/lib/python3.6/dist-packages (from cmd2!=0.8.3,>=0.8.0->cliff->optuna) (19.3.0)\n",
            "Requirement already satisfied: setuptools>=34.4 in /usr/local/lib/python3.6/dist-packages (from cmd2!=0.8.3,>=0.8.0->cliff->optuna) (49.1.0)\n",
            "Collecting pyperclip>=1.6\n",
            "  Downloading https://files.pythonhosted.org/packages/f6/5b/55866e1cde0f86f5eec59dab5de8a66628cb0d53da74b8dbc15ad8dabda3/pyperclip-1.8.0.tar.gz\n",
            "Requirement already satisfied: zipp>=0.5 in /usr/local/lib/python3.6/dist-packages (from importlib-metadata>=1.6.0; python_version < \"3.8\"->cmd2!=0.8.3,>=0.8.0->cliff->optuna) (3.1.0)\n",
            "Building wheels for collected packages: alembic\n",
            "  Building wheel for alembic (PEP 517) ... \u001b[?25l\u001b[?25hdone\n",
            "  Created wheel for alembic: filename=alembic-1.4.2-cp36-none-any.whl size=159543 sha256=391b097618ac3e3f2fdf1ac215dc234117b671e6522c314654c3dd578663d558\n",
            "  Stored in directory: /root/.cache/pip/wheels/1f/04/83/76023f7a4c14688c0b5c2682a96392cfdd3ee4449eaaa287ef\n",
            "Successfully built alembic\n",
            "Building wheels for collected packages: optuna, pyperclip\n",
            "  Building wheel for optuna (setup.py) ... \u001b[?25l\u001b[?25hdone\n",
            "  Created wheel for optuna: filename=optuna-1.5.0-cp36-none-any.whl size=276145 sha256=ca8c108944d2f10a667ffe6605e53c7abe5caab55e5529b90f18ed56b943ab5f\n",
            "  Stored in directory: /root/.cache/pip/wheels/38/21/78/4f5529e0c757ababc4217eb9adf1886d21eb22bb1ab98c33c5\n",
            "  Building wheel for pyperclip (setup.py) ... \u001b[?25l\u001b[?25hdone\n",
            "  Created wheel for pyperclip: filename=pyperclip-1.8.0-cp36-none-any.whl size=8693 sha256=a5248365c3dd0182b2a7c54500289bf00c847e520410ffcfc027ab7049e1252b\n",
            "  Stored in directory: /root/.cache/pip/wheels/b2/ac/0a/b784f0afe26eaf52e88a7e15c7369090deea0354fa1c6fc689\n",
            "Successfully built optuna pyperclip\n",
            "Installing collected packages: Mako, python-editor, alembic, colorama, pyperclip, cmd2, pbr, stevedore, cliff, cmaes, colorlog, optuna\n",
            "Successfully installed Mako-1.1.3 alembic-1.4.2 cliff-3.3.0 cmaes-0.5.1 cmd2-1.2.1 colorama-0.4.3 colorlog-4.1.0 optuna-1.5.0 pbr-5.4.5 pyperclip-1.8.0 python-editor-1.0.4 stevedore-3.1.0\n"
          ],
          "name": "stdout"
        }
      ]
    },
    {
      "cell_type": "code",
      "metadata": {
        "id": "YK8RBqe7j8JA",
        "colab_type": "code",
        "colab": {}
      },
      "source": [
        "import optuna\n",
        "from optuna.integration import lightgbm_tuner"
      ],
      "execution_count": 72,
      "outputs": []
    },
    {
      "cell_type": "code",
      "metadata": {
        "id": "kTe4IByTgRB_",
        "colab_type": "code",
        "colab": {
          "base_uri": "https://localhost:8080/",
          "height": 1000
        },
        "outputId": "afbdaa57-af85-4158-c36b-b73bf3a45588"
      },
      "source": [
        "clf = lgb.LGBMClassifier()\n",
        "\n",
        "X_train, X_valid, y_train, y_valid = train_test_split(X, y, random_state=2)\n",
        "\n",
        "lgb_train = lgb.Dataset(X_train, y_train)\n",
        "lgb_eval = lgb.Dataset(X_valid, y_valid)\n",
        "\n",
        "params = {\n",
        "    \"boosting_type\": \"gbdt\",\n",
        "    \"objective\": \"binary\",\n",
        "}\n",
        "\n",
        "best_params = {}\n",
        "tuning_history = []\n",
        "\n",
        "model = lightgbm_tuner.train(params,\n",
        "                             lgb_train,\n",
        "                             valid_sets=(lgb_train, lgb_eval),\n",
        "                             num_boost_round=10000,\n",
        "                             early_stopping_rounds=100,\n",
        "                             verbose_eval=5,\n",
        "                             best_params=best_params,\n",
        "                             tuning_history=tuning_history)"
      ],
      "execution_count": 90,
      "outputs": [
        {
          "output_type": "stream",
          "text": [
            "feature_fraction, val_score: inf:   0%|          | 0/7 [00:00<?, ?it/s]"
          ],
          "name": "stderr"
        },
        {
          "output_type": "stream",
          "text": [
            "Training until validation scores don't improve for 100 rounds.\n",
            "[5]\ttraining's binary_logloss: 0.523942\tvalid_1's binary_logloss: 0.569772\n",
            "[10]\ttraining's binary_logloss: 0.462315\tvalid_1's binary_logloss: 0.518417\n",
            "[15]\ttraining's binary_logloss: 0.416329\tvalid_1's binary_logloss: 0.484294\n",
            "[20]\ttraining's binary_logloss: 0.382414\tvalid_1's binary_logloss: 0.469813\n",
            "[25]\ttraining's binary_logloss: 0.35784\tvalid_1's binary_logloss: 0.45699\n",
            "[30]\ttraining's binary_logloss: 0.336052\tvalid_1's binary_logloss: 0.449441\n",
            "[35]\ttraining's binary_logloss: 0.31924\tvalid_1's binary_logloss: 0.443104\n",
            "[40]\ttraining's binary_logloss: 0.307138\tvalid_1's binary_logloss: 0.448376\n",
            "[45]\ttraining's binary_logloss: 0.297776\tvalid_1's binary_logloss: 0.444861\n",
            "[50]\ttraining's binary_logloss: 0.285452\tvalid_1's binary_logloss: 0.444949\n",
            "[55]\ttraining's binary_logloss: 0.277363\tvalid_1's binary_logloss: 0.445931\n",
            "[60]\ttraining's binary_logloss: 0.270681\tvalid_1's binary_logloss: 0.450875\n",
            "[65]\ttraining's binary_logloss: 0.262792\tvalid_1's binary_logloss: 0.456365\n",
            "[70]\ttraining's binary_logloss: 0.253768\tvalid_1's binary_logloss: 0.459773\n",
            "[75]\ttraining's binary_logloss: 0.245536\tvalid_1's binary_logloss: 0.465142\n",
            "[80]\ttraining's binary_logloss: 0.237782\tvalid_1's binary_logloss: 0.466584\n",
            "[85]\ttraining's binary_logloss: 0.231567\tvalid_1's binary_logloss: 0.467101\n",
            "[90]\ttraining's binary_logloss: 0.223847\tvalid_1's binary_logloss: 0.469388\n",
            "[95]\ttraining's binary_logloss: 0.21506\tvalid_1's binary_logloss: 0.476872\n",
            "[100]\ttraining's binary_logloss: 0.209748\tvalid_1's binary_logloss: 0.48089\n",
            "[105]\ttraining's binary_logloss: 0.204613\tvalid_1's binary_logloss: 0.48344\n",
            "[110]\ttraining's binary_logloss: 0.200831\tvalid_1's binary_logloss: 0.482719\n",
            "[115]\ttraining's binary_logloss: 0.196091\tvalid_1's binary_logloss: 0.485642\n",
            "[120]\ttraining's binary_logloss: 0.190302\tvalid_1's binary_logloss: 0.493996\n",
            "[125]\ttraining's binary_logloss: 0.187913\tvalid_1's binary_logloss: 0.495506\n",
            "[130]\ttraining's binary_logloss: 0.185036\tvalid_1's binary_logloss: 0.50024\n",
            "[135]\ttraining's binary_logloss: 0.182962\tvalid_1's binary_logloss: 0.500798\n",
            "Early stopping, best iteration is:\n",
            "[36]\ttraining's binary_logloss: 0.318591\tvalid_1's binary_logloss: 0.442682\n"
          ],
          "name": "stdout"
        },
        {
          "output_type": "stream",
          "text": [
            "feature_fraction, val_score: 0.442682:  14%|#4        | 1/7 [00:00<00:02,  2.40it/s][I 2020-07-16 12:31:36,136] Finished trial#0 with value: 0.44268211779797106 with parameters: {'feature_fraction': 0.4}. Best is trial#0 with value: 0.44268211779797106.\n",
            "feature_fraction, val_score: 0.442682:  14%|#4        | 1/7 [00:00<00:02,  2.40it/s]"
          ],
          "name": "stderr"
        },
        {
          "output_type": "stream",
          "text": [
            "Training until validation scores don't improve for 100 rounds.\n",
            "[5]\ttraining's binary_logloss: 0.48426\tvalid_1's binary_logloss: 0.545817\n",
            "[10]\ttraining's binary_logloss: 0.401012\tvalid_1's binary_logloss: 0.489669\n",
            "[15]\ttraining's binary_logloss: 0.35241\tvalid_1's binary_logloss: 0.461042\n",
            "[20]\ttraining's binary_logloss: 0.322419\tvalid_1's binary_logloss: 0.449377\n",
            "[25]\ttraining's binary_logloss: 0.298479\tvalid_1's binary_logloss: 0.445551\n",
            "[30]\ttraining's binary_logloss: 0.275471\tvalid_1's binary_logloss: 0.444573\n",
            "[35]\ttraining's binary_logloss: 0.255225\tvalid_1's binary_logloss: 0.447284\n",
            "[40]\ttraining's binary_logloss: 0.239315\tvalid_1's binary_logloss: 0.456409\n",
            "[45]\ttraining's binary_logloss: 0.226665\tvalid_1's binary_logloss: 0.465511\n",
            "[50]\ttraining's binary_logloss: 0.215014\tvalid_1's binary_logloss: 0.468729\n",
            "[55]\ttraining's binary_logloss: 0.204542\tvalid_1's binary_logloss: 0.472193\n",
            "[60]\ttraining's binary_logloss: 0.194937\tvalid_1's binary_logloss: 0.477024\n",
            "[65]\ttraining's binary_logloss: 0.184593\tvalid_1's binary_logloss: 0.488288\n",
            "[70]\ttraining's binary_logloss: 0.176727\tvalid_1's binary_logloss: 0.494655\n",
            "[75]\ttraining's binary_logloss: 0.169356\tvalid_1's binary_logloss: 0.502212\n",
            "[80]\ttraining's binary_logloss: 0.162157\tvalid_1's binary_logloss: 0.512394\n",
            "[85]\ttraining's binary_logloss: 0.155133\tvalid_1's binary_logloss: 0.521738\n",
            "[90]\ttraining's binary_logloss: 0.149376\tvalid_1's binary_logloss: 0.527486\n",
            "[95]\ttraining's binary_logloss: 0.144143\tvalid_1's binary_logloss: 0.532016\n",
            "[100]\ttraining's binary_logloss: 0.138925\tvalid_1's binary_logloss: 0.541105\n",
            "[105]\ttraining's binary_logloss: 0.13364\tvalid_1's binary_logloss: 0.547727\n",
            "[110]\ttraining's binary_logloss: 0.128857\tvalid_1's binary_logloss: 0.559386\n",
            "[115]\ttraining's binary_logloss: 0.124302\tvalid_1's binary_logloss: 0.567019\n",
            "[120]\ttraining's binary_logloss: 0.119818\tvalid_1's binary_logloss: 0.569745\n",
            "[125]\ttraining's binary_logloss: 0.114874\tvalid_1's binary_logloss: 0.578641\n",
            "[130]\ttraining's binary_logloss: 0.111305\tvalid_1's binary_logloss: 0.583377\n",
            "Early stopping, best iteration is:\n",
            "[32]\ttraining's binary_logloss: 0.266906\tvalid_1's binary_logloss: 0.44282\n"
          ],
          "name": "stdout"
        },
        {
          "output_type": "stream",
          "text": [
            "feature_fraction, val_score: 0.442682:  29%|##8       | 2/7 [00:00<00:02,  2.26it/s][I 2020-07-16 12:31:36,640] Finished trial#1 with value: 0.4428198105391794 with parameters: {'feature_fraction': 1.0}. Best is trial#0 with value: 0.44268211779797106.\n",
            "feature_fraction, val_score: 0.442682:  29%|##8       | 2/7 [00:01<00:02,  2.26it/s]"
          ],
          "name": "stderr"
        },
        {
          "output_type": "stream",
          "text": [
            "Training until validation scores don't improve for 100 rounds.\n",
            "[5]\ttraining's binary_logloss: 0.487737\tvalid_1's binary_logloss: 0.54183\n",
            "[10]\ttraining's binary_logloss: 0.411219\tvalid_1's binary_logloss: 0.47971\n",
            "[15]\ttraining's binary_logloss: 0.362136\tvalid_1's binary_logloss: 0.4572\n",
            "[20]\ttraining's binary_logloss: 0.332389\tvalid_1's binary_logloss: 0.453024\n",
            "[25]\ttraining's binary_logloss: 0.310334\tvalid_1's binary_logloss: 0.441926\n",
            "[30]\ttraining's binary_logloss: 0.289251\tvalid_1's binary_logloss: 0.437654\n",
            "[35]\ttraining's binary_logloss: 0.268259\tvalid_1's binary_logloss: 0.438644\n",
            "[40]\ttraining's binary_logloss: 0.252251\tvalid_1's binary_logloss: 0.441172\n",
            "[45]\ttraining's binary_logloss: 0.239618\tvalid_1's binary_logloss: 0.447122\n",
            "[50]\ttraining's binary_logloss: 0.226975\tvalid_1's binary_logloss: 0.450282\n",
            "[55]\ttraining's binary_logloss: 0.214804\tvalid_1's binary_logloss: 0.452826\n",
            "[60]\ttraining's binary_logloss: 0.205819\tvalid_1's binary_logloss: 0.460621\n",
            "[65]\ttraining's binary_logloss: 0.197721\tvalid_1's binary_logloss: 0.469302\n",
            "[70]\ttraining's binary_logloss: 0.189691\tvalid_1's binary_logloss: 0.477071\n",
            "[75]\ttraining's binary_logloss: 0.181622\tvalid_1's binary_logloss: 0.482474\n",
            "[80]\ttraining's binary_logloss: 0.174493\tvalid_1's binary_logloss: 0.486221\n",
            "[85]\ttraining's binary_logloss: 0.169319\tvalid_1's binary_logloss: 0.487607\n",
            "[90]\ttraining's binary_logloss: 0.161824\tvalid_1's binary_logloss: 0.49365\n",
            "[95]\ttraining's binary_logloss: 0.155775\tvalid_1's binary_logloss: 0.499717\n",
            "[100]\ttraining's binary_logloss: 0.151527\tvalid_1's binary_logloss: 0.504254\n",
            "[105]\ttraining's binary_logloss: 0.14639\tvalid_1's binary_logloss: 0.507006\n",
            "[110]\ttraining's binary_logloss: 0.142119\tvalid_1's binary_logloss: 0.51598\n",
            "[115]\ttraining's binary_logloss: 0.136877\tvalid_1's binary_logloss: 0.521831\n",
            "[120]\ttraining's binary_logloss: 0.133014\tvalid_1's binary_logloss: 0.529793\n",
            "[125]\ttraining's binary_logloss: 0.129518\tvalid_1's binary_logloss: 0.532424\n",
            "[130]\ttraining's binary_logloss: 0.126062\tvalid_1's binary_logloss: 0.53872\n",
            "Early stopping, best iteration is:\n",
            "[32]\ttraining's binary_logloss: 0.280447\tvalid_1's binary_logloss: 0.435946\n"
          ],
          "name": "stdout"
        },
        {
          "output_type": "stream",
          "text": [
            "feature_fraction, val_score: 0.435946:  43%|####2     | 3/7 [00:01<00:01,  2.12it/s][I 2020-07-16 12:31:37,187] Finished trial#2 with value: 0.43594587204798807 with parameters: {'feature_fraction': 0.8}. Best is trial#2 with value: 0.43594587204798807.\n",
            "feature_fraction, val_score: 0.435946:  43%|####2     | 3/7 [00:01<00:01,  2.12it/s]"
          ],
          "name": "stderr"
        },
        {
          "output_type": "stream",
          "text": [
            "Training until validation scores don't improve for 100 rounds.\n",
            "[5]\ttraining's binary_logloss: 0.490914\tvalid_1's binary_logloss: 0.543183\n",
            "[10]\ttraining's binary_logloss: 0.41717\tvalid_1's binary_logloss: 0.481325\n",
            "[15]\ttraining's binary_logloss: 0.370295\tvalid_1's binary_logloss: 0.453699\n",
            "[20]\ttraining's binary_logloss: 0.340493\tvalid_1's binary_logloss: 0.448439\n",
            "[25]\ttraining's binary_logloss: 0.31573\tvalid_1's binary_logloss: 0.440001\n",
            "[30]\ttraining's binary_logloss: 0.295802\tvalid_1's binary_logloss: 0.439215\n",
            "[35]\ttraining's binary_logloss: 0.275095\tvalid_1's binary_logloss: 0.43747\n",
            "[40]\ttraining's binary_logloss: 0.260973\tvalid_1's binary_logloss: 0.441525\n",
            "[45]\ttraining's binary_logloss: 0.247876\tvalid_1's binary_logloss: 0.44259\n",
            "[50]\ttraining's binary_logloss: 0.23418\tvalid_1's binary_logloss: 0.448885\n",
            "[55]\ttraining's binary_logloss: 0.226877\tvalid_1's binary_logloss: 0.451648\n",
            "[60]\ttraining's binary_logloss: 0.217402\tvalid_1's binary_logloss: 0.462328\n",
            "[65]\ttraining's binary_logloss: 0.206516\tvalid_1's binary_logloss: 0.469488\n",
            "[70]\ttraining's binary_logloss: 0.197445\tvalid_1's binary_logloss: 0.474312\n",
            "[75]\ttraining's binary_logloss: 0.189788\tvalid_1's binary_logloss: 0.480813\n",
            "[80]\ttraining's binary_logloss: 0.182691\tvalid_1's binary_logloss: 0.48583\n",
            "[85]\ttraining's binary_logloss: 0.176183\tvalid_1's binary_logloss: 0.485878\n",
            "[90]\ttraining's binary_logloss: 0.169349\tvalid_1's binary_logloss: 0.489362\n",
            "[95]\ttraining's binary_logloss: 0.162905\tvalid_1's binary_logloss: 0.492697\n",
            "[100]\ttraining's binary_logloss: 0.158469\tvalid_1's binary_logloss: 0.499123\n",
            "[105]\ttraining's binary_logloss: 0.153352\tvalid_1's binary_logloss: 0.502315\n",
            "[110]\ttraining's binary_logloss: 0.149668\tvalid_1's binary_logloss: 0.509605\n",
            "[115]\ttraining's binary_logloss: 0.145643\tvalid_1's binary_logloss: 0.516909\n",
            "[120]\ttraining's binary_logloss: 0.140985\tvalid_1's binary_logloss: 0.520902\n",
            "[125]\ttraining's binary_logloss: 0.137566\tvalid_1's binary_logloss: 0.524799\n",
            "Early stopping, best iteration is:\n",
            "[28]\ttraining's binary_logloss: 0.303285\tvalid_1's binary_logloss: 0.437191\n"
          ],
          "name": "stdout"
        },
        {
          "output_type": "stream",
          "text": [
            "feature_fraction, val_score: 0.435946:  57%|#####7    | 4/7 [00:01<00:01,  2.09it/s][I 2020-07-16 12:31:37,678] Finished trial#3 with value: 0.4371906453281685 with parameters: {'feature_fraction': 0.7}. Best is trial#2 with value: 0.43594587204798807.\n",
            "feature_fraction, val_score: 0.435946:  57%|#####7    | 4/7 [00:02<00:01,  2.09it/s]"
          ],
          "name": "stderr"
        },
        {
          "output_type": "stream",
          "text": [
            "Training until validation scores don't improve for 100 rounds.\n",
            "[5]\ttraining's binary_logloss: 0.499129\tvalid_1's binary_logloss: 0.553961\n",
            "[10]\ttraining's binary_logloss: 0.423497\tvalid_1's binary_logloss: 0.490131\n",
            "[15]\ttraining's binary_logloss: 0.377645\tvalid_1's binary_logloss: 0.459784\n",
            "[20]\ttraining's binary_logloss: 0.349476\tvalid_1's binary_logloss: 0.448262\n",
            "[25]\ttraining's binary_logloss: 0.323891\tvalid_1's binary_logloss: 0.444337\n",
            "[30]\ttraining's binary_logloss: 0.30252\tvalid_1's binary_logloss: 0.441409\n",
            "[35]\ttraining's binary_logloss: 0.285866\tvalid_1's binary_logloss: 0.442029\n",
            "[40]\ttraining's binary_logloss: 0.274463\tvalid_1's binary_logloss: 0.445939\n",
            "[45]\ttraining's binary_logloss: 0.261254\tvalid_1's binary_logloss: 0.448109\n",
            "[50]\ttraining's binary_logloss: 0.247462\tvalid_1's binary_logloss: 0.452127\n",
            "[55]\ttraining's binary_logloss: 0.239496\tvalid_1's binary_logloss: 0.453249\n",
            "[60]\ttraining's binary_logloss: 0.229458\tvalid_1's binary_logloss: 0.464142\n",
            "[65]\ttraining's binary_logloss: 0.220182\tvalid_1's binary_logloss: 0.473178\n",
            "[70]\ttraining's binary_logloss: 0.212803\tvalid_1's binary_logloss: 0.475954\n",
            "[75]\ttraining's binary_logloss: 0.20539\tvalid_1's binary_logloss: 0.47758\n",
            "[80]\ttraining's binary_logloss: 0.197624\tvalid_1's binary_logloss: 0.484067\n",
            "[85]\ttraining's binary_logloss: 0.191112\tvalid_1's binary_logloss: 0.489702\n",
            "[90]\ttraining's binary_logloss: 0.185254\tvalid_1's binary_logloss: 0.491259\n",
            "[95]\ttraining's binary_logloss: 0.177796\tvalid_1's binary_logloss: 0.495236\n",
            "[100]\ttraining's binary_logloss: 0.172313\tvalid_1's binary_logloss: 0.497189\n",
            "[105]\ttraining's binary_logloss: 0.167948\tvalid_1's binary_logloss: 0.503899\n",
            "[110]\ttraining's binary_logloss: 0.164184\tvalid_1's binary_logloss: 0.509668\n",
            "[115]\ttraining's binary_logloss: 0.159053\tvalid_1's binary_logloss: 0.513867\n",
            "[120]\ttraining's binary_logloss: 0.152894\tvalid_1's binary_logloss: 0.523126\n",
            "[125]\ttraining's binary_logloss: 0.149246\tvalid_1's binary_logloss: 0.524883\n",
            "[130]\ttraining's binary_logloss: 0.145346\tvalid_1's binary_logloss: 0.527551\n",
            "Early stopping, best iteration is:\n",
            "[31]\ttraining's binary_logloss: 0.300169\tvalid_1's binary_logloss: 0.439472\n"
          ],
          "name": "stdout"
        },
        {
          "output_type": "stream",
          "text": [
            "feature_fraction, val_score: 0.435946:  71%|#######1  | 5/7 [00:02<00:00,  2.05it/s][I 2020-07-16 12:31:38,203] Finished trial#4 with value: 0.4394722059778772 with parameters: {'feature_fraction': 0.6}. Best is trial#2 with value: 0.43594587204798807.\n",
            "feature_fraction, val_score: 0.435946:  71%|#######1  | 5/7 [00:02<00:00,  2.05it/s]"
          ],
          "name": "stderr"
        },
        {
          "output_type": "stream",
          "text": [
            "Training until validation scores don't improve for 100 rounds.\n",
            "[5]\ttraining's binary_logloss: 0.508327\tvalid_1's binary_logloss: 0.553056\n",
            "[10]\ttraining's binary_logloss: 0.440271\tvalid_1's binary_logloss: 0.495602\n",
            "[15]\ttraining's binary_logloss: 0.391272\tvalid_1's binary_logloss: 0.466911\n",
            "[20]\ttraining's binary_logloss: 0.363037\tvalid_1's binary_logloss: 0.453718\n",
            "[25]\ttraining's binary_logloss: 0.339562\tvalid_1's binary_logloss: 0.445626\n",
            "[30]\ttraining's binary_logloss: 0.321407\tvalid_1's binary_logloss: 0.443885\n",
            "[35]\ttraining's binary_logloss: 0.306045\tvalid_1's binary_logloss: 0.437905\n",
            "[40]\ttraining's binary_logloss: 0.290713\tvalid_1's binary_logloss: 0.438342\n",
            "[45]\ttraining's binary_logloss: 0.282677\tvalid_1's binary_logloss: 0.438408\n",
            "[50]\ttraining's binary_logloss: 0.266773\tvalid_1's binary_logloss: 0.445739\n",
            "[55]\ttraining's binary_logloss: 0.259401\tvalid_1's binary_logloss: 0.44444\n",
            "[60]\ttraining's binary_logloss: 0.250308\tvalid_1's binary_logloss: 0.447541\n",
            "[65]\ttraining's binary_logloss: 0.238734\tvalid_1's binary_logloss: 0.46275\n",
            "[70]\ttraining's binary_logloss: 0.229594\tvalid_1's binary_logloss: 0.467613\n",
            "[75]\ttraining's binary_logloss: 0.222312\tvalid_1's binary_logloss: 0.471354\n",
            "[80]\ttraining's binary_logloss: 0.213172\tvalid_1's binary_logloss: 0.47353\n",
            "[85]\ttraining's binary_logloss: 0.207308\tvalid_1's binary_logloss: 0.477372\n",
            "[90]\ttraining's binary_logloss: 0.201655\tvalid_1's binary_logloss: 0.483081\n",
            "[95]\ttraining's binary_logloss: 0.192875\tvalid_1's binary_logloss: 0.490985\n",
            "[100]\ttraining's binary_logloss: 0.186783\tvalid_1's binary_logloss: 0.493328\n",
            "[105]\ttraining's binary_logloss: 0.182169\tvalid_1's binary_logloss: 0.495\n",
            "[110]\ttraining's binary_logloss: 0.177877\tvalid_1's binary_logloss: 0.498364\n",
            "[115]\ttraining's binary_logloss: 0.172734\tvalid_1's binary_logloss: 0.502179\n",
            "[120]\ttraining's binary_logloss: 0.16761\tvalid_1's binary_logloss: 0.507837\n",
            "[125]\ttraining's binary_logloss: 0.164729\tvalid_1's binary_logloss: 0.510438\n",
            "[130]\ttraining's binary_logloss: 0.161896\tvalid_1's binary_logloss: 0.516257\n",
            "[135]\ttraining's binary_logloss: 0.159541\tvalid_1's binary_logloss: 0.5185\n",
            "Early stopping, best iteration is:\n",
            "[38]\ttraining's binary_logloss: 0.294887\tvalid_1's binary_logloss: 0.436138\n"
          ],
          "name": "stdout"
        },
        {
          "output_type": "stream",
          "text": [
            "feature_fraction, val_score: 0.435946:  86%|########5 | 6/7 [00:03<00:00,  1.97it/s][I 2020-07-16 12:31:38,754] Finished trial#5 with value: 0.4361382728324681 with parameters: {'feature_fraction': 0.5}. Best is trial#2 with value: 0.43594587204798807.\n",
            "feature_fraction, val_score: 0.435946:  86%|########5 | 6/7 [00:03<00:00,  1.97it/s]"
          ],
          "name": "stderr"
        },
        {
          "output_type": "stream",
          "text": [
            "Training until validation scores don't improve for 100 rounds.\n",
            "[5]\ttraining's binary_logloss: 0.486145\tvalid_1's binary_logloss: 0.541814\n",
            "[10]\ttraining's binary_logloss: 0.405048\tvalid_1's binary_logloss: 0.481889\n",
            "[15]\ttraining's binary_logloss: 0.355403\tvalid_1's binary_logloss: 0.459678\n",
            "[20]\ttraining's binary_logloss: 0.325169\tvalid_1's binary_logloss: 0.458043\n",
            "[25]\ttraining's binary_logloss: 0.300506\tvalid_1's binary_logloss: 0.450759\n",
            "[30]\ttraining's binary_logloss: 0.279882\tvalid_1's binary_logloss: 0.450185\n",
            "[35]\ttraining's binary_logloss: 0.259964\tvalid_1's binary_logloss: 0.450822\n",
            "[40]\ttraining's binary_logloss: 0.244589\tvalid_1's binary_logloss: 0.453321\n",
            "[45]\ttraining's binary_logloss: 0.232502\tvalid_1's binary_logloss: 0.459104\n",
            "[50]\ttraining's binary_logloss: 0.219457\tvalid_1's binary_logloss: 0.463129\n",
            "[55]\ttraining's binary_logloss: 0.207151\tvalid_1's binary_logloss: 0.465359\n",
            "[60]\ttraining's binary_logloss: 0.198487\tvalid_1's binary_logloss: 0.470897\n",
            "[65]\ttraining's binary_logloss: 0.189819\tvalid_1's binary_logloss: 0.477794\n",
            "[70]\ttraining's binary_logloss: 0.181948\tvalid_1's binary_logloss: 0.479636\n",
            "[75]\ttraining's binary_logloss: 0.174839\tvalid_1's binary_logloss: 0.486217\n",
            "[80]\ttraining's binary_logloss: 0.167309\tvalid_1's binary_logloss: 0.488497\n",
            "[85]\ttraining's binary_logloss: 0.16083\tvalid_1's binary_logloss: 0.494042\n",
            "[90]\ttraining's binary_logloss: 0.15488\tvalid_1's binary_logloss: 0.503377\n",
            "[95]\ttraining's binary_logloss: 0.149308\tvalid_1's binary_logloss: 0.511339\n",
            "[100]\ttraining's binary_logloss: 0.14332\tvalid_1's binary_logloss: 0.518543\n",
            "[105]\ttraining's binary_logloss: 0.137941\tvalid_1's binary_logloss: 0.518418\n",
            "[110]\ttraining's binary_logloss: 0.133461\tvalid_1's binary_logloss: 0.521162\n",
            "[115]\ttraining's binary_logloss: 0.128764\tvalid_1's binary_logloss: 0.532281\n",
            "[120]\ttraining's binary_logloss: 0.12421\tvalid_1's binary_logloss: 0.536413\n",
            "[125]\ttraining's binary_logloss: 0.120186\tvalid_1's binary_logloss: 0.541216\n",
            "[130]\ttraining's binary_logloss: 0.116192\tvalid_1's binary_logloss: 0.545241\n",
            "Early stopping, best iteration is:\n",
            "[33]\ttraining's binary_logloss: 0.267796\tvalid_1's binary_logloss: 0.447824\n"
          ],
          "name": "stdout"
        },
        {
          "output_type": "stream",
          "text": [
            "feature_fraction, val_score: 0.435946: 100%|##########| 7/7 [00:03<00:00,  1.92it/s][I 2020-07-16 12:31:39,288] Finished trial#6 with value: 0.44782440728020345 with parameters: {'feature_fraction': 0.8999999999999999}. Best is trial#2 with value: 0.43594587204798807.\n",
            "feature_fraction, val_score: 0.435946: 100%|##########| 7/7 [00:03<00:00,  1.89it/s]\n",
            "num_leaves, val_score: 0.435946:   0%|          | 0/20 [00:00<?, ?it/s]"
          ],
          "name": "stderr"
        },
        {
          "output_type": "stream",
          "text": [
            "Training until validation scores don't improve for 100 rounds.\n",
            "[5]\ttraining's binary_logloss: 0.487737\tvalid_1's binary_logloss: 0.54183\n",
            "[10]\ttraining's binary_logloss: 0.411219\tvalid_1's binary_logloss: 0.47971\n",
            "[15]\ttraining's binary_logloss: 0.362136\tvalid_1's binary_logloss: 0.4572\n",
            "[20]\ttraining's binary_logloss: 0.332389\tvalid_1's binary_logloss: 0.453024\n",
            "[25]\ttraining's binary_logloss: 0.310334\tvalid_1's binary_logloss: 0.441926\n",
            "[30]\ttraining's binary_logloss: 0.289251\tvalid_1's binary_logloss: 0.437654\n",
            "[35]\ttraining's binary_logloss: 0.268259\tvalid_1's binary_logloss: 0.438644\n",
            "[40]\ttraining's binary_logloss: 0.252251\tvalid_1's binary_logloss: 0.441172\n",
            "[45]\ttraining's binary_logloss: 0.239618\tvalid_1's binary_logloss: 0.447122\n",
            "[50]\ttraining's binary_logloss: 0.226975\tvalid_1's binary_logloss: 0.450282\n",
            "[55]\ttraining's binary_logloss: 0.214804\tvalid_1's binary_logloss: 0.452826\n",
            "[60]\ttraining's binary_logloss: 0.205819\tvalid_1's binary_logloss: 0.460621\n",
            "[65]\ttraining's binary_logloss: 0.197721\tvalid_1's binary_logloss: 0.469302\n",
            "[70]\ttraining's binary_logloss: 0.189691\tvalid_1's binary_logloss: 0.477071\n",
            "[75]\ttraining's binary_logloss: 0.181622\tvalid_1's binary_logloss: 0.482474\n",
            "[80]\ttraining's binary_logloss: 0.174493\tvalid_1's binary_logloss: 0.486221\n",
            "[85]\ttraining's binary_logloss: 0.169319\tvalid_1's binary_logloss: 0.487607\n",
            "[90]\ttraining's binary_logloss: 0.161824\tvalid_1's binary_logloss: 0.49365\n",
            "[95]\ttraining's binary_logloss: 0.155775\tvalid_1's binary_logloss: 0.499717\n",
            "[100]\ttraining's binary_logloss: 0.151527\tvalid_1's binary_logloss: 0.504254\n",
            "[105]\ttraining's binary_logloss: 0.14639\tvalid_1's binary_logloss: 0.507006\n",
            "[110]\ttraining's binary_logloss: 0.142119\tvalid_1's binary_logloss: 0.51598\n",
            "[115]\ttraining's binary_logloss: 0.136877\tvalid_1's binary_logloss: 0.521831\n",
            "[120]\ttraining's binary_logloss: 0.133014\tvalid_1's binary_logloss: 0.529793\n",
            "[125]\ttraining's binary_logloss: 0.129518\tvalid_1's binary_logloss: 0.532424\n",
            "[130]\ttraining's binary_logloss: 0.126062\tvalid_1's binary_logloss: 0.53872\n",
            "Early stopping, best iteration is:\n",
            "[32]\ttraining's binary_logloss: 0.280447\tvalid_1's binary_logloss: 0.435946\n"
          ],
          "name": "stdout"
        },
        {
          "output_type": "stream",
          "text": [
            "num_leaves, val_score: 0.435946:   5%|5         | 1/20 [00:00<00:06,  3.09it/s][I 2020-07-16 12:31:39,758] Finished trial#7 with value: 0.43594587204798807 with parameters: {'num_leaves': 97}. Best is trial#7 with value: 0.43594587204798807.\n",
            "num_leaves, val_score: 0.435946:   5%|5         | 1/20 [00:00<00:06,  3.09it/s]"
          ],
          "name": "stderr"
        },
        {
          "output_type": "stream",
          "text": [
            "Training until validation scores don't improve for 100 rounds.\n",
            "[5]\ttraining's binary_logloss: 0.488045\tvalid_1's binary_logloss: 0.542229\n",
            "[10]\ttraining's binary_logloss: 0.411846\tvalid_1's binary_logloss: 0.480792\n",
            "[15]\ttraining's binary_logloss: 0.363183\tvalid_1's binary_logloss: 0.4577\n",
            "[20]\ttraining's binary_logloss: 0.333225\tvalid_1's binary_logloss: 0.452001\n",
            "[25]\ttraining's binary_logloss: 0.310218\tvalid_1's binary_logloss: 0.441242\n",
            "[30]\ttraining's binary_logloss: 0.289694\tvalid_1's binary_logloss: 0.440725\n",
            "[35]\ttraining's binary_logloss: 0.270269\tvalid_1's binary_logloss: 0.443681\n",
            "[40]\ttraining's binary_logloss: 0.254994\tvalid_1's binary_logloss: 0.448971\n",
            "[45]\ttraining's binary_logloss: 0.241608\tvalid_1's binary_logloss: 0.452972\n",
            "[50]\ttraining's binary_logloss: 0.230003\tvalid_1's binary_logloss: 0.459466\n",
            "[55]\ttraining's binary_logloss: 0.219597\tvalid_1's binary_logloss: 0.46266\n",
            "[60]\ttraining's binary_logloss: 0.211349\tvalid_1's binary_logloss: 0.469863\n",
            "[65]\ttraining's binary_logloss: 0.202365\tvalid_1's binary_logloss: 0.47551\n",
            "[70]\ttraining's binary_logloss: 0.194936\tvalid_1's binary_logloss: 0.478073\n",
            "[75]\ttraining's binary_logloss: 0.188028\tvalid_1's binary_logloss: 0.481433\n",
            "[80]\ttraining's binary_logloss: 0.1814\tvalid_1's binary_logloss: 0.482194\n",
            "[85]\ttraining's binary_logloss: 0.17554\tvalid_1's binary_logloss: 0.486884\n",
            "[90]\ttraining's binary_logloss: 0.169076\tvalid_1's binary_logloss: 0.489177\n",
            "[95]\ttraining's binary_logloss: 0.1636\tvalid_1's binary_logloss: 0.496243\n",
            "[100]\ttraining's binary_logloss: 0.158403\tvalid_1's binary_logloss: 0.49951\n",
            "[105]\ttraining's binary_logloss: 0.153752\tvalid_1's binary_logloss: 0.503285\n",
            "[110]\ttraining's binary_logloss: 0.14995\tvalid_1's binary_logloss: 0.506256\n",
            "[115]\ttraining's binary_logloss: 0.145168\tvalid_1's binary_logloss: 0.514024\n",
            "[120]\ttraining's binary_logloss: 0.140537\tvalid_1's binary_logloss: 0.52262\n",
            "[125]\ttraining's binary_logloss: 0.13757\tvalid_1's binary_logloss: 0.525452\n",
            "[130]\ttraining's binary_logloss: 0.134169\tvalid_1's binary_logloss: 0.536389\n",
            "Early stopping, best iteration is:\n",
            "[31]\ttraining's binary_logloss: 0.286357\tvalid_1's binary_logloss: 0.439972\n"
          ],
          "name": "stdout"
        },
        {
          "output_type": "stream",
          "text": [
            "num_leaves, val_score: 0.435946:  10%|#         | 2/20 [00:00<00:06,  2.84it/s][I 2020-07-16 12:31:40,171] Finished trial#8 with value: 0.4399719701139369 with parameters: {'num_leaves': 22}. Best is trial#7 with value: 0.43594587204798807.\n",
            "num_leaves, val_score: 0.435946:  10%|#         | 2/20 [00:00<00:06,  2.84it/s]"
          ],
          "name": "stderr"
        },
        {
          "output_type": "stream",
          "text": [
            "Training until validation scores don't improve for 100 rounds.\n",
            "[5]\ttraining's binary_logloss: 0.487737\tvalid_1's binary_logloss: 0.54183\n",
            "[10]\ttraining's binary_logloss: 0.411219\tvalid_1's binary_logloss: 0.47971\n",
            "[15]\ttraining's binary_logloss: 0.362136\tvalid_1's binary_logloss: 0.4572\n",
            "[20]\ttraining's binary_logloss: 0.332389\tvalid_1's binary_logloss: 0.453024\n",
            "[25]\ttraining's binary_logloss: 0.310334\tvalid_1's binary_logloss: 0.441926\n",
            "[30]\ttraining's binary_logloss: 0.289251\tvalid_1's binary_logloss: 0.437654\n",
            "[35]\ttraining's binary_logloss: 0.268259\tvalid_1's binary_logloss: 0.438644\n",
            "[40]\ttraining's binary_logloss: 0.252251\tvalid_1's binary_logloss: 0.441172\n",
            "[45]\ttraining's binary_logloss: 0.239618\tvalid_1's binary_logloss: 0.447122\n",
            "[50]\ttraining's binary_logloss: 0.226975\tvalid_1's binary_logloss: 0.450282\n",
            "[55]\ttraining's binary_logloss: 0.214804\tvalid_1's binary_logloss: 0.452826\n",
            "[60]\ttraining's binary_logloss: 0.205819\tvalid_1's binary_logloss: 0.460621\n",
            "[65]\ttraining's binary_logloss: 0.197721\tvalid_1's binary_logloss: 0.469302\n",
            "[70]\ttraining's binary_logloss: 0.189691\tvalid_1's binary_logloss: 0.477071\n",
            "[75]\ttraining's binary_logloss: 0.181622\tvalid_1's binary_logloss: 0.482474\n",
            "[80]\ttraining's binary_logloss: 0.174493\tvalid_1's binary_logloss: 0.486221\n",
            "[85]\ttraining's binary_logloss: 0.169319\tvalid_1's binary_logloss: 0.487607\n",
            "[90]\ttraining's binary_logloss: 0.161824\tvalid_1's binary_logloss: 0.49365\n",
            "[95]\ttraining's binary_logloss: 0.155775\tvalid_1's binary_logloss: 0.499717\n",
            "[100]\ttraining's binary_logloss: 0.151527\tvalid_1's binary_logloss: 0.504254\n",
            "[105]\ttraining's binary_logloss: 0.14639\tvalid_1's binary_logloss: 0.507006\n",
            "[110]\ttraining's binary_logloss: 0.142119\tvalid_1's binary_logloss: 0.51598\n",
            "[115]\ttraining's binary_logloss: 0.136877\tvalid_1's binary_logloss: 0.521831\n",
            "[120]\ttraining's binary_logloss: 0.133014\tvalid_1's binary_logloss: 0.529793\n",
            "[125]\ttraining's binary_logloss: 0.129518\tvalid_1's binary_logloss: 0.532424\n",
            "[130]\ttraining's binary_logloss: 0.126062\tvalid_1's binary_logloss: 0.53872\n",
            "Early stopping, best iteration is:\n",
            "[32]\ttraining's binary_logloss: 0.280447\tvalid_1's binary_logloss: 0.435946\n"
          ],
          "name": "stdout"
        },
        {
          "output_type": "stream",
          "text": [
            "num_leaves, val_score: 0.435946:  15%|#5        | 3/20 [00:01<00:06,  2.53it/s][I 2020-07-16 12:31:40,667] Finished trial#9 with value: 0.43594587204798807 with parameters: {'num_leaves': 250}. Best is trial#7 with value: 0.43594587204798807.\n",
            "num_leaves, val_score: 0.435946:  15%|#5        | 3/20 [00:01<00:06,  2.53it/s]"
          ],
          "name": "stderr"
        },
        {
          "output_type": "stream",
          "text": [
            "Training until validation scores don't improve for 100 rounds.\n",
            "[5]\ttraining's binary_logloss: 0.487737\tvalid_1's binary_logloss: 0.54183\n",
            "[10]\ttraining's binary_logloss: 0.411219\tvalid_1's binary_logloss: 0.47971\n",
            "[15]\ttraining's binary_logloss: 0.362136\tvalid_1's binary_logloss: 0.4572\n",
            "[20]\ttraining's binary_logloss: 0.332389\tvalid_1's binary_logloss: 0.453024\n",
            "[25]\ttraining's binary_logloss: 0.310334\tvalid_1's binary_logloss: 0.441926\n",
            "[30]\ttraining's binary_logloss: 0.289251\tvalid_1's binary_logloss: 0.437654\n",
            "[35]\ttraining's binary_logloss: 0.268259\tvalid_1's binary_logloss: 0.438644\n",
            "[40]\ttraining's binary_logloss: 0.252251\tvalid_1's binary_logloss: 0.441172\n",
            "[45]\ttraining's binary_logloss: 0.239618\tvalid_1's binary_logloss: 0.447122\n",
            "[50]\ttraining's binary_logloss: 0.226975\tvalid_1's binary_logloss: 0.450282\n",
            "[55]\ttraining's binary_logloss: 0.214804\tvalid_1's binary_logloss: 0.452826\n",
            "[60]\ttraining's binary_logloss: 0.205819\tvalid_1's binary_logloss: 0.460621\n",
            "[65]\ttraining's binary_logloss: 0.197721\tvalid_1's binary_logloss: 0.469302\n",
            "[70]\ttraining's binary_logloss: 0.189691\tvalid_1's binary_logloss: 0.477071\n",
            "[75]\ttraining's binary_logloss: 0.181622\tvalid_1's binary_logloss: 0.482474\n",
            "[80]\ttraining's binary_logloss: 0.174493\tvalid_1's binary_logloss: 0.486221\n",
            "[85]\ttraining's binary_logloss: 0.169319\tvalid_1's binary_logloss: 0.487607\n",
            "[90]\ttraining's binary_logloss: 0.161824\tvalid_1's binary_logloss: 0.49365\n",
            "[95]\ttraining's binary_logloss: 0.155775\tvalid_1's binary_logloss: 0.499717\n",
            "[100]\ttraining's binary_logloss: 0.151527\tvalid_1's binary_logloss: 0.504254\n",
            "[105]\ttraining's binary_logloss: 0.14639\tvalid_1's binary_logloss: 0.507006\n",
            "[110]\ttraining's binary_logloss: 0.142119\tvalid_1's binary_logloss: 0.51598\n",
            "[115]\ttraining's binary_logloss: 0.136877\tvalid_1's binary_logloss: 0.521831\n",
            "[120]\ttraining's binary_logloss: 0.133014\tvalid_1's binary_logloss: 0.529793\n",
            "[125]\ttraining's binary_logloss: 0.129518\tvalid_1's binary_logloss: 0.532424\n",
            "[130]\ttraining's binary_logloss: 0.126062\tvalid_1's binary_logloss: 0.53872\n",
            "Early stopping, best iteration is:\n",
            "[32]\ttraining's binary_logloss: 0.280447\tvalid_1's binary_logloss: 0.435946\n"
          ],
          "name": "stdout"
        },
        {
          "output_type": "stream",
          "text": [
            "num_leaves, val_score: 0.435946:  20%|##        | 4/20 [00:01<00:06,  2.32it/s][I 2020-07-16 12:31:41,187] Finished trial#10 with value: 0.43594587204798807 with parameters: {'num_leaves': 104}. Best is trial#7 with value: 0.43594587204798807.\n",
            "num_leaves, val_score: 0.435946:  20%|##        | 4/20 [00:01<00:06,  2.32it/s]"
          ],
          "name": "stderr"
        },
        {
          "output_type": "stream",
          "text": [
            "Training until validation scores don't improve for 100 rounds.\n",
            "[5]\ttraining's binary_logloss: 0.487737\tvalid_1's binary_logloss: 0.54183\n",
            "[10]\ttraining's binary_logloss: 0.411219\tvalid_1's binary_logloss: 0.47971\n",
            "[15]\ttraining's binary_logloss: 0.362136\tvalid_1's binary_logloss: 0.4572\n",
            "[20]\ttraining's binary_logloss: 0.332389\tvalid_1's binary_logloss: 0.453024\n",
            "[25]\ttraining's binary_logloss: 0.310334\tvalid_1's binary_logloss: 0.441926\n",
            "[30]\ttraining's binary_logloss: 0.289251\tvalid_1's binary_logloss: 0.437654\n",
            "[35]\ttraining's binary_logloss: 0.268259\tvalid_1's binary_logloss: 0.438644\n",
            "[40]\ttraining's binary_logloss: 0.252251\tvalid_1's binary_logloss: 0.441172\n",
            "[45]\ttraining's binary_logloss: 0.239618\tvalid_1's binary_logloss: 0.447122\n",
            "[50]\ttraining's binary_logloss: 0.226975\tvalid_1's binary_logloss: 0.450282\n",
            "[55]\ttraining's binary_logloss: 0.214804\tvalid_1's binary_logloss: 0.452826\n",
            "[60]\ttraining's binary_logloss: 0.205819\tvalid_1's binary_logloss: 0.460621\n",
            "[65]\ttraining's binary_logloss: 0.197721\tvalid_1's binary_logloss: 0.469302\n",
            "[70]\ttraining's binary_logloss: 0.189691\tvalid_1's binary_logloss: 0.477071\n",
            "[75]\ttraining's binary_logloss: 0.181622\tvalid_1's binary_logloss: 0.482474\n",
            "[80]\ttraining's binary_logloss: 0.174493\tvalid_1's binary_logloss: 0.486221\n",
            "[85]\ttraining's binary_logloss: 0.169319\tvalid_1's binary_logloss: 0.487607\n",
            "[90]\ttraining's binary_logloss: 0.161824\tvalid_1's binary_logloss: 0.49365\n",
            "[95]\ttraining's binary_logloss: 0.155775\tvalid_1's binary_logloss: 0.499717\n",
            "[100]\ttraining's binary_logloss: 0.151527\tvalid_1's binary_logloss: 0.504254\n",
            "[105]\ttraining's binary_logloss: 0.14639\tvalid_1's binary_logloss: 0.507006\n",
            "[110]\ttraining's binary_logloss: 0.142119\tvalid_1's binary_logloss: 0.51598\n",
            "[115]\ttraining's binary_logloss: 0.136877\tvalid_1's binary_logloss: 0.521831\n",
            "[120]\ttraining's binary_logloss: 0.133014\tvalid_1's binary_logloss: 0.529793\n",
            "[125]\ttraining's binary_logloss: 0.129518\tvalid_1's binary_logloss: 0.532424\n",
            "[130]\ttraining's binary_logloss: 0.126062\tvalid_1's binary_logloss: 0.53872\n",
            "Early stopping, best iteration is:\n",
            "[32]\ttraining's binary_logloss: 0.280447\tvalid_1's binary_logloss: 0.435946\n"
          ],
          "name": "stdout"
        },
        {
          "output_type": "stream",
          "text": [
            "num_leaves, val_score: 0.435946:  25%|##5       | 5/20 [00:02<00:06,  2.15it/s][I 2020-07-16 12:31:41,733] Finished trial#11 with value: 0.43594587204798807 with parameters: {'num_leaves': 99}. Best is trial#7 with value: 0.43594587204798807.\n",
            "num_leaves, val_score: 0.435946:  25%|##5       | 5/20 [00:02<00:06,  2.15it/s]"
          ],
          "name": "stderr"
        },
        {
          "output_type": "stream",
          "text": [
            "Training until validation scores don't improve for 100 rounds.\n",
            "[5]\ttraining's binary_logloss: 0.487737\tvalid_1's binary_logloss: 0.54183\n",
            "[10]\ttraining's binary_logloss: 0.411219\tvalid_1's binary_logloss: 0.47971\n",
            "[15]\ttraining's binary_logloss: 0.362136\tvalid_1's binary_logloss: 0.4572\n",
            "[20]\ttraining's binary_logloss: 0.332389\tvalid_1's binary_logloss: 0.453024\n",
            "[25]\ttraining's binary_logloss: 0.310334\tvalid_1's binary_logloss: 0.441926\n",
            "[30]\ttraining's binary_logloss: 0.289251\tvalid_1's binary_logloss: 0.437654\n",
            "[35]\ttraining's binary_logloss: 0.268259\tvalid_1's binary_logloss: 0.438644\n",
            "[40]\ttraining's binary_logloss: 0.252251\tvalid_1's binary_logloss: 0.441172\n",
            "[45]\ttraining's binary_logloss: 0.239618\tvalid_1's binary_logloss: 0.447122\n",
            "[50]\ttraining's binary_logloss: 0.226975\tvalid_1's binary_logloss: 0.450282\n",
            "[55]\ttraining's binary_logloss: 0.214804\tvalid_1's binary_logloss: 0.452826\n",
            "[60]\ttraining's binary_logloss: 0.205819\tvalid_1's binary_logloss: 0.460621\n",
            "[65]\ttraining's binary_logloss: 0.197721\tvalid_1's binary_logloss: 0.469302\n",
            "[70]\ttraining's binary_logloss: 0.189691\tvalid_1's binary_logloss: 0.477071\n",
            "[75]\ttraining's binary_logloss: 0.181622\tvalid_1's binary_logloss: 0.482474\n",
            "[80]\ttraining's binary_logloss: 0.174493\tvalid_1's binary_logloss: 0.486221\n",
            "[85]\ttraining's binary_logloss: 0.169319\tvalid_1's binary_logloss: 0.487607\n",
            "[90]\ttraining's binary_logloss: 0.161824\tvalid_1's binary_logloss: 0.49365\n",
            "[95]\ttraining's binary_logloss: 0.155775\tvalid_1's binary_logloss: 0.499717\n",
            "[100]\ttraining's binary_logloss: 0.151527\tvalid_1's binary_logloss: 0.504254\n",
            "[105]\ttraining's binary_logloss: 0.14639\tvalid_1's binary_logloss: 0.507006\n",
            "[110]\ttraining's binary_logloss: 0.142119\tvalid_1's binary_logloss: 0.51598\n",
            "[115]\ttraining's binary_logloss: 0.136877\tvalid_1's binary_logloss: 0.521831\n",
            "[120]\ttraining's binary_logloss: 0.133014\tvalid_1's binary_logloss: 0.529793\n",
            "[125]\ttraining's binary_logloss: 0.129518\tvalid_1's binary_logloss: 0.532424\n",
            "[130]\ttraining's binary_logloss: 0.126062\tvalid_1's binary_logloss: 0.53872\n",
            "Early stopping, best iteration is:\n",
            "[32]\ttraining's binary_logloss: 0.280447\tvalid_1's binary_logloss: 0.435946\n"
          ],
          "name": "stdout"
        },
        {
          "output_type": "stream",
          "text": [
            "num_leaves, val_score: 0.435946:  30%|###       | 6/20 [00:02<00:06,  2.04it/s][I 2020-07-16 12:31:42,280] Finished trial#12 with value: 0.43594587204798807 with parameters: {'num_leaves': 30}. Best is trial#7 with value: 0.43594587204798807.\n",
            "num_leaves, val_score: 0.435946:  30%|###       | 6/20 [00:02<00:06,  2.04it/s]"
          ],
          "name": "stderr"
        },
        {
          "output_type": "stream",
          "text": [
            "Training until validation scores don't improve for 100 rounds.\n",
            "[5]\ttraining's binary_logloss: 0.487737\tvalid_1's binary_logloss: 0.54183\n",
            "[10]\ttraining's binary_logloss: 0.411219\tvalid_1's binary_logloss: 0.47971\n",
            "[15]\ttraining's binary_logloss: 0.362136\tvalid_1's binary_logloss: 0.4572\n",
            "[20]\ttraining's binary_logloss: 0.332389\tvalid_1's binary_logloss: 0.453024\n",
            "[25]\ttraining's binary_logloss: 0.310334\tvalid_1's binary_logloss: 0.441926\n",
            "[30]\ttraining's binary_logloss: 0.289251\tvalid_1's binary_logloss: 0.437654\n",
            "[35]\ttraining's binary_logloss: 0.268259\tvalid_1's binary_logloss: 0.438644\n",
            "[40]\ttraining's binary_logloss: 0.252251\tvalid_1's binary_logloss: 0.441172\n",
            "[45]\ttraining's binary_logloss: 0.239618\tvalid_1's binary_logloss: 0.447122\n",
            "[50]\ttraining's binary_logloss: 0.226975\tvalid_1's binary_logloss: 0.450282\n",
            "[55]\ttraining's binary_logloss: 0.214804\tvalid_1's binary_logloss: 0.452826\n",
            "[60]\ttraining's binary_logloss: 0.205819\tvalid_1's binary_logloss: 0.460621\n",
            "[65]\ttraining's binary_logloss: 0.197721\tvalid_1's binary_logloss: 0.469302\n",
            "[70]\ttraining's binary_logloss: 0.189691\tvalid_1's binary_logloss: 0.477071\n",
            "[75]\ttraining's binary_logloss: 0.181622\tvalid_1's binary_logloss: 0.482474\n",
            "[80]\ttraining's binary_logloss: 0.174493\tvalid_1's binary_logloss: 0.486221\n",
            "[85]\ttraining's binary_logloss: 0.169319\tvalid_1's binary_logloss: 0.487607\n",
            "[90]\ttraining's binary_logloss: 0.161824\tvalid_1's binary_logloss: 0.49365\n",
            "[95]\ttraining's binary_logloss: 0.155775\tvalid_1's binary_logloss: 0.499717\n",
            "[100]\ttraining's binary_logloss: 0.151527\tvalid_1's binary_logloss: 0.504254\n",
            "[105]\ttraining's binary_logloss: 0.14639\tvalid_1's binary_logloss: 0.507006\n",
            "[110]\ttraining's binary_logloss: 0.142119\tvalid_1's binary_logloss: 0.51598\n",
            "[115]\ttraining's binary_logloss: 0.136877\tvalid_1's binary_logloss: 0.521831\n",
            "[120]\ttraining's binary_logloss: 0.133014\tvalid_1's binary_logloss: 0.529793\n",
            "[125]\ttraining's binary_logloss: 0.129518\tvalid_1's binary_logloss: 0.532424\n",
            "[130]\ttraining's binary_logloss: 0.126062\tvalid_1's binary_logloss: 0.53872\n",
            "Early stopping, best iteration is:\n",
            "[32]\ttraining's binary_logloss: 0.280447\tvalid_1's binary_logloss: 0.435946\n"
          ],
          "name": "stdout"
        },
        {
          "output_type": "stream",
          "text": [
            "num_leaves, val_score: 0.435946:  35%|###5      | 7/20 [00:03<00:06,  1.99it/s][I 2020-07-16 12:31:42,815] Finished trial#13 with value: 0.43594587204798807 with parameters: {'num_leaves': 91}. Best is trial#7 with value: 0.43594587204798807.\n",
            "num_leaves, val_score: 0.435946:  35%|###5      | 7/20 [00:03<00:06,  1.99it/s]"
          ],
          "name": "stderr"
        },
        {
          "output_type": "stream",
          "text": [
            "Training until validation scores don't improve for 100 rounds.\n",
            "[5]\ttraining's binary_logloss: 0.487737\tvalid_1's binary_logloss: 0.54183\n",
            "[10]\ttraining's binary_logloss: 0.411219\tvalid_1's binary_logloss: 0.47971\n",
            "[15]\ttraining's binary_logloss: 0.362136\tvalid_1's binary_logloss: 0.4572\n",
            "[20]\ttraining's binary_logloss: 0.332389\tvalid_1's binary_logloss: 0.453024\n",
            "[25]\ttraining's binary_logloss: 0.310334\tvalid_1's binary_logloss: 0.441926\n",
            "[30]\ttraining's binary_logloss: 0.289251\tvalid_1's binary_logloss: 0.437654\n",
            "[35]\ttraining's binary_logloss: 0.268259\tvalid_1's binary_logloss: 0.438644\n",
            "[40]\ttraining's binary_logloss: 0.252251\tvalid_1's binary_logloss: 0.441172\n",
            "[45]\ttraining's binary_logloss: 0.239618\tvalid_1's binary_logloss: 0.447122\n",
            "[50]\ttraining's binary_logloss: 0.226975\tvalid_1's binary_logloss: 0.450282\n",
            "[55]\ttraining's binary_logloss: 0.214804\tvalid_1's binary_logloss: 0.452826\n",
            "[60]\ttraining's binary_logloss: 0.205819\tvalid_1's binary_logloss: 0.460621\n",
            "[65]\ttraining's binary_logloss: 0.197721\tvalid_1's binary_logloss: 0.469302\n",
            "[70]\ttraining's binary_logloss: 0.189691\tvalid_1's binary_logloss: 0.477071\n",
            "[75]\ttraining's binary_logloss: 0.181622\tvalid_1's binary_logloss: 0.482474\n",
            "[80]\ttraining's binary_logloss: 0.174493\tvalid_1's binary_logloss: 0.486221\n",
            "[85]\ttraining's binary_logloss: 0.169319\tvalid_1's binary_logloss: 0.487607\n",
            "[90]\ttraining's binary_logloss: 0.161824\tvalid_1's binary_logloss: 0.49365\n",
            "[95]\ttraining's binary_logloss: 0.155775\tvalid_1's binary_logloss: 0.499717\n",
            "[100]\ttraining's binary_logloss: 0.151527\tvalid_1's binary_logloss: 0.504254\n",
            "[105]\ttraining's binary_logloss: 0.14639\tvalid_1's binary_logloss: 0.507006\n",
            "[110]\ttraining's binary_logloss: 0.142119\tvalid_1's binary_logloss: 0.51598\n",
            "[115]\ttraining's binary_logloss: 0.136877\tvalid_1's binary_logloss: 0.521831\n",
            "[120]\ttraining's binary_logloss: 0.133014\tvalid_1's binary_logloss: 0.529793\n",
            "[125]\ttraining's binary_logloss: 0.129518\tvalid_1's binary_logloss: 0.532424\n",
            "[130]\ttraining's binary_logloss: 0.126062\tvalid_1's binary_logloss: 0.53872\n",
            "Early stopping, best iteration is:\n",
            "[32]\ttraining's binary_logloss: 0.280447\tvalid_1's binary_logloss: 0.435946\n"
          ],
          "name": "stdout"
        },
        {
          "output_type": "stream",
          "text": [
            "num_leaves, val_score: 0.435946:  40%|####      | 8/20 [00:03<00:06,  1.97it/s][I 2020-07-16 12:31:43,329] Finished trial#14 with value: 0.43594587204798807 with parameters: {'num_leaves': 235}. Best is trial#7 with value: 0.43594587204798807.\n",
            "num_leaves, val_score: 0.435946:  40%|####      | 8/20 [00:04<00:06,  1.97it/s]"
          ],
          "name": "stderr"
        },
        {
          "output_type": "stream",
          "text": [
            "Training until validation scores don't improve for 100 rounds.\n",
            "[5]\ttraining's binary_logloss: 0.487737\tvalid_1's binary_logloss: 0.54183\n",
            "[10]\ttraining's binary_logloss: 0.411219\tvalid_1's binary_logloss: 0.47971\n",
            "[15]\ttraining's binary_logloss: 0.362136\tvalid_1's binary_logloss: 0.4572\n",
            "[20]\ttraining's binary_logloss: 0.332389\tvalid_1's binary_logloss: 0.453024\n",
            "[25]\ttraining's binary_logloss: 0.310334\tvalid_1's binary_logloss: 0.441926\n",
            "[30]\ttraining's binary_logloss: 0.289251\tvalid_1's binary_logloss: 0.437654\n",
            "[35]\ttraining's binary_logloss: 0.268259\tvalid_1's binary_logloss: 0.438644\n",
            "[40]\ttraining's binary_logloss: 0.252251\tvalid_1's binary_logloss: 0.441172\n",
            "[45]\ttraining's binary_logloss: 0.239618\tvalid_1's binary_logloss: 0.447122\n",
            "[50]\ttraining's binary_logloss: 0.226975\tvalid_1's binary_logloss: 0.450282\n",
            "[55]\ttraining's binary_logloss: 0.214804\tvalid_1's binary_logloss: 0.452826\n",
            "[60]\ttraining's binary_logloss: 0.205819\tvalid_1's binary_logloss: 0.460621\n",
            "[65]\ttraining's binary_logloss: 0.197721\tvalid_1's binary_logloss: 0.469302\n",
            "[70]\ttraining's binary_logloss: 0.189691\tvalid_1's binary_logloss: 0.477071\n",
            "[75]\ttraining's binary_logloss: 0.181622\tvalid_1's binary_logloss: 0.482474\n",
            "[80]\ttraining's binary_logloss: 0.174493\tvalid_1's binary_logloss: 0.486221\n",
            "[85]\ttraining's binary_logloss: 0.169319\tvalid_1's binary_logloss: 0.487607\n",
            "[90]\ttraining's binary_logloss: 0.161824\tvalid_1's binary_logloss: 0.49365\n",
            "[95]\ttraining's binary_logloss: 0.155775\tvalid_1's binary_logloss: 0.499717\n",
            "[100]\ttraining's binary_logloss: 0.151527\tvalid_1's binary_logloss: 0.504254\n",
            "[105]\ttraining's binary_logloss: 0.14639\tvalid_1's binary_logloss: 0.507006\n",
            "[110]\ttraining's binary_logloss: 0.142119\tvalid_1's binary_logloss: 0.51598\n",
            "[115]\ttraining's binary_logloss: 0.136877\tvalid_1's binary_logloss: 0.521831\n",
            "[120]\ttraining's binary_logloss: 0.133014\tvalid_1's binary_logloss: 0.529793\n",
            "[125]\ttraining's binary_logloss: 0.129518\tvalid_1's binary_logloss: 0.532424\n",
            "[130]\ttraining's binary_logloss: 0.126062\tvalid_1's binary_logloss: 0.53872\n",
            "Early stopping, best iteration is:\n",
            "[32]\ttraining's binary_logloss: 0.280447\tvalid_1's binary_logloss: 0.435946\n"
          ],
          "name": "stdout"
        },
        {
          "output_type": "stream",
          "text": [
            "num_leaves, val_score: 0.435946:  45%|####5     | 9/20 [00:04<00:05,  1.95it/s][I 2020-07-16 12:31:43,888] Finished trial#15 with value: 0.43594587204798807 with parameters: {'num_leaves': 149}. Best is trial#7 with value: 0.43594587204798807.\n",
            "num_leaves, val_score: 0.435946:  45%|####5     | 9/20 [00:04<00:05,  1.95it/s]"
          ],
          "name": "stderr"
        },
        {
          "output_type": "stream",
          "text": [
            "Training until validation scores don't improve for 100 rounds.\n",
            "[5]\ttraining's binary_logloss: 0.487737\tvalid_1's binary_logloss: 0.54183\n",
            "[10]\ttraining's binary_logloss: 0.411219\tvalid_1's binary_logloss: 0.47971\n",
            "[15]\ttraining's binary_logloss: 0.362136\tvalid_1's binary_logloss: 0.4572\n",
            "[20]\ttraining's binary_logloss: 0.332389\tvalid_1's binary_logloss: 0.453024\n",
            "[25]\ttraining's binary_logloss: 0.310334\tvalid_1's binary_logloss: 0.441926\n",
            "[30]\ttraining's binary_logloss: 0.289251\tvalid_1's binary_logloss: 0.437654\n",
            "[35]\ttraining's binary_logloss: 0.268259\tvalid_1's binary_logloss: 0.438644\n",
            "[40]\ttraining's binary_logloss: 0.252251\tvalid_1's binary_logloss: 0.441172\n",
            "[45]\ttraining's binary_logloss: 0.239618\tvalid_1's binary_logloss: 0.447122\n",
            "[50]\ttraining's binary_logloss: 0.226975\tvalid_1's binary_logloss: 0.450282\n",
            "[55]\ttraining's binary_logloss: 0.214804\tvalid_1's binary_logloss: 0.452826\n",
            "[60]\ttraining's binary_logloss: 0.205819\tvalid_1's binary_logloss: 0.460621\n",
            "[65]\ttraining's binary_logloss: 0.197721\tvalid_1's binary_logloss: 0.469302\n",
            "[70]\ttraining's binary_logloss: 0.189691\tvalid_1's binary_logloss: 0.477071\n",
            "[75]\ttraining's binary_logloss: 0.181622\tvalid_1's binary_logloss: 0.482474\n",
            "[80]\ttraining's binary_logloss: 0.174493\tvalid_1's binary_logloss: 0.486221\n",
            "[85]\ttraining's binary_logloss: 0.169319\tvalid_1's binary_logloss: 0.487607\n",
            "[90]\ttraining's binary_logloss: 0.161824\tvalid_1's binary_logloss: 0.49365\n",
            "[95]\ttraining's binary_logloss: 0.155775\tvalid_1's binary_logloss: 0.499717\n",
            "[100]\ttraining's binary_logloss: 0.151527\tvalid_1's binary_logloss: 0.504254\n",
            "[105]\ttraining's binary_logloss: 0.14639\tvalid_1's binary_logloss: 0.507006\n",
            "[110]\ttraining's binary_logloss: 0.142119\tvalid_1's binary_logloss: 0.51598\n",
            "[115]\ttraining's binary_logloss: 0.136877\tvalid_1's binary_logloss: 0.521831\n",
            "[120]\ttraining's binary_logloss: 0.133014\tvalid_1's binary_logloss: 0.529793\n",
            "[125]\ttraining's binary_logloss: 0.129518\tvalid_1's binary_logloss: 0.532424\n",
            "[130]\ttraining's binary_logloss: 0.126062\tvalid_1's binary_logloss: 0.53872\n",
            "Early stopping, best iteration is:\n",
            "[32]\ttraining's binary_logloss: 0.280447\tvalid_1's binary_logloss: 0.435946\n"
          ],
          "name": "stdout"
        },
        {
          "output_type": "stream",
          "text": [
            "num_leaves, val_score: 0.435946:  50%|#####     | 10/20 [00:04<00:05,  1.91it/s][I 2020-07-16 12:31:44,409] Finished trial#16 with value: 0.43594587204798807 with parameters: {'num_leaves': 124}. Best is trial#7 with value: 0.43594587204798807.\n",
            "num_leaves, val_score: 0.435946:  50%|#####     | 10/20 [00:05<00:05,  1.91it/s]"
          ],
          "name": "stderr"
        },
        {
          "output_type": "stream",
          "text": [
            "Training until validation scores don't improve for 100 rounds.\n",
            "[5]\ttraining's binary_logloss: 0.487737\tvalid_1's binary_logloss: 0.54183\n",
            "[10]\ttraining's binary_logloss: 0.411219\tvalid_1's binary_logloss: 0.47971\n",
            "[15]\ttraining's binary_logloss: 0.362136\tvalid_1's binary_logloss: 0.4572\n",
            "[20]\ttraining's binary_logloss: 0.332389\tvalid_1's binary_logloss: 0.453024\n",
            "[25]\ttraining's binary_logloss: 0.310334\tvalid_1's binary_logloss: 0.441926\n",
            "[30]\ttraining's binary_logloss: 0.289251\tvalid_1's binary_logloss: 0.437654\n",
            "[35]\ttraining's binary_logloss: 0.268259\tvalid_1's binary_logloss: 0.438644\n",
            "[40]\ttraining's binary_logloss: 0.252251\tvalid_1's binary_logloss: 0.441172\n",
            "[45]\ttraining's binary_logloss: 0.239618\tvalid_1's binary_logloss: 0.447122\n",
            "[50]\ttraining's binary_logloss: 0.226975\tvalid_1's binary_logloss: 0.450282\n",
            "[55]\ttraining's binary_logloss: 0.214804\tvalid_1's binary_logloss: 0.452826\n",
            "[60]\ttraining's binary_logloss: 0.205819\tvalid_1's binary_logloss: 0.460621\n",
            "[65]\ttraining's binary_logloss: 0.197721\tvalid_1's binary_logloss: 0.469302\n",
            "[70]\ttraining's binary_logloss: 0.189691\tvalid_1's binary_logloss: 0.477071\n",
            "[75]\ttraining's binary_logloss: 0.181622\tvalid_1's binary_logloss: 0.482474\n",
            "[80]\ttraining's binary_logloss: 0.174493\tvalid_1's binary_logloss: 0.486221\n",
            "[85]\ttraining's binary_logloss: 0.169319\tvalid_1's binary_logloss: 0.487607\n",
            "[90]\ttraining's binary_logloss: 0.161824\tvalid_1's binary_logloss: 0.49365\n",
            "[95]\ttraining's binary_logloss: 0.155775\tvalid_1's binary_logloss: 0.499717\n",
            "[100]\ttraining's binary_logloss: 0.151527\tvalid_1's binary_logloss: 0.504254\n",
            "[105]\ttraining's binary_logloss: 0.14639\tvalid_1's binary_logloss: 0.507006\n",
            "[110]\ttraining's binary_logloss: 0.142119\tvalid_1's binary_logloss: 0.51598\n",
            "[115]\ttraining's binary_logloss: 0.136877\tvalid_1's binary_logloss: 0.521831\n",
            "[120]\ttraining's binary_logloss: 0.133014\tvalid_1's binary_logloss: 0.529793\n",
            "[125]\ttraining's binary_logloss: 0.129518\tvalid_1's binary_logloss: 0.532424\n",
            "[130]\ttraining's binary_logloss: 0.126062\tvalid_1's binary_logloss: 0.53872\n",
            "Early stopping, best iteration is:\n",
            "[32]\ttraining's binary_logloss: 0.280447\tvalid_1's binary_logloss: 0.435946\n"
          ],
          "name": "stdout"
        },
        {
          "output_type": "stream",
          "text": [
            "num_leaves, val_score: 0.435946:  55%|#####5    | 11/20 [00:05<00:04,  1.87it/s][I 2020-07-16 12:31:44,965] Finished trial#17 with value: 0.43594587204798807 with parameters: {'num_leaves': 187}. Best is trial#7 with value: 0.43594587204798807.\n",
            "num_leaves, val_score: 0.435946:  55%|#####5    | 11/20 [00:05<00:04,  1.87it/s]"
          ],
          "name": "stderr"
        },
        {
          "output_type": "stream",
          "text": [
            "Training until validation scores don't improve for 100 rounds.\n",
            "[5]\ttraining's binary_logloss: 0.487737\tvalid_1's binary_logloss: 0.54183\n",
            "[10]\ttraining's binary_logloss: 0.411219\tvalid_1's binary_logloss: 0.47971\n",
            "[15]\ttraining's binary_logloss: 0.362136\tvalid_1's binary_logloss: 0.4572\n",
            "[20]\ttraining's binary_logloss: 0.332389\tvalid_1's binary_logloss: 0.453024\n",
            "[25]\ttraining's binary_logloss: 0.310334\tvalid_1's binary_logloss: 0.441926\n",
            "[30]\ttraining's binary_logloss: 0.289251\tvalid_1's binary_logloss: 0.437654\n",
            "[35]\ttraining's binary_logloss: 0.268259\tvalid_1's binary_logloss: 0.438644\n",
            "[40]\ttraining's binary_logloss: 0.252251\tvalid_1's binary_logloss: 0.441172\n",
            "[45]\ttraining's binary_logloss: 0.239618\tvalid_1's binary_logloss: 0.447122\n",
            "[50]\ttraining's binary_logloss: 0.226975\tvalid_1's binary_logloss: 0.450282\n",
            "[55]\ttraining's binary_logloss: 0.214804\tvalid_1's binary_logloss: 0.452826\n",
            "[60]\ttraining's binary_logloss: 0.205819\tvalid_1's binary_logloss: 0.460621\n",
            "[65]\ttraining's binary_logloss: 0.197721\tvalid_1's binary_logloss: 0.469302\n",
            "[70]\ttraining's binary_logloss: 0.189691\tvalid_1's binary_logloss: 0.477071\n",
            "[75]\ttraining's binary_logloss: 0.181622\tvalid_1's binary_logloss: 0.482474\n",
            "[80]\ttraining's binary_logloss: 0.174493\tvalid_1's binary_logloss: 0.486221\n",
            "[85]\ttraining's binary_logloss: 0.169319\tvalid_1's binary_logloss: 0.487607\n",
            "[90]\ttraining's binary_logloss: 0.161824\tvalid_1's binary_logloss: 0.49365\n",
            "[95]\ttraining's binary_logloss: 0.155775\tvalid_1's binary_logloss: 0.499717\n",
            "[100]\ttraining's binary_logloss: 0.151527\tvalid_1's binary_logloss: 0.504254\n",
            "[105]\ttraining's binary_logloss: 0.14639\tvalid_1's binary_logloss: 0.507006\n",
            "[110]\ttraining's binary_logloss: 0.142119\tvalid_1's binary_logloss: 0.51598\n",
            "[115]\ttraining's binary_logloss: 0.136877\tvalid_1's binary_logloss: 0.521831\n",
            "[120]\ttraining's binary_logloss: 0.133014\tvalid_1's binary_logloss: 0.529793\n",
            "[125]\ttraining's binary_logloss: 0.129518\tvalid_1's binary_logloss: 0.532424\n",
            "[130]\ttraining's binary_logloss: 0.126062\tvalid_1's binary_logloss: 0.53872\n",
            "Early stopping, best iteration is:\n",
            "[32]\ttraining's binary_logloss: 0.280447\tvalid_1's binary_logloss: 0.435946\n"
          ],
          "name": "stdout"
        },
        {
          "output_type": "stream",
          "text": [
            "num_leaves, val_score: 0.435946:  60%|######    | 12/20 [00:06<00:04,  1.90it/s][I 2020-07-16 12:31:45,477] Finished trial#18 with value: 0.43594587204798807 with parameters: {'num_leaves': 256}. Best is trial#7 with value: 0.43594587204798807.\n",
            "num_leaves, val_score: 0.435946:  60%|######    | 12/20 [00:06<00:04,  1.90it/s]"
          ],
          "name": "stderr"
        },
        {
          "output_type": "stream",
          "text": [
            "Training until validation scores don't improve for 100 rounds.\n",
            "[5]\ttraining's binary_logloss: 0.487737\tvalid_1's binary_logloss: 0.54183\n",
            "[10]\ttraining's binary_logloss: 0.411219\tvalid_1's binary_logloss: 0.47971\n",
            "[15]\ttraining's binary_logloss: 0.362136\tvalid_1's binary_logloss: 0.4572\n",
            "[20]\ttraining's binary_logloss: 0.332389\tvalid_1's binary_logloss: 0.453024\n",
            "[25]\ttraining's binary_logloss: 0.310334\tvalid_1's binary_logloss: 0.441926\n",
            "[30]\ttraining's binary_logloss: 0.289251\tvalid_1's binary_logloss: 0.437654\n",
            "[35]\ttraining's binary_logloss: 0.268259\tvalid_1's binary_logloss: 0.438644\n",
            "[40]\ttraining's binary_logloss: 0.252251\tvalid_1's binary_logloss: 0.441172\n",
            "[45]\ttraining's binary_logloss: 0.239618\tvalid_1's binary_logloss: 0.447122\n",
            "[50]\ttraining's binary_logloss: 0.226975\tvalid_1's binary_logloss: 0.450282\n",
            "[55]\ttraining's binary_logloss: 0.214804\tvalid_1's binary_logloss: 0.452826\n",
            "[60]\ttraining's binary_logloss: 0.205819\tvalid_1's binary_logloss: 0.460621\n",
            "[65]\ttraining's binary_logloss: 0.197721\tvalid_1's binary_logloss: 0.469302\n",
            "[70]\ttraining's binary_logloss: 0.189691\tvalid_1's binary_logloss: 0.477071\n",
            "[75]\ttraining's binary_logloss: 0.181622\tvalid_1's binary_logloss: 0.482474\n",
            "[80]\ttraining's binary_logloss: 0.174493\tvalid_1's binary_logloss: 0.486221\n",
            "[85]\ttraining's binary_logloss: 0.169319\tvalid_1's binary_logloss: 0.487607\n",
            "[90]\ttraining's binary_logloss: 0.161824\tvalid_1's binary_logloss: 0.49365\n",
            "[95]\ttraining's binary_logloss: 0.155775\tvalid_1's binary_logloss: 0.499717\n",
            "[100]\ttraining's binary_logloss: 0.151527\tvalid_1's binary_logloss: 0.504254\n",
            "[105]\ttraining's binary_logloss: 0.14639\tvalid_1's binary_logloss: 0.507006\n",
            "[110]\ttraining's binary_logloss: 0.142119\tvalid_1's binary_logloss: 0.51598\n",
            "[115]\ttraining's binary_logloss: 0.136877\tvalid_1's binary_logloss: 0.521831\n",
            "[120]\ttraining's binary_logloss: 0.133014\tvalid_1's binary_logloss: 0.529793\n",
            "[125]\ttraining's binary_logloss: 0.129518\tvalid_1's binary_logloss: 0.532424\n",
            "[130]\ttraining's binary_logloss: 0.126062\tvalid_1's binary_logloss: 0.53872\n",
            "Early stopping, best iteration is:\n",
            "[32]\ttraining's binary_logloss: 0.280447\tvalid_1's binary_logloss: 0.435946\n"
          ],
          "name": "stdout"
        },
        {
          "output_type": "stream",
          "text": [
            "num_leaves, val_score: 0.435946:  65%|######5   | 13/20 [00:06<00:03,  1.89it/s][I 2020-07-16 12:31:46,013] Finished trial#19 with value: 0.43594587204798807 with parameters: {'num_leaves': 58}. Best is trial#7 with value: 0.43594587204798807.\n",
            "num_leaves, val_score: 0.435946:  65%|######5   | 13/20 [00:06<00:03,  1.89it/s]"
          ],
          "name": "stderr"
        },
        {
          "output_type": "stream",
          "text": [
            "Training until validation scores don't improve for 100 rounds.\n",
            "[5]\ttraining's binary_logloss: 0.487737\tvalid_1's binary_logloss: 0.54183\n",
            "[10]\ttraining's binary_logloss: 0.411219\tvalid_1's binary_logloss: 0.47971\n",
            "[15]\ttraining's binary_logloss: 0.362136\tvalid_1's binary_logloss: 0.4572\n",
            "[20]\ttraining's binary_logloss: 0.332389\tvalid_1's binary_logloss: 0.453024\n",
            "[25]\ttraining's binary_logloss: 0.310334\tvalid_1's binary_logloss: 0.441926\n",
            "[30]\ttraining's binary_logloss: 0.289251\tvalid_1's binary_logloss: 0.437654\n",
            "[35]\ttraining's binary_logloss: 0.268259\tvalid_1's binary_logloss: 0.438644\n",
            "[40]\ttraining's binary_logloss: 0.252251\tvalid_1's binary_logloss: 0.441172\n",
            "[45]\ttraining's binary_logloss: 0.239618\tvalid_1's binary_logloss: 0.447122\n",
            "[50]\ttraining's binary_logloss: 0.226975\tvalid_1's binary_logloss: 0.450282\n",
            "[55]\ttraining's binary_logloss: 0.214804\tvalid_1's binary_logloss: 0.452826\n",
            "[60]\ttraining's binary_logloss: 0.205819\tvalid_1's binary_logloss: 0.460621\n",
            "[65]\ttraining's binary_logloss: 0.197721\tvalid_1's binary_logloss: 0.469302\n",
            "[70]\ttraining's binary_logloss: 0.189691\tvalid_1's binary_logloss: 0.477071\n",
            "[75]\ttraining's binary_logloss: 0.181622\tvalid_1's binary_logloss: 0.482474\n",
            "[80]\ttraining's binary_logloss: 0.174493\tvalid_1's binary_logloss: 0.486221\n",
            "[85]\ttraining's binary_logloss: 0.169319\tvalid_1's binary_logloss: 0.487607\n",
            "[90]\ttraining's binary_logloss: 0.161824\tvalid_1's binary_logloss: 0.49365\n",
            "[95]\ttraining's binary_logloss: 0.155775\tvalid_1's binary_logloss: 0.499717\n",
            "[100]\ttraining's binary_logloss: 0.151527\tvalid_1's binary_logloss: 0.504254\n",
            "[105]\ttraining's binary_logloss: 0.14639\tvalid_1's binary_logloss: 0.507006\n",
            "[110]\ttraining's binary_logloss: 0.142119\tvalid_1's binary_logloss: 0.51598\n",
            "[115]\ttraining's binary_logloss: 0.136877\tvalid_1's binary_logloss: 0.521831\n",
            "[120]\ttraining's binary_logloss: 0.133014\tvalid_1's binary_logloss: 0.529793\n",
            "[125]\ttraining's binary_logloss: 0.129518\tvalid_1's binary_logloss: 0.532424\n",
            "[130]\ttraining's binary_logloss: 0.126062\tvalid_1's binary_logloss: 0.53872\n",
            "Early stopping, best iteration is:\n",
            "[32]\ttraining's binary_logloss: 0.280447\tvalid_1's binary_logloss: 0.435946\n"
          ],
          "name": "stdout"
        },
        {
          "output_type": "stream",
          "text": [
            "num_leaves, val_score: 0.435946:  70%|#######   | 14/20 [00:07<00:03,  1.90it/s][I 2020-07-16 12:31:46,522] Finished trial#20 with value: 0.43594587204798807 with parameters: {'num_leaves': 186}. Best is trial#7 with value: 0.43594587204798807.\n",
            "num_leaves, val_score: 0.435946:  70%|#######   | 14/20 [00:07<00:03,  1.90it/s]"
          ],
          "name": "stderr"
        },
        {
          "output_type": "stream",
          "text": [
            "Training until validation scores don't improve for 100 rounds.\n",
            "[5]\ttraining's binary_logloss: 0.487737\tvalid_1's binary_logloss: 0.54183\n",
            "[10]\ttraining's binary_logloss: 0.411219\tvalid_1's binary_logloss: 0.47971\n",
            "[15]\ttraining's binary_logloss: 0.362136\tvalid_1's binary_logloss: 0.4572\n",
            "[20]\ttraining's binary_logloss: 0.332389\tvalid_1's binary_logloss: 0.453024\n",
            "[25]\ttraining's binary_logloss: 0.310334\tvalid_1's binary_logloss: 0.441926\n",
            "[30]\ttraining's binary_logloss: 0.289251\tvalid_1's binary_logloss: 0.437654\n",
            "[35]\ttraining's binary_logloss: 0.268259\tvalid_1's binary_logloss: 0.438644\n",
            "[40]\ttraining's binary_logloss: 0.252251\tvalid_1's binary_logloss: 0.441172\n",
            "[45]\ttraining's binary_logloss: 0.239618\tvalid_1's binary_logloss: 0.447122\n",
            "[50]\ttraining's binary_logloss: 0.226975\tvalid_1's binary_logloss: 0.450282\n",
            "[55]\ttraining's binary_logloss: 0.214804\tvalid_1's binary_logloss: 0.452826\n",
            "[60]\ttraining's binary_logloss: 0.205819\tvalid_1's binary_logloss: 0.460621\n",
            "[65]\ttraining's binary_logloss: 0.197721\tvalid_1's binary_logloss: 0.469302\n",
            "[70]\ttraining's binary_logloss: 0.189691\tvalid_1's binary_logloss: 0.477071\n",
            "[75]\ttraining's binary_logloss: 0.181622\tvalid_1's binary_logloss: 0.482474\n",
            "[80]\ttraining's binary_logloss: 0.174493\tvalid_1's binary_logloss: 0.486221\n",
            "[85]\ttraining's binary_logloss: 0.169319\tvalid_1's binary_logloss: 0.487607\n",
            "[90]\ttraining's binary_logloss: 0.161824\tvalid_1's binary_logloss: 0.49365\n",
            "[95]\ttraining's binary_logloss: 0.155775\tvalid_1's binary_logloss: 0.499717\n",
            "[100]\ttraining's binary_logloss: 0.151527\tvalid_1's binary_logloss: 0.504254\n",
            "[105]\ttraining's binary_logloss: 0.14639\tvalid_1's binary_logloss: 0.507006\n",
            "[110]\ttraining's binary_logloss: 0.142119\tvalid_1's binary_logloss: 0.51598\n",
            "[115]\ttraining's binary_logloss: 0.136877\tvalid_1's binary_logloss: 0.521831\n",
            "[120]\ttraining's binary_logloss: 0.133014\tvalid_1's binary_logloss: 0.529793\n",
            "[125]\ttraining's binary_logloss: 0.129518\tvalid_1's binary_logloss: 0.532424\n",
            "[130]\ttraining's binary_logloss: 0.126062\tvalid_1's binary_logloss: 0.53872\n",
            "Early stopping, best iteration is:\n",
            "[32]\ttraining's binary_logloss: 0.280447\tvalid_1's binary_logloss: 0.435946\n"
          ],
          "name": "stdout"
        },
        {
          "output_type": "stream",
          "text": [
            "num_leaves, val_score: 0.435946:  75%|#######5  | 15/20 [00:07<00:02,  1.94it/s][I 2020-07-16 12:31:47,027] Finished trial#21 with value: 0.43594587204798807 with parameters: {'num_leaves': 156}. Best is trial#7 with value: 0.43594587204798807.\n",
            "num_leaves, val_score: 0.435946:  75%|#######5  | 15/20 [00:07<00:02,  1.94it/s]"
          ],
          "name": "stderr"
        },
        {
          "output_type": "stream",
          "text": [
            "Training until validation scores don't improve for 100 rounds.\n",
            "[5]\ttraining's binary_logloss: 0.487737\tvalid_1's binary_logloss: 0.54183\n",
            "[10]\ttraining's binary_logloss: 0.411219\tvalid_1's binary_logloss: 0.47971\n",
            "[15]\ttraining's binary_logloss: 0.362136\tvalid_1's binary_logloss: 0.4572\n",
            "[20]\ttraining's binary_logloss: 0.332389\tvalid_1's binary_logloss: 0.453024\n",
            "[25]\ttraining's binary_logloss: 0.310334\tvalid_1's binary_logloss: 0.441926\n",
            "[30]\ttraining's binary_logloss: 0.289251\tvalid_1's binary_logloss: 0.437654\n",
            "[35]\ttraining's binary_logloss: 0.268259\tvalid_1's binary_logloss: 0.438644\n",
            "[40]\ttraining's binary_logloss: 0.252251\tvalid_1's binary_logloss: 0.441172\n",
            "[45]\ttraining's binary_logloss: 0.239618\tvalid_1's binary_logloss: 0.447122\n",
            "[50]\ttraining's binary_logloss: 0.226975\tvalid_1's binary_logloss: 0.450282\n",
            "[55]\ttraining's binary_logloss: 0.214804\tvalid_1's binary_logloss: 0.452826\n",
            "[60]\ttraining's binary_logloss: 0.205819\tvalid_1's binary_logloss: 0.460621\n",
            "[65]\ttraining's binary_logloss: 0.197721\tvalid_1's binary_logloss: 0.469302\n",
            "[70]\ttraining's binary_logloss: 0.189691\tvalid_1's binary_logloss: 0.477071\n",
            "[75]\ttraining's binary_logloss: 0.181622\tvalid_1's binary_logloss: 0.482474\n",
            "[80]\ttraining's binary_logloss: 0.174493\tvalid_1's binary_logloss: 0.486221\n",
            "[85]\ttraining's binary_logloss: 0.169319\tvalid_1's binary_logloss: 0.487607\n",
            "[90]\ttraining's binary_logloss: 0.161824\tvalid_1's binary_logloss: 0.49365\n",
            "[95]\ttraining's binary_logloss: 0.155775\tvalid_1's binary_logloss: 0.499717\n",
            "[100]\ttraining's binary_logloss: 0.151527\tvalid_1's binary_logloss: 0.504254\n",
            "[105]\ttraining's binary_logloss: 0.14639\tvalid_1's binary_logloss: 0.507006\n",
            "[110]\ttraining's binary_logloss: 0.142119\tvalid_1's binary_logloss: 0.51598\n",
            "[115]\ttraining's binary_logloss: 0.136877\tvalid_1's binary_logloss: 0.521831\n",
            "[120]\ttraining's binary_logloss: 0.133014\tvalid_1's binary_logloss: 0.529793\n",
            "[125]\ttraining's binary_logloss: 0.129518\tvalid_1's binary_logloss: 0.532424\n",
            "[130]\ttraining's binary_logloss: 0.126062\tvalid_1's binary_logloss: 0.53872\n",
            "Early stopping, best iteration is:\n",
            "[32]\ttraining's binary_logloss: 0.280447\tvalid_1's binary_logloss: 0.435946\n"
          ],
          "name": "stdout"
        },
        {
          "output_type": "stream",
          "text": [
            "num_leaves, val_score: 0.435946:  80%|########  | 16/20 [00:08<00:02,  1.89it/s][I 2020-07-16 12:31:47,576] Finished trial#22 with value: 0.43594587204798807 with parameters: {'num_leaves': 61}. Best is trial#7 with value: 0.43594587204798807.\n",
            "num_leaves, val_score: 0.435946:  80%|########  | 16/20 [00:08<00:02,  1.89it/s]"
          ],
          "name": "stderr"
        },
        {
          "output_type": "stream",
          "text": [
            "Training until validation scores don't improve for 100 rounds.\n",
            "[5]\ttraining's binary_logloss: 0.487737\tvalid_1's binary_logloss: 0.54183\n",
            "[10]\ttraining's binary_logloss: 0.411219\tvalid_1's binary_logloss: 0.47971\n",
            "[15]\ttraining's binary_logloss: 0.362136\tvalid_1's binary_logloss: 0.4572\n",
            "[20]\ttraining's binary_logloss: 0.332389\tvalid_1's binary_logloss: 0.453024\n",
            "[25]\ttraining's binary_logloss: 0.310334\tvalid_1's binary_logloss: 0.441926\n",
            "[30]\ttraining's binary_logloss: 0.289251\tvalid_1's binary_logloss: 0.437654\n",
            "[35]\ttraining's binary_logloss: 0.268259\tvalid_1's binary_logloss: 0.438644\n",
            "[40]\ttraining's binary_logloss: 0.252251\tvalid_1's binary_logloss: 0.441172\n",
            "[45]\ttraining's binary_logloss: 0.239618\tvalid_1's binary_logloss: 0.447122\n",
            "[50]\ttraining's binary_logloss: 0.226975\tvalid_1's binary_logloss: 0.450282\n",
            "[55]\ttraining's binary_logloss: 0.214804\tvalid_1's binary_logloss: 0.452826\n",
            "[60]\ttraining's binary_logloss: 0.205819\tvalid_1's binary_logloss: 0.460621\n",
            "[65]\ttraining's binary_logloss: 0.197721\tvalid_1's binary_logloss: 0.469302\n",
            "[70]\ttraining's binary_logloss: 0.189691\tvalid_1's binary_logloss: 0.477071\n",
            "[75]\ttraining's binary_logloss: 0.181622\tvalid_1's binary_logloss: 0.482474\n",
            "[80]\ttraining's binary_logloss: 0.174493\tvalid_1's binary_logloss: 0.486221\n",
            "[85]\ttraining's binary_logloss: 0.169319\tvalid_1's binary_logloss: 0.487607\n",
            "[90]\ttraining's binary_logloss: 0.161824\tvalid_1's binary_logloss: 0.49365\n",
            "[95]\ttraining's binary_logloss: 0.155775\tvalid_1's binary_logloss: 0.499717\n",
            "[100]\ttraining's binary_logloss: 0.151527\tvalid_1's binary_logloss: 0.504254\n",
            "[105]\ttraining's binary_logloss: 0.14639\tvalid_1's binary_logloss: 0.507006\n",
            "[110]\ttraining's binary_logloss: 0.142119\tvalid_1's binary_logloss: 0.51598\n",
            "[115]\ttraining's binary_logloss: 0.136877\tvalid_1's binary_logloss: 0.521831\n",
            "[120]\ttraining's binary_logloss: 0.133014\tvalid_1's binary_logloss: 0.529793\n",
            "[125]\ttraining's binary_logloss: 0.129518\tvalid_1's binary_logloss: 0.532424\n",
            "[130]\ttraining's binary_logloss: 0.126062\tvalid_1's binary_logloss: 0.53872\n",
            "Early stopping, best iteration is:\n",
            "[32]\ttraining's binary_logloss: 0.280447\tvalid_1's binary_logloss: 0.435946\n"
          ],
          "name": "stdout"
        },
        {
          "output_type": "stream",
          "text": [
            "num_leaves, val_score: 0.435946:  85%|########5 | 17/20 [00:08<00:01,  1.92it/s][I 2020-07-16 12:31:48,073] Finished trial#23 with value: 0.43594587204798807 with parameters: {'num_leaves': 211}. Best is trial#7 with value: 0.43594587204798807.\n",
            "num_leaves, val_score: 0.435946:  85%|########5 | 17/20 [00:08<00:01,  1.92it/s]"
          ],
          "name": "stderr"
        },
        {
          "output_type": "stream",
          "text": [
            "Training until validation scores don't improve for 100 rounds.\n",
            "[5]\ttraining's binary_logloss: 0.487737\tvalid_1's binary_logloss: 0.54183\n",
            "[10]\ttraining's binary_logloss: 0.411219\tvalid_1's binary_logloss: 0.47971\n",
            "[15]\ttraining's binary_logloss: 0.362136\tvalid_1's binary_logloss: 0.4572\n",
            "[20]\ttraining's binary_logloss: 0.332389\tvalid_1's binary_logloss: 0.453024\n",
            "[25]\ttraining's binary_logloss: 0.310334\tvalid_1's binary_logloss: 0.441926\n",
            "[30]\ttraining's binary_logloss: 0.289251\tvalid_1's binary_logloss: 0.437654\n",
            "[35]\ttraining's binary_logloss: 0.268259\tvalid_1's binary_logloss: 0.438644\n",
            "[40]\ttraining's binary_logloss: 0.252251\tvalid_1's binary_logloss: 0.441172\n",
            "[45]\ttraining's binary_logloss: 0.239618\tvalid_1's binary_logloss: 0.447122\n",
            "[50]\ttraining's binary_logloss: 0.226975\tvalid_1's binary_logloss: 0.450282\n",
            "[55]\ttraining's binary_logloss: 0.214804\tvalid_1's binary_logloss: 0.452826\n",
            "[60]\ttraining's binary_logloss: 0.205819\tvalid_1's binary_logloss: 0.460621\n",
            "[65]\ttraining's binary_logloss: 0.197721\tvalid_1's binary_logloss: 0.469302\n",
            "[70]\ttraining's binary_logloss: 0.189691\tvalid_1's binary_logloss: 0.477071\n",
            "[75]\ttraining's binary_logloss: 0.181622\tvalid_1's binary_logloss: 0.482474\n",
            "[80]\ttraining's binary_logloss: 0.174493\tvalid_1's binary_logloss: 0.486221\n",
            "[85]\ttraining's binary_logloss: 0.169319\tvalid_1's binary_logloss: 0.487607\n",
            "[90]\ttraining's binary_logloss: 0.161824\tvalid_1's binary_logloss: 0.49365\n",
            "[95]\ttraining's binary_logloss: 0.155775\tvalid_1's binary_logloss: 0.499717\n",
            "[100]\ttraining's binary_logloss: 0.151527\tvalid_1's binary_logloss: 0.504254\n",
            "[105]\ttraining's binary_logloss: 0.14639\tvalid_1's binary_logloss: 0.507006\n",
            "[110]\ttraining's binary_logloss: 0.142119\tvalid_1's binary_logloss: 0.51598\n",
            "[115]\ttraining's binary_logloss: 0.136877\tvalid_1's binary_logloss: 0.521831\n",
            "[120]\ttraining's binary_logloss: 0.133014\tvalid_1's binary_logloss: 0.529793\n",
            "[125]\ttraining's binary_logloss: 0.129518\tvalid_1's binary_logloss: 0.532424\n",
            "[130]\ttraining's binary_logloss: 0.126062\tvalid_1's binary_logloss: 0.53872\n",
            "Early stopping, best iteration is:\n",
            "[32]\ttraining's binary_logloss: 0.280447\tvalid_1's binary_logloss: 0.435946\n"
          ],
          "name": "stdout"
        },
        {
          "output_type": "stream",
          "text": [
            "num_leaves, val_score: 0.435946:  90%|######### | 18/20 [00:09<00:01,  1.97it/s][I 2020-07-16 12:31:48,561] Finished trial#24 with value: 0.43594587204798807 with parameters: {'num_leaves': 155}. Best is trial#7 with value: 0.43594587204798807.\n",
            "num_leaves, val_score: 0.435946:  90%|######### | 18/20 [00:09<00:01,  1.97it/s]"
          ],
          "name": "stderr"
        },
        {
          "output_type": "stream",
          "text": [
            "Training until validation scores don't improve for 100 rounds.\n",
            "[5]\ttraining's binary_logloss: 0.487737\tvalid_1's binary_logloss: 0.54183\n",
            "[10]\ttraining's binary_logloss: 0.411219\tvalid_1's binary_logloss: 0.47971\n",
            "[15]\ttraining's binary_logloss: 0.362136\tvalid_1's binary_logloss: 0.4572\n",
            "[20]\ttraining's binary_logloss: 0.332389\tvalid_1's binary_logloss: 0.453024\n",
            "[25]\ttraining's binary_logloss: 0.310334\tvalid_1's binary_logloss: 0.441926\n",
            "[30]\ttraining's binary_logloss: 0.289251\tvalid_1's binary_logloss: 0.437654\n",
            "[35]\ttraining's binary_logloss: 0.268259\tvalid_1's binary_logloss: 0.438644\n",
            "[40]\ttraining's binary_logloss: 0.252251\tvalid_1's binary_logloss: 0.441172\n",
            "[45]\ttraining's binary_logloss: 0.239618\tvalid_1's binary_logloss: 0.447122\n",
            "[50]\ttraining's binary_logloss: 0.226975\tvalid_1's binary_logloss: 0.450282\n",
            "[55]\ttraining's binary_logloss: 0.214804\tvalid_1's binary_logloss: 0.452826\n",
            "[60]\ttraining's binary_logloss: 0.205819\tvalid_1's binary_logloss: 0.460621\n",
            "[65]\ttraining's binary_logloss: 0.197721\tvalid_1's binary_logloss: 0.469302\n",
            "[70]\ttraining's binary_logloss: 0.189691\tvalid_1's binary_logloss: 0.477071\n",
            "[75]\ttraining's binary_logloss: 0.181622\tvalid_1's binary_logloss: 0.482474\n",
            "[80]\ttraining's binary_logloss: 0.174493\tvalid_1's binary_logloss: 0.486221\n",
            "[85]\ttraining's binary_logloss: 0.169319\tvalid_1's binary_logloss: 0.487607\n",
            "[90]\ttraining's binary_logloss: 0.161824\tvalid_1's binary_logloss: 0.49365\n",
            "[95]\ttraining's binary_logloss: 0.155775\tvalid_1's binary_logloss: 0.499717\n",
            "[100]\ttraining's binary_logloss: 0.151527\tvalid_1's binary_logloss: 0.504254\n",
            "[105]\ttraining's binary_logloss: 0.14639\tvalid_1's binary_logloss: 0.507006\n",
            "[110]\ttraining's binary_logloss: 0.142119\tvalid_1's binary_logloss: 0.51598\n",
            "[115]\ttraining's binary_logloss: 0.136877\tvalid_1's binary_logloss: 0.521831\n",
            "[120]\ttraining's binary_logloss: 0.133014\tvalid_1's binary_logloss: 0.529793\n",
            "[125]\ttraining's binary_logloss: 0.129518\tvalid_1's binary_logloss: 0.532424\n",
            "[130]\ttraining's binary_logloss: 0.126062\tvalid_1's binary_logloss: 0.53872\n",
            "Early stopping, best iteration is:\n",
            "[32]\ttraining's binary_logloss: 0.280447\tvalid_1's binary_logloss: 0.435946\n"
          ],
          "name": "stdout"
        },
        {
          "output_type": "stream",
          "text": [
            "num_leaves, val_score: 0.435946:  95%|#########5| 19/20 [00:09<00:00,  1.98it/s][I 2020-07-16 12:31:49,062] Finished trial#25 with value: 0.43594587204798807 with parameters: {'num_leaves': 58}. Best is trial#7 with value: 0.43594587204798807.\n",
            "num_leaves, val_score: 0.435946:  95%|#########5| 19/20 [00:09<00:00,  1.98it/s]"
          ],
          "name": "stderr"
        },
        {
          "output_type": "stream",
          "text": [
            "Training until validation scores don't improve for 100 rounds.\n",
            "[5]\ttraining's binary_logloss: 0.487737\tvalid_1's binary_logloss: 0.54183\n",
            "[10]\ttraining's binary_logloss: 0.411219\tvalid_1's binary_logloss: 0.47971\n",
            "[15]\ttraining's binary_logloss: 0.362136\tvalid_1's binary_logloss: 0.4572\n",
            "[20]\ttraining's binary_logloss: 0.332389\tvalid_1's binary_logloss: 0.453024\n",
            "[25]\ttraining's binary_logloss: 0.310334\tvalid_1's binary_logloss: 0.441926\n",
            "[30]\ttraining's binary_logloss: 0.289251\tvalid_1's binary_logloss: 0.437654\n",
            "[35]\ttraining's binary_logloss: 0.268259\tvalid_1's binary_logloss: 0.438644\n",
            "[40]\ttraining's binary_logloss: 0.252251\tvalid_1's binary_logloss: 0.441172\n",
            "[45]\ttraining's binary_logloss: 0.239618\tvalid_1's binary_logloss: 0.447122\n",
            "[50]\ttraining's binary_logloss: 0.226975\tvalid_1's binary_logloss: 0.450282\n",
            "[55]\ttraining's binary_logloss: 0.214804\tvalid_1's binary_logloss: 0.452826\n",
            "[60]\ttraining's binary_logloss: 0.205819\tvalid_1's binary_logloss: 0.460621\n",
            "[65]\ttraining's binary_logloss: 0.197721\tvalid_1's binary_logloss: 0.469302\n",
            "[70]\ttraining's binary_logloss: 0.189691\tvalid_1's binary_logloss: 0.477071\n",
            "[75]\ttraining's binary_logloss: 0.181622\tvalid_1's binary_logloss: 0.482474\n",
            "[80]\ttraining's binary_logloss: 0.174493\tvalid_1's binary_logloss: 0.486221\n",
            "[85]\ttraining's binary_logloss: 0.169319\tvalid_1's binary_logloss: 0.487607\n",
            "[90]\ttraining's binary_logloss: 0.161824\tvalid_1's binary_logloss: 0.49365\n",
            "[95]\ttraining's binary_logloss: 0.155775\tvalid_1's binary_logloss: 0.499717\n",
            "[100]\ttraining's binary_logloss: 0.151527\tvalid_1's binary_logloss: 0.504254\n",
            "[105]\ttraining's binary_logloss: 0.14639\tvalid_1's binary_logloss: 0.507006\n",
            "[110]\ttraining's binary_logloss: 0.142119\tvalid_1's binary_logloss: 0.51598\n",
            "[115]\ttraining's binary_logloss: 0.136877\tvalid_1's binary_logloss: 0.521831\n",
            "[120]\ttraining's binary_logloss: 0.133014\tvalid_1's binary_logloss: 0.529793\n",
            "[125]\ttraining's binary_logloss: 0.129518\tvalid_1's binary_logloss: 0.532424\n",
            "[130]\ttraining's binary_logloss: 0.126062\tvalid_1's binary_logloss: 0.53872\n",
            "Early stopping, best iteration is:\n",
            "[32]\ttraining's binary_logloss: 0.280447\tvalid_1's binary_logloss: 0.435946\n"
          ],
          "name": "stdout"
        },
        {
          "output_type": "stream",
          "text": [
            "num_leaves, val_score: 0.435946: 100%|##########| 20/20 [00:10<00:00,  2.00it/s][I 2020-07-16 12:31:49,544] Finished trial#26 with value: 0.43594587204798807 with parameters: {'num_leaves': 211}. Best is trial#7 with value: 0.43594587204798807.\n",
            "num_leaves, val_score: 0.435946: 100%|##########| 20/20 [00:10<00:00,  1.95it/s]\n",
            "bagging, val_score: 0.435946:   0%|          | 0/10 [00:00<?, ?it/s]"
          ],
          "name": "stderr"
        },
        {
          "output_type": "stream",
          "text": [
            "Training until validation scores don't improve for 100 rounds.\n",
            "[5]\ttraining's binary_logloss: 0.518346\tvalid_1's binary_logloss: 0.569509\n",
            "[10]\ttraining's binary_logloss: 0.447953\tvalid_1's binary_logloss: 0.507479\n",
            "[15]\ttraining's binary_logloss: 0.406303\tvalid_1's binary_logloss: 0.46934\n",
            "[20]\ttraining's binary_logloss: 0.382174\tvalid_1's binary_logloss: 0.450217\n",
            "[25]\ttraining's binary_logloss: 0.361251\tvalid_1's binary_logloss: 0.437751\n",
            "[30]\ttraining's binary_logloss: 0.344935\tvalid_1's binary_logloss: 0.433688\n",
            "[35]\ttraining's binary_logloss: 0.331721\tvalid_1's binary_logloss: 0.433348\n",
            "[40]\ttraining's binary_logloss: 0.321803\tvalid_1's binary_logloss: 0.432703\n",
            "[45]\ttraining's binary_logloss: 0.314676\tvalid_1's binary_logloss: 0.426438\n",
            "[50]\ttraining's binary_logloss: 0.3074\tvalid_1's binary_logloss: 0.420401\n",
            "[55]\ttraining's binary_logloss: 0.298767\tvalid_1's binary_logloss: 0.422239\n",
            "[60]\ttraining's binary_logloss: 0.294774\tvalid_1's binary_logloss: 0.42331\n",
            "[65]\ttraining's binary_logloss: 0.285313\tvalid_1's binary_logloss: 0.430199\n",
            "[70]\ttraining's binary_logloss: 0.2801\tvalid_1's binary_logloss: 0.431314\n",
            "[75]\ttraining's binary_logloss: 0.273753\tvalid_1's binary_logloss: 0.444051\n",
            "[80]\ttraining's binary_logloss: 0.26802\tvalid_1's binary_logloss: 0.458337\n",
            "[85]\ttraining's binary_logloss: 0.264574\tvalid_1's binary_logloss: 0.45805\n",
            "[90]\ttraining's binary_logloss: 0.25777\tvalid_1's binary_logloss: 0.462851\n",
            "[95]\ttraining's binary_logloss: 0.252279\tvalid_1's binary_logloss: 0.463506\n",
            "[100]\ttraining's binary_logloss: 0.246237\tvalid_1's binary_logloss: 0.468681\n",
            "[105]\ttraining's binary_logloss: 0.240502\tvalid_1's binary_logloss: 0.474724\n",
            "[110]\ttraining's binary_logloss: 0.236625\tvalid_1's binary_logloss: 0.479968\n",
            "[115]\ttraining's binary_logloss: 0.233044\tvalid_1's binary_logloss: 0.482049\n",
            "[120]\ttraining's binary_logloss: 0.231092\tvalid_1's binary_logloss: 0.48078\n",
            "[125]\ttraining's binary_logloss: 0.224683\tvalid_1's binary_logloss: 0.477106\n",
            "[130]\ttraining's binary_logloss: 0.221169\tvalid_1's binary_logloss: 0.478926\n",
            "[135]\ttraining's binary_logloss: 0.217727\tvalid_1's binary_logloss: 0.480857\n",
            "[140]\ttraining's binary_logloss: 0.214295\tvalid_1's binary_logloss: 0.4873\n",
            "[145]\ttraining's binary_logloss: 0.211206\tvalid_1's binary_logloss: 0.489421\n",
            "Early stopping, best iteration is:\n",
            "[48]\ttraining's binary_logloss: 0.31106\tvalid_1's binary_logloss: 0.417726\n"
          ],
          "name": "stdout"
        },
        {
          "output_type": "stream",
          "text": [
            "bagging, val_score: 0.417726:  10%|#         | 1/10 [00:00<00:03,  2.63it/s][I 2020-07-16 12:31:50,080] Finished trial#27 with value: 0.41772564912871557 with parameters: {'bagging_fraction': 0.5191138489041645, 'bagging_freq': 6}. Best is trial#27 with value: 0.41772564912871557.\n",
            "bagging, val_score: 0.417726:  10%|#         | 1/10 [00:00<00:03,  2.63it/s]"
          ],
          "name": "stderr"
        },
        {
          "output_type": "stream",
          "text": [
            "Training until validation scores don't improve for 100 rounds.\n",
            "[5]\ttraining's binary_logloss: 0.489259\tvalid_1's binary_logloss: 0.543238\n",
            "[10]\ttraining's binary_logloss: 0.414499\tvalid_1's binary_logloss: 0.484232\n",
            "[15]\ttraining's binary_logloss: 0.367209\tvalid_1's binary_logloss: 0.458807\n",
            "[20]\ttraining's binary_logloss: 0.335904\tvalid_1's binary_logloss: 0.446535\n",
            "[25]\ttraining's binary_logloss: 0.312128\tvalid_1's binary_logloss: 0.439951\n",
            "[30]\ttraining's binary_logloss: 0.288817\tvalid_1's binary_logloss: 0.443996\n",
            "[35]\ttraining's binary_logloss: 0.271694\tvalid_1's binary_logloss: 0.445169\n",
            "[40]\ttraining's binary_logloss: 0.257322\tvalid_1's binary_logloss: 0.451285\n",
            "[45]\ttraining's binary_logloss: 0.244755\tvalid_1's binary_logloss: 0.450274\n",
            "[50]\ttraining's binary_logloss: 0.232555\tvalid_1's binary_logloss: 0.459397\n",
            "[55]\ttraining's binary_logloss: 0.220565\tvalid_1's binary_logloss: 0.465428\n",
            "[60]\ttraining's binary_logloss: 0.212035\tvalid_1's binary_logloss: 0.472297\n",
            "[65]\ttraining's binary_logloss: 0.202312\tvalid_1's binary_logloss: 0.477553\n",
            "[70]\ttraining's binary_logloss: 0.193541\tvalid_1's binary_logloss: 0.481246\n",
            "[75]\ttraining's binary_logloss: 0.185661\tvalid_1's binary_logloss: 0.490204\n",
            "[80]\ttraining's binary_logloss: 0.178743\tvalid_1's binary_logloss: 0.496786\n",
            "[85]\ttraining's binary_logloss: 0.173625\tvalid_1's binary_logloss: 0.497788\n",
            "[90]\ttraining's binary_logloss: 0.166724\tvalid_1's binary_logloss: 0.500012\n",
            "[95]\ttraining's binary_logloss: 0.16063\tvalid_1's binary_logloss: 0.505977\n",
            "[100]\ttraining's binary_logloss: 0.156173\tvalid_1's binary_logloss: 0.515546\n",
            "[105]\ttraining's binary_logloss: 0.151251\tvalid_1's binary_logloss: 0.519448\n",
            "[110]\ttraining's binary_logloss: 0.146907\tvalid_1's binary_logloss: 0.52599\n",
            "[115]\ttraining's binary_logloss: 0.142245\tvalid_1's binary_logloss: 0.531579\n",
            "[120]\ttraining's binary_logloss: 0.137337\tvalid_1's binary_logloss: 0.540568\n",
            "Early stopping, best iteration is:\n",
            "[23]\ttraining's binary_logloss: 0.321665\tvalid_1's binary_logloss: 0.439754\n"
          ],
          "name": "stdout"
        },
        {
          "output_type": "stream",
          "text": [
            "bagging, val_score: 0.417726:  20%|##        | 2/10 [00:00<00:03,  2.34it/s][I 2020-07-16 12:31:50,619] Finished trial#28 with value: 0.43975373234863 with parameters: {'bagging_fraction': 0.9372723931229469, 'bagging_freq': 1}. Best is trial#27 with value: 0.41772564912871557.\n",
            "bagging, val_score: 0.417726:  20%|##        | 2/10 [00:01<00:03,  2.34it/s]"
          ],
          "name": "stderr"
        },
        {
          "output_type": "stream",
          "text": [
            "Training until validation scores don't improve for 100 rounds.\n",
            "[5]\ttraining's binary_logloss: 0.518144\tvalid_1's binary_logloss: 0.567049\n",
            "[10]\ttraining's binary_logloss: 0.450789\tvalid_1's binary_logloss: 0.515938\n",
            "[15]\ttraining's binary_logloss: 0.406181\tvalid_1's binary_logloss: 0.489692\n",
            "[20]\ttraining's binary_logloss: 0.374726\tvalid_1's binary_logloss: 0.474631\n",
            "[25]\ttraining's binary_logloss: 0.35671\tvalid_1's binary_logloss: 0.468855\n",
            "[30]\ttraining's binary_logloss: 0.34385\tvalid_1's binary_logloss: 0.473902\n",
            "[35]\ttraining's binary_logloss: 0.332524\tvalid_1's binary_logloss: 0.481755\n",
            "[40]\ttraining's binary_logloss: 0.323023\tvalid_1's binary_logloss: 0.486218\n",
            "[45]\ttraining's binary_logloss: 0.316268\tvalid_1's binary_logloss: 0.477582\n",
            "[50]\ttraining's binary_logloss: 0.310315\tvalid_1's binary_logloss: 0.467124\n",
            "[55]\ttraining's binary_logloss: 0.300576\tvalid_1's binary_logloss: 0.465915\n",
            "[60]\ttraining's binary_logloss: 0.291654\tvalid_1's binary_logloss: 0.467825\n",
            "[65]\ttraining's binary_logloss: 0.284013\tvalid_1's binary_logloss: 0.464347\n",
            "[70]\ttraining's binary_logloss: 0.276774\tvalid_1's binary_logloss: 0.466184\n",
            "[75]\ttraining's binary_logloss: 0.271965\tvalid_1's binary_logloss: 0.481387\n",
            "[80]\ttraining's binary_logloss: 0.267965\tvalid_1's binary_logloss: 0.484732\n",
            "[85]\ttraining's binary_logloss: 0.26295\tvalid_1's binary_logloss: 0.483281\n",
            "[90]\ttraining's binary_logloss: 0.258754\tvalid_1's binary_logloss: 0.481669\n",
            "[95]\ttraining's binary_logloss: 0.253611\tvalid_1's binary_logloss: 0.47998\n",
            "[100]\ttraining's binary_logloss: 0.248906\tvalid_1's binary_logloss: 0.479367\n",
            "[105]\ttraining's binary_logloss: 0.246877\tvalid_1's binary_logloss: 0.483777\n",
            "[110]\ttraining's binary_logloss: 0.244056\tvalid_1's binary_logloss: 0.478494\n",
            "[115]\ttraining's binary_logloss: 0.240361\tvalid_1's binary_logloss: 0.484412\n",
            "[120]\ttraining's binary_logloss: 0.235179\tvalid_1's binary_logloss: 0.479514\n",
            "[125]\ttraining's binary_logloss: 0.232452\tvalid_1's binary_logloss: 0.49122\n",
            "[130]\ttraining's binary_logloss: 0.229693\tvalid_1's binary_logloss: 0.493118\n",
            "[135]\ttraining's binary_logloss: 0.227146\tvalid_1's binary_logloss: 0.494722\n",
            "[140]\ttraining's binary_logloss: 0.220094\tvalid_1's binary_logloss: 0.485921\n",
            "[145]\ttraining's binary_logloss: 0.218664\tvalid_1's binary_logloss: 0.496803\n",
            "[150]\ttraining's binary_logloss: 0.216211\tvalid_1's binary_logloss: 0.494353\n",
            "[155]\ttraining's binary_logloss: 0.213513\tvalid_1's binary_logloss: 0.494908\n",
            "Early stopping, best iteration is:\n",
            "[56]\ttraining's binary_logloss: 0.299561\tvalid_1's binary_logloss: 0.46389\n"
          ],
          "name": "stdout"
        },
        {
          "output_type": "stream",
          "text": [
            "bagging, val_score: 0.417726:  30%|###       | 3/10 [00:01<00:03,  2.10it/s][I 2020-07-16 12:31:51,206] Finished trial#29 with value: 0.4638903256068105 with parameters: {'bagging_fraction': 0.5085609549042792, 'bagging_freq': 7}. Best is trial#27 with value: 0.41772564912871557.\n",
            "bagging, val_score: 0.417726:  30%|###       | 3/10 [00:01<00:03,  2.10it/s]"
          ],
          "name": "stderr"
        },
        {
          "output_type": "stream",
          "text": [
            "Training until validation scores don't improve for 100 rounds.\n",
            "[5]\ttraining's binary_logloss: 0.51583\tvalid_1's binary_logloss: 0.553705\n",
            "[10]\ttraining's binary_logloss: 0.444649\tvalid_1's binary_logloss: 0.490755\n",
            "[15]\ttraining's binary_logloss: 0.407784\tvalid_1's binary_logloss: 0.466693\n",
            "[20]\ttraining's binary_logloss: 0.386939\tvalid_1's binary_logloss: 0.458057\n",
            "[25]\ttraining's binary_logloss: 0.368508\tvalid_1's binary_logloss: 0.445072\n",
            "[30]\ttraining's binary_logloss: 0.356411\tvalid_1's binary_logloss: 0.445544\n",
            "[35]\ttraining's binary_logloss: 0.345683\tvalid_1's binary_logloss: 0.450252\n",
            "[40]\ttraining's binary_logloss: 0.33673\tvalid_1's binary_logloss: 0.449363\n",
            "[45]\ttraining's binary_logloss: 0.329104\tvalid_1's binary_logloss: 0.449869\n",
            "[50]\ttraining's binary_logloss: 0.31997\tvalid_1's binary_logloss: 0.456418\n",
            "[55]\ttraining's binary_logloss: 0.310783\tvalid_1's binary_logloss: 0.447566\n",
            "[60]\ttraining's binary_logloss: 0.302907\tvalid_1's binary_logloss: 0.455153\n",
            "[65]\ttraining's binary_logloss: 0.299088\tvalid_1's binary_logloss: 0.458233\n",
            "[70]\ttraining's binary_logloss: 0.295604\tvalid_1's binary_logloss: 0.44771\n",
            "[75]\ttraining's binary_logloss: 0.289092\tvalid_1's binary_logloss: 0.458801\n",
            "[80]\ttraining's binary_logloss: 0.284118\tvalid_1's binary_logloss: 0.455628\n",
            "[85]\ttraining's binary_logloss: 0.278187\tvalid_1's binary_logloss: 0.462948\n",
            "[90]\ttraining's binary_logloss: 0.273864\tvalid_1's binary_logloss: 0.460305\n",
            "[95]\ttraining's binary_logloss: 0.270737\tvalid_1's binary_logloss: 0.476221\n",
            "[100]\ttraining's binary_logloss: 0.265931\tvalid_1's binary_logloss: 0.476315\n",
            "[105]\ttraining's binary_logloss: 0.260614\tvalid_1's binary_logloss: 0.471021\n",
            "[110]\ttraining's binary_logloss: 0.2565\tvalid_1's binary_logloss: 0.470882\n",
            "[115]\ttraining's binary_logloss: 0.25089\tvalid_1's binary_logloss: 0.465246\n",
            "[120]\ttraining's binary_logloss: 0.246838\tvalid_1's binary_logloss: 0.479052\n",
            "[125]\ttraining's binary_logloss: 0.242945\tvalid_1's binary_logloss: 0.472923\n",
            "Early stopping, best iteration is:\n",
            "[28]\ttraining's binary_logloss: 0.361143\tvalid_1's binary_logloss: 0.440684\n"
          ],
          "name": "stdout"
        },
        {
          "output_type": "stream",
          "text": [
            "bagging, val_score: 0.417726:  40%|####      | 4/10 [00:01<00:02,  2.09it/s][I 2020-07-16 12:31:51,683] Finished trial#30 with value: 0.4406839484310563 with parameters: {'bagging_fraction': 0.4390540594431999, 'bagging_freq': 2}. Best is trial#27 with value: 0.41772564912871557.\n",
            "bagging, val_score: 0.417726:  40%|####      | 4/10 [00:02<00:02,  2.09it/s]"
          ],
          "name": "stderr"
        },
        {
          "output_type": "stream",
          "text": [
            "Training until validation scores don't improve for 100 rounds.\n",
            "[5]\ttraining's binary_logloss: 0.495964\tvalid_1's binary_logloss: 0.542927\n",
            "[10]\ttraining's binary_logloss: 0.422282\tvalid_1's binary_logloss: 0.48284\n",
            "[15]\ttraining's binary_logloss: 0.371876\tvalid_1's binary_logloss: 0.461325\n",
            "[20]\ttraining's binary_logloss: 0.342865\tvalid_1's binary_logloss: 0.44946\n",
            "[25]\ttraining's binary_logloss: 0.321193\tvalid_1's binary_logloss: 0.444058\n",
            "[30]\ttraining's binary_logloss: 0.301941\tvalid_1's binary_logloss: 0.449429\n",
            "[35]\ttraining's binary_logloss: 0.28396\tvalid_1's binary_logloss: 0.449556\n",
            "[40]\ttraining's binary_logloss: 0.267348\tvalid_1's binary_logloss: 0.449815\n",
            "[45]\ttraining's binary_logloss: 0.253843\tvalid_1's binary_logloss: 0.451876\n",
            "[50]\ttraining's binary_logloss: 0.241646\tvalid_1's binary_logloss: 0.458906\n",
            "[55]\ttraining's binary_logloss: 0.231005\tvalid_1's binary_logloss: 0.459647\n",
            "[60]\ttraining's binary_logloss: 0.22192\tvalid_1's binary_logloss: 0.465529\n",
            "[65]\ttraining's binary_logloss: 0.212473\tvalid_1's binary_logloss: 0.465753\n",
            "[70]\ttraining's binary_logloss: 0.205693\tvalid_1's binary_logloss: 0.46273\n",
            "[75]\ttraining's binary_logloss: 0.198602\tvalid_1's binary_logloss: 0.469045\n",
            "[80]\ttraining's binary_logloss: 0.192117\tvalid_1's binary_logloss: 0.469115\n",
            "[85]\ttraining's binary_logloss: 0.186699\tvalid_1's binary_logloss: 0.474996\n",
            "[90]\ttraining's binary_logloss: 0.180925\tvalid_1's binary_logloss: 0.472405\n",
            "[95]\ttraining's binary_logloss: 0.174604\tvalid_1's binary_logloss: 0.480214\n",
            "[100]\ttraining's binary_logloss: 0.169673\tvalid_1's binary_logloss: 0.487173\n",
            "[105]\ttraining's binary_logloss: 0.165031\tvalid_1's binary_logloss: 0.485427\n",
            "[110]\ttraining's binary_logloss: 0.161184\tvalid_1's binary_logloss: 0.489444\n",
            "[115]\ttraining's binary_logloss: 0.156075\tvalid_1's binary_logloss: 0.493192\n",
            "[120]\ttraining's binary_logloss: 0.151114\tvalid_1's binary_logloss: 0.500627\n",
            "[125]\ttraining's binary_logloss: 0.147734\tvalid_1's binary_logloss: 0.502286\n",
            "Early stopping, best iteration is:\n",
            "[25]\ttraining's binary_logloss: 0.321193\tvalid_1's binary_logloss: 0.444058\n"
          ],
          "name": "stdout"
        },
        {
          "output_type": "stream",
          "text": [
            "bagging, val_score: 0.417726:  50%|#####     | 5/10 [00:02<00:02,  2.08it/s][I 2020-07-16 12:31:52,168] Finished trial#31 with value: 0.44405756492702664 with parameters: {'bagging_fraction': 0.8434475473223548, 'bagging_freq': 2}. Best is trial#27 with value: 0.41772564912871557.\n",
            "bagging, val_score: 0.417726:  50%|#####     | 5/10 [00:02<00:02,  2.08it/s]"
          ],
          "name": "stderr"
        },
        {
          "output_type": "stream",
          "text": [
            "Training until validation scores don't improve for 100 rounds.\n",
            "[5]\ttraining's binary_logloss: 0.520471\tvalid_1's binary_logloss: 0.570598\n",
            "[10]\ttraining's binary_logloss: 0.451001\tvalid_1's binary_logloss: 0.51505\n",
            "[15]\ttraining's binary_logloss: 0.411003\tvalid_1's binary_logloss: 0.49633\n",
            "[20]\ttraining's binary_logloss: 0.381715\tvalid_1's binary_logloss: 0.474171\n",
            "[25]\ttraining's binary_logloss: 0.365067\tvalid_1's binary_logloss: 0.468115\n",
            "[30]\ttraining's binary_logloss: 0.347865\tvalid_1's binary_logloss: 0.470152\n",
            "[35]\ttraining's binary_logloss: 0.337606\tvalid_1's binary_logloss: 0.474485\n",
            "[40]\ttraining's binary_logloss: 0.325279\tvalid_1's binary_logloss: 0.471841\n",
            "[45]\ttraining's binary_logloss: 0.320504\tvalid_1's binary_logloss: 0.463694\n",
            "[50]\ttraining's binary_logloss: 0.314079\tvalid_1's binary_logloss: 0.452962\n",
            "[55]\ttraining's binary_logloss: 0.305878\tvalid_1's binary_logloss: 0.461463\n",
            "[60]\ttraining's binary_logloss: 0.298401\tvalid_1's binary_logloss: 0.459299\n",
            "[65]\ttraining's binary_logloss: 0.291972\tvalid_1's binary_logloss: 0.462274\n",
            "[70]\ttraining's binary_logloss: 0.286061\tvalid_1's binary_logloss: 0.456368\n",
            "[75]\ttraining's binary_logloss: 0.280912\tvalid_1's binary_logloss: 0.475721\n",
            "[80]\ttraining's binary_logloss: 0.277463\tvalid_1's binary_logloss: 0.486462\n",
            "[85]\ttraining's binary_logloss: 0.273006\tvalid_1's binary_logloss: 0.48663\n",
            "[90]\ttraining's binary_logloss: 0.267474\tvalid_1's binary_logloss: 0.493317\n",
            "[95]\ttraining's binary_logloss: 0.263149\tvalid_1's binary_logloss: 0.495761\n",
            "[100]\ttraining's binary_logloss: 0.259231\tvalid_1's binary_logloss: 0.502805\n",
            "[105]\ttraining's binary_logloss: 0.256399\tvalid_1's binary_logloss: 0.508249\n",
            "[110]\ttraining's binary_logloss: 0.251573\tvalid_1's binary_logloss: 0.497335\n",
            "[115]\ttraining's binary_logloss: 0.249112\tvalid_1's binary_logloss: 0.494449\n",
            "[120]\ttraining's binary_logloss: 0.24658\tvalid_1's binary_logloss: 0.498327\n",
            "[125]\ttraining's binary_logloss: 0.243239\tvalid_1's binary_logloss: 0.507792\n",
            "[130]\ttraining's binary_logloss: 0.240934\tvalid_1's binary_logloss: 0.503904\n",
            "[135]\ttraining's binary_logloss: 0.238847\tvalid_1's binary_logloss: 0.503393\n",
            "[140]\ttraining's binary_logloss: 0.233748\tvalid_1's binary_logloss: 0.492473\n",
            "[145]\ttraining's binary_logloss: 0.231768\tvalid_1's binary_logloss: 0.493886\n",
            "[150]\ttraining's binary_logloss: 0.228649\tvalid_1's binary_logloss: 0.494195\n",
            "Early stopping, best iteration is:\n",
            "[50]\ttraining's binary_logloss: 0.314079\tvalid_1's binary_logloss: 0.452962\n"
          ],
          "name": "stdout"
        },
        {
          "output_type": "stream",
          "text": [
            "bagging, val_score: 0.417726:  60%|######    | 6/10 [00:03<00:01,  2.00it/s][I 2020-07-16 12:31:52,723] Finished trial#32 with value: 0.45296207245667575 with parameters: {'bagging_fraction': 0.4606303210563779, 'bagging_freq': 7}. Best is trial#27 with value: 0.41772564912871557.\n",
            "bagging, val_score: 0.417726:  60%|######    | 6/10 [00:03<00:01,  2.00it/s]"
          ],
          "name": "stderr"
        },
        {
          "output_type": "stream",
          "text": [
            "Training until validation scores don't improve for 100 rounds.\n",
            "[5]\ttraining's binary_logloss: 0.517885\tvalid_1's binary_logloss: 0.56787\n",
            "[10]\ttraining's binary_logloss: 0.450556\tvalid_1's binary_logloss: 0.516409\n",
            "[15]\ttraining's binary_logloss: 0.40467\tvalid_1's binary_logloss: 0.486878\n",
            "[20]\ttraining's binary_logloss: 0.372632\tvalid_1's binary_logloss: 0.4701\n",
            "[25]\ttraining's binary_logloss: 0.355149\tvalid_1's binary_logloss: 0.468675\n",
            "[30]\ttraining's binary_logloss: 0.339508\tvalid_1's binary_logloss: 0.469406\n",
            "[35]\ttraining's binary_logloss: 0.328792\tvalid_1's binary_logloss: 0.471707\n",
            "[40]\ttraining's binary_logloss: 0.318942\tvalid_1's binary_logloss: 0.472425\n",
            "[45]\ttraining's binary_logloss: 0.312217\tvalid_1's binary_logloss: 0.461952\n",
            "[50]\ttraining's binary_logloss: 0.306577\tvalid_1's binary_logloss: 0.450767\n",
            "[55]\ttraining's binary_logloss: 0.296029\tvalid_1's binary_logloss: 0.458688\n",
            "[60]\ttraining's binary_logloss: 0.286777\tvalid_1's binary_logloss: 0.465794\n",
            "[65]\ttraining's binary_logloss: 0.278816\tvalid_1's binary_logloss: 0.468169\n",
            "[70]\ttraining's binary_logloss: 0.272418\tvalid_1's binary_logloss: 0.468925\n",
            "[75]\ttraining's binary_logloss: 0.267855\tvalid_1's binary_logloss: 0.481104\n",
            "[80]\ttraining's binary_logloss: 0.263816\tvalid_1's binary_logloss: 0.484408\n",
            "[85]\ttraining's binary_logloss: 0.2599\tvalid_1's binary_logloss: 0.47987\n",
            "[90]\ttraining's binary_logloss: 0.255165\tvalid_1's binary_logloss: 0.476154\n",
            "[95]\ttraining's binary_logloss: 0.251359\tvalid_1's binary_logloss: 0.477911\n",
            "[100]\ttraining's binary_logloss: 0.246424\tvalid_1's binary_logloss: 0.478334\n",
            "[105]\ttraining's binary_logloss: 0.243779\tvalid_1's binary_logloss: 0.486046\n",
            "[110]\ttraining's binary_logloss: 0.239557\tvalid_1's binary_logloss: 0.479902\n",
            "[115]\ttraining's binary_logloss: 0.23534\tvalid_1's binary_logloss: 0.484496\n",
            "[120]\ttraining's binary_logloss: 0.232325\tvalid_1's binary_logloss: 0.49171\n",
            "[125]\ttraining's binary_logloss: 0.229487\tvalid_1's binary_logloss: 0.498448\n",
            "[130]\ttraining's binary_logloss: 0.226239\tvalid_1's binary_logloss: 0.499587\n",
            "[135]\ttraining's binary_logloss: 0.222814\tvalid_1's binary_logloss: 0.498079\n",
            "[140]\ttraining's binary_logloss: 0.217773\tvalid_1's binary_logloss: 0.48403\n",
            "[145]\ttraining's binary_logloss: 0.214309\tvalid_1's binary_logloss: 0.495584\n",
            "[150]\ttraining's binary_logloss: 0.211662\tvalid_1's binary_logloss: 0.502703\n",
            "Early stopping, best iteration is:\n",
            "[50]\ttraining's binary_logloss: 0.306577\tvalid_1's binary_logloss: 0.450767\n"
          ],
          "name": "stdout"
        },
        {
          "output_type": "stream",
          "text": [
            "bagging, val_score: 0.417726:  70%|#######   | 7/10 [00:03<00:01,  1.91it/s][I 2020-07-16 12:31:53,293] Finished trial#33 with value: 0.4507668398987225 with parameters: {'bagging_fraction': 0.5248453019327135, 'bagging_freq': 7}. Best is trial#27 with value: 0.41772564912871557.\n",
            "bagging, val_score: 0.417726:  70%|#######   | 7/10 [00:03<00:01,  1.91it/s]"
          ],
          "name": "stderr"
        },
        {
          "output_type": "stream",
          "text": [
            "Training until validation scores don't improve for 100 rounds.\n",
            "[5]\ttraining's binary_logloss: 0.50803\tvalid_1's binary_logloss: 0.555022\n",
            "[10]\ttraining's binary_logloss: 0.437172\tvalid_1's binary_logloss: 0.488556\n",
            "[15]\ttraining's binary_logloss: 0.394816\tvalid_1's binary_logloss: 0.457492\n",
            "[20]\ttraining's binary_logloss: 0.368734\tvalid_1's binary_logloss: 0.447272\n",
            "[25]\ttraining's binary_logloss: 0.345144\tvalid_1's binary_logloss: 0.443451\n",
            "[30]\ttraining's binary_logloss: 0.327122\tvalid_1's binary_logloss: 0.436876\n",
            "[35]\ttraining's binary_logloss: 0.314029\tvalid_1's binary_logloss: 0.443096\n",
            "[40]\ttraining's binary_logloss: 0.303785\tvalid_1's binary_logloss: 0.443613\n",
            "[45]\ttraining's binary_logloss: 0.291943\tvalid_1's binary_logloss: 0.44538\n",
            "[50]\ttraining's binary_logloss: 0.279952\tvalid_1's binary_logloss: 0.444383\n",
            "[55]\ttraining's binary_logloss: 0.270518\tvalid_1's binary_logloss: 0.440238\n",
            "[60]\ttraining's binary_logloss: 0.263933\tvalid_1's binary_logloss: 0.455973\n",
            "[65]\ttraining's binary_logloss: 0.25487\tvalid_1's binary_logloss: 0.458697\n",
            "[70]\ttraining's binary_logloss: 0.247883\tvalid_1's binary_logloss: 0.454742\n",
            "[75]\ttraining's binary_logloss: 0.241433\tvalid_1's binary_logloss: 0.462549\n",
            "[80]\ttraining's binary_logloss: 0.236046\tvalid_1's binary_logloss: 0.465224\n",
            "[85]\ttraining's binary_logloss: 0.229877\tvalid_1's binary_logloss: 0.470157\n",
            "[90]\ttraining's binary_logloss: 0.223836\tvalid_1's binary_logloss: 0.47146\n",
            "[95]\ttraining's binary_logloss: 0.218831\tvalid_1's binary_logloss: 0.47923\n",
            "[100]\ttraining's binary_logloss: 0.212844\tvalid_1's binary_logloss: 0.482625\n",
            "[105]\ttraining's binary_logloss: 0.208419\tvalid_1's binary_logloss: 0.48199\n",
            "[110]\ttraining's binary_logloss: 0.204778\tvalid_1's binary_logloss: 0.490726\n",
            "[115]\ttraining's binary_logloss: 0.199822\tvalid_1's binary_logloss: 0.497241\n",
            "[120]\ttraining's binary_logloss: 0.19614\tvalid_1's binary_logloss: 0.510731\n",
            "[125]\ttraining's binary_logloss: 0.192823\tvalid_1's binary_logloss: 0.510979\n",
            "Early stopping, best iteration is:\n",
            "[29]\ttraining's binary_logloss: 0.330226\tvalid_1's binary_logloss: 0.436114\n"
          ],
          "name": "stdout"
        },
        {
          "output_type": "stream",
          "text": [
            "bagging, val_score: 0.417726:  80%|########  | 8/10 [00:04<00:01,  1.93it/s][I 2020-07-16 12:31:53,793] Finished trial#34 with value: 0.43611363173523304 with parameters: {'bagging_fraction': 0.6288723791503896, 'bagging_freq': 4}. Best is trial#27 with value: 0.41772564912871557.\n",
            "bagging, val_score: 0.417726:  80%|########  | 8/10 [00:04<00:01,  1.93it/s]"
          ],
          "name": "stderr"
        },
        {
          "output_type": "stream",
          "text": [
            "Training until validation scores don't improve for 100 rounds.\n",
            "[5]\ttraining's binary_logloss: 0.518129\tvalid_1's binary_logloss: 0.571067\n",
            "[10]\ttraining's binary_logloss: 0.44622\tvalid_1's binary_logloss: 0.498782\n",
            "[15]\ttraining's binary_logloss: 0.403429\tvalid_1's binary_logloss: 0.478622\n",
            "[20]\ttraining's binary_logloss: 0.378643\tvalid_1's binary_logloss: 0.459329\n",
            "[25]\ttraining's binary_logloss: 0.354874\tvalid_1's binary_logloss: 0.459868\n",
            "[30]\ttraining's binary_logloss: 0.338059\tvalid_1's binary_logloss: 0.453939\n",
            "[35]\ttraining's binary_logloss: 0.328658\tvalid_1's binary_logloss: 0.453714\n",
            "[40]\ttraining's binary_logloss: 0.319447\tvalid_1's binary_logloss: 0.450601\n",
            "[45]\ttraining's binary_logloss: 0.311229\tvalid_1's binary_logloss: 0.450185\n",
            "[50]\ttraining's binary_logloss: 0.300539\tvalid_1's binary_logloss: 0.45339\n",
            "[55]\ttraining's binary_logloss: 0.291858\tvalid_1's binary_logloss: 0.452729\n",
            "[60]\ttraining's binary_logloss: 0.28647\tvalid_1's binary_logloss: 0.455803\n",
            "[65]\ttraining's binary_logloss: 0.279758\tvalid_1's binary_logloss: 0.456767\n",
            "[70]\ttraining's binary_logloss: 0.270023\tvalid_1's binary_logloss: 0.476492\n",
            "[75]\ttraining's binary_logloss: 0.262134\tvalid_1's binary_logloss: 0.485706\n",
            "[80]\ttraining's binary_logloss: 0.257937\tvalid_1's binary_logloss: 0.488753\n",
            "[85]\ttraining's binary_logloss: 0.253867\tvalid_1's binary_logloss: 0.489797\n",
            "[90]\ttraining's binary_logloss: 0.250966\tvalid_1's binary_logloss: 0.498122\n",
            "[95]\ttraining's binary_logloss: 0.246699\tvalid_1's binary_logloss: 0.492104\n",
            "[100]\ttraining's binary_logloss: 0.241356\tvalid_1's binary_logloss: 0.490838\n",
            "[105]\ttraining's binary_logloss: 0.237597\tvalid_1's binary_logloss: 0.490117\n",
            "[110]\ttraining's binary_logloss: 0.231946\tvalid_1's binary_logloss: 0.48523\n",
            "[115]\ttraining's binary_logloss: 0.227822\tvalid_1's binary_logloss: 0.4788\n",
            "[120]\ttraining's binary_logloss: 0.22454\tvalid_1's binary_logloss: 0.482624\n",
            "[125]\ttraining's binary_logloss: 0.22126\tvalid_1's binary_logloss: 0.487998\n",
            "[130]\ttraining's binary_logloss: 0.218645\tvalid_1's binary_logloss: 0.485313\n",
            "[135]\ttraining's binary_logloss: 0.213852\tvalid_1's binary_logloss: 0.486879\n",
            "Early stopping, best iteration is:\n",
            "[39]\ttraining's binary_logloss: 0.321311\tvalid_1's binary_logloss: 0.448738\n"
          ],
          "name": "stdout"
        },
        {
          "output_type": "stream",
          "text": [
            "bagging, val_score: 0.417726:  90%|######### | 9/10 [00:04<00:00,  1.92it/s][I 2020-07-16 12:31:54,321] Finished trial#35 with value: 0.44873801919215867 with parameters: {'bagging_fraction': 0.53878950046587, 'bagging_freq': 5}. Best is trial#27 with value: 0.41772564912871557.\n",
            "bagging, val_score: 0.417726:  90%|######### | 9/10 [00:04<00:00,  1.92it/s]"
          ],
          "name": "stderr"
        },
        {
          "output_type": "stream",
          "text": [
            "Training until validation scores don't improve for 100 rounds.\n",
            "[5]\ttraining's binary_logloss: 0.502537\tvalid_1's binary_logloss: 0.549043\n",
            "[10]\ttraining's binary_logloss: 0.429694\tvalid_1's binary_logloss: 0.487109\n",
            "[15]\ttraining's binary_logloss: 0.38667\tvalid_1's binary_logloss: 0.46217\n",
            "[20]\ttraining's binary_logloss: 0.359311\tvalid_1's binary_logloss: 0.461564\n",
            "[25]\ttraining's binary_logloss: 0.338987\tvalid_1's binary_logloss: 0.459386\n",
            "[30]\ttraining's binary_logloss: 0.321307\tvalid_1's binary_logloss: 0.45655\n",
            "[35]\ttraining's binary_logloss: 0.306254\tvalid_1's binary_logloss: 0.460781\n",
            "[40]\ttraining's binary_logloss: 0.29489\tvalid_1's binary_logloss: 0.463311\n",
            "[45]\ttraining's binary_logloss: 0.282262\tvalid_1's binary_logloss: 0.457631\n",
            "[50]\ttraining's binary_logloss: 0.268626\tvalid_1's binary_logloss: 0.45593\n",
            "[55]\ttraining's binary_logloss: 0.259598\tvalid_1's binary_logloss: 0.465971\n",
            "[60]\ttraining's binary_logloss: 0.253166\tvalid_1's binary_logloss: 0.476181\n",
            "[65]\ttraining's binary_logloss: 0.243694\tvalid_1's binary_logloss: 0.464674\n",
            "[70]\ttraining's binary_logloss: 0.23515\tvalid_1's binary_logloss: 0.458257\n",
            "[75]\ttraining's binary_logloss: 0.227622\tvalid_1's binary_logloss: 0.466639\n",
            "[80]\ttraining's binary_logloss: 0.220622\tvalid_1's binary_logloss: 0.468269\n",
            "[85]\ttraining's binary_logloss: 0.215781\tvalid_1's binary_logloss: 0.474624\n",
            "[90]\ttraining's binary_logloss: 0.210204\tvalid_1's binary_logloss: 0.473288\n",
            "[95]\ttraining's binary_logloss: 0.206024\tvalid_1's binary_logloss: 0.481156\n",
            "[100]\ttraining's binary_logloss: 0.200312\tvalid_1's binary_logloss: 0.480349\n",
            "[105]\ttraining's binary_logloss: 0.195937\tvalid_1's binary_logloss: 0.485259\n",
            "[110]\ttraining's binary_logloss: 0.191587\tvalid_1's binary_logloss: 0.487044\n",
            "[115]\ttraining's binary_logloss: 0.187299\tvalid_1's binary_logloss: 0.489335\n",
            "[120]\ttraining's binary_logloss: 0.181907\tvalid_1's binary_logloss: 0.497028\n",
            "[125]\ttraining's binary_logloss: 0.178699\tvalid_1's binary_logloss: 0.495389\n",
            "[130]\ttraining's binary_logloss: 0.173786\tvalid_1's binary_logloss: 0.495497\n",
            "[135]\ttraining's binary_logloss: 0.170117\tvalid_1's binary_logloss: 0.49818\n",
            "[140]\ttraining's binary_logloss: 0.167176\tvalid_1's binary_logloss: 0.50545\n",
            "[145]\ttraining's binary_logloss: 0.163304\tvalid_1's binary_logloss: 0.52049\n",
            "Early stopping, best iteration is:\n",
            "[49]\ttraining's binary_logloss: 0.271012\tvalid_1's binary_logloss: 0.455649\n"
          ],
          "name": "stdout"
        },
        {
          "output_type": "stream",
          "text": [
            "bagging, val_score: 0.417726: 100%|##########| 10/10 [00:05<00:00,  1.87it/s][I 2020-07-16 12:31:54,906] Finished trial#36 with value: 0.4556487963023926 with parameters: {'bagging_fraction': 0.6911321336849517, 'bagging_freq': 4}. Best is trial#27 with value: 0.41772564912871557.\n",
            "bagging, val_score: 0.417726: 100%|##########| 10/10 [00:05<00:00,  1.87it/s]\n",
            "feature_fraction_stage2, val_score: 0.417726:   0%|          | 0/6 [00:00<?, ?it/s]"
          ],
          "name": "stderr"
        },
        {
          "output_type": "stream",
          "text": [
            "Training until validation scores don't improve for 100 rounds.\n",
            "[5]\ttraining's binary_logloss: 0.518346\tvalid_1's binary_logloss: 0.569509\n",
            "[10]\ttraining's binary_logloss: 0.447862\tvalid_1's binary_logloss: 0.503478\n",
            "[15]\ttraining's binary_logloss: 0.40612\tvalid_1's binary_logloss: 0.467851\n",
            "[20]\ttraining's binary_logloss: 0.382742\tvalid_1's binary_logloss: 0.446938\n",
            "[25]\ttraining's binary_logloss: 0.360238\tvalid_1's binary_logloss: 0.434683\n",
            "[30]\ttraining's binary_logloss: 0.346503\tvalid_1's binary_logloss: 0.429209\n",
            "[35]\ttraining's binary_logloss: 0.333424\tvalid_1's binary_logloss: 0.427781\n",
            "[40]\ttraining's binary_logloss: 0.323772\tvalid_1's binary_logloss: 0.430435\n",
            "[45]\ttraining's binary_logloss: 0.315902\tvalid_1's binary_logloss: 0.419569\n",
            "[50]\ttraining's binary_logloss: 0.307709\tvalid_1's binary_logloss: 0.416527\n",
            "[55]\ttraining's binary_logloss: 0.29965\tvalid_1's binary_logloss: 0.426386\n",
            "[60]\ttraining's binary_logloss: 0.295084\tvalid_1's binary_logloss: 0.425955\n",
            "[65]\ttraining's binary_logloss: 0.287359\tvalid_1's binary_logloss: 0.428697\n",
            "[70]\ttraining's binary_logloss: 0.280661\tvalid_1's binary_logloss: 0.425532\n",
            "[75]\ttraining's binary_logloss: 0.273429\tvalid_1's binary_logloss: 0.438734\n",
            "[80]\ttraining's binary_logloss: 0.268571\tvalid_1's binary_logloss: 0.447808\n",
            "[85]\ttraining's binary_logloss: 0.265936\tvalid_1's binary_logloss: 0.447846\n",
            "[90]\ttraining's binary_logloss: 0.261743\tvalid_1's binary_logloss: 0.450835\n",
            "[95]\ttraining's binary_logloss: 0.257028\tvalid_1's binary_logloss: 0.450044\n",
            "[100]\ttraining's binary_logloss: 0.251209\tvalid_1's binary_logloss: 0.451128\n",
            "[105]\ttraining's binary_logloss: 0.245783\tvalid_1's binary_logloss: 0.450952\n",
            "[110]\ttraining's binary_logloss: 0.24281\tvalid_1's binary_logloss: 0.455771\n",
            "[115]\ttraining's binary_logloss: 0.238822\tvalid_1's binary_logloss: 0.463633\n",
            "[120]\ttraining's binary_logloss: 0.237213\tvalid_1's binary_logloss: 0.46151\n",
            "[125]\ttraining's binary_logloss: 0.230843\tvalid_1's binary_logloss: 0.455799\n",
            "[130]\ttraining's binary_logloss: 0.228203\tvalid_1's binary_logloss: 0.460847\n",
            "[135]\ttraining's binary_logloss: 0.225345\tvalid_1's binary_logloss: 0.464137\n",
            "[140]\ttraining's binary_logloss: 0.221364\tvalid_1's binary_logloss: 0.467827\n",
            "[145]\ttraining's binary_logloss: 0.218902\tvalid_1's binary_logloss: 0.473393\n",
            "Early stopping, best iteration is:\n",
            "[48]\ttraining's binary_logloss: 0.311818\tvalid_1's binary_logloss: 0.415806\n"
          ],
          "name": "stdout"
        },
        {
          "output_type": "stream",
          "text": [
            "feature_fraction_stage2, val_score: 0.415806:  17%|#6        | 1/6 [00:00<00:02,  2.12it/s][I 2020-07-16 12:31:55,530] Finished trial#37 with value: 0.41580584591378783 with parameters: {'feature_fraction': 0.7520000000000001}. Best is trial#37 with value: 0.41580584591378783.\n",
            "feature_fraction_stage2, val_score: 0.415806:  17%|#6        | 1/6 [00:00<00:02,  2.12it/s]"
          ],
          "name": "stderr"
        },
        {
          "output_type": "stream",
          "text": [
            "Training until validation scores don't improve for 100 rounds.\n",
            "[5]\ttraining's binary_logloss: 0.516113\tvalid_1's binary_logloss: 0.565925\n",
            "[10]\ttraining's binary_logloss: 0.44227\tvalid_1's binary_logloss: 0.498498\n",
            "[15]\ttraining's binary_logloss: 0.403365\tvalid_1's binary_logloss: 0.464795\n",
            "[20]\ttraining's binary_logloss: 0.379495\tvalid_1's binary_logloss: 0.445918\n",
            "[25]\ttraining's binary_logloss: 0.355253\tvalid_1's binary_logloss: 0.43118\n",
            "[30]\ttraining's binary_logloss: 0.342101\tvalid_1's binary_logloss: 0.42898\n",
            "[35]\ttraining's binary_logloss: 0.329172\tvalid_1's binary_logloss: 0.4347\n",
            "[40]\ttraining's binary_logloss: 0.319041\tvalid_1's binary_logloss: 0.435494\n",
            "[45]\ttraining's binary_logloss: 0.312482\tvalid_1's binary_logloss: 0.426259\n",
            "[50]\ttraining's binary_logloss: 0.305396\tvalid_1's binary_logloss: 0.422461\n",
            "[55]\ttraining's binary_logloss: 0.296721\tvalid_1's binary_logloss: 0.42812\n",
            "[60]\ttraining's binary_logloss: 0.293213\tvalid_1's binary_logloss: 0.433906\n",
            "[65]\ttraining's binary_logloss: 0.2818\tvalid_1's binary_logloss: 0.439399\n",
            "[70]\ttraining's binary_logloss: 0.274708\tvalid_1's binary_logloss: 0.437225\n",
            "[75]\ttraining's binary_logloss: 0.266757\tvalid_1's binary_logloss: 0.448844\n",
            "[80]\ttraining's binary_logloss: 0.26184\tvalid_1's binary_logloss: 0.462496\n",
            "[85]\ttraining's binary_logloss: 0.257742\tvalid_1's binary_logloss: 0.465012\n",
            "[90]\ttraining's binary_logloss: 0.2528\tvalid_1's binary_logloss: 0.469032\n",
            "[95]\ttraining's binary_logloss: 0.246773\tvalid_1's binary_logloss: 0.465454\n",
            "[100]\ttraining's binary_logloss: 0.241034\tvalid_1's binary_logloss: 0.471528\n",
            "[105]\ttraining's binary_logloss: 0.23485\tvalid_1's binary_logloss: 0.478717\n",
            "[110]\ttraining's binary_logloss: 0.230545\tvalid_1's binary_logloss: 0.482076\n",
            "[115]\ttraining's binary_logloss: 0.227702\tvalid_1's binary_logloss: 0.487039\n",
            "[120]\ttraining's binary_logloss: 0.22612\tvalid_1's binary_logloss: 0.490115\n",
            "[125]\ttraining's binary_logloss: 0.219084\tvalid_1's binary_logloss: 0.489004\n",
            "[130]\ttraining's binary_logloss: 0.215731\tvalid_1's binary_logloss: 0.496677\n",
            "[135]\ttraining's binary_logloss: 0.211872\tvalid_1's binary_logloss: 0.497468\n",
            "[140]\ttraining's binary_logloss: 0.20769\tvalid_1's binary_logloss: 0.492973\n",
            "[145]\ttraining's binary_logloss: 0.20291\tvalid_1's binary_logloss: 0.495554\n",
            "Early stopping, best iteration is:\n",
            "[48]\ttraining's binary_logloss: 0.309254\tvalid_1's binary_logloss: 0.419528\n"
          ],
          "name": "stdout"
        },
        {
          "output_type": "stream",
          "text": [
            "feature_fraction_stage2, val_score: 0.415806:  33%|###3      | 2/6 [00:01<00:01,  2.02it/s][I 2020-07-16 12:31:56,078] Finished trial#38 with value: 0.41952835719055753 with parameters: {'feature_fraction': 0.8480000000000001}. Best is trial#37 with value: 0.41580584591378783.\n",
            "feature_fraction_stage2, val_score: 0.415806:  33%|###3      | 2/6 [00:01<00:01,  2.02it/s]"
          ],
          "name": "stderr"
        },
        {
          "output_type": "stream",
          "text": [
            "Training until validation scores don't improve for 100 rounds.\n",
            "[5]\ttraining's binary_logloss: 0.518346\tvalid_1's binary_logloss: 0.569509\n",
            "[10]\ttraining's binary_logloss: 0.447862\tvalid_1's binary_logloss: 0.503478\n",
            "[15]\ttraining's binary_logloss: 0.40612\tvalid_1's binary_logloss: 0.467851\n",
            "[20]\ttraining's binary_logloss: 0.382742\tvalid_1's binary_logloss: 0.446938\n",
            "[25]\ttraining's binary_logloss: 0.360238\tvalid_1's binary_logloss: 0.434683\n",
            "[30]\ttraining's binary_logloss: 0.346503\tvalid_1's binary_logloss: 0.429209\n",
            "[35]\ttraining's binary_logloss: 0.333424\tvalid_1's binary_logloss: 0.427781\n",
            "[40]\ttraining's binary_logloss: 0.323772\tvalid_1's binary_logloss: 0.430435\n",
            "[45]\ttraining's binary_logloss: 0.315902\tvalid_1's binary_logloss: 0.419569\n",
            "[50]\ttraining's binary_logloss: 0.307709\tvalid_1's binary_logloss: 0.416527\n",
            "[55]\ttraining's binary_logloss: 0.29965\tvalid_1's binary_logloss: 0.426386\n",
            "[60]\ttraining's binary_logloss: 0.295084\tvalid_1's binary_logloss: 0.425955\n",
            "[65]\ttraining's binary_logloss: 0.287359\tvalid_1's binary_logloss: 0.428697\n",
            "[70]\ttraining's binary_logloss: 0.280661\tvalid_1's binary_logloss: 0.425532\n",
            "[75]\ttraining's binary_logloss: 0.273429\tvalid_1's binary_logloss: 0.438734\n",
            "[80]\ttraining's binary_logloss: 0.268571\tvalid_1's binary_logloss: 0.447808\n",
            "[85]\ttraining's binary_logloss: 0.265936\tvalid_1's binary_logloss: 0.447846\n",
            "[90]\ttraining's binary_logloss: 0.261743\tvalid_1's binary_logloss: 0.450835\n",
            "[95]\ttraining's binary_logloss: 0.257028\tvalid_1's binary_logloss: 0.450044\n",
            "[100]\ttraining's binary_logloss: 0.251209\tvalid_1's binary_logloss: 0.451128\n",
            "[105]\ttraining's binary_logloss: 0.245783\tvalid_1's binary_logloss: 0.450952\n",
            "[110]\ttraining's binary_logloss: 0.24281\tvalid_1's binary_logloss: 0.455771\n",
            "[115]\ttraining's binary_logloss: 0.238822\tvalid_1's binary_logloss: 0.463633\n",
            "[120]\ttraining's binary_logloss: 0.237213\tvalid_1's binary_logloss: 0.46151\n",
            "[125]\ttraining's binary_logloss: 0.230843\tvalid_1's binary_logloss: 0.455799\n",
            "[130]\ttraining's binary_logloss: 0.228203\tvalid_1's binary_logloss: 0.460847\n",
            "[135]\ttraining's binary_logloss: 0.225345\tvalid_1's binary_logloss: 0.464137\n",
            "[140]\ttraining's binary_logloss: 0.221364\tvalid_1's binary_logloss: 0.467827\n",
            "[145]\ttraining's binary_logloss: 0.218902\tvalid_1's binary_logloss: 0.473393\n",
            "Early stopping, best iteration is:\n",
            "[48]\ttraining's binary_logloss: 0.311818\tvalid_1's binary_logloss: 0.415806\n"
          ],
          "name": "stdout"
        },
        {
          "output_type": "stream",
          "text": [
            "feature_fraction_stage2, val_score: 0.415806:  50%|#####     | 3/6 [00:01<00:01,  1.89it/s][I 2020-07-16 12:31:56,700] Finished trial#39 with value: 0.41580584591378783 with parameters: {'feature_fraction': 0.784}. Best is trial#37 with value: 0.41580584591378783.\n",
            "feature_fraction_stage2, val_score: 0.415806:  50%|#####     | 3/6 [00:01<00:01,  1.89it/s]"
          ],
          "name": "stderr"
        },
        {
          "output_type": "stream",
          "text": [
            "Training until validation scores don't improve for 100 rounds.\n",
            "[5]\ttraining's binary_logloss: 0.516113\tvalid_1's binary_logloss: 0.565925\n",
            "[10]\ttraining's binary_logloss: 0.44227\tvalid_1's binary_logloss: 0.498498\n",
            "[15]\ttraining's binary_logloss: 0.403365\tvalid_1's binary_logloss: 0.464795\n",
            "[20]\ttraining's binary_logloss: 0.379495\tvalid_1's binary_logloss: 0.445918\n",
            "[25]\ttraining's binary_logloss: 0.355253\tvalid_1's binary_logloss: 0.43118\n",
            "[30]\ttraining's binary_logloss: 0.342101\tvalid_1's binary_logloss: 0.42898\n",
            "[35]\ttraining's binary_logloss: 0.329172\tvalid_1's binary_logloss: 0.4347\n",
            "[40]\ttraining's binary_logloss: 0.319041\tvalid_1's binary_logloss: 0.435494\n",
            "[45]\ttraining's binary_logloss: 0.312482\tvalid_1's binary_logloss: 0.426259\n",
            "[50]\ttraining's binary_logloss: 0.305396\tvalid_1's binary_logloss: 0.422461\n",
            "[55]\ttraining's binary_logloss: 0.296721\tvalid_1's binary_logloss: 0.42812\n",
            "[60]\ttraining's binary_logloss: 0.293213\tvalid_1's binary_logloss: 0.433906\n",
            "[65]\ttraining's binary_logloss: 0.2818\tvalid_1's binary_logloss: 0.439399\n",
            "[70]\ttraining's binary_logloss: 0.274708\tvalid_1's binary_logloss: 0.437225\n",
            "[75]\ttraining's binary_logloss: 0.266757\tvalid_1's binary_logloss: 0.448844\n",
            "[80]\ttraining's binary_logloss: 0.26184\tvalid_1's binary_logloss: 0.462496\n",
            "[85]\ttraining's binary_logloss: 0.257742\tvalid_1's binary_logloss: 0.465012\n",
            "[90]\ttraining's binary_logloss: 0.2528\tvalid_1's binary_logloss: 0.469032\n",
            "[95]\ttraining's binary_logloss: 0.246773\tvalid_1's binary_logloss: 0.465454\n",
            "[100]\ttraining's binary_logloss: 0.241034\tvalid_1's binary_logloss: 0.471528\n",
            "[105]\ttraining's binary_logloss: 0.23485\tvalid_1's binary_logloss: 0.478717\n",
            "[110]\ttraining's binary_logloss: 0.230545\tvalid_1's binary_logloss: 0.482076\n",
            "[115]\ttraining's binary_logloss: 0.227702\tvalid_1's binary_logloss: 0.487039\n",
            "[120]\ttraining's binary_logloss: 0.22612\tvalid_1's binary_logloss: 0.490115\n",
            "[125]\ttraining's binary_logloss: 0.219084\tvalid_1's binary_logloss: 0.489004\n",
            "[130]\ttraining's binary_logloss: 0.215731\tvalid_1's binary_logloss: 0.496677\n",
            "[135]\ttraining's binary_logloss: 0.211872\tvalid_1's binary_logloss: 0.497468\n",
            "[140]\ttraining's binary_logloss: 0.20769\tvalid_1's binary_logloss: 0.492973\n",
            "[145]\ttraining's binary_logloss: 0.20291\tvalid_1's binary_logloss: 0.495554\n",
            "Early stopping, best iteration is:\n",
            "[48]\ttraining's binary_logloss: 0.309254\tvalid_1's binary_logloss: 0.419528\n"
          ],
          "name": "stdout"
        },
        {
          "output_type": "stream",
          "text": [
            "feature_fraction_stage2, val_score: 0.415806:  67%|######6   | 4/6 [00:02<00:01,  1.82it/s][I 2020-07-16 12:31:57,284] Finished trial#40 with value: 0.41952835719055753 with parameters: {'feature_fraction': 0.88}. Best is trial#37 with value: 0.41580584591378783.\n",
            "feature_fraction_stage2, val_score: 0.415806:  67%|######6   | 4/6 [00:02<00:01,  1.82it/s]"
          ],
          "name": "stderr"
        },
        {
          "output_type": "stream",
          "text": [
            "Training until validation scores don't improve for 100 rounds.\n",
            "[5]\ttraining's binary_logloss: 0.518346\tvalid_1's binary_logloss: 0.569509\n",
            "[10]\ttraining's binary_logloss: 0.447953\tvalid_1's binary_logloss: 0.507479\n",
            "[15]\ttraining's binary_logloss: 0.406303\tvalid_1's binary_logloss: 0.46934\n",
            "[20]\ttraining's binary_logloss: 0.382174\tvalid_1's binary_logloss: 0.450217\n",
            "[25]\ttraining's binary_logloss: 0.361251\tvalid_1's binary_logloss: 0.437751\n",
            "[30]\ttraining's binary_logloss: 0.344935\tvalid_1's binary_logloss: 0.433688\n",
            "[35]\ttraining's binary_logloss: 0.331721\tvalid_1's binary_logloss: 0.433348\n",
            "[40]\ttraining's binary_logloss: 0.321803\tvalid_1's binary_logloss: 0.432703\n",
            "[45]\ttraining's binary_logloss: 0.314676\tvalid_1's binary_logloss: 0.426438\n",
            "[50]\ttraining's binary_logloss: 0.3074\tvalid_1's binary_logloss: 0.420401\n",
            "[55]\ttraining's binary_logloss: 0.298767\tvalid_1's binary_logloss: 0.422239\n",
            "[60]\ttraining's binary_logloss: 0.294774\tvalid_1's binary_logloss: 0.42331\n",
            "[65]\ttraining's binary_logloss: 0.285313\tvalid_1's binary_logloss: 0.430199\n",
            "[70]\ttraining's binary_logloss: 0.2801\tvalid_1's binary_logloss: 0.431314\n",
            "[75]\ttraining's binary_logloss: 0.273753\tvalid_1's binary_logloss: 0.444051\n",
            "[80]\ttraining's binary_logloss: 0.26802\tvalid_1's binary_logloss: 0.458337\n",
            "[85]\ttraining's binary_logloss: 0.264574\tvalid_1's binary_logloss: 0.45805\n",
            "[90]\ttraining's binary_logloss: 0.25777\tvalid_1's binary_logloss: 0.462851\n",
            "[95]\ttraining's binary_logloss: 0.252279\tvalid_1's binary_logloss: 0.463506\n",
            "[100]\ttraining's binary_logloss: 0.246237\tvalid_1's binary_logloss: 0.468681\n",
            "[105]\ttraining's binary_logloss: 0.240502\tvalid_1's binary_logloss: 0.474724\n",
            "[110]\ttraining's binary_logloss: 0.236625\tvalid_1's binary_logloss: 0.479968\n",
            "[115]\ttraining's binary_logloss: 0.233044\tvalid_1's binary_logloss: 0.482049\n",
            "[120]\ttraining's binary_logloss: 0.231092\tvalid_1's binary_logloss: 0.48078\n",
            "[125]\ttraining's binary_logloss: 0.224683\tvalid_1's binary_logloss: 0.477106\n",
            "[130]\ttraining's binary_logloss: 0.221169\tvalid_1's binary_logloss: 0.478926\n",
            "[135]\ttraining's binary_logloss: 0.217727\tvalid_1's binary_logloss: 0.480857\n",
            "[140]\ttraining's binary_logloss: 0.214295\tvalid_1's binary_logloss: 0.4873\n",
            "[145]\ttraining's binary_logloss: 0.211206\tvalid_1's binary_logloss: 0.489421\n",
            "Early stopping, best iteration is:\n",
            "[48]\ttraining's binary_logloss: 0.31106\tvalid_1's binary_logloss: 0.417726\n"
          ],
          "name": "stdout"
        },
        {
          "output_type": "stream",
          "text": [
            "feature_fraction_stage2, val_score: 0.415806:  83%|########3 | 5/6 [00:02<00:00,  1.85it/s][I 2020-07-16 12:31:57,803] Finished trial#41 with value: 0.41772564912871557 with parameters: {'feature_fraction': 0.8160000000000001}. Best is trial#37 with value: 0.41580584591378783.\n",
            "feature_fraction_stage2, val_score: 0.415806:  83%|########3 | 5/6 [00:02<00:00,  1.85it/s]"
          ],
          "name": "stderr"
        },
        {
          "output_type": "stream",
          "text": [
            "Training until validation scores don't improve for 100 rounds.\n",
            "[5]\ttraining's binary_logloss: 0.520352\tvalid_1's binary_logloss: 0.570237\n",
            "[10]\ttraining's binary_logloss: 0.451426\tvalid_1's binary_logloss: 0.507966\n",
            "[15]\ttraining's binary_logloss: 0.409737\tvalid_1's binary_logloss: 0.471435\n",
            "[20]\ttraining's binary_logloss: 0.38768\tvalid_1's binary_logloss: 0.45072\n",
            "[25]\ttraining's binary_logloss: 0.364735\tvalid_1's binary_logloss: 0.436906\n",
            "[30]\ttraining's binary_logloss: 0.351047\tvalid_1's binary_logloss: 0.428229\n",
            "[35]\ttraining's binary_logloss: 0.339535\tvalid_1's binary_logloss: 0.43066\n",
            "[40]\ttraining's binary_logloss: 0.327537\tvalid_1's binary_logloss: 0.433699\n",
            "[45]\ttraining's binary_logloss: 0.320319\tvalid_1's binary_logloss: 0.424763\n",
            "[50]\ttraining's binary_logloss: 0.312549\tvalid_1's binary_logloss: 0.41566\n",
            "[55]\ttraining's binary_logloss: 0.304918\tvalid_1's binary_logloss: 0.414732\n",
            "[60]\ttraining's binary_logloss: 0.300547\tvalid_1's binary_logloss: 0.415038\n",
            "[65]\ttraining's binary_logloss: 0.289883\tvalid_1's binary_logloss: 0.422362\n",
            "[70]\ttraining's binary_logloss: 0.283791\tvalid_1's binary_logloss: 0.420205\n",
            "[75]\ttraining's binary_logloss: 0.276971\tvalid_1's binary_logloss: 0.429924\n",
            "[80]\ttraining's binary_logloss: 0.271148\tvalid_1's binary_logloss: 0.441809\n",
            "[85]\ttraining's binary_logloss: 0.267155\tvalid_1's binary_logloss: 0.442037\n",
            "[90]\ttraining's binary_logloss: 0.261901\tvalid_1's binary_logloss: 0.443017\n",
            "[95]\ttraining's binary_logloss: 0.25597\tvalid_1's binary_logloss: 0.441736\n",
            "[100]\ttraining's binary_logloss: 0.250563\tvalid_1's binary_logloss: 0.446452\n",
            "[105]\ttraining's binary_logloss: 0.245838\tvalid_1's binary_logloss: 0.448351\n",
            "[110]\ttraining's binary_logloss: 0.241639\tvalid_1's binary_logloss: 0.451665\n",
            "[115]\ttraining's binary_logloss: 0.237968\tvalid_1's binary_logloss: 0.450308\n",
            "[120]\ttraining's binary_logloss: 0.236841\tvalid_1's binary_logloss: 0.44861\n",
            "[125]\ttraining's binary_logloss: 0.230599\tvalid_1's binary_logloss: 0.450068\n",
            "[130]\ttraining's binary_logloss: 0.228362\tvalid_1's binary_logloss: 0.454644\n",
            "[135]\ttraining's binary_logloss: 0.224155\tvalid_1's binary_logloss: 0.456953\n",
            "[140]\ttraining's binary_logloss: 0.220678\tvalid_1's binary_logloss: 0.460473\n",
            "[145]\ttraining's binary_logloss: 0.21807\tvalid_1's binary_logloss: 0.469016\n",
            "[150]\ttraining's binary_logloss: 0.214928\tvalid_1's binary_logloss: 0.467888\n",
            "[155]\ttraining's binary_logloss: 0.212658\tvalid_1's binary_logloss: 0.47082\n",
            "Early stopping, best iteration is:\n",
            "[56]\ttraining's binary_logloss: 0.303925\tvalid_1's binary_logloss: 0.412586\n"
          ],
          "name": "stdout"
        },
        {
          "output_type": "stream",
          "text": [
            "feature_fraction_stage2, val_score: 0.412586: 100%|##########| 6/6 [00:03<00:00,  1.80it/s][I 2020-07-16 12:31:58,394] Finished trial#42 with value: 0.41258591277132256 with parameters: {'feature_fraction': 0.7200000000000001}. Best is trial#42 with value: 0.41258591277132256.\n",
            "feature_fraction_stage2, val_score: 0.412586: 100%|##########| 6/6 [00:03<00:00,  1.73it/s]\n",
            "regularization_factors, val_score: 0.412586:   0%|          | 0/20 [00:00<?, ?it/s]"
          ],
          "name": "stderr"
        },
        {
          "output_type": "stream",
          "text": [
            "Training until validation scores don't improve for 100 rounds.\n",
            "[5]\ttraining's binary_logloss: 0.520766\tvalid_1's binary_logloss: 0.570893\n",
            "[10]\ttraining's binary_logloss: 0.45321\tvalid_1's binary_logloss: 0.50968\n",
            "[15]\ttraining's binary_logloss: 0.412481\tvalid_1's binary_logloss: 0.474651\n",
            "[20]\ttraining's binary_logloss: 0.390568\tvalid_1's binary_logloss: 0.453945\n",
            "[25]\ttraining's binary_logloss: 0.365714\tvalid_1's binary_logloss: 0.438471\n",
            "[30]\ttraining's binary_logloss: 0.351745\tvalid_1's binary_logloss: 0.430381\n",
            "[35]\ttraining's binary_logloss: 0.337273\tvalid_1's binary_logloss: 0.43515\n",
            "[40]\ttraining's binary_logloss: 0.327041\tvalid_1's binary_logloss: 0.437775\n",
            "[45]\ttraining's binary_logloss: 0.320244\tvalid_1's binary_logloss: 0.430278\n",
            "[50]\ttraining's binary_logloss: 0.313676\tvalid_1's binary_logloss: 0.424228\n",
            "[55]\ttraining's binary_logloss: 0.30591\tvalid_1's binary_logloss: 0.42502\n",
            "[60]\ttraining's binary_logloss: 0.301067\tvalid_1's binary_logloss: 0.42389\n",
            "[65]\ttraining's binary_logloss: 0.290481\tvalid_1's binary_logloss: 0.430684\n",
            "[70]\ttraining's binary_logloss: 0.284936\tvalid_1's binary_logloss: 0.429758\n",
            "[75]\ttraining's binary_logloss: 0.276688\tvalid_1's binary_logloss: 0.444253\n",
            "[80]\ttraining's binary_logloss: 0.270959\tvalid_1's binary_logloss: 0.456321\n",
            "[85]\ttraining's binary_logloss: 0.266975\tvalid_1's binary_logloss: 0.454766\n",
            "[90]\ttraining's binary_logloss: 0.260987\tvalid_1's binary_logloss: 0.456533\n",
            "[95]\ttraining's binary_logloss: 0.255771\tvalid_1's binary_logloss: 0.454105\n",
            "[100]\ttraining's binary_logloss: 0.25115\tvalid_1's binary_logloss: 0.45856\n",
            "[105]\ttraining's binary_logloss: 0.246265\tvalid_1's binary_logloss: 0.465517\n",
            "[110]\ttraining's binary_logloss: 0.242582\tvalid_1's binary_logloss: 0.465036\n",
            "[115]\ttraining's binary_logloss: 0.239459\tvalid_1's binary_logloss: 0.470084\n",
            "[120]\ttraining's binary_logloss: 0.23773\tvalid_1's binary_logloss: 0.470792\n",
            "[125]\ttraining's binary_logloss: 0.231822\tvalid_1's binary_logloss: 0.470985\n",
            "[130]\ttraining's binary_logloss: 0.229682\tvalid_1's binary_logloss: 0.472721\n",
            "[135]\ttraining's binary_logloss: 0.226677\tvalid_1's binary_logloss: 0.474893\n",
            "[140]\ttraining's binary_logloss: 0.223782\tvalid_1's binary_logloss: 0.478035\n",
            "[145]\ttraining's binary_logloss: 0.222365\tvalid_1's binary_logloss: 0.490935\n",
            "[150]\ttraining's binary_logloss: 0.218004\tvalid_1's binary_logloss: 0.483105\n",
            "[155]\ttraining's binary_logloss: 0.217175\tvalid_1's binary_logloss: 0.481716\n",
            "Early stopping, best iteration is:\n",
            "[56]\ttraining's binary_logloss: 0.304908\tvalid_1's binary_logloss: 0.422913\n"
          ],
          "name": "stdout"
        },
        {
          "output_type": "stream",
          "text": [
            "regularization_factors, val_score: 0.412586:   5%|5         | 1/20 [00:00<00:08,  2.34it/s][I 2020-07-16 12:31:58,977] Finished trial#43 with value: 0.42291267947094874 with parameters: {'lambda_l1': 0.02208531912644878, 'lambda_l2': 0.0009514243202025554}. Best is trial#43 with value: 0.42291267947094874.\n",
            "regularization_factors, val_score: 0.412586:   5%|5         | 1/20 [00:00<00:08,  2.34it/s]"
          ],
          "name": "stderr"
        },
        {
          "output_type": "stream",
          "text": [
            "Training until validation scores don't improve for 100 rounds.\n",
            "[5]\ttraining's binary_logloss: 0.520334\tvalid_1's binary_logloss: 0.570426\n",
            "[10]\ttraining's binary_logloss: 0.451423\tvalid_1's binary_logloss: 0.508046\n",
            "[15]\ttraining's binary_logloss: 0.409755\tvalid_1's binary_logloss: 0.471498\n",
            "[20]\ttraining's binary_logloss: 0.387698\tvalid_1's binary_logloss: 0.450747\n",
            "[25]\ttraining's binary_logloss: 0.36476\tvalid_1's binary_logloss: 0.436923\n",
            "[30]\ttraining's binary_logloss: 0.351104\tvalid_1's binary_logloss: 0.428245\n",
            "[35]\ttraining's binary_logloss: 0.33958\tvalid_1's binary_logloss: 0.43062\n",
            "[40]\ttraining's binary_logloss: 0.327586\tvalid_1's binary_logloss: 0.433647\n",
            "[45]\ttraining's binary_logloss: 0.320518\tvalid_1's binary_logloss: 0.424803\n",
            "[50]\ttraining's binary_logloss: 0.312735\tvalid_1's binary_logloss: 0.415677\n",
            "[55]\ttraining's binary_logloss: 0.305064\tvalid_1's binary_logloss: 0.414657\n",
            "[60]\ttraining's binary_logloss: 0.300765\tvalid_1's binary_logloss: 0.415905\n",
            "[65]\ttraining's binary_logloss: 0.290323\tvalid_1's binary_logloss: 0.422932\n",
            "[70]\ttraining's binary_logloss: 0.28443\tvalid_1's binary_logloss: 0.419974\n",
            "[75]\ttraining's binary_logloss: 0.27745\tvalid_1's binary_logloss: 0.429654\n",
            "[80]\ttraining's binary_logloss: 0.271488\tvalid_1's binary_logloss: 0.442813\n",
            "[85]\ttraining's binary_logloss: 0.267204\tvalid_1's binary_logloss: 0.442921\n",
            "[90]\ttraining's binary_logloss: 0.262966\tvalid_1's binary_logloss: 0.448273\n",
            "[95]\ttraining's binary_logloss: 0.258089\tvalid_1's binary_logloss: 0.448722\n",
            "[100]\ttraining's binary_logloss: 0.252037\tvalid_1's binary_logloss: 0.449118\n",
            "[105]\ttraining's binary_logloss: 0.24614\tvalid_1's binary_logloss: 0.454194\n",
            "[110]\ttraining's binary_logloss: 0.242849\tvalid_1's binary_logloss: 0.456321\n",
            "[115]\ttraining's binary_logloss: 0.238961\tvalid_1's binary_logloss: 0.45935\n",
            "[120]\ttraining's binary_logloss: 0.236852\tvalid_1's binary_logloss: 0.460037\n",
            "[125]\ttraining's binary_logloss: 0.230933\tvalid_1's binary_logloss: 0.460845\n",
            "[130]\ttraining's binary_logloss: 0.228791\tvalid_1's binary_logloss: 0.464277\n",
            "[135]\ttraining's binary_logloss: 0.225369\tvalid_1's binary_logloss: 0.464904\n",
            "[140]\ttraining's binary_logloss: 0.222081\tvalid_1's binary_logloss: 0.464599\n",
            "[145]\ttraining's binary_logloss: 0.219659\tvalid_1's binary_logloss: 0.47482\n",
            "[150]\ttraining's binary_logloss: 0.216099\tvalid_1's binary_logloss: 0.474058\n",
            "[155]\ttraining's binary_logloss: 0.214495\tvalid_1's binary_logloss: 0.473636\n",
            "Early stopping, best iteration is:\n",
            "[56]\ttraining's binary_logloss: 0.304055\tvalid_1's binary_logloss: 0.412481\n"
          ],
          "name": "stdout"
        },
        {
          "output_type": "stream",
          "text": [
            "regularization_factors, val_score: 0.412481:  10%|#         | 2/20 [00:00<00:08,  2.18it/s][I 2020-07-16 12:31:59,509] Finished trial#44 with value: 0.41248057388444886 with parameters: {'lambda_l1': 0.00013002275718158456, 'lambda_l2': 1.591312767726331e-08}. Best is trial#44 with value: 0.41248057388444886.\n",
            "regularization_factors, val_score: 0.412481:  10%|#         | 2/20 [00:01<00:08,  2.18it/s]"
          ],
          "name": "stderr"
        },
        {
          "output_type": "stream",
          "text": [
            "Training until validation scores don't improve for 100 rounds.\n",
            "[5]\ttraining's binary_logloss: 0.555117\tvalid_1's binary_logloss: 0.586825\n",
            "[10]\ttraining's binary_logloss: 0.495975\tvalid_1's binary_logloss: 0.535005\n",
            "[15]\ttraining's binary_logloss: 0.463887\tvalid_1's binary_logloss: 0.503965\n",
            "[20]\ttraining's binary_logloss: 0.445932\tvalid_1's binary_logloss: 0.488035\n",
            "[25]\ttraining's binary_logloss: 0.436472\tvalid_1's binary_logloss: 0.479346\n",
            "[30]\ttraining's binary_logloss: 0.429225\tvalid_1's binary_logloss: 0.470991\n",
            "[35]\ttraining's binary_logloss: 0.422968\tvalid_1's binary_logloss: 0.471797\n",
            "[40]\ttraining's binary_logloss: 0.419612\tvalid_1's binary_logloss: 0.469954\n",
            "[45]\ttraining's binary_logloss: 0.417503\tvalid_1's binary_logloss: 0.469315\n",
            "[50]\ttraining's binary_logloss: 0.415345\tvalid_1's binary_logloss: 0.468165\n",
            "[55]\ttraining's binary_logloss: 0.414372\tvalid_1's binary_logloss: 0.466195\n",
            "[60]\ttraining's binary_logloss: 0.410188\tvalid_1's binary_logloss: 0.460364\n",
            "[65]\ttraining's binary_logloss: 0.409718\tvalid_1's binary_logloss: 0.460232\n",
            "[70]\ttraining's binary_logloss: 0.407875\tvalid_1's binary_logloss: 0.456312\n",
            "[75]\ttraining's binary_logloss: 0.406353\tvalid_1's binary_logloss: 0.454645\n",
            "[80]\ttraining's binary_logloss: 0.405269\tvalid_1's binary_logloss: 0.456223\n",
            "[85]\ttraining's binary_logloss: 0.403552\tvalid_1's binary_logloss: 0.457867\n",
            "[90]\ttraining's binary_logloss: 0.402045\tvalid_1's binary_logloss: 0.455975\n",
            "[95]\ttraining's binary_logloss: 0.401829\tvalid_1's binary_logloss: 0.45516\n",
            "[100]\ttraining's binary_logloss: 0.401757\tvalid_1's binary_logloss: 0.454977\n",
            "[105]\ttraining's binary_logloss: 0.401703\tvalid_1's binary_logloss: 0.454829\n",
            "[110]\ttraining's binary_logloss: 0.401703\tvalid_1's binary_logloss: 0.454829\n",
            "[115]\ttraining's binary_logloss: 0.401703\tvalid_1's binary_logloss: 0.454829\n",
            "[120]\ttraining's binary_logloss: 0.401703\tvalid_1's binary_logloss: 0.454829\n",
            "[125]\ttraining's binary_logloss: 0.401703\tvalid_1's binary_logloss: 0.454829\n",
            "[130]\ttraining's binary_logloss: 0.401703\tvalid_1's binary_logloss: 0.454829\n",
            "[135]\ttraining's binary_logloss: 0.401703\tvalid_1's binary_logloss: 0.454829\n",
            "[140]\ttraining's binary_logloss: 0.401703\tvalid_1's binary_logloss: 0.454829\n",
            "[145]\ttraining's binary_logloss: 0.401703\tvalid_1's binary_logloss: 0.454829\n",
            "[150]\ttraining's binary_logloss: 0.401703\tvalid_1's binary_logloss: 0.454829\n",
            "[155]\ttraining's binary_logloss: 0.401703\tvalid_1's binary_logloss: 0.454829\n",
            "[160]\ttraining's binary_logloss: 0.401703\tvalid_1's binary_logloss: 0.454829\n",
            "[165]\ttraining's binary_logloss: 0.401703\tvalid_1's binary_logloss: 0.454829\n",
            "[170]\ttraining's binary_logloss: 0.401703\tvalid_1's binary_logloss: 0.454829\n",
            "Early stopping, best iteration is:\n",
            "[73]\ttraining's binary_logloss: 0.40684\tvalid_1's binary_logloss: 0.453725\n"
          ],
          "name": "stdout"
        },
        {
          "output_type": "stream",
          "text": [
            "regularization_factors, val_score: 0.412481:  15%|#5        | 3/20 [00:01<00:08,  2.09it/s][I 2020-07-16 12:32:00,068] Finished trial#45 with value: 0.453725290760387 with parameters: {'lambda_l1': 6.752809683075772, 'lambda_l2': 1.1617219114910804e-05}. Best is trial#44 with value: 0.41248057388444886.\n",
            "regularization_factors, val_score: 0.412481:  15%|#5        | 3/20 [00:01<00:08,  2.09it/s]"
          ],
          "name": "stderr"
        },
        {
          "output_type": "stream",
          "text": [
            "Training until validation scores don't improve for 100 rounds.\n",
            "[5]\ttraining's binary_logloss: 0.520352\tvalid_1's binary_logloss: 0.570237\n",
            "[10]\ttraining's binary_logloss: 0.451426\tvalid_1's binary_logloss: 0.507966\n",
            "[15]\ttraining's binary_logloss: 0.409737\tvalid_1's binary_logloss: 0.471435\n",
            "[20]\ttraining's binary_logloss: 0.38768\tvalid_1's binary_logloss: 0.45072\n",
            "[25]\ttraining's binary_logloss: 0.364735\tvalid_1's binary_logloss: 0.436906\n",
            "[30]\ttraining's binary_logloss: 0.351047\tvalid_1's binary_logloss: 0.428229\n",
            "[35]\ttraining's binary_logloss: 0.339535\tvalid_1's binary_logloss: 0.43066\n",
            "[40]\ttraining's binary_logloss: 0.327537\tvalid_1's binary_logloss: 0.433699\n",
            "[45]\ttraining's binary_logloss: 0.320319\tvalid_1's binary_logloss: 0.424763\n",
            "[50]\ttraining's binary_logloss: 0.312549\tvalid_1's binary_logloss: 0.41566\n",
            "[55]\ttraining's binary_logloss: 0.304918\tvalid_1's binary_logloss: 0.414732\n",
            "[60]\ttraining's binary_logloss: 0.300547\tvalid_1's binary_logloss: 0.415038\n",
            "[65]\ttraining's binary_logloss: 0.289883\tvalid_1's binary_logloss: 0.422362\n",
            "[70]\ttraining's binary_logloss: 0.283791\tvalid_1's binary_logloss: 0.420205\n",
            "[75]\ttraining's binary_logloss: 0.276971\tvalid_1's binary_logloss: 0.429924\n",
            "[80]\ttraining's binary_logloss: 0.271148\tvalid_1's binary_logloss: 0.441809\n",
            "[85]\ttraining's binary_logloss: 0.267155\tvalid_1's binary_logloss: 0.442037\n",
            "[90]\ttraining's binary_logloss: 0.261901\tvalid_1's binary_logloss: 0.443017\n",
            "[95]\ttraining's binary_logloss: 0.25597\tvalid_1's binary_logloss: 0.441736\n",
            "[100]\ttraining's binary_logloss: 0.250563\tvalid_1's binary_logloss: 0.446452\n",
            "[105]\ttraining's binary_logloss: 0.245838\tvalid_1's binary_logloss: 0.448351\n",
            "[110]\ttraining's binary_logloss: 0.24164\tvalid_1's binary_logloss: 0.451665\n",
            "[115]\ttraining's binary_logloss: 0.237964\tvalid_1's binary_logloss: 0.450135\n",
            "[120]\ttraining's binary_logloss: 0.236846\tvalid_1's binary_logloss: 0.448433\n",
            "[125]\ttraining's binary_logloss: 0.230622\tvalid_1's binary_logloss: 0.449913\n",
            "[130]\ttraining's binary_logloss: 0.228296\tvalid_1's binary_logloss: 0.45544\n",
            "[135]\ttraining's binary_logloss: 0.224074\tvalid_1's binary_logloss: 0.457681\n",
            "[140]\ttraining's binary_logloss: 0.220604\tvalid_1's binary_logloss: 0.461129\n",
            "[145]\ttraining's binary_logloss: 0.218039\tvalid_1's binary_logloss: 0.469732\n",
            "[150]\ttraining's binary_logloss: 0.2142\tvalid_1's binary_logloss: 0.466517\n",
            "[155]\ttraining's binary_logloss: 0.21167\tvalid_1's binary_logloss: 0.470656\n",
            "Early stopping, best iteration is:\n",
            "[56]\ttraining's binary_logloss: 0.303926\tvalid_1's binary_logloss: 0.412586\n"
          ],
          "name": "stdout"
        },
        {
          "output_type": "stream",
          "text": [
            "regularization_factors, val_score: 0.412481:  20%|##        | 4/20 [00:02<00:08,  1.95it/s][I 2020-07-16 12:32:00,625] Finished trial#46 with value: 0.4125859132466461 with parameters: {'lambda_l1': 9.931528290470558e-08, 'lambda_l2': 2.497311061345805e-07}. Best is trial#44 with value: 0.41248057388444886.\n",
            "regularization_factors, val_score: 0.412481:  20%|##        | 4/20 [00:02<00:08,  1.95it/s]"
          ],
          "name": "stderr"
        },
        {
          "output_type": "stream",
          "text": [
            "Training until validation scores don't improve for 100 rounds.\n",
            "[5]\ttraining's binary_logloss: 0.520353\tvalid_1's binary_logloss: 0.570237\n",
            "[10]\ttraining's binary_logloss: 0.451426\tvalid_1's binary_logloss: 0.507966\n",
            "[15]\ttraining's binary_logloss: 0.409737\tvalid_1's binary_logloss: 0.471466\n",
            "[20]\ttraining's binary_logloss: 0.387681\tvalid_1's binary_logloss: 0.45074\n",
            "[25]\ttraining's binary_logloss: 0.364735\tvalid_1's binary_logloss: 0.436917\n",
            "[30]\ttraining's binary_logloss: 0.351047\tvalid_1's binary_logloss: 0.428236\n",
            "[35]\ttraining's binary_logloss: 0.339535\tvalid_1's binary_logloss: 0.430665\n",
            "[40]\ttraining's binary_logloss: 0.327537\tvalid_1's binary_logloss: 0.433703\n",
            "[45]\ttraining's binary_logloss: 0.32032\tvalid_1's binary_logloss: 0.424767\n",
            "[50]\ttraining's binary_logloss: 0.31255\tvalid_1's binary_logloss: 0.415666\n",
            "[55]\ttraining's binary_logloss: 0.304918\tvalid_1's binary_logloss: 0.414737\n",
            "[60]\ttraining's binary_logloss: 0.300547\tvalid_1's binary_logloss: 0.415041\n",
            "[65]\ttraining's binary_logloss: 0.2899\tvalid_1's binary_logloss: 0.422253\n",
            "[70]\ttraining's binary_logloss: 0.283798\tvalid_1's binary_logloss: 0.420101\n",
            "[75]\ttraining's binary_logloss: 0.27698\tvalid_1's binary_logloss: 0.429811\n",
            "[80]\ttraining's binary_logloss: 0.271156\tvalid_1's binary_logloss: 0.44169\n",
            "[85]\ttraining's binary_logloss: 0.267158\tvalid_1's binary_logloss: 0.441915\n",
            "[90]\ttraining's binary_logloss: 0.26191\tvalid_1's binary_logloss: 0.44291\n",
            "[95]\ttraining's binary_logloss: 0.255976\tvalid_1's binary_logloss: 0.441633\n",
            "[100]\ttraining's binary_logloss: 0.250564\tvalid_1's binary_logloss: 0.446342\n",
            "[105]\ttraining's binary_logloss: 0.24584\tvalid_1's binary_logloss: 0.448234\n",
            "[110]\ttraining's binary_logloss: 0.241638\tvalid_1's binary_logloss: 0.451622\n",
            "[115]\ttraining's binary_logloss: 0.237954\tvalid_1's binary_logloss: 0.450259\n",
            "[120]\ttraining's binary_logloss: 0.236705\tvalid_1's binary_logloss: 0.447375\n",
            "[125]\ttraining's binary_logloss: 0.230262\tvalid_1's binary_logloss: 0.448702\n",
            "[130]\ttraining's binary_logloss: 0.227312\tvalid_1's binary_logloss: 0.450209\n",
            "[135]\ttraining's binary_logloss: 0.223421\tvalid_1's binary_logloss: 0.452457\n",
            "[140]\ttraining's binary_logloss: 0.220719\tvalid_1's binary_logloss: 0.455932\n",
            "[145]\ttraining's binary_logloss: 0.218258\tvalid_1's binary_logloss: 0.469817\n",
            "[150]\ttraining's binary_logloss: 0.214833\tvalid_1's binary_logloss: 0.463652\n",
            "[155]\ttraining's binary_logloss: 0.213166\tvalid_1's binary_logloss: 0.463944\n",
            "Early stopping, best iteration is:\n",
            "[56]\ttraining's binary_logloss: 0.303926\tvalid_1's binary_logloss: 0.412591\n"
          ],
          "name": "stdout"
        },
        {
          "output_type": "stream",
          "text": [
            "regularization_factors, val_score: 0.412481:  25%|##5       | 5/20 [00:02<00:07,  1.97it/s][I 2020-07-16 12:32:01,138] Finished trial#47 with value: 0.4125912386348235 with parameters: {'lambda_l1': 7.724269289947542e-06, 'lambda_l2': 9.15633023058002e-06}. Best is trial#44 with value: 0.41248057388444886.\n",
            "regularization_factors, val_score: 0.412481:  25%|##5       | 5/20 [00:02<00:07,  1.97it/s]"
          ],
          "name": "stderr"
        },
        {
          "output_type": "stream",
          "text": [
            "Training until validation scores don't improve for 100 rounds.\n",
            "[5]\ttraining's binary_logloss: 0.520334\tvalid_1's binary_logloss: 0.570426\n",
            "[10]\ttraining's binary_logloss: 0.451423\tvalid_1's binary_logloss: 0.508046\n",
            "[15]\ttraining's binary_logloss: 0.409755\tvalid_1's binary_logloss: 0.471466\n",
            "[20]\ttraining's binary_logloss: 0.387698\tvalid_1's binary_logloss: 0.450727\n",
            "[25]\ttraining's binary_logloss: 0.36476\tvalid_1's binary_logloss: 0.436912\n",
            "[30]\ttraining's binary_logloss: 0.351104\tvalid_1's binary_logloss: 0.428238\n",
            "[35]\ttraining's binary_logloss: 0.33958\tvalid_1's binary_logloss: 0.430615\n",
            "[40]\ttraining's binary_logloss: 0.327585\tvalid_1's binary_logloss: 0.433643\n",
            "[45]\ttraining's binary_logloss: 0.320518\tvalid_1's binary_logloss: 0.424799\n",
            "[50]\ttraining's binary_logloss: 0.312735\tvalid_1's binary_logloss: 0.415671\n",
            "[55]\ttraining's binary_logloss: 0.305063\tvalid_1's binary_logloss: 0.414651\n",
            "[60]\ttraining's binary_logloss: 0.300765\tvalid_1's binary_logloss: 0.415902\n",
            "[65]\ttraining's binary_logloss: 0.290323\tvalid_1's binary_logloss: 0.42293\n",
            "[70]\ttraining's binary_logloss: 0.284429\tvalid_1's binary_logloss: 0.419972\n",
            "[75]\ttraining's binary_logloss: 0.27745\tvalid_1's binary_logloss: 0.429653\n",
            "[80]\ttraining's binary_logloss: 0.271488\tvalid_1's binary_logloss: 0.442812\n",
            "[85]\ttraining's binary_logloss: 0.267232\tvalid_1's binary_logloss: 0.443164\n",
            "[90]\ttraining's binary_logloss: 0.261834\tvalid_1's binary_logloss: 0.448817\n",
            "[95]\ttraining's binary_logloss: 0.256775\tvalid_1's binary_logloss: 0.447531\n",
            "[100]\ttraining's binary_logloss: 0.251513\tvalid_1's binary_logloss: 0.452658\n",
            "[105]\ttraining's binary_logloss: 0.246038\tvalid_1's binary_logloss: 0.455673\n",
            "[110]\ttraining's binary_logloss: 0.242532\tvalid_1's binary_logloss: 0.455701\n",
            "[115]\ttraining's binary_logloss: 0.238466\tvalid_1's binary_logloss: 0.456238\n",
            "[120]\ttraining's binary_logloss: 0.236362\tvalid_1's binary_logloss: 0.453708\n",
            "[125]\ttraining's binary_logloss: 0.229597\tvalid_1's binary_logloss: 0.454559\n",
            "[130]\ttraining's binary_logloss: 0.226906\tvalid_1's binary_logloss: 0.459343\n",
            "[135]\ttraining's binary_logloss: 0.224174\tvalid_1's binary_logloss: 0.460781\n",
            "[140]\ttraining's binary_logloss: 0.2201\tvalid_1's binary_logloss: 0.464795\n",
            "[145]\ttraining's binary_logloss: 0.218424\tvalid_1's binary_logloss: 0.47585\n",
            "[150]\ttraining's binary_logloss: 0.215459\tvalid_1's binary_logloss: 0.47275\n",
            "[155]\ttraining's binary_logloss: 0.212618\tvalid_1's binary_logloss: 0.471886\n",
            "Early stopping, best iteration is:\n",
            "[56]\ttraining's binary_logloss: 0.304054\tvalid_1's binary_logloss: 0.412475\n"
          ],
          "name": "stdout"
        },
        {
          "output_type": "stream",
          "text": [
            "regularization_factors, val_score: 0.412475:  30%|###       | 6/20 [00:03<00:07,  1.87it/s][I 2020-07-16 12:32:01,718] Finished trial#48 with value: 0.4124754962392591 with parameters: {'lambda_l1': 5.8985112073347644e-05, 'lambda_l2': 5.49467168106467e-05}. Best is trial#48 with value: 0.4124754962392591.\n",
            "regularization_factors, val_score: 0.412475:  30%|###       | 6/20 [00:03<00:07,  1.87it/s]"
          ],
          "name": "stderr"
        },
        {
          "output_type": "stream",
          "text": [
            "Training until validation scores don't improve for 100 rounds.\n",
            "[5]\ttraining's binary_logloss: 0.520849\tvalid_1's binary_logloss: 0.57094\n",
            "[10]\ttraining's binary_logloss: 0.453305\tvalid_1's binary_logloss: 0.509739\n",
            "[15]\ttraining's binary_logloss: 0.412566\tvalid_1's binary_logloss: 0.474796\n",
            "[20]\ttraining's binary_logloss: 0.390655\tvalid_1's binary_logloss: 0.454113\n",
            "[25]\ttraining's binary_logloss: 0.365831\tvalid_1's binary_logloss: 0.438605\n",
            "[30]\ttraining's binary_logloss: 0.351384\tvalid_1's binary_logloss: 0.430223\n",
            "[35]\ttraining's binary_logloss: 0.338021\tvalid_1's binary_logloss: 0.434562\n",
            "[40]\ttraining's binary_logloss: 0.32845\tvalid_1's binary_logloss: 0.43719\n",
            "[45]\ttraining's binary_logloss: 0.32201\tvalid_1's binary_logloss: 0.432402\n",
            "[50]\ttraining's binary_logloss: 0.314158\tvalid_1's binary_logloss: 0.424009\n",
            "[55]\ttraining's binary_logloss: 0.307362\tvalid_1's binary_logloss: 0.425618\n",
            "[60]\ttraining's binary_logloss: 0.302824\tvalid_1's binary_logloss: 0.423492\n",
            "[65]\ttraining's binary_logloss: 0.29434\tvalid_1's binary_logloss: 0.430963\n",
            "[70]\ttraining's binary_logloss: 0.288581\tvalid_1's binary_logloss: 0.427172\n",
            "[75]\ttraining's binary_logloss: 0.279741\tvalid_1's binary_logloss: 0.443345\n",
            "[80]\ttraining's binary_logloss: 0.273174\tvalid_1's binary_logloss: 0.454849\n",
            "[85]\ttraining's binary_logloss: 0.269935\tvalid_1's binary_logloss: 0.456666\n",
            "[90]\ttraining's binary_logloss: 0.263412\tvalid_1's binary_logloss: 0.457182\n",
            "[95]\ttraining's binary_logloss: 0.25812\tvalid_1's binary_logloss: 0.454151\n",
            "[100]\ttraining's binary_logloss: 0.25271\tvalid_1's binary_logloss: 0.460415\n",
            "[105]\ttraining's binary_logloss: 0.246744\tvalid_1's binary_logloss: 0.466887\n",
            "[110]\ttraining's binary_logloss: 0.243057\tvalid_1's binary_logloss: 0.468064\n",
            "[115]\ttraining's binary_logloss: 0.241194\tvalid_1's binary_logloss: 0.46696\n",
            "[120]\ttraining's binary_logloss: 0.239019\tvalid_1's binary_logloss: 0.464279\n",
            "[125]\ttraining's binary_logloss: 0.23238\tvalid_1's binary_logloss: 0.464373\n",
            "[130]\ttraining's binary_logloss: 0.230454\tvalid_1's binary_logloss: 0.469655\n",
            "[135]\ttraining's binary_logloss: 0.227116\tvalid_1's binary_logloss: 0.470042\n",
            "[140]\ttraining's binary_logloss: 0.223446\tvalid_1's binary_logloss: 0.473227\n",
            "[145]\ttraining's binary_logloss: 0.221232\tvalid_1's binary_logloss: 0.483791\n",
            "Early stopping, best iteration is:\n",
            "[48]\ttraining's binary_logloss: 0.318689\tvalid_1's binary_logloss: 0.422452\n"
          ],
          "name": "stdout"
        },
        {
          "output_type": "stream",
          "text": [
            "regularization_factors, val_score: 0.412475:  35%|###5      | 7/20 [00:03<00:06,  1.89it/s][I 2020-07-16 12:32:02,227] Finished trial#49 with value: 0.42245228822870856 with parameters: {'lambda_l1': 0.03133289309896241, 'lambda_l2': 7.66341618136633e-06}. Best is trial#48 with value: 0.4124754962392591.\n",
            "regularization_factors, val_score: 0.412475:  35%|###5      | 7/20 [00:03<00:06,  1.89it/s]"
          ],
          "name": "stderr"
        },
        {
          "output_type": "stream",
          "text": [
            "Training until validation scores don't improve for 100 rounds.\n",
            "[5]\ttraining's binary_logloss: 0.521531\tvalid_1's binary_logloss: 0.570778\n",
            "[10]\ttraining's binary_logloss: 0.454149\tvalid_1's binary_logloss: 0.509808\n",
            "[15]\ttraining's binary_logloss: 0.413652\tvalid_1's binary_logloss: 0.475229\n",
            "[20]\ttraining's binary_logloss: 0.391714\tvalid_1's binary_logloss: 0.454536\n",
            "[25]\ttraining's binary_logloss: 0.367057\tvalid_1's binary_logloss: 0.43893\n",
            "[30]\ttraining's binary_logloss: 0.352652\tvalid_1's binary_logloss: 0.430299\n",
            "[35]\ttraining's binary_logloss: 0.339416\tvalid_1's binary_logloss: 0.437257\n",
            "[40]\ttraining's binary_logloss: 0.330105\tvalid_1's binary_logloss: 0.439538\n",
            "[45]\ttraining's binary_logloss: 0.323489\tvalid_1's binary_logloss: 0.433597\n",
            "[50]\ttraining's binary_logloss: 0.3177\tvalid_1's binary_logloss: 0.426124\n",
            "[55]\ttraining's binary_logloss: 0.31001\tvalid_1's binary_logloss: 0.425404\n",
            "[60]\ttraining's binary_logloss: 0.304521\tvalid_1's binary_logloss: 0.424259\n",
            "[65]\ttraining's binary_logloss: 0.297774\tvalid_1's binary_logloss: 0.426806\n",
            "[70]\ttraining's binary_logloss: 0.291921\tvalid_1's binary_logloss: 0.421277\n",
            "[75]\ttraining's binary_logloss: 0.283547\tvalid_1's binary_logloss: 0.43562\n",
            "[80]\ttraining's binary_logloss: 0.278098\tvalid_1's binary_logloss: 0.450111\n",
            "[85]\ttraining's binary_logloss: 0.274939\tvalid_1's binary_logloss: 0.450113\n",
            "[90]\ttraining's binary_logloss: 0.269001\tvalid_1's binary_logloss: 0.45184\n",
            "[95]\ttraining's binary_logloss: 0.263636\tvalid_1's binary_logloss: 0.450513\n",
            "[100]\ttraining's binary_logloss: 0.259038\tvalid_1's binary_logloss: 0.458833\n",
            "[105]\ttraining's binary_logloss: 0.253172\tvalid_1's binary_logloss: 0.461383\n",
            "[110]\ttraining's binary_logloss: 0.249956\tvalid_1's binary_logloss: 0.46344\n",
            "[115]\ttraining's binary_logloss: 0.245961\tvalid_1's binary_logloss: 0.461881\n",
            "[120]\ttraining's binary_logloss: 0.242957\tvalid_1's binary_logloss: 0.462013\n",
            "[125]\ttraining's binary_logloss: 0.236655\tvalid_1's binary_logloss: 0.463132\n",
            "[130]\ttraining's binary_logloss: 0.234606\tvalid_1's binary_logloss: 0.465993\n",
            "[135]\ttraining's binary_logloss: 0.231755\tvalid_1's binary_logloss: 0.465146\n",
            "[140]\ttraining's binary_logloss: 0.228437\tvalid_1's binary_logloss: 0.466383\n",
            "[145]\ttraining's binary_logloss: 0.227063\tvalid_1's binary_logloss: 0.472146\n",
            "[150]\ttraining's binary_logloss: 0.222767\tvalid_1's binary_logloss: 0.463426\n",
            "[155]\ttraining's binary_logloss: 0.221362\tvalid_1's binary_logloss: 0.466293\n",
            "[160]\ttraining's binary_logloss: 0.217696\tvalid_1's binary_logloss: 0.471392\n",
            "[165]\ttraining's binary_logloss: 0.214943\tvalid_1's binary_logloss: 0.475776\n",
            "[170]\ttraining's binary_logloss: 0.21146\tvalid_1's binary_logloss: 0.48123\n",
            "Early stopping, best iteration is:\n",
            "[72]\ttraining's binary_logloss: 0.289079\tvalid_1's binary_logloss: 0.420479\n"
          ],
          "name": "stdout"
        },
        {
          "output_type": "stream",
          "text": [
            "regularization_factors, val_score: 0.412475:  40%|####      | 8/20 [00:04<00:06,  1.84it/s][I 2020-07-16 12:32:02,802] Finished trial#50 with value: 0.42047879303415137 with parameters: {'lambda_l1': 0.09297948425897694, 'lambda_l2': 0.00019572184746901702}. Best is trial#48 with value: 0.4124754962392591.\n",
            "regularization_factors, val_score: 0.412475:  40%|####      | 8/20 [00:04<00:06,  1.84it/s]"
          ],
          "name": "stderr"
        },
        {
          "output_type": "stream",
          "text": [
            "Training until validation scores don't improve for 100 rounds.\n",
            "[5]\ttraining's binary_logloss: 0.535153\tvalid_1's binary_logloss: 0.576325\n",
            "[10]\ttraining's binary_logloss: 0.468445\tvalid_1's binary_logloss: 0.518607\n",
            "[15]\ttraining's binary_logloss: 0.430883\tvalid_1's binary_logloss: 0.484369\n",
            "[20]\ttraining's binary_logloss: 0.409868\tvalid_1's binary_logloss: 0.464434\n",
            "[25]\ttraining's binary_logloss: 0.389375\tvalid_1's binary_logloss: 0.4534\n",
            "[30]\ttraining's binary_logloss: 0.375537\tvalid_1's binary_logloss: 0.440909\n",
            "[35]\ttraining's binary_logloss: 0.363402\tvalid_1's binary_logloss: 0.437217\n",
            "[40]\ttraining's binary_logloss: 0.354784\tvalid_1's binary_logloss: 0.433266\n",
            "[45]\ttraining's binary_logloss: 0.348557\tvalid_1's binary_logloss: 0.429497\n",
            "[50]\ttraining's binary_logloss: 0.341873\tvalid_1's binary_logloss: 0.423528\n",
            "[55]\ttraining's binary_logloss: 0.335317\tvalid_1's binary_logloss: 0.418384\n",
            "[60]\ttraining's binary_logloss: 0.330932\tvalid_1's binary_logloss: 0.413886\n",
            "[65]\ttraining's binary_logloss: 0.324349\tvalid_1's binary_logloss: 0.417011\n",
            "[70]\ttraining's binary_logloss: 0.319526\tvalid_1's binary_logloss: 0.414985\n",
            "[75]\ttraining's binary_logloss: 0.314488\tvalid_1's binary_logloss: 0.423387\n",
            "[80]\ttraining's binary_logloss: 0.310787\tvalid_1's binary_logloss: 0.432183\n",
            "[85]\ttraining's binary_logloss: 0.307675\tvalid_1's binary_logloss: 0.430578\n",
            "[90]\ttraining's binary_logloss: 0.302249\tvalid_1's binary_logloss: 0.427126\n",
            "[95]\ttraining's binary_logloss: 0.297335\tvalid_1's binary_logloss: 0.424526\n",
            "[100]\ttraining's binary_logloss: 0.293911\tvalid_1's binary_logloss: 0.426522\n",
            "[105]\ttraining's binary_logloss: 0.289691\tvalid_1's binary_logloss: 0.42942\n",
            "[110]\ttraining's binary_logloss: 0.286782\tvalid_1's binary_logloss: 0.433217\n",
            "[115]\ttraining's binary_logloss: 0.282659\tvalid_1's binary_logloss: 0.430793\n",
            "[120]\ttraining's binary_logloss: 0.280257\tvalid_1's binary_logloss: 0.428262\n",
            "[125]\ttraining's binary_logloss: 0.275203\tvalid_1's binary_logloss: 0.42756\n",
            "[130]\ttraining's binary_logloss: 0.273047\tvalid_1's binary_logloss: 0.42828\n",
            "[135]\ttraining's binary_logloss: 0.270193\tvalid_1's binary_logloss: 0.427758\n",
            "[140]\ttraining's binary_logloss: 0.266507\tvalid_1's binary_logloss: 0.432062\n",
            "[145]\ttraining's binary_logloss: 0.264328\tvalid_1's binary_logloss: 0.437026\n",
            "[150]\ttraining's binary_logloss: 0.262131\tvalid_1's binary_logloss: 0.432958\n",
            "[155]\ttraining's binary_logloss: 0.259983\tvalid_1's binary_logloss: 0.428553\n",
            "Early stopping, best iteration is:\n",
            "[59]\ttraining's binary_logloss: 0.331163\tvalid_1's binary_logloss: 0.413565\n"
          ],
          "name": "stdout"
        },
        {
          "output_type": "stream",
          "text": [
            "regularization_factors, val_score: 0.412475:  45%|####5     | 9/20 [00:04<00:05,  1.85it/s][I 2020-07-16 12:32:03,345] Finished trial#51 with value: 0.41356477982944717 with parameters: {'lambda_l1': 1.3151321647676147e-08, 'lambda_l2': 1.9615193604876449}. Best is trial#48 with value: 0.4124754962392591.\n",
            "regularization_factors, val_score: 0.412475:  45%|####5     | 9/20 [00:04<00:05,  1.85it/s]"
          ],
          "name": "stderr"
        },
        {
          "output_type": "stream",
          "text": [
            "Training until validation scores don't improve for 100 rounds.\n",
            "[5]\ttraining's binary_logloss: 0.526621\tvalid_1's binary_logloss: 0.573706\n",
            "[10]\ttraining's binary_logloss: 0.458951\tvalid_1's binary_logloss: 0.512385\n",
            "[15]\ttraining's binary_logloss: 0.418523\tvalid_1's binary_logloss: 0.478587\n",
            "[20]\ttraining's binary_logloss: 0.395919\tvalid_1's binary_logloss: 0.458666\n",
            "[25]\ttraining's binary_logloss: 0.374794\tvalid_1's binary_logloss: 0.444724\n",
            "[30]\ttraining's binary_logloss: 0.360244\tvalid_1's binary_logloss: 0.435147\n",
            "[35]\ttraining's binary_logloss: 0.346164\tvalid_1's binary_logloss: 0.432105\n",
            "[40]\ttraining's binary_logloss: 0.337139\tvalid_1's binary_logloss: 0.430479\n",
            "[45]\ttraining's binary_logloss: 0.3288\tvalid_1's binary_logloss: 0.426254\n",
            "[50]\ttraining's binary_logloss: 0.321361\tvalid_1's binary_logloss: 0.423036\n",
            "[55]\ttraining's binary_logloss: 0.313853\tvalid_1's binary_logloss: 0.423548\n",
            "[60]\ttraining's binary_logloss: 0.308911\tvalid_1's binary_logloss: 0.419406\n",
            "[65]\ttraining's binary_logloss: 0.300041\tvalid_1's binary_logloss: 0.422265\n",
            "[70]\ttraining's binary_logloss: 0.294869\tvalid_1's binary_logloss: 0.419065\n",
            "[75]\ttraining's binary_logloss: 0.289433\tvalid_1's binary_logloss: 0.429927\n",
            "[80]\ttraining's binary_logloss: 0.285228\tvalid_1's binary_logloss: 0.443792\n",
            "[85]\ttraining's binary_logloss: 0.281964\tvalid_1's binary_logloss: 0.444831\n",
            "[90]\ttraining's binary_logloss: 0.277308\tvalid_1's binary_logloss: 0.444666\n",
            "[95]\ttraining's binary_logloss: 0.272232\tvalid_1's binary_logloss: 0.442259\n",
            "[100]\ttraining's binary_logloss: 0.267501\tvalid_1's binary_logloss: 0.446078\n",
            "[105]\ttraining's binary_logloss: 0.263761\tvalid_1's binary_logloss: 0.45302\n",
            "[110]\ttraining's binary_logloss: 0.260668\tvalid_1's binary_logloss: 0.455462\n",
            "[115]\ttraining's binary_logloss: 0.256574\tvalid_1's binary_logloss: 0.453121\n",
            "[120]\ttraining's binary_logloss: 0.254277\tvalid_1's binary_logloss: 0.448729\n",
            "[125]\ttraining's binary_logloss: 0.248098\tvalid_1's binary_logloss: 0.449991\n",
            "[130]\ttraining's binary_logloss: 0.245674\tvalid_1's binary_logloss: 0.450286\n",
            "[135]\ttraining's binary_logloss: 0.24238\tvalid_1's binary_logloss: 0.449117\n",
            "[140]\ttraining's binary_logloss: 0.239124\tvalid_1's binary_logloss: 0.451271\n",
            "[145]\ttraining's binary_logloss: 0.237347\tvalid_1's binary_logloss: 0.461187\n",
            "[150]\ttraining's binary_logloss: 0.233459\tvalid_1's binary_logloss: 0.455357\n",
            "[155]\ttraining's binary_logloss: 0.231295\tvalid_1's binary_logloss: 0.449112\n",
            "[160]\ttraining's binary_logloss: 0.227653\tvalid_1's binary_logloss: 0.450399\n",
            "[165]\ttraining's binary_logloss: 0.225214\tvalid_1's binary_logloss: 0.458991\n",
            "[170]\ttraining's binary_logloss: 0.22148\tvalid_1's binary_logloss: 0.463374\n",
            "Early stopping, best iteration is:\n",
            "[72]\ttraining's binary_logloss: 0.293497\tvalid_1's binary_logloss: 0.417884\n"
          ],
          "name": "stdout"
        },
        {
          "output_type": "stream",
          "text": [
            "regularization_factors, val_score: 0.412475:  50%|#####     | 10/20 [00:05<00:05,  1.79it/s][I 2020-07-16 12:32:03,960] Finished trial#52 with value: 0.41788444926566565 with parameters: {'lambda_l1': 0.00046919873402258494, 'lambda_l2': 0.5701026692597069}. Best is trial#48 with value: 0.4124754962392591.\n",
            "regularization_factors, val_score: 0.412475:  50%|#####     | 10/20 [00:05<00:05,  1.79it/s]"
          ],
          "name": "stderr"
        },
        {
          "output_type": "stream",
          "text": [
            "Training until validation scores don't improve for 100 rounds.\n",
            "[5]\ttraining's binary_logloss: 0.520842\tvalid_1's binary_logloss: 0.571182\n",
            "[10]\ttraining's binary_logloss: 0.452023\tvalid_1's binary_logloss: 0.509197\n",
            "[15]\ttraining's binary_logloss: 0.411396\tvalid_1's binary_logloss: 0.474316\n",
            "[20]\ttraining's binary_logloss: 0.388891\tvalid_1's binary_logloss: 0.453155\n",
            "[25]\ttraining's binary_logloss: 0.366409\tvalid_1's binary_logloss: 0.441412\n",
            "[30]\ttraining's binary_logloss: 0.351686\tvalid_1's binary_logloss: 0.43145\n",
            "[35]\ttraining's binary_logloss: 0.337487\tvalid_1's binary_logloss: 0.436839\n",
            "[40]\ttraining's binary_logloss: 0.327769\tvalid_1's binary_logloss: 0.43554\n",
            "[45]\ttraining's binary_logloss: 0.320641\tvalid_1's binary_logloss: 0.429958\n",
            "[50]\ttraining's binary_logloss: 0.311323\tvalid_1's binary_logloss: 0.420987\n",
            "[55]\ttraining's binary_logloss: 0.304827\tvalid_1's binary_logloss: 0.42298\n",
            "[60]\ttraining's binary_logloss: 0.299948\tvalid_1's binary_logloss: 0.423552\n",
            "[65]\ttraining's binary_logloss: 0.290133\tvalid_1's binary_logloss: 0.428103\n",
            "[70]\ttraining's binary_logloss: 0.284699\tvalid_1's binary_logloss: 0.422668\n",
            "[75]\ttraining's binary_logloss: 0.276958\tvalid_1's binary_logloss: 0.431924\n",
            "[80]\ttraining's binary_logloss: 0.270871\tvalid_1's binary_logloss: 0.448844\n",
            "[85]\ttraining's binary_logloss: 0.267165\tvalid_1's binary_logloss: 0.449154\n",
            "[90]\ttraining's binary_logloss: 0.260066\tvalid_1's binary_logloss: 0.449896\n",
            "[95]\ttraining's binary_logloss: 0.255044\tvalid_1's binary_logloss: 0.449284\n",
            "[100]\ttraining's binary_logloss: 0.249823\tvalid_1's binary_logloss: 0.456934\n",
            "[105]\ttraining's binary_logloss: 0.243766\tvalid_1's binary_logloss: 0.458345\n",
            "[110]\ttraining's binary_logloss: 0.240765\tvalid_1's binary_logloss: 0.457441\n",
            "[115]\ttraining's binary_logloss: 0.23652\tvalid_1's binary_logloss: 0.456883\n",
            "[120]\ttraining's binary_logloss: 0.234242\tvalid_1's binary_logloss: 0.459233\n",
            "[125]\ttraining's binary_logloss: 0.228192\tvalid_1's binary_logloss: 0.459533\n",
            "[130]\ttraining's binary_logloss: 0.224988\tvalid_1's binary_logloss: 0.464793\n",
            "[135]\ttraining's binary_logloss: 0.221924\tvalid_1's binary_logloss: 0.466449\n",
            "[140]\ttraining's binary_logloss: 0.217208\tvalid_1's binary_logloss: 0.472615\n",
            "[145]\ttraining's binary_logloss: 0.215032\tvalid_1's binary_logloss: 0.480412\n",
            "Early stopping, best iteration is:\n",
            "[48]\ttraining's binary_logloss: 0.315946\tvalid_1's binary_logloss: 0.419641\n"
          ],
          "name": "stdout"
        },
        {
          "output_type": "stream",
          "text": [
            "regularization_factors, val_score: 0.412475:  55%|#####5    | 11/20 [00:06<00:05,  1.74it/s][I 2020-07-16 12:32:04,558] Finished trial#53 with value: 0.4196406537992645 with parameters: {'lambda_l1': 1.897137496981609e-06, 'lambda_l2': 0.022448094628099848}. Best is trial#48 with value: 0.4124754962392591.\n",
            "regularization_factors, val_score: 0.412475:  55%|#####5    | 11/20 [00:06<00:05,  1.74it/s]"
          ],
          "name": "stderr"
        },
        {
          "output_type": "stream",
          "text": [
            "Training until validation scores don't improve for 100 rounds.\n",
            "[5]\ttraining's binary_logloss: 0.520334\tvalid_1's binary_logloss: 0.570426\n",
            "[10]\ttraining's binary_logloss: 0.451423\tvalid_1's binary_logloss: 0.508046\n",
            "[15]\ttraining's binary_logloss: 0.409755\tvalid_1's binary_logloss: 0.471466\n",
            "[20]\ttraining's binary_logloss: 0.387698\tvalid_1's binary_logloss: 0.450727\n",
            "[25]\ttraining's binary_logloss: 0.36476\tvalid_1's binary_logloss: 0.436912\n",
            "[30]\ttraining's binary_logloss: 0.351104\tvalid_1's binary_logloss: 0.428238\n",
            "[35]\ttraining's binary_logloss: 0.33958\tvalid_1's binary_logloss: 0.430615\n",
            "[40]\ttraining's binary_logloss: 0.327585\tvalid_1's binary_logloss: 0.433643\n",
            "[45]\ttraining's binary_logloss: 0.320518\tvalid_1's binary_logloss: 0.424799\n",
            "[50]\ttraining's binary_logloss: 0.312735\tvalid_1's binary_logloss: 0.415671\n",
            "[55]\ttraining's binary_logloss: 0.305064\tvalid_1's binary_logloss: 0.414651\n",
            "[60]\ttraining's binary_logloss: 0.300765\tvalid_1's binary_logloss: 0.415902\n",
            "[65]\ttraining's binary_logloss: 0.290323\tvalid_1's binary_logloss: 0.42293\n",
            "[70]\ttraining's binary_logloss: 0.28443\tvalid_1's binary_logloss: 0.419972\n",
            "[75]\ttraining's binary_logloss: 0.27745\tvalid_1's binary_logloss: 0.429653\n",
            "[80]\ttraining's binary_logloss: 0.271488\tvalid_1's binary_logloss: 0.442811\n",
            "[85]\ttraining's binary_logloss: 0.267204\tvalid_1's binary_logloss: 0.44292\n",
            "[90]\ttraining's binary_logloss: 0.262966\tvalid_1's binary_logloss: 0.448272\n",
            "[95]\ttraining's binary_logloss: 0.258089\tvalid_1's binary_logloss: 0.448721\n",
            "[100]\ttraining's binary_logloss: 0.252037\tvalid_1's binary_logloss: 0.449117\n",
            "[105]\ttraining's binary_logloss: 0.24614\tvalid_1's binary_logloss: 0.454193\n",
            "[110]\ttraining's binary_logloss: 0.242849\tvalid_1's binary_logloss: 0.45632\n",
            "[115]\ttraining's binary_logloss: 0.238961\tvalid_1's binary_logloss: 0.459349\n",
            "[120]\ttraining's binary_logloss: 0.236852\tvalid_1's binary_logloss: 0.460036\n",
            "[125]\ttraining's binary_logloss: 0.230933\tvalid_1's binary_logloss: 0.460844\n",
            "[130]\ttraining's binary_logloss: 0.228791\tvalid_1's binary_logloss: 0.464276\n",
            "[135]\ttraining's binary_logloss: 0.225369\tvalid_1's binary_logloss: 0.464904\n",
            "[140]\ttraining's binary_logloss: 0.22208\tvalid_1's binary_logloss: 0.464599\n",
            "[145]\ttraining's binary_logloss: 0.219659\tvalid_1's binary_logloss: 0.474819\n",
            "[150]\ttraining's binary_logloss: 0.216098\tvalid_1's binary_logloss: 0.474058\n",
            "[155]\ttraining's binary_logloss: 0.214495\tvalid_1's binary_logloss: 0.473635\n",
            "Early stopping, best iteration is:\n",
            "[56]\ttraining's binary_logloss: 0.304054\tvalid_1's binary_logloss: 0.412476\n"
          ],
          "name": "stdout"
        },
        {
          "output_type": "stream",
          "text": [
            "regularization_factors, val_score: 0.412475:  60%|######    | 12/20 [00:06<00:04,  1.75it/s][I 2020-07-16 12:32:05,119] Finished trial#54 with value: 0.412475536727786 with parameters: {'lambda_l1': 0.00012389205629125224, 'lambda_l2': 1.272646947534632e-08}. Best is trial#48 with value: 0.4124754962392591.\n",
            "regularization_factors, val_score: 0.412475:  60%|######    | 12/20 [00:06<00:04,  1.75it/s]"
          ],
          "name": "stderr"
        },
        {
          "output_type": "stream",
          "text": [
            "Training until validation scores don't improve for 100 rounds.\n",
            "[5]\ttraining's binary_logloss: 0.520334\tvalid_1's binary_logloss: 0.570426\n",
            "[10]\ttraining's binary_logloss: 0.451423\tvalid_1's binary_logloss: 0.508046\n",
            "[15]\ttraining's binary_logloss: 0.409755\tvalid_1's binary_logloss: 0.471466\n",
            "[20]\ttraining's binary_logloss: 0.387698\tvalid_1's binary_logloss: 0.450727\n",
            "[25]\ttraining's binary_logloss: 0.36476\tvalid_1's binary_logloss: 0.436912\n",
            "[30]\ttraining's binary_logloss: 0.351104\tvalid_1's binary_logloss: 0.428238\n",
            "[35]\ttraining's binary_logloss: 0.33958\tvalid_1's binary_logloss: 0.430615\n",
            "[40]\ttraining's binary_logloss: 0.327585\tvalid_1's binary_logloss: 0.433643\n",
            "[45]\ttraining's binary_logloss: 0.320518\tvalid_1's binary_logloss: 0.424799\n",
            "[50]\ttraining's binary_logloss: 0.312735\tvalid_1's binary_logloss: 0.415671\n",
            "[55]\ttraining's binary_logloss: 0.305063\tvalid_1's binary_logloss: 0.414651\n",
            "[60]\ttraining's binary_logloss: 0.300765\tvalid_1's binary_logloss: 0.415902\n",
            "[65]\ttraining's binary_logloss: 0.290323\tvalid_1's binary_logloss: 0.42293\n",
            "[70]\ttraining's binary_logloss: 0.28443\tvalid_1's binary_logloss: 0.419972\n",
            "[75]\ttraining's binary_logloss: 0.27745\tvalid_1's binary_logloss: 0.429653\n",
            "[80]\ttraining's binary_logloss: 0.271488\tvalid_1's binary_logloss: 0.442811\n",
            "[85]\ttraining's binary_logloss: 0.267204\tvalid_1's binary_logloss: 0.44292\n",
            "[90]\ttraining's binary_logloss: 0.262965\tvalid_1's binary_logloss: 0.448272\n",
            "[95]\ttraining's binary_logloss: 0.258088\tvalid_1's binary_logloss: 0.448721\n",
            "[100]\ttraining's binary_logloss: 0.252037\tvalid_1's binary_logloss: 0.449117\n",
            "[105]\ttraining's binary_logloss: 0.24614\tvalid_1's binary_logloss: 0.454193\n",
            "[110]\ttraining's binary_logloss: 0.242849\tvalid_1's binary_logloss: 0.45632\n",
            "[115]\ttraining's binary_logloss: 0.23896\tvalid_1's binary_logloss: 0.459349\n",
            "[120]\ttraining's binary_logloss: 0.236851\tvalid_1's binary_logloss: 0.460036\n",
            "[125]\ttraining's binary_logloss: 0.230933\tvalid_1's binary_logloss: 0.460844\n",
            "[130]\ttraining's binary_logloss: 0.228791\tvalid_1's binary_logloss: 0.464276\n",
            "[135]\ttraining's binary_logloss: 0.225369\tvalid_1's binary_logloss: 0.464904\n",
            "[140]\ttraining's binary_logloss: 0.22208\tvalid_1's binary_logloss: 0.464599\n",
            "[145]\ttraining's binary_logloss: 0.219659\tvalid_1's binary_logloss: 0.47482\n",
            "[150]\ttraining's binary_logloss: 0.216098\tvalid_1's binary_logloss: 0.474058\n",
            "[155]\ttraining's binary_logloss: 0.214494\tvalid_1's binary_logloss: 0.473636\n",
            "Early stopping, best iteration is:\n",
            "[56]\ttraining's binary_logloss: 0.304054\tvalid_1's binary_logloss: 0.412476\n"
          ],
          "name": "stdout"
        },
        {
          "output_type": "stream",
          "text": [
            "regularization_factors, val_score: 0.412475:  65%|######5   | 13/20 [00:07<00:04,  1.71it/s][I 2020-07-16 12:32:05,747] Finished trial#55 with value: 0.4124755182003296 with parameters: {'lambda_l1': 0.00011531416808792386, 'lambda_l2': 2.4241261111716958e-08}. Best is trial#48 with value: 0.4124754962392591.\n",
            "regularization_factors, val_score: 0.412475:  65%|######5   | 13/20 [00:07<00:04,  1.71it/s]"
          ],
          "name": "stderr"
        },
        {
          "output_type": "stream",
          "text": [
            "Training until validation scores don't improve for 100 rounds.\n",
            "[5]\ttraining's binary_logloss: 0.520352\tvalid_1's binary_logloss: 0.570237\n",
            "[10]\ttraining's binary_logloss: 0.451426\tvalid_1's binary_logloss: 0.507966\n",
            "[15]\ttraining's binary_logloss: 0.409737\tvalid_1's binary_logloss: 0.471435\n",
            "[20]\ttraining's binary_logloss: 0.38768\tvalid_1's binary_logloss: 0.45072\n",
            "[25]\ttraining's binary_logloss: 0.364735\tvalid_1's binary_logloss: 0.436906\n",
            "[30]\ttraining's binary_logloss: 0.351047\tvalid_1's binary_logloss: 0.428229\n",
            "[35]\ttraining's binary_logloss: 0.339535\tvalid_1's binary_logloss: 0.43066\n",
            "[40]\ttraining's binary_logloss: 0.327537\tvalid_1's binary_logloss: 0.433699\n",
            "[45]\ttraining's binary_logloss: 0.320319\tvalid_1's binary_logloss: 0.424763\n",
            "[50]\ttraining's binary_logloss: 0.312549\tvalid_1's binary_logloss: 0.41566\n",
            "[55]\ttraining's binary_logloss: 0.304918\tvalid_1's binary_logloss: 0.414732\n",
            "[60]\ttraining's binary_logloss: 0.300547\tvalid_1's binary_logloss: 0.415038\n",
            "[65]\ttraining's binary_logloss: 0.289883\tvalid_1's binary_logloss: 0.422362\n",
            "[70]\ttraining's binary_logloss: 0.283791\tvalid_1's binary_logloss: 0.420205\n",
            "[75]\ttraining's binary_logloss: 0.276971\tvalid_1's binary_logloss: 0.429924\n",
            "[80]\ttraining's binary_logloss: 0.271148\tvalid_1's binary_logloss: 0.441809\n",
            "[85]\ttraining's binary_logloss: 0.267155\tvalid_1's binary_logloss: 0.442037\n",
            "[90]\ttraining's binary_logloss: 0.261902\tvalid_1's binary_logloss: 0.443017\n",
            "[95]\ttraining's binary_logloss: 0.25597\tvalid_1's binary_logloss: 0.441736\n",
            "[100]\ttraining's binary_logloss: 0.250562\tvalid_1's binary_logloss: 0.446452\n",
            "[105]\ttraining's binary_logloss: 0.245779\tvalid_1's binary_logloss: 0.448354\n",
            "[110]\ttraining's binary_logloss: 0.24158\tvalid_1's binary_logloss: 0.451653\n",
            "[115]\ttraining's binary_logloss: 0.237556\tvalid_1's binary_logloss: 0.451852\n",
            "[120]\ttraining's binary_logloss: 0.236464\tvalid_1's binary_logloss: 0.448419\n",
            "[125]\ttraining's binary_logloss: 0.230131\tvalid_1's binary_logloss: 0.449934\n",
            "[130]\ttraining's binary_logloss: 0.22694\tvalid_1's binary_logloss: 0.451938\n",
            "[135]\ttraining's binary_logloss: 0.22299\tvalid_1's binary_logloss: 0.453287\n",
            "[140]\ttraining's binary_logloss: 0.220131\tvalid_1's binary_logloss: 0.456322\n",
            "[145]\ttraining's binary_logloss: 0.217819\tvalid_1's binary_logloss: 0.467873\n",
            "[150]\ttraining's binary_logloss: 0.21426\tvalid_1's binary_logloss: 0.461666\n",
            "[155]\ttraining's binary_logloss: 0.212414\tvalid_1's binary_logloss: 0.460769\n",
            "Early stopping, best iteration is:\n",
            "[56]\ttraining's binary_logloss: 0.303926\tvalid_1's binary_logloss: 0.412586\n"
          ],
          "name": "stdout"
        },
        {
          "output_type": "stream",
          "text": [
            "regularization_factors, val_score: 0.412475:  70%|#######   | 14/20 [00:07<00:03,  1.71it/s][I 2020-07-16 12:32:06,314] Finished trial#56 with value: 0.4125859208797592 with parameters: {'lambda_l1': 3.4255863569799455e-06, 'lambda_l2': 2.4212617839261736e-07}. Best is trial#48 with value: 0.4124754962392591.\n",
            "regularization_factors, val_score: 0.412475:  70%|#######   | 14/20 [00:07<00:03,  1.71it/s]"
          ],
          "name": "stderr"
        },
        {
          "output_type": "stream",
          "text": [
            "Training until validation scores don't improve for 100 rounds.\n",
            "[5]\ttraining's binary_logloss: 0.520678\tvalid_1's binary_logloss: 0.571621\n",
            "[10]\ttraining's binary_logloss: 0.451842\tvalid_1's binary_logloss: 0.509475\n",
            "[15]\ttraining's binary_logloss: 0.411032\tvalid_1's binary_logloss: 0.474447\n",
            "[20]\ttraining's binary_logloss: 0.388531\tvalid_1's binary_logloss: 0.453225\n",
            "[25]\ttraining's binary_logloss: 0.366085\tvalid_1's binary_logloss: 0.441451\n",
            "[30]\ttraining's binary_logloss: 0.351367\tvalid_1's binary_logloss: 0.431438\n",
            "[35]\ttraining's binary_logloss: 0.337165\tvalid_1's binary_logloss: 0.436833\n",
            "[40]\ttraining's binary_logloss: 0.326735\tvalid_1's binary_logloss: 0.435872\n",
            "[45]\ttraining's binary_logloss: 0.318842\tvalid_1's binary_logloss: 0.429374\n",
            "[50]\ttraining's binary_logloss: 0.309754\tvalid_1's binary_logloss: 0.422608\n",
            "[55]\ttraining's binary_logloss: 0.303127\tvalid_1's binary_logloss: 0.424675\n",
            "[60]\ttraining's binary_logloss: 0.297956\tvalid_1's binary_logloss: 0.420631\n",
            "[65]\ttraining's binary_logloss: 0.29057\tvalid_1's binary_logloss: 0.425192\n",
            "[70]\ttraining's binary_logloss: 0.284982\tvalid_1's binary_logloss: 0.422\n",
            "[75]\ttraining's binary_logloss: 0.275842\tvalid_1's binary_logloss: 0.433218\n",
            "[80]\ttraining's binary_logloss: 0.269915\tvalid_1's binary_logloss: 0.451177\n",
            "[85]\ttraining's binary_logloss: 0.265764\tvalid_1's binary_logloss: 0.450031\n",
            "[90]\ttraining's binary_logloss: 0.260639\tvalid_1's binary_logloss: 0.450882\n",
            "[95]\ttraining's binary_logloss: 0.256199\tvalid_1's binary_logloss: 0.451351\n",
            "[100]\ttraining's binary_logloss: 0.251123\tvalid_1's binary_logloss: 0.457891\n",
            "[105]\ttraining's binary_logloss: 0.244279\tvalid_1's binary_logloss: 0.461828\n",
            "[110]\ttraining's binary_logloss: 0.240758\tvalid_1's binary_logloss: 0.465275\n",
            "[115]\ttraining's binary_logloss: 0.23689\tvalid_1's binary_logloss: 0.46533\n",
            "[120]\ttraining's binary_logloss: 0.23503\tvalid_1's binary_logloss: 0.466449\n",
            "[125]\ttraining's binary_logloss: 0.227879\tvalid_1's binary_logloss: 0.465603\n",
            "[130]\ttraining's binary_logloss: 0.225908\tvalid_1's binary_logloss: 0.467966\n",
            "[135]\ttraining's binary_logloss: 0.222878\tvalid_1's binary_logloss: 0.469698\n",
            "[140]\ttraining's binary_logloss: 0.219478\tvalid_1's binary_logloss: 0.4738\n",
            "[145]\ttraining's binary_logloss: 0.217704\tvalid_1's binary_logloss: 0.474504\n",
            "[150]\ttraining's binary_logloss: 0.214234\tvalid_1's binary_logloss: 0.475349\n",
            "[155]\ttraining's binary_logloss: 0.211725\tvalid_1's binary_logloss: 0.47363\n",
            "Early stopping, best iteration is:\n",
            "[57]\ttraining's binary_logloss: 0.300383\tvalid_1's binary_logloss: 0.420162\n"
          ],
          "name": "stdout"
        },
        {
          "output_type": "stream",
          "text": [
            "regularization_factors, val_score: 0.412475:  75%|#######5  | 15/20 [00:08<00:02,  1.79it/s][I 2020-07-16 12:32:06,822] Finished trial#57 with value: 0.42016191805058706 with parameters: {'lambda_l1': 0.0012274706549546543, 'lambda_l2': 0.010550270513424382}. Best is trial#48 with value: 0.4124754962392591.\n",
            "regularization_factors, val_score: 0.412475:  75%|#######5  | 15/20 [00:08<00:02,  1.79it/s]"
          ],
          "name": "stderr"
        },
        {
          "output_type": "stream",
          "text": [
            "Training until validation scores don't improve for 100 rounds.\n",
            "[5]\ttraining's binary_logloss: 0.520353\tvalid_1's binary_logloss: 0.570237\n",
            "[10]\ttraining's binary_logloss: 0.451426\tvalid_1's binary_logloss: 0.507966\n",
            "[15]\ttraining's binary_logloss: 0.409737\tvalid_1's binary_logloss: 0.471435\n",
            "[20]\ttraining's binary_logloss: 0.387681\tvalid_1's binary_logloss: 0.45072\n",
            "[25]\ttraining's binary_logloss: 0.364735\tvalid_1's binary_logloss: 0.436906\n",
            "[30]\ttraining's binary_logloss: 0.351047\tvalid_1's binary_logloss: 0.428229\n",
            "[35]\ttraining's binary_logloss: 0.339535\tvalid_1's binary_logloss: 0.43066\n",
            "[40]\ttraining's binary_logloss: 0.327538\tvalid_1's binary_logloss: 0.433699\n",
            "[45]\ttraining's binary_logloss: 0.32032\tvalid_1's binary_logloss: 0.424763\n",
            "[50]\ttraining's binary_logloss: 0.31255\tvalid_1's binary_logloss: 0.41566\n",
            "[55]\ttraining's binary_logloss: 0.304918\tvalid_1's binary_logloss: 0.414732\n",
            "[60]\ttraining's binary_logloss: 0.300547\tvalid_1's binary_logloss: 0.415038\n",
            "[65]\ttraining's binary_logloss: 0.2899\tvalid_1's binary_logloss: 0.422251\n",
            "[70]\ttraining's binary_logloss: 0.283787\tvalid_1's binary_logloss: 0.419943\n",
            "[75]\ttraining's binary_logloss: 0.276959\tvalid_1's binary_logloss: 0.42966\n",
            "[80]\ttraining's binary_logloss: 0.271135\tvalid_1's binary_logloss: 0.441537\n",
            "[85]\ttraining's binary_logloss: 0.267147\tvalid_1's binary_logloss: 0.441786\n",
            "[90]\ttraining's binary_logloss: 0.261903\tvalid_1's binary_logloss: 0.442788\n",
            "[95]\ttraining's binary_logloss: 0.255961\tvalid_1's binary_logloss: 0.441514\n",
            "[100]\ttraining's binary_logloss: 0.250551\tvalid_1's binary_logloss: 0.446227\n",
            "[105]\ttraining's binary_logloss: 0.245757\tvalid_1's binary_logloss: 0.448139\n",
            "[110]\ttraining's binary_logloss: 0.241556\tvalid_1's binary_logloss: 0.451452\n",
            "[115]\ttraining's binary_logloss: 0.237534\tvalid_1's binary_logloss: 0.451655\n",
            "[120]\ttraining's binary_logloss: 0.236443\tvalid_1's binary_logloss: 0.448253\n",
            "[125]\ttraining's binary_logloss: 0.230108\tvalid_1's binary_logloss: 0.449759\n",
            "[130]\ttraining's binary_logloss: 0.226878\tvalid_1's binary_logloss: 0.451871\n",
            "[135]\ttraining's binary_logloss: 0.223152\tvalid_1's binary_logloss: 0.454312\n",
            "[140]\ttraining's binary_logloss: 0.220034\tvalid_1's binary_logloss: 0.456921\n",
            "[145]\ttraining's binary_logloss: 0.21775\tvalid_1's binary_logloss: 0.468471\n",
            "[150]\ttraining's binary_logloss: 0.213935\tvalid_1's binary_logloss: 0.46162\n",
            "[155]\ttraining's binary_logloss: 0.212355\tvalid_1's binary_logloss: 0.464359\n",
            "Early stopping, best iteration is:\n",
            "[56]\ttraining's binary_logloss: 0.303926\tvalid_1's binary_logloss: 0.412586\n"
          ],
          "name": "stdout"
        },
        {
          "output_type": "stream",
          "text": [
            "regularization_factors, val_score: 0.412475:  80%|########  | 16/20 [00:08<00:02,  1.85it/s][I 2020-07-16 12:32:07,331] Finished trial#58 with value: 0.41258596026579253 with parameters: {'lambda_l1': 2.0701109166035753e-05, 'lambda_l2': 3.15267557606116e-07}. Best is trial#48 with value: 0.4124754962392591.\n",
            "regularization_factors, val_score: 0.412475:  80%|########  | 16/20 [00:08<00:02,  1.85it/s]"
          ],
          "name": "stderr"
        },
        {
          "output_type": "stream",
          "text": [
            "Training until validation scores don't improve for 100 rounds.\n",
            "[5]\ttraining's binary_logloss: 0.520372\tvalid_1's binary_logloss: 0.57045\n",
            "[10]\ttraining's binary_logloss: 0.451712\tvalid_1's binary_logloss: 0.508617\n",
            "[15]\ttraining's binary_logloss: 0.41033\tvalid_1's binary_logloss: 0.472669\n",
            "[20]\ttraining's binary_logloss: 0.388169\tvalid_1's binary_logloss: 0.45249\n",
            "[25]\ttraining's binary_logloss: 0.365863\tvalid_1's binary_logloss: 0.44088\n",
            "[30]\ttraining's binary_logloss: 0.350577\tvalid_1's binary_logloss: 0.432107\n",
            "[35]\ttraining's binary_logloss: 0.337477\tvalid_1's binary_logloss: 0.433972\n",
            "[40]\ttraining's binary_logloss: 0.326429\tvalid_1's binary_logloss: 0.435158\n",
            "[45]\ttraining's binary_logloss: 0.318454\tvalid_1's binary_logloss: 0.429546\n",
            "[50]\ttraining's binary_logloss: 0.309787\tvalid_1's binary_logloss: 0.421694\n",
            "[55]\ttraining's binary_logloss: 0.303252\tvalid_1's binary_logloss: 0.423172\n",
            "[60]\ttraining's binary_logloss: 0.29713\tvalid_1's binary_logloss: 0.423613\n",
            "[65]\ttraining's binary_logloss: 0.289012\tvalid_1's binary_logloss: 0.429497\n",
            "[70]\ttraining's binary_logloss: 0.283441\tvalid_1's binary_logloss: 0.425814\n",
            "[75]\ttraining's binary_logloss: 0.274441\tvalid_1's binary_logloss: 0.436332\n",
            "[80]\ttraining's binary_logloss: 0.267931\tvalid_1's binary_logloss: 0.451378\n",
            "[85]\ttraining's binary_logloss: 0.263994\tvalid_1's binary_logloss: 0.448816\n",
            "[90]\ttraining's binary_logloss: 0.259516\tvalid_1's binary_logloss: 0.450868\n",
            "[95]\ttraining's binary_logloss: 0.255487\tvalid_1's binary_logloss: 0.449897\n",
            "[100]\ttraining's binary_logloss: 0.250418\tvalid_1's binary_logloss: 0.452596\n",
            "[105]\ttraining's binary_logloss: 0.244269\tvalid_1's binary_logloss: 0.459914\n",
            "[110]\ttraining's binary_logloss: 0.240358\tvalid_1's binary_logloss: 0.463679\n",
            "[115]\ttraining's binary_logloss: 0.237319\tvalid_1's binary_logloss: 0.461523\n",
            "[120]\ttraining's binary_logloss: 0.236006\tvalid_1's binary_logloss: 0.460342\n",
            "[125]\ttraining's binary_logloss: 0.229405\tvalid_1's binary_logloss: 0.460434\n",
            "[130]\ttraining's binary_logloss: 0.225802\tvalid_1's binary_logloss: 0.461799\n",
            "[135]\ttraining's binary_logloss: 0.223119\tvalid_1's binary_logloss: 0.466866\n",
            "[140]\ttraining's binary_logloss: 0.219696\tvalid_1's binary_logloss: 0.469069\n",
            "[145]\ttraining's binary_logloss: 0.218236\tvalid_1's binary_logloss: 0.472138\n",
            "Early stopping, best iteration is:\n",
            "[48]\ttraining's binary_logloss: 0.313716\tvalid_1's binary_logloss: 0.420446\n"
          ],
          "name": "stdout"
        },
        {
          "output_type": "stream",
          "text": [
            "regularization_factors, val_score: 0.412475:  85%|########5 | 17/20 [00:09<00:01,  1.86it/s][I 2020-07-16 12:32:07,843] Finished trial#59 with value: 0.42044563521323036 with parameters: {'lambda_l1': 0.0034086832638866842, 'lambda_l2': 0.0002657631695625343}. Best is trial#48 with value: 0.4124754962392591.\n",
            "regularization_factors, val_score: 0.412475:  85%|########5 | 17/20 [00:09<00:01,  1.86it/s]"
          ],
          "name": "stderr"
        },
        {
          "output_type": "stream",
          "text": [
            "Training until validation scores don't improve for 100 rounds.\n",
            "[5]\ttraining's binary_logloss: 0.520961\tvalid_1's binary_logloss: 0.571059\n",
            "[10]\ttraining's binary_logloss: 0.452647\tvalid_1's binary_logloss: 0.509438\n",
            "[15]\ttraining's binary_logloss: 0.411986\tvalid_1's binary_logloss: 0.474363\n",
            "[20]\ttraining's binary_logloss: 0.390251\tvalid_1's binary_logloss: 0.453881\n",
            "[25]\ttraining's binary_logloss: 0.365681\tvalid_1's binary_logloss: 0.438521\n",
            "[30]\ttraining's binary_logloss: 0.350652\tvalid_1's binary_logloss: 0.430207\n",
            "[35]\ttraining's binary_logloss: 0.336603\tvalid_1's binary_logloss: 0.438127\n",
            "[40]\ttraining's binary_logloss: 0.326978\tvalid_1's binary_logloss: 0.438273\n",
            "[45]\ttraining's binary_logloss: 0.320221\tvalid_1's binary_logloss: 0.431469\n",
            "[50]\ttraining's binary_logloss: 0.311516\tvalid_1's binary_logloss: 0.42365\n",
            "[55]\ttraining's binary_logloss: 0.304343\tvalid_1's binary_logloss: 0.424085\n",
            "[60]\ttraining's binary_logloss: 0.298075\tvalid_1's binary_logloss: 0.419491\n",
            "[65]\ttraining's binary_logloss: 0.289757\tvalid_1's binary_logloss: 0.423806\n",
            "[70]\ttraining's binary_logloss: 0.283178\tvalid_1's binary_logloss: 0.419453\n",
            "[75]\ttraining's binary_logloss: 0.274818\tvalid_1's binary_logloss: 0.429362\n",
            "[80]\ttraining's binary_logloss: 0.268785\tvalid_1's binary_logloss: 0.443146\n",
            "[85]\ttraining's binary_logloss: 0.265174\tvalid_1's binary_logloss: 0.443443\n",
            "[90]\ttraining's binary_logloss: 0.25943\tvalid_1's binary_logloss: 0.445116\n",
            "[95]\ttraining's binary_logloss: 0.254023\tvalid_1's binary_logloss: 0.443565\n",
            "[100]\ttraining's binary_logloss: 0.248948\tvalid_1's binary_logloss: 0.451163\n",
            "[105]\ttraining's binary_logloss: 0.24316\tvalid_1's binary_logloss: 0.454017\n",
            "[110]\ttraining's binary_logloss: 0.239801\tvalid_1's binary_logloss: 0.457275\n",
            "[115]\ttraining's binary_logloss: 0.235618\tvalid_1's binary_logloss: 0.454336\n",
            "[120]\ttraining's binary_logloss: 0.233776\tvalid_1's binary_logloss: 0.452941\n",
            "[125]\ttraining's binary_logloss: 0.227611\tvalid_1's binary_logloss: 0.453683\n",
            "[130]\ttraining's binary_logloss: 0.225346\tvalid_1's binary_logloss: 0.458573\n",
            "[135]\ttraining's binary_logloss: 0.221966\tvalid_1's binary_logloss: 0.457466\n",
            "[140]\ttraining's binary_logloss: 0.217847\tvalid_1's binary_logloss: 0.460486\n",
            "[145]\ttraining's binary_logloss: 0.21653\tvalid_1's binary_logloss: 0.466309\n",
            "[150]\ttraining's binary_logloss: 0.213516\tvalid_1's binary_logloss: 0.458764\n",
            "[155]\ttraining's binary_logloss: 0.210639\tvalid_1's binary_logloss: 0.461211\n",
            "[160]\ttraining's binary_logloss: 0.207039\tvalid_1's binary_logloss: 0.463343\n",
            "[165]\ttraining's binary_logloss: 0.204437\tvalid_1's binary_logloss: 0.470908\n",
            "[170]\ttraining's binary_logloss: 0.200751\tvalid_1's binary_logloss: 0.473991\n",
            "Early stopping, best iteration is:\n",
            "[71]\ttraining's binary_logloss: 0.280989\tvalid_1's binary_logloss: 0.418773\n"
          ],
          "name": "stdout"
        },
        {
          "output_type": "stream",
          "text": [
            "regularization_factors, val_score: 0.412475:  90%|######### | 18/20 [00:09<00:01,  1.81it/s][I 2020-07-16 12:32:08,435] Finished trial#60 with value: 0.41877263725899677 with parameters: {'lambda_l1': 8.462222225765568e-08, 'lambda_l2': 0.032230717233374014}. Best is trial#48 with value: 0.4124754962392591.\n",
            "regularization_factors, val_score: 0.412475:  90%|######### | 18/20 [00:10<00:01,  1.81it/s]"
          ],
          "name": "stderr"
        },
        {
          "output_type": "stream",
          "text": [
            "Training until validation scores don't improve for 100 rounds.\n",
            "[5]\ttraining's binary_logloss: 0.525872\tvalid_1's binary_logloss: 0.571786\n",
            "[10]\ttraining's binary_logloss: 0.458015\tvalid_1's binary_logloss: 0.512541\n",
            "[15]\ttraining's binary_logloss: 0.419804\tvalid_1's binary_logloss: 0.47923\n",
            "[20]\ttraining's binary_logloss: 0.398106\tvalid_1's binary_logloss: 0.459405\n",
            "[25]\ttraining's binary_logloss: 0.376044\tvalid_1's binary_logloss: 0.443728\n",
            "[30]\ttraining's binary_logloss: 0.361834\tvalid_1's binary_logloss: 0.433544\n",
            "[35]\ttraining's binary_logloss: 0.349373\tvalid_1's binary_logloss: 0.434584\n",
            "[40]\ttraining's binary_logloss: 0.340213\tvalid_1's binary_logloss: 0.434087\n",
            "[45]\ttraining's binary_logloss: 0.333781\tvalid_1's binary_logloss: 0.429401\n",
            "[50]\ttraining's binary_logloss: 0.327989\tvalid_1's binary_logloss: 0.429473\n",
            "[55]\ttraining's binary_logloss: 0.322757\tvalid_1's binary_logloss: 0.42531\n",
            "[60]\ttraining's binary_logloss: 0.318191\tvalid_1's binary_logloss: 0.418198\n",
            "[65]\ttraining's binary_logloss: 0.311905\tvalid_1's binary_logloss: 0.419367\n",
            "[70]\ttraining's binary_logloss: 0.305729\tvalid_1's binary_logloss: 0.417336\n",
            "[75]\ttraining's binary_logloss: 0.300133\tvalid_1's binary_logloss: 0.423595\n",
            "[80]\ttraining's binary_logloss: 0.294983\tvalid_1's binary_logloss: 0.436333\n",
            "[85]\ttraining's binary_logloss: 0.291202\tvalid_1's binary_logloss: 0.435993\n",
            "[90]\ttraining's binary_logloss: 0.286534\tvalid_1's binary_logloss: 0.436127\n",
            "[95]\ttraining's binary_logloss: 0.281251\tvalid_1's binary_logloss: 0.433309\n",
            "[100]\ttraining's binary_logloss: 0.277424\tvalid_1's binary_logloss: 0.432534\n",
            "[105]\ttraining's binary_logloss: 0.273136\tvalid_1's binary_logloss: 0.439268\n",
            "[110]\ttraining's binary_logloss: 0.270562\tvalid_1's binary_logloss: 0.441261\n",
            "[115]\ttraining's binary_logloss: 0.266725\tvalid_1's binary_logloss: 0.436647\n",
            "[120]\ttraining's binary_logloss: 0.265174\tvalid_1's binary_logloss: 0.43294\n",
            "[125]\ttraining's binary_logloss: 0.260149\tvalid_1's binary_logloss: 0.434152\n",
            "[130]\ttraining's binary_logloss: 0.258351\tvalid_1's binary_logloss: 0.435187\n",
            "[135]\ttraining's binary_logloss: 0.25569\tvalid_1's binary_logloss: 0.435771\n",
            "[140]\ttraining's binary_logloss: 0.252718\tvalid_1's binary_logloss: 0.437571\n",
            "[145]\ttraining's binary_logloss: 0.250974\tvalid_1's binary_logloss: 0.447278\n",
            "[150]\ttraining's binary_logloss: 0.24843\tvalid_1's binary_logloss: 0.445987\n",
            "[155]\ttraining's binary_logloss: 0.246728\tvalid_1's binary_logloss: 0.44175\n",
            "[160]\ttraining's binary_logloss: 0.244153\tvalid_1's binary_logloss: 0.443242\n",
            "[165]\ttraining's binary_logloss: 0.242115\tvalid_1's binary_logloss: 0.44765\n",
            "[170]\ttraining's binary_logloss: 0.238835\tvalid_1's binary_logloss: 0.453791\n",
            "Early stopping, best iteration is:\n",
            "[71]\ttraining's binary_logloss: 0.305443\tvalid_1's binary_logloss: 0.416348\n"
          ],
          "name": "stdout"
        },
        {
          "output_type": "stream",
          "text": [
            "regularization_factors, val_score: 0.412475:  95%|#########5| 19/20 [00:10<00:00,  1.78it/s][I 2020-07-16 12:32:09,016] Finished trial#61 with value: 0.4163478201750813 with parameters: {'lambda_l1': 0.47304962758863905, 'lambda_l2': 1.4630761505028059e-06}. Best is trial#48 with value: 0.4124754962392591.\n",
            "regularization_factors, val_score: 0.412475:  95%|#########5| 19/20 [00:10<00:00,  1.78it/s]"
          ],
          "name": "stderr"
        },
        {
          "output_type": "stream",
          "text": [
            "Training until validation scores don't improve for 100 rounds.\n",
            "[5]\ttraining's binary_logloss: 0.520353\tvalid_1's binary_logloss: 0.570238\n",
            "[10]\ttraining's binary_logloss: 0.451427\tvalid_1's binary_logloss: 0.507967\n",
            "[15]\ttraining's binary_logloss: 0.409737\tvalid_1's binary_logloss: 0.471435\n",
            "[20]\ttraining's binary_logloss: 0.387681\tvalid_1's binary_logloss: 0.450721\n",
            "[25]\ttraining's binary_logloss: 0.364736\tvalid_1's binary_logloss: 0.436906\n",
            "[30]\ttraining's binary_logloss: 0.351048\tvalid_1's binary_logloss: 0.428229\n",
            "[35]\ttraining's binary_logloss: 0.339536\tvalid_1's binary_logloss: 0.43066\n",
            "[40]\ttraining's binary_logloss: 0.327538\tvalid_1's binary_logloss: 0.433699\n",
            "[45]\ttraining's binary_logloss: 0.32032\tvalid_1's binary_logloss: 0.424763\n",
            "[50]\ttraining's binary_logloss: 0.31255\tvalid_1's binary_logloss: 0.41566\n",
            "[55]\ttraining's binary_logloss: 0.304919\tvalid_1's binary_logloss: 0.414732\n",
            "[60]\ttraining's binary_logloss: 0.300548\tvalid_1's binary_logloss: 0.415038\n",
            "[65]\ttraining's binary_logloss: 0.2899\tvalid_1's binary_logloss: 0.422251\n",
            "[70]\ttraining's binary_logloss: 0.283799\tvalid_1's binary_logloss: 0.420099\n",
            "[75]\ttraining's binary_logloss: 0.27698\tvalid_1's binary_logloss: 0.429809\n",
            "[80]\ttraining's binary_logloss: 0.271156\tvalid_1's binary_logloss: 0.441687\n",
            "[85]\ttraining's binary_logloss: 0.267159\tvalid_1's binary_logloss: 0.441913\n",
            "[90]\ttraining's binary_logloss: 0.26191\tvalid_1's binary_logloss: 0.442908\n",
            "[95]\ttraining's binary_logloss: 0.255976\tvalid_1's binary_logloss: 0.441631\n",
            "[100]\ttraining's binary_logloss: 0.250564\tvalid_1's binary_logloss: 0.446339\n",
            "[105]\ttraining's binary_logloss: 0.245841\tvalid_1's binary_logloss: 0.448232\n",
            "[110]\ttraining's binary_logloss: 0.241639\tvalid_1's binary_logloss: 0.45162\n",
            "[115]\ttraining's binary_logloss: 0.237955\tvalid_1's binary_logloss: 0.450257\n",
            "[120]\ttraining's binary_logloss: 0.236706\tvalid_1's binary_logloss: 0.447373\n",
            "[125]\ttraining's binary_logloss: 0.230263\tvalid_1's binary_logloss: 0.4487\n",
            "[130]\ttraining's binary_logloss: 0.227313\tvalid_1's binary_logloss: 0.450207\n",
            "[135]\ttraining's binary_logloss: 0.223422\tvalid_1's binary_logloss: 0.452455\n",
            "[140]\ttraining's binary_logloss: 0.22072\tvalid_1's binary_logloss: 0.45593\n",
            "[145]\ttraining's binary_logloss: 0.218259\tvalid_1's binary_logloss: 0.469815\n",
            "[150]\ttraining's binary_logloss: 0.214835\tvalid_1's binary_logloss: 0.46365\n",
            "[155]\ttraining's binary_logloss: 0.213167\tvalid_1's binary_logloss: 0.463942\n",
            "Early stopping, best iteration is:\n",
            "[56]\ttraining's binary_logloss: 0.303927\tvalid_1's binary_logloss: 0.412586\n"
          ],
          "name": "stdout"
        },
        {
          "output_type": "stream",
          "text": [
            "regularization_factors, val_score: 0.412475: 100%|##########| 20/20 [00:11<00:00,  1.73it/s][I 2020-07-16 12:32:09,631] Finished trial#62 with value: 0.41258599650023403 with parameters: {'lambda_l1': 1.2854358409799873e-06, 'lambda_l2': 5.037545428948883e-05}. Best is trial#48 with value: 0.4124754962392591.\n",
            "regularization_factors, val_score: 0.412475: 100%|##########| 20/20 [00:11<00:00,  1.78it/s]\n",
            "min_data_in_leaf, val_score: 0.412475:   0%|          | 0/5 [00:00<?, ?it/s]"
          ],
          "name": "stderr"
        },
        {
          "output_type": "stream",
          "text": [
            "Training until validation scores don't improve for 100 rounds.\n",
            "[5]\ttraining's binary_logloss: 0.523949\tvalid_1's binary_logloss: 0.569746\n",
            "[10]\ttraining's binary_logloss: 0.454866\tvalid_1's binary_logloss: 0.504508\n",
            "[15]\ttraining's binary_logloss: 0.418586\tvalid_1's binary_logloss: 0.46914\n",
            "[20]\ttraining's binary_logloss: 0.397505\tvalid_1's binary_logloss: 0.451465\n",
            "[25]\ttraining's binary_logloss: 0.376265\tvalid_1's binary_logloss: 0.441704\n",
            "[30]\ttraining's binary_logloss: 0.363457\tvalid_1's binary_logloss: 0.437421\n",
            "[35]\ttraining's binary_logloss: 0.350602\tvalid_1's binary_logloss: 0.436948\n",
            "[40]\ttraining's binary_logloss: 0.339599\tvalid_1's binary_logloss: 0.434696\n",
            "[45]\ttraining's binary_logloss: 0.332387\tvalid_1's binary_logloss: 0.427328\n",
            "[50]\ttraining's binary_logloss: 0.325984\tvalid_1's binary_logloss: 0.420349\n",
            "[55]\ttraining's binary_logloss: 0.320619\tvalid_1's binary_logloss: 0.417663\n",
            "[60]\ttraining's binary_logloss: 0.315612\tvalid_1's binary_logloss: 0.419372\n",
            "[65]\ttraining's binary_logloss: 0.309631\tvalid_1's binary_logloss: 0.421021\n",
            "[70]\ttraining's binary_logloss: 0.302756\tvalid_1's binary_logloss: 0.418844\n",
            "[75]\ttraining's binary_logloss: 0.294668\tvalid_1's binary_logloss: 0.430266\n",
            "[80]\ttraining's binary_logloss: 0.290123\tvalid_1's binary_logloss: 0.440769\n",
            "[85]\ttraining's binary_logloss: 0.287828\tvalid_1's binary_logloss: 0.441378\n",
            "[90]\ttraining's binary_logloss: 0.282825\tvalid_1's binary_logloss: 0.437898\n",
            "[95]\ttraining's binary_logloss: 0.278637\tvalid_1's binary_logloss: 0.43232\n",
            "[100]\ttraining's binary_logloss: 0.273993\tvalid_1's binary_logloss: 0.436375\n",
            "[105]\ttraining's binary_logloss: 0.269462\tvalid_1's binary_logloss: 0.446651\n",
            "[110]\ttraining's binary_logloss: 0.266252\tvalid_1's binary_logloss: 0.45271\n",
            "[115]\ttraining's binary_logloss: 0.262983\tvalid_1's binary_logloss: 0.450173\n",
            "[120]\ttraining's binary_logloss: 0.261525\tvalid_1's binary_logloss: 0.444766\n",
            "[125]\ttraining's binary_logloss: 0.255703\tvalid_1's binary_logloss: 0.448138\n",
            "[130]\ttraining's binary_logloss: 0.252804\tvalid_1's binary_logloss: 0.445109\n",
            "[135]\ttraining's binary_logloss: 0.250872\tvalid_1's binary_logloss: 0.443126\n",
            "[140]\ttraining's binary_logloss: 0.249381\tvalid_1's binary_logloss: 0.442269\n",
            "[145]\ttraining's binary_logloss: 0.247653\tvalid_1's binary_logloss: 0.450719\n",
            "[150]\ttraining's binary_logloss: 0.245692\tvalid_1's binary_logloss: 0.441136\n",
            "[155]\ttraining's binary_logloss: 0.243296\tvalid_1's binary_logloss: 0.433569\n",
            "Early stopping, best iteration is:\n",
            "[56]\ttraining's binary_logloss: 0.319685\tvalid_1's binary_logloss: 0.416316\n"
          ],
          "name": "stdout"
        },
        {
          "output_type": "stream",
          "text": [
            "min_data_in_leaf, val_score: 0.412475:  20%|##        | 1/5 [00:00<00:01,  2.43it/s][I 2020-07-16 12:32:10,186] Finished trial#63 with value: 0.4163164703335451 with parameters: {'min_child_samples': 25}. Best is trial#63 with value: 0.4163164703335451.\n",
            "min_data_in_leaf, val_score: 0.412475:  20%|##        | 1/5 [00:00<00:01,  2.43it/s]"
          ],
          "name": "stderr"
        },
        {
          "output_type": "stream",
          "text": [
            "Training until validation scores don't improve for 100 rounds.\n",
            "[5]\ttraining's binary_logloss: 0.480232\tvalid_1's binary_logloss: 0.546803\n",
            "[10]\ttraining's binary_logloss: 0.398179\tvalid_1's binary_logloss: 0.475041\n",
            "[15]\ttraining's binary_logloss: 0.342638\tvalid_1's binary_logloss: 0.446881\n",
            "[20]\ttraining's binary_logloss: 0.303701\tvalid_1's binary_logloss: 0.439604\n",
            "[25]\ttraining's binary_logloss: 0.273106\tvalid_1's binary_logloss: 0.433504\n",
            "[30]\ttraining's binary_logloss: 0.248535\tvalid_1's binary_logloss: 0.428287\n",
            "[35]\ttraining's binary_logloss: 0.227617\tvalid_1's binary_logloss: 0.431869\n",
            "[40]\ttraining's binary_logloss: 0.210023\tvalid_1's binary_logloss: 0.440743\n",
            "[45]\ttraining's binary_logloss: 0.200036\tvalid_1's binary_logloss: 0.434132\n",
            "[50]\ttraining's binary_logloss: 0.187163\tvalid_1's binary_logloss: 0.434277\n",
            "[55]\ttraining's binary_logloss: 0.176937\tvalid_1's binary_logloss: 0.44534\n",
            "[60]\ttraining's binary_logloss: 0.166464\tvalid_1's binary_logloss: 0.463084\n",
            "[65]\ttraining's binary_logloss: 0.152296\tvalid_1's binary_logloss: 0.476077\n",
            "[70]\ttraining's binary_logloss: 0.145703\tvalid_1's binary_logloss: 0.490617\n",
            "[75]\ttraining's binary_logloss: 0.135058\tvalid_1's binary_logloss: 0.511212\n",
            "[80]\ttraining's binary_logloss: 0.1265\tvalid_1's binary_logloss: 0.532944\n",
            "[85]\ttraining's binary_logloss: 0.119299\tvalid_1's binary_logloss: 0.542954\n",
            "[90]\ttraining's binary_logloss: 0.111465\tvalid_1's binary_logloss: 0.546585\n",
            "[95]\ttraining's binary_logloss: 0.107403\tvalid_1's binary_logloss: 0.553779\n",
            "[100]\ttraining's binary_logloss: 0.101735\tvalid_1's binary_logloss: 0.562178\n",
            "[105]\ttraining's binary_logloss: 0.0953363\tvalid_1's binary_logloss: 0.577833\n",
            "[110]\ttraining's binary_logloss: 0.0923071\tvalid_1's binary_logloss: 0.583928\n",
            "[115]\ttraining's binary_logloss: 0.089016\tvalid_1's binary_logloss: 0.599452\n",
            "[120]\ttraining's binary_logloss: 0.0866471\tvalid_1's binary_logloss: 0.608208\n",
            "[125]\ttraining's binary_logloss: 0.0814989\tvalid_1's binary_logloss: 0.613823\n",
            "Early stopping, best iteration is:\n",
            "[28]\ttraining's binary_logloss: 0.257288\tvalid_1's binary_logloss: 0.425884\n"
          ],
          "name": "stdout"
        },
        {
          "output_type": "stream",
          "text": [
            "min_data_in_leaf, val_score: 0.412475:  40%|####      | 2/5 [00:00<00:01,  2.32it/s][I 2020-07-16 12:32:10,667] Finished trial#64 with value: 0.42588378742575855 with parameters: {'min_child_samples': 5}. Best is trial#63 with value: 0.4163164703335451.\n",
            "min_data_in_leaf, val_score: 0.412475:  40%|####      | 2/5 [00:01<00:01,  2.32it/s]"
          ],
          "name": "stderr"
        },
        {
          "output_type": "stream",
          "text": [
            "Training until validation scores don't improve for 100 rounds.\n",
            "[5]\ttraining's binary_logloss: 0.555955\tvalid_1's binary_logloss: 0.586412\n",
            "[10]\ttraining's binary_logloss: 0.511693\tvalid_1's binary_logloss: 0.548049\n",
            "[15]\ttraining's binary_logloss: 0.485915\tvalid_1's binary_logloss: 0.524604\n",
            "[20]\ttraining's binary_logloss: 0.471611\tvalid_1's binary_logloss: 0.512297\n",
            "[25]\ttraining's binary_logloss: 0.459965\tvalid_1's binary_logloss: 0.505018\n",
            "[30]\ttraining's binary_logloss: 0.452755\tvalid_1's binary_logloss: 0.497698\n",
            "[35]\ttraining's binary_logloss: 0.446296\tvalid_1's binary_logloss: 0.499991\n",
            "[40]\ttraining's binary_logloss: 0.4429\tvalid_1's binary_logloss: 0.49553\n",
            "[45]\ttraining's binary_logloss: 0.440774\tvalid_1's binary_logloss: 0.493996\n",
            "[50]\ttraining's binary_logloss: 0.439647\tvalid_1's binary_logloss: 0.493659\n",
            "[55]\ttraining's binary_logloss: 0.435153\tvalid_1's binary_logloss: 0.486355\n",
            "[60]\ttraining's binary_logloss: 0.431303\tvalid_1's binary_logloss: 0.479159\n",
            "[65]\ttraining's binary_logloss: 0.431841\tvalid_1's binary_logloss: 0.480933\n",
            "[70]\ttraining's binary_logloss: 0.430929\tvalid_1's binary_logloss: 0.476963\n",
            "[75]\ttraining's binary_logloss: 0.428986\tvalid_1's binary_logloss: 0.476911\n",
            "[80]\ttraining's binary_logloss: 0.427719\tvalid_1's binary_logloss: 0.481999\n",
            "[85]\ttraining's binary_logloss: 0.426748\tvalid_1's binary_logloss: 0.483035\n",
            "[90]\ttraining's binary_logloss: 0.426956\tvalid_1's binary_logloss: 0.475833\n",
            "[95]\ttraining's binary_logloss: 0.426173\tvalid_1's binary_logloss: 0.477889\n",
            "[100]\ttraining's binary_logloss: 0.425262\tvalid_1's binary_logloss: 0.481179\n",
            "[105]\ttraining's binary_logloss: 0.423873\tvalid_1's binary_logloss: 0.485506\n",
            "[110]\ttraining's binary_logloss: 0.422764\tvalid_1's binary_logloss: 0.484708\n",
            "[115]\ttraining's binary_logloss: 0.421411\tvalid_1's binary_logloss: 0.482911\n",
            "[120]\ttraining's binary_logloss: 0.422377\tvalid_1's binary_logloss: 0.47045\n",
            "[125]\ttraining's binary_logloss: 0.41976\tvalid_1's binary_logloss: 0.477358\n",
            "[130]\ttraining's binary_logloss: 0.419709\tvalid_1's binary_logloss: 0.477114\n",
            "[135]\ttraining's binary_logloss: 0.419168\tvalid_1's binary_logloss: 0.479761\n",
            "[140]\ttraining's binary_logloss: 0.418481\tvalid_1's binary_logloss: 0.479552\n",
            "[145]\ttraining's binary_logloss: 0.418017\tvalid_1's binary_logloss: 0.482922\n",
            "[150]\ttraining's binary_logloss: 0.417962\tvalid_1's binary_logloss: 0.487593\n",
            "[155]\ttraining's binary_logloss: 0.416563\tvalid_1's binary_logloss: 0.474339\n",
            "[160]\ttraining's binary_logloss: 0.415958\tvalid_1's binary_logloss: 0.473786\n",
            "[165]\ttraining's binary_logloss: 0.416216\tvalid_1's binary_logloss: 0.481047\n",
            "[170]\ttraining's binary_logloss: 0.415909\tvalid_1's binary_logloss: 0.486047\n",
            "[175]\ttraining's binary_logloss: 0.414044\tvalid_1's binary_logloss: 0.483504\n",
            "[180]\ttraining's binary_logloss: 0.413373\tvalid_1's binary_logloss: 0.480871\n",
            "[185]\ttraining's binary_logloss: 0.412641\tvalid_1's binary_logloss: 0.478377\n",
            "[190]\ttraining's binary_logloss: 0.41151\tvalid_1's binary_logloss: 0.485327\n",
            "[195]\ttraining's binary_logloss: 0.410907\tvalid_1's binary_logloss: 0.487643\n",
            "[200]\ttraining's binary_logloss: 0.409734\tvalid_1's binary_logloss: 0.482431\n",
            "[205]\ttraining's binary_logloss: 0.409329\tvalid_1's binary_logloss: 0.47668\n",
            "[210]\ttraining's binary_logloss: 0.409145\tvalid_1's binary_logloss: 0.48171\n",
            "[215]\ttraining's binary_logloss: 0.408484\tvalid_1's binary_logloss: 0.484158\n",
            "[220]\ttraining's binary_logloss: 0.407648\tvalid_1's binary_logloss: 0.482724\n",
            "Early stopping, best iteration is:\n",
            "[120]\ttraining's binary_logloss: 0.422377\tvalid_1's binary_logloss: 0.47045\n"
          ],
          "name": "stdout"
        },
        {
          "output_type": "stream",
          "text": [
            "min_data_in_leaf, val_score: 0.412475:  60%|######    | 3/5 [00:01<00:00,  2.05it/s][I 2020-07-16 12:32:11,277] Finished trial#65 with value: 0.4704495353228082 with parameters: {'min_child_samples': 100}. Best is trial#63 with value: 0.4163164703335451.\n",
            "min_data_in_leaf, val_score: 0.412475:  60%|######    | 3/5 [00:01<00:00,  2.05it/s]"
          ],
          "name": "stderr"
        },
        {
          "output_type": "stream",
          "text": [
            "Training until validation scores don't improve for 100 rounds.\n",
            "[5]\ttraining's binary_logloss: 0.496117\tvalid_1's binary_logloss: 0.55573\n",
            "[10]\ttraining's binary_logloss: 0.420025\tvalid_1's binary_logloss: 0.488159\n",
            "[15]\ttraining's binary_logloss: 0.371958\tvalid_1's binary_logloss: 0.454358\n",
            "[20]\ttraining's binary_logloss: 0.343387\tvalid_1's binary_logloss: 0.438083\n",
            "[25]\ttraining's binary_logloss: 0.317853\tvalid_1's binary_logloss: 0.430294\n",
            "[30]\ttraining's binary_logloss: 0.296698\tvalid_1's binary_logloss: 0.418343\n",
            "[35]\ttraining's binary_logloss: 0.279604\tvalid_1's binary_logloss: 0.42187\n",
            "[40]\ttraining's binary_logloss: 0.26433\tvalid_1's binary_logloss: 0.434423\n",
            "[45]\ttraining's binary_logloss: 0.254\tvalid_1's binary_logloss: 0.431657\n",
            "[50]\ttraining's binary_logloss: 0.244244\tvalid_1's binary_logloss: 0.430732\n",
            "[55]\ttraining's binary_logloss: 0.234472\tvalid_1's binary_logloss: 0.429236\n",
            "[60]\ttraining's binary_logloss: 0.22576\tvalid_1's binary_logloss: 0.439072\n",
            "[65]\ttraining's binary_logloss: 0.212873\tvalid_1's binary_logloss: 0.44241\n",
            "[70]\ttraining's binary_logloss: 0.203844\tvalid_1's binary_logloss: 0.454118\n",
            "[75]\ttraining's binary_logloss: 0.193422\tvalid_1's binary_logloss: 0.476818\n",
            "[80]\ttraining's binary_logloss: 0.184918\tvalid_1's binary_logloss: 0.498265\n",
            "[85]\ttraining's binary_logloss: 0.180252\tvalid_1's binary_logloss: 0.500645\n",
            "[90]\ttraining's binary_logloss: 0.17151\tvalid_1's binary_logloss: 0.505971\n",
            "[95]\ttraining's binary_logloss: 0.163833\tvalid_1's binary_logloss: 0.511537\n",
            "[100]\ttraining's binary_logloss: 0.158203\tvalid_1's binary_logloss: 0.518608\n",
            "[105]\ttraining's binary_logloss: 0.1522\tvalid_1's binary_logloss: 0.527222\n",
            "[110]\ttraining's binary_logloss: 0.148626\tvalid_1's binary_logloss: 0.533072\n",
            "[115]\ttraining's binary_logloss: 0.144828\tvalid_1's binary_logloss: 0.543606\n",
            "[120]\ttraining's binary_logloss: 0.143107\tvalid_1's binary_logloss: 0.547276\n",
            "[125]\ttraining's binary_logloss: 0.137101\tvalid_1's binary_logloss: 0.554267\n",
            "Early stopping, best iteration is:\n",
            "[28]\ttraining's binary_logloss: 0.30474\tvalid_1's binary_logloss: 0.416957\n"
          ],
          "name": "stdout"
        },
        {
          "output_type": "stream",
          "text": [
            "min_data_in_leaf, val_score: 0.412475:  80%|########  | 4/5 [00:02<00:00,  2.03it/s][I 2020-07-16 12:32:11,780] Finished trial#66 with value: 0.41695727161451623 with parameters: {'min_child_samples': 10}. Best is trial#63 with value: 0.4163164703335451.\n",
            "min_data_in_leaf, val_score: 0.412475:  80%|########  | 4/5 [00:02<00:00,  2.03it/s]"
          ],
          "name": "stderr"
        },
        {
          "output_type": "stream",
          "text": [
            "Training until validation scores don't improve for 100 rounds.\n",
            "[5]\ttraining's binary_logloss: 0.535062\tvalid_1's binary_logloss: 0.577334\n",
            "[10]\ttraining's binary_logloss: 0.471708\tvalid_1's binary_logloss: 0.523162\n",
            "[15]\ttraining's binary_logloss: 0.441122\tvalid_1's binary_logloss: 0.492999\n",
            "[20]\ttraining's binary_logloss: 0.426877\tvalid_1's binary_logloss: 0.478822\n",
            "[25]\ttraining's binary_logloss: 0.412955\tvalid_1's binary_logloss: 0.47259\n",
            "[30]\ttraining's binary_logloss: 0.405881\tvalid_1's binary_logloss: 0.456469\n",
            "[35]\ttraining's binary_logloss: 0.394379\tvalid_1's binary_logloss: 0.450895\n",
            "[40]\ttraining's binary_logloss: 0.388169\tvalid_1's binary_logloss: 0.443128\n",
            "[45]\ttraining's binary_logloss: 0.385255\tvalid_1's binary_logloss: 0.44044\n",
            "[50]\ttraining's binary_logloss: 0.379945\tvalid_1's binary_logloss: 0.443494\n",
            "[55]\ttraining's binary_logloss: 0.376676\tvalid_1's binary_logloss: 0.43754\n",
            "[60]\ttraining's binary_logloss: 0.372257\tvalid_1's binary_logloss: 0.429971\n",
            "[65]\ttraining's binary_logloss: 0.369907\tvalid_1's binary_logloss: 0.429572\n",
            "[70]\ttraining's binary_logloss: 0.366915\tvalid_1's binary_logloss: 0.432052\n",
            "[75]\ttraining's binary_logloss: 0.363322\tvalid_1's binary_logloss: 0.439229\n",
            "[80]\ttraining's binary_logloss: 0.359449\tvalid_1's binary_logloss: 0.446155\n",
            "[85]\ttraining's binary_logloss: 0.356991\tvalid_1's binary_logloss: 0.441754\n",
            "[90]\ttraining's binary_logloss: 0.352447\tvalid_1's binary_logloss: 0.435397\n",
            "[95]\ttraining's binary_logloss: 0.351064\tvalid_1's binary_logloss: 0.434139\n",
            "[100]\ttraining's binary_logloss: 0.348997\tvalid_1's binary_logloss: 0.437082\n",
            "[105]\ttraining's binary_logloss: 0.347057\tvalid_1's binary_logloss: 0.442847\n",
            "[110]\ttraining's binary_logloss: 0.345058\tvalid_1's binary_logloss: 0.445166\n",
            "[115]\ttraining's binary_logloss: 0.342808\tvalid_1's binary_logloss: 0.440531\n",
            "[120]\ttraining's binary_logloss: 0.342522\tvalid_1's binary_logloss: 0.430674\n",
            "[125]\ttraining's binary_logloss: 0.339348\tvalid_1's binary_logloss: 0.440154\n",
            "[130]\ttraining's binary_logloss: 0.336422\tvalid_1's binary_logloss: 0.438721\n",
            "[135]\ttraining's binary_logloss: 0.334456\tvalid_1's binary_logloss: 0.438903\n",
            "[140]\ttraining's binary_logloss: 0.332867\tvalid_1's binary_logloss: 0.436931\n",
            "[145]\ttraining's binary_logloss: 0.330477\tvalid_1's binary_logloss: 0.439724\n",
            "[150]\ttraining's binary_logloss: 0.329049\tvalid_1's binary_logloss: 0.441195\n",
            "[155]\ttraining's binary_logloss: 0.32741\tvalid_1's binary_logloss: 0.433649\n",
            "[160]\ttraining's binary_logloss: 0.324955\tvalid_1's binary_logloss: 0.438776\n",
            "Early stopping, best iteration is:\n",
            "[62]\ttraining's binary_logloss: 0.371168\tvalid_1's binary_logloss: 0.429067\n"
          ],
          "name": "stdout"
        },
        {
          "output_type": "stream",
          "text": [
            "min_data_in_leaf, val_score: 0.412475: 100%|##########| 5/5 [00:02<00:00,  2.00it/s][I 2020-07-16 12:32:12,310] Finished trial#67 with value: 0.4290668138723016 with parameters: {'min_child_samples': 50}. Best is trial#63 with value: 0.4163164703335451.\n",
            "min_data_in_leaf, val_score: 0.412475: 100%|##########| 5/5 [00:02<00:00,  1.87it/s]\n"
          ],
          "name": "stderr"
        }
      ]
    },
    {
      "cell_type": "code",
      "metadata": {
        "id": "tUASrDRthte2",
        "colab_type": "code",
        "colab": {
          "base_uri": "https://localhost:8080/",
          "height": 1000
        },
        "outputId": "b42acb4b-0581-401e-e57d-bf54da7a932d"
      },
      "source": [
        "model.predict(test_set)"
      ],
      "execution_count": 87,
      "outputs": [
        {
          "output_type": "execute_result",
          "data": {
            "text/plain": [
              "array([0.12583662, 0.37907817, 0.0757535 , 0.13943166, 0.68027247,\n",
              "       0.12061514, 0.53726919, 0.10136253, 0.71354294, 0.07265344,\n",
              "       0.08031635, 0.1146264 , 0.95200599, 0.06967876, 0.91570392,\n",
              "       0.85303914, 0.1258566 , 0.1880989 , 0.24801162, 0.57836157,\n",
              "       0.17340209, 0.35577888, 0.83413603, 0.2900346 , 0.92761719,\n",
              "       0.04261178, 0.95885273, 0.1880989 , 0.24820292, 0.10012154,\n",
              "       0.07919897, 0.12643152, 0.65535501, 0.31139392, 0.51368503,\n",
              "       0.16245136, 0.3922329 , 0.13614109, 0.09979968, 0.1619255 ,\n",
              "       0.12926295, 0.35654331, 0.09433961, 0.79668309, 0.96805128,\n",
              "       0.14004566, 0.37442017, 0.07377517, 0.95391796, 0.63898175,\n",
              "       0.30201516, 0.1866805 , 0.87124733, 0.88049795, 0.17094394,\n",
              "       0.11511562, 0.12081577, 0.13102846, 0.06143341, 0.94666268,\n",
              "       0.13635802, 0.14986845, 0.11577342, 0.64648046, 0.73194497,\n",
              "       0.88678153, 0.70419673, 0.09974865, 0.435842  , 0.87678639,\n",
              "       0.58062031, 0.08866883, 0.35670076, 0.4681883 , 0.93571904,\n",
              "       0.43103081, 0.10003975, 0.87117613, 0.10967577, 0.58062031,\n",
              "       0.3930005 , 0.18677491, 0.10644668, 0.08031635, 0.1258566 ,\n",
              "       0.05869185, 0.68467261, 0.42947336, 0.67981663, 0.90745738,\n",
              "       0.56410959, 0.08366622, 0.96173033, 0.10003975, 0.20922525,\n",
              "       0.10461155, 0.92902881, 0.1427327 , 0.36936431, 0.14887473,\n",
              "       0.9493705 , 0.12774846, 0.07377517, 0.09233209, 0.84737424,\n",
              "       0.06175209, 0.09249427, 0.07377517, 0.09050282, 0.19447629,\n",
              "       0.12777671, 0.67455947, 0.94407501, 0.69413662, 0.92717665,\n",
              "       0.06915562, 0.10214782, 0.7895828 , 0.40769825, 0.84633237,\n",
              "       0.89929666, 0.07477852, 0.97309906, 0.08366622, 0.07377517,\n",
              "       0.63336542, 0.10461155, 0.76083278, 0.10103349, 0.11019759,\n",
              "       0.16313255, 0.41346786, 0.08314237, 0.09368756, 0.07982277,\n",
              "       0.10461155, 0.1880989 , 0.10753299, 0.3345761 , 0.06712533,\n",
              "       0.06360098, 0.90684491, 0.36031617, 0.06778381, 0.19057507,\n",
              "       0.04962717, 0.38018972, 0.11019759, 0.19057507, 0.27345402,\n",
              "       0.95525572, 0.13472066, 0.08145809, 0.7568786 , 0.16294819,\n",
              "       0.09233209, 0.93015409, 0.33586361, 0.35654331, 0.56410959,\n",
              "       0.67455947, 0.80126611, 0.78964864, 0.07339248, 0.12380164,\n",
              "       0.56513881, 0.39909657, 0.07946843, 0.7973374 , 0.31039188,\n",
              "       0.08366622, 0.25294312, 0.06848298, 0.14448215, 0.12008497,\n",
              "       0.92332812, 0.88113273, 0.33169461, 0.95199734, 0.94176923,\n",
              "       0.10967577, 0.49506401, 0.95380014, 0.07377517, 0.96115465,\n",
              "       0.09254746, 0.87124733, 0.16657273, 0.06791397, 0.10383908,\n",
              "       0.1162695 , 0.1146264 , 0.72673141, 0.0757535 , 0.9207241 ,\n",
              "       0.14164019, 0.81737505, 0.39730531, 0.09819135, 0.43670998,\n",
              "       0.65718698, 0.26894892, 0.5336733 , 0.92191801, 0.09819135,\n",
              "       0.17379075, 0.669503  , 0.09819135, 0.91277835, 0.08866883,\n",
              "       0.10347408, 0.07339248, 0.1384082 , 0.8381538 , 0.29638508,\n",
              "       0.2681262 , 0.70419673, 0.14438046, 0.91924339, 0.10003975,\n",
              "       0.84766489, 0.11019759, 0.85208243, 0.10461155, 0.80393601,\n",
              "       0.57054157, 0.10461155, 0.67455947, 0.06136498, 0.13658071,\n",
              "       0.18129794, 0.83659005, 0.09835938, 0.08381458, 0.34564802,\n",
              "       0.11918547, 0.41286349, 0.17475855, 0.82106968, 0.95118726,\n",
              "       0.80393601, 0.89426176, 0.46393254, 0.08031635, 0.41285177,\n",
              "       0.31341004, 0.83001829, 0.118942  , 0.84633237, 0.44440111,\n",
              "       0.91898906, 0.15868124, 0.51351945, 0.09979968, 0.13538262,\n",
              "       0.08366622, 0.07377517, 0.10003975, 0.80664873, 0.09233209,\n",
              "       0.09337789, 0.10461155, 0.86855447, 0.82275022, 0.17729976,\n",
              "       0.08031635, 0.08931853, 0.08366622, 0.3922329 , 0.12266508,\n",
              "       0.36800983, 0.07377517, 0.95525572, 0.64214449, 0.14448215,\n",
              "       0.86126676, 0.08902949, 0.08790124, 0.09293498, 0.09819135,\n",
              "       0.13614109, 0.86517508, 0.67455947, 0.74952881, 0.25618751,\n",
              "       0.12562408, 0.08366622, 0.38237899, 0.21450565, 0.08145809,\n",
              "       0.139807  , 0.5541303 , 0.14448215, 0.56263931, 0.13538262,\n",
              "       0.08866883, 0.94483261, 0.10012154, 0.17287817, 0.10670307,\n",
              "       0.06789638, 0.31627581, 0.0854852 , 0.09979968, 0.67455947,\n",
              "       0.87577437, 0.31818654, 0.89105495, 0.33068621, 0.51619797,\n",
              "       0.07354781, 0.1880989 , 0.08366622, 0.56979484, 0.95289823,\n",
              "       0.72324099, 0.3962191 , 0.12245825, 0.18925046, 0.12643152,\n",
              "       0.09233209, 0.27252746, 0.15851589, 0.25687135, 0.92178494,\n",
              "       0.11564449, 0.93857282, 0.22002283, 0.09293498, 0.10753299,\n",
              "       0.88977779, 0.39964749, 0.14448215, 0.81571927, 0.12449187,\n",
              "       0.2213209 , 0.14986845, 0.10784604, 0.11134395, 0.40531504,\n",
              "       0.12245825, 0.13801625, 0.07165903, 0.9641753 , 0.76433579,\n",
              "       0.44772483, 0.10753299, 0.61414941, 0.10753299, 0.87297726,\n",
              "       0.96735974, 0.09819135, 0.14676467, 0.10685754, 0.71022418,\n",
              "       0.37037982, 0.93241942, 0.0949137 , 0.07377517, 0.50359071,\n",
              "       0.06949981, 0.89936912, 0.87360122, 0.13943166, 0.96800555,\n",
              "       0.09542829, 0.03969157, 0.19165191, 0.90922268, 0.18071345,\n",
              "       0.11140544, 0.95814823, 0.11667249, 0.10103349, 0.94858011,\n",
              "       0.88349274, 0.35167393, 0.09819135, 0.19449876, 0.1808743 ,\n",
              "       0.07377517, 0.09249427, 0.41827755, 0.6144878 , 0.12506926,\n",
              "       0.86713616, 0.09233209, 0.09372108, 0.05974809, 0.10305752,\n",
              "       0.36934765, 0.94256383, 0.78013443, 0.09219815, 0.0697398 ,\n",
              "       0.95066563, 0.08150768, 0.96942825, 0.09233209, 0.11491636,\n",
              "       0.93015409, 0.08790124, 0.94836411, 0.17661006, 0.53119034,\n",
              "       0.30974065, 0.11140544, 0.34171118, 0.67455947, 0.75324411,\n",
              "       0.67455947, 0.95290016, 0.26968289, 0.10003975, 0.92830901,\n",
              "       0.09521935, 0.10003975, 0.8209522 ])"
            ]
          },
          "metadata": {
            "tags": []
          },
          "execution_count": 87
        }
      ]
    },
    {
      "cell_type": "code",
      "metadata": {
        "id": "YY_mLZeZirKd",
        "colab_type": "code",
        "colab": {}
      },
      "source": [
        "y_pred = np.round(model.predict(test_set))"
      ],
      "execution_count": 91,
      "outputs": []
    },
    {
      "cell_type": "code",
      "metadata": {
        "id": "OpKh8nh2izwM",
        "colab_type": "code",
        "colab": {}
      },
      "source": [
        "# Kaggle提出用csvファイルの作成\n",
        "submission = pd.DataFrame({\"PassengerId\": PassengerId, \"Survived\": y_pred.astype(np.int32)})\n",
        "submission.to_csv(\"submission8.csv\", index=False)"
      ],
      "execution_count": 92,
      "outputs": []
    },
    {
      "cell_type": "code",
      "metadata": {
        "id": "EEFxXGzHjDrj",
        "colab_type": "code",
        "colab": {}
      },
      "source": [
        "y_pred_df = pd.Series(model.predict(test_set))"
      ],
      "execution_count": 83,
      "outputs": []
    },
    {
      "cell_type": "code",
      "metadata": {
        "id": "BGjj6yrVln3E",
        "colab_type": "code",
        "colab": {
          "base_uri": "https://localhost:8080/",
          "height": 282
        },
        "outputId": "353aa4f5-1720-4511-ab22-8aa11b2a4835"
      },
      "source": [
        "y_pred_df.plot(marker=\"*\")"
      ],
      "execution_count": 84,
      "outputs": [
        {
          "output_type": "execute_result",
          "data": {
            "text/plain": [
              "<matplotlib.axes._subplots.AxesSubplot at 0x7fb46166cc88>"
            ]
          },
          "metadata": {
            "tags": []
          },
          "execution_count": 84
        },
        {
          "output_type": "display_data",
          "data": {
            "image/png": "[encoded data removed]",
            "text/plain": [
              "<Figure size 432x288 with 1 Axes>"
            ]
          },
          "metadata": {
            "tags": [],
            "needs_background": "light"
          }
        }
      ]
    },
    {
      "cell_type": "code",
      "metadata": {
        "id": "8oFJCxnolrzM",
        "colab_type": "code",
        "colab": {}
      },
      "source": [
        "!kaggle competitions submit -c titanic -f submission8.csv -m \"Test submission\" titanic"
      ],
      "execution_count": null,
      "outputs": []
    }
  ]
}