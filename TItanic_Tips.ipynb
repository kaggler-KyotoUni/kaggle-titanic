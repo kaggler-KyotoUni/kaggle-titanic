{
 "cells": [
  {
   "cell_type": "markdown",
   "metadata": {},
   "source": [
    "# kaggle Titanic の作成コードについて Tips をまとめる。"
   ]
  },
  {
   "cell_type": "code",
   "execution_count": 37,
   "metadata": {},
   "outputs": [],
   "source": [
    "import numpy as np\n",
    "import pandas as pd\n",
    "import matplotlib.pyplot as plt\n",
    "import seaborn as sns\n",
    "\n",
    "from sklearn.ensemble import RandomForestClassifier\n",
    "from sklearn.pipeline import Pipeline\n",
    "from sklearn.feature_selection import SelectKBest\n",
    "from sklearn import model_selection\n",
    "from sklearn.model_selection import GridSearchCV\n",
    "\n",
    "import warnings\n",
    "warnings.filterwarnings(\"ignore\")"
   ]
  },
  {
   "cell_type": "markdown",
   "metadata": {},
   "source": [
    "## 相関係数の HeatMap\n",
    "\n",
    "第1引数に、対象とするpandas.DaraFrameを設定、'annot'はヒートマップ上に数値を表示するかどうかのオプション<br>\n",
    "※ 以下に両方のパターンを記載する。<br>\n",
    "\n",
    "ほかの引数<br>\n",
    "- cbar → Falseにすると、カラーバーが非表示になる。\n",
    "- square → Trueにすると、ヒートマップが正方形で描画される。\n",
    "- vmax, vmin, center → ヒートマップの最大値・最小値・中央値を指定する。\n",
    "- cmap → 色(カラーマップ)を指定(matplotlibで使えるカラーマップがそのまま使える。)"
   ]
  },
  {
   "cell_type": "code",
   "execution_count": 15,
   "metadata": {},
   "outputs": [
    {
     "data": {
      "text/html": [
       "<div>\n",
       "<style scoped>\n",
       "    .dataframe tbody tr th:only-of-type {\n",
       "        vertical-align: middle;\n",
       "    }\n",
       "\n",
       "    .dataframe tbody tr th {\n",
       "        vertical-align: top;\n",
       "    }\n",
       "\n",
       "    .dataframe thead th {\n",
       "        text-align: right;\n",
       "    }\n",
       "</style>\n",
       "<table border=\"1\" class=\"dataframe\">\n",
       "  <thead>\n",
       "    <tr style=\"text-align: right;\">\n",
       "      <th></th>\n",
       "      <th>PassengerId</th>\n",
       "      <th>Survived</th>\n",
       "      <th>Pclass</th>\n",
       "      <th>Name</th>\n",
       "      <th>Sex</th>\n",
       "      <th>Age</th>\n",
       "      <th>SibSp</th>\n",
       "      <th>Parch</th>\n",
       "      <th>Ticket</th>\n",
       "      <th>Fare</th>\n",
       "      <th>Cabin</th>\n",
       "      <th>Embarked</th>\n",
       "    </tr>\n",
       "  </thead>\n",
       "  <tbody>\n",
       "    <tr>\n",
       "      <th>0</th>\n",
       "      <td>1</td>\n",
       "      <td>0</td>\n",
       "      <td>3</td>\n",
       "      <td>Braund, Mr. Owen Harris</td>\n",
       "      <td>male</td>\n",
       "      <td>22.0</td>\n",
       "      <td>1</td>\n",
       "      <td>0</td>\n",
       "      <td>A/5 21171</td>\n",
       "      <td>7.2500</td>\n",
       "      <td>NaN</td>\n",
       "      <td>S</td>\n",
       "    </tr>\n",
       "    <tr>\n",
       "      <th>1</th>\n",
       "      <td>2</td>\n",
       "      <td>1</td>\n",
       "      <td>1</td>\n",
       "      <td>Cumings, Mrs. John Bradley (Florence Briggs Th...</td>\n",
       "      <td>female</td>\n",
       "      <td>38.0</td>\n",
       "      <td>1</td>\n",
       "      <td>0</td>\n",
       "      <td>PC 17599</td>\n",
       "      <td>71.2833</td>\n",
       "      <td>C85</td>\n",
       "      <td>C</td>\n",
       "    </tr>\n",
       "    <tr>\n",
       "      <th>2</th>\n",
       "      <td>3</td>\n",
       "      <td>1</td>\n",
       "      <td>3</td>\n",
       "      <td>Heikkinen, Miss. Laina</td>\n",
       "      <td>female</td>\n",
       "      <td>26.0</td>\n",
       "      <td>0</td>\n",
       "      <td>0</td>\n",
       "      <td>STON/O2. 3101282</td>\n",
       "      <td>7.9250</td>\n",
       "      <td>NaN</td>\n",
       "      <td>S</td>\n",
       "    </tr>\n",
       "    <tr>\n",
       "      <th>3</th>\n",
       "      <td>4</td>\n",
       "      <td>1</td>\n",
       "      <td>1</td>\n",
       "      <td>Futrelle, Mrs. Jacques Heath (Lily May Peel)</td>\n",
       "      <td>female</td>\n",
       "      <td>35.0</td>\n",
       "      <td>1</td>\n",
       "      <td>0</td>\n",
       "      <td>113803</td>\n",
       "      <td>53.1000</td>\n",
       "      <td>C123</td>\n",
       "      <td>S</td>\n",
       "    </tr>\n",
       "    <tr>\n",
       "      <th>4</th>\n",
       "      <td>5</td>\n",
       "      <td>0</td>\n",
       "      <td>3</td>\n",
       "      <td>Allen, Mr. William Henry</td>\n",
       "      <td>male</td>\n",
       "      <td>35.0</td>\n",
       "      <td>0</td>\n",
       "      <td>0</td>\n",
       "      <td>373450</td>\n",
       "      <td>8.0500</td>\n",
       "      <td>NaN</td>\n",
       "      <td>S</td>\n",
       "    </tr>\n",
       "    <tr>\n",
       "      <th>...</th>\n",
       "      <td>...</td>\n",
       "      <td>...</td>\n",
       "      <td>...</td>\n",
       "      <td>...</td>\n",
       "      <td>...</td>\n",
       "      <td>...</td>\n",
       "      <td>...</td>\n",
       "      <td>...</td>\n",
       "      <td>...</td>\n",
       "      <td>...</td>\n",
       "      <td>...</td>\n",
       "      <td>...</td>\n",
       "    </tr>\n",
       "    <tr>\n",
       "      <th>886</th>\n",
       "      <td>887</td>\n",
       "      <td>0</td>\n",
       "      <td>2</td>\n",
       "      <td>Montvila, Rev. Juozas</td>\n",
       "      <td>male</td>\n",
       "      <td>27.0</td>\n",
       "      <td>0</td>\n",
       "      <td>0</td>\n",
       "      <td>211536</td>\n",
       "      <td>13.0000</td>\n",
       "      <td>NaN</td>\n",
       "      <td>S</td>\n",
       "    </tr>\n",
       "    <tr>\n",
       "      <th>887</th>\n",
       "      <td>888</td>\n",
       "      <td>1</td>\n",
       "      <td>1</td>\n",
       "      <td>Graham, Miss. Margaret Edith</td>\n",
       "      <td>female</td>\n",
       "      <td>19.0</td>\n",
       "      <td>0</td>\n",
       "      <td>0</td>\n",
       "      <td>112053</td>\n",
       "      <td>30.0000</td>\n",
       "      <td>B42</td>\n",
       "      <td>S</td>\n",
       "    </tr>\n",
       "    <tr>\n",
       "      <th>888</th>\n",
       "      <td>889</td>\n",
       "      <td>0</td>\n",
       "      <td>3</td>\n",
       "      <td>Johnston, Miss. Catherine Helen \"Carrie\"</td>\n",
       "      <td>female</td>\n",
       "      <td>NaN</td>\n",
       "      <td>1</td>\n",
       "      <td>2</td>\n",
       "      <td>W./C. 6607</td>\n",
       "      <td>23.4500</td>\n",
       "      <td>NaN</td>\n",
       "      <td>S</td>\n",
       "    </tr>\n",
       "    <tr>\n",
       "      <th>889</th>\n",
       "      <td>890</td>\n",
       "      <td>1</td>\n",
       "      <td>1</td>\n",
       "      <td>Behr, Mr. Karl Howell</td>\n",
       "      <td>male</td>\n",
       "      <td>26.0</td>\n",
       "      <td>0</td>\n",
       "      <td>0</td>\n",
       "      <td>111369</td>\n",
       "      <td>30.0000</td>\n",
       "      <td>C148</td>\n",
       "      <td>C</td>\n",
       "    </tr>\n",
       "    <tr>\n",
       "      <th>890</th>\n",
       "      <td>891</td>\n",
       "      <td>0</td>\n",
       "      <td>3</td>\n",
       "      <td>Dooley, Mr. Patrick</td>\n",
       "      <td>male</td>\n",
       "      <td>32.0</td>\n",
       "      <td>0</td>\n",
       "      <td>0</td>\n",
       "      <td>370376</td>\n",
       "      <td>7.7500</td>\n",
       "      <td>NaN</td>\n",
       "      <td>Q</td>\n",
       "    </tr>\n",
       "  </tbody>\n",
       "</table>\n",
       "<p>891 rows × 12 columns</p>\n",
       "</div>"
      ],
      "text/plain": [
       "     PassengerId  Survived  Pclass  \\\n",
       "0              1         0       3   \n",
       "1              2         1       1   \n",
       "2              3         1       3   \n",
       "3              4         1       1   \n",
       "4              5         0       3   \n",
       "..           ...       ...     ...   \n",
       "886          887         0       2   \n",
       "887          888         1       1   \n",
       "888          889         0       3   \n",
       "889          890         1       1   \n",
       "890          891         0       3   \n",
       "\n",
       "                                                  Name     Sex   Age  SibSp  \\\n",
       "0                              Braund, Mr. Owen Harris    male  22.0      1   \n",
       "1    Cumings, Mrs. John Bradley (Florence Briggs Th...  female  38.0      1   \n",
       "2                               Heikkinen, Miss. Laina  female  26.0      0   \n",
       "3         Futrelle, Mrs. Jacques Heath (Lily May Peel)  female  35.0      1   \n",
       "4                             Allen, Mr. William Henry    male  35.0      0   \n",
       "..                                                 ...     ...   ...    ...   \n",
       "886                              Montvila, Rev. Juozas    male  27.0      0   \n",
       "887                       Graham, Miss. Margaret Edith  female  19.0      0   \n",
       "888           Johnston, Miss. Catherine Helen \"Carrie\"  female   NaN      1   \n",
       "889                              Behr, Mr. Karl Howell    male  26.0      0   \n",
       "890                                Dooley, Mr. Patrick    male  32.0      0   \n",
       "\n",
       "     Parch            Ticket     Fare Cabin Embarked  \n",
       "0        0         A/5 21171   7.2500   NaN        S  \n",
       "1        0          PC 17599  71.2833   C85        C  \n",
       "2        0  STON/O2. 3101282   7.9250   NaN        S  \n",
       "3        0            113803  53.1000  C123        S  \n",
       "4        0            373450   8.0500   NaN        S  \n",
       "..     ...               ...      ...   ...      ...  \n",
       "886      0            211536  13.0000   NaN        S  \n",
       "887      0            112053  30.0000   B42        S  \n",
       "888      2        W./C. 6607  23.4500   NaN        S  \n",
       "889      0            111369  30.0000  C148        C  \n",
       "890      0            370376   7.7500   NaN        Q  \n",
       "\n",
       "[891 rows x 12 columns]"
      ]
     },
     "execution_count": 15,
     "metadata": {},
     "output_type": "execute_result"
    }
   ],
   "source": [
    "pd.read_csv(\"training_data/train.csv\")\n",
    "train_df"
   ]
  },
  {
   "cell_type": "code",
   "execution_count": 8,
   "metadata": {},
   "outputs": [
    {
     "data": {
      "text/plain": [
       "<matplotlib.axes._subplots.AxesSubplot at 0x1fe445b84c8>"
      ]
     },
     "execution_count": 8,
     "metadata": {},
     "output_type": "execute_result"
    },
    {
     "data": {
      "image/png": "[encoded data removed]",
      "text/plain": [
       "<Figure size 1080x1080 with 2 Axes>"
      ]
     },
     "metadata": {
      "needs_background": "light"
     },
     "output_type": "display_data"
    }
   ],
   "source": [
    "plt.figure(figsize=(15,15))\n",
    "sns.heatmap(train_df.corr(), annot=True)"
   ]
  },
  {
   "cell_type": "code",
   "execution_count": 14,
   "metadata": {},
   "outputs": [
    {
     "data": {
      "text/plain": [
       "<matplotlib.axes._subplots.AxesSubplot at 0x1fe451f0988>"
      ]
     },
     "execution_count": 14,
     "metadata": {},
     "output_type": "execute_result"
    },
    {
     "data": {
      "image/png": "[encoded data removed]",
      "text/plain": [
       "<Figure size 432x288 with 2 Axes>"
      ]
     },
     "metadata": {
      "needs_background": "light"
     },
     "output_type": "display_data"
    }
   ],
   "source": [
    "\"\"\"\n",
    "ほかのオプションのチェック\n",
    "\"\"\"\n",
    "sns.heatmap(train_df.corr(), vmax=2, vmin=-2, center=0, square=True, cmap=\"Blues\")"
   ]
  },
  {
   "cell_type": "markdown",
   "metadata": {},
   "source": [
    "## 各要素について、正解ラベルごとのプロットを確認\n",
    "■ seaborn.countplot を使用 <br>\n",
    "【引数】<br>\n",
    "- x → カウントしたい対象のデータフレーム(ラベルでOK)\n",
    "- hue → 傾向を見たい対象のデータフレーム(これもラベルでOK)\n",
    "- data → もとになるデータフレーム\n",
    "- palette → カラーリング(matplotlibと同様のAPIが使える？)"
   ]
  },
  {
   "cell_type": "code",
   "execution_count": 21,
   "metadata": {},
   "outputs": [
    {
     "data": {
      "text/plain": [
       "<matplotlib.axes._subplots.AxesSubplot at 0x1fe4559e708>"
      ]
     },
     "execution_count": 21,
     "metadata": {},
     "output_type": "execute_result"
    },
    {
     "data": {
      "image/png": "[encoded data removed]",
      "text/plain": [
       "<Figure size 432x288 with 1 Axes>"
      ]
     },
     "metadata": {
      "needs_background": "light"
     },
     "output_type": "display_data"
    }
   ],
   "source": [
    "sns.countplot(\"Sex\", hue=\"Survived\", data=train_df, palette=\"Greens\")"
   ]
  },
  {
   "cell_type": "markdown",
   "metadata": {},
   "source": [
    "## データの分布を推定したいとき\n",
    "■ seaborn.kdeplot を使用<br>\n",
    "【引数】<br>\n",
    "- data → 描画したいデータを投げればOK\n",
    "- ax → 描画したい axes: matplotlibで色々設定したものを投げられる。特に軸の範囲は調整したい場面が多いはず。"
   ]
  },
  {
   "cell_type": "code",
   "execution_count": 34,
   "metadata": {},
   "outputs": [
    {
     "data": {
      "image/png": "[encoded data removed]",
      "text/plain": [
       "<Figure size 720x720 with 1 Axes>"
      ]
     },
     "metadata": {},
     "output_type": "display_data"
    }
   ],
   "source": [
    "sns.set_style(\"darkgrid\")\n",
    "\n",
    "fig, ax = plt.subplots(figsize=(10,10))\n",
    "ax.set_xlim(0, train_df[\"Fare\"].max())\n",
    "\n",
    "sns.kdeplot(train_df[\"Fare\"][train_df[\"Survived\"]==0], ax=ax)\n",
    "sns.kdeplot(train_df[\"Fare\"][train_df[\"Survived\"]==1], ax=ax)\n",
    "\n",
    "ax.legend([\"Dead\", \"Survived\"])\n",
    "\n",
    "plt.show()"
   ]
  },
  {
   "cell_type": "markdown",
   "metadata": {},
   "source": [
    "# Scikit-learn 関係のTips"
   ]
  },
  {
   "cell_type": "markdown",
   "metadata": {},
   "source": [
    "## GridSearchCV\n",
    "ハイパーパラメータチューニングに使用。<br>\n",
    "【使い方の流れ】<br>\n",
    "- 最適化したいパラメータをリストで定義する\n",
    "- 最適化の実行\n",
    "- 結果の表示\n",
    "\n",
    "【公式URL】\n",
    "https://scikit-learn.org/stable/modules/generated/sklearn.model_selection.GridSearchCV.html\n",
    "\n",
    "【GridSearchCV の引数】<br>\n",
    "- estimator: 推定期のオブジェクト sklearn のインターフェースのものをしてする必要あり。\n",
    "- param_grid: リストまたはディクショナリ。最適化対象の変数名はstr型で記載、パラメータのリストは値のリストとして与える。\n",
    "- scoring: 評価指標。https://scikit-learn.org/stable/modules/model_evaluation.html#scoring-parameter に記載されているものが使用可能\n",
    "- n_jobs: CPUのコアをいくつ並列動作させるかを指定する。デフォルトは None。-1を指定すると、使用可能なコアはすべて使用する。 \n",
    "- iid: Trueならば、foldにわたる平均のスコアをリターンする。\n",
    "- cv: クロスバリデーションのsplit数を指定する。\n",
    "- refit: サーチしたベストなパラメータで再度フィッティングを行うか否かのフラグ。デフォルトはTrue。\n",
    "- verbose: 学習中のメッセージを多く出すか否か\n",
    "- error_score: \"raise\" または 数値で指定。エラーが起きた時に例外処理を投げるか否かのフラグ?\n",
    "- return_train_score: cv_results_ に training_scores を含むか否かのフラグ？\n",
    "\n",
    "【メンバ変数】<br>\n",
    "- cv_results_: ディクショナリ or numpy ndarrays → 種種の情報が入っている。色々あるので以下の実行結果を参照。\n",
    "- best_estimator: refit=Falseの場合には使えない。最も良いスコアを出したモデルが格納されている。\n",
    "- best_score_: best_estimator の、クロスバリデーション後の平均スコア\n",
    "- best_params: 最もよいスコアを出したパラメータの組み合わせ。ディクショナリ型\n",
    "- best_index_: もっともよいスコアを出したパラメータの組に割り当てられたindex。search.cv_results_[\"params\"][search.best_index_] で具体的に見れる。\n",
    "- scorer_: scoring で指定した評価指標の関数情報が入っている\n",
    "- n_splits_: クロスバリデーションのスプリット数\n",
    "- refit_time_: best model を refit するのに要した時間 "
   ]
  },
  {
   "cell_type": "code",
   "execution_count": 38,
   "metadata": {},
   "outputs": [],
   "source": [
    "train = pd.read_csv(\"training_data/train.csv\")\n",
    "test = pd.read_csv(\"training_data/test.csv\")\n",
    "\n",
    "dataset = pd.concat([train, test], ignore_index=True)\n",
    "PassengerId = test[\"PassengerId\"]\n",
    "\n",
    "del dataset[\"Cabin\"]\n",
    "\n",
    "dataset[\"Age\"].fillna(dataset.Age.mean(), inplace=True)\n",
    "dataset[\"Fare\"].fillna(dataset.Fare.mean(), inplace=True)\n",
    "dataset[\"Embarked\"].fillna(\"S\", inplace=True)\n",
    "\n",
    "dataset1 = dataset[[\"Survived\", \"Pclass\", \"Sex\", \"Age\", \"Fare\", \"Embarked\"]]\n",
    "\n",
    "dataset_dummies = pd.get_dummies(dataset1)\n",
    "\n",
    "train_set = dataset_dummies[dataset_dummies[\"Survived\"].notnull()]\n",
    "test_set = dataset_dummies[dataset_dummies[\"Survived\"].isnull()]\n",
    "del test_set[\"Survived\"]\n",
    "\n",
    "X = train_set.values[:, 1:]\n",
    "y = train_set.values[:, 0]"
   ]
  },
  {
   "cell_type": "code",
   "execution_count": 39,
   "metadata": {},
   "outputs": [
    {
     "name": "stdout",
     "output_type": "stream",
     "text": [
      "{'classify__max_depth': 8, 'classify__n_estimators': 29}\n",
      "0.8339200998751559\n"
     ]
    }
   ],
   "source": [
    "clf = RandomForestClassifier(random_state=10, max_features=\"sqrt\")\n",
    "pipe = Pipeline([(\"classify\", clf)])\n",
    "param_test = {\"classify__n_estimators\": list(range(20, 30, 1)),\n",
    "              \"classify__max_depth\": list(range(3, 10, 1))}\n",
    "grid = GridSearchCV(estimator=pipe, param_grid=param_test, scoring=\"accuracy\", cv=10)\n",
    "grid.fit(X, y)\n",
    "\n",
    "print(grid.best_params_, grid.best_score_, sep=\"\\n\")"
   ]
  },
  {
   "cell_type": "code",
   "execution_count": 42,
   "metadata": {},
   "outputs": [
    {
     "data": {
      "text/plain": [
       "Pipeline(memory=None,\n",
       "         steps=[('classify',\n",
       "                 RandomForestClassifier(bootstrap=True, ccp_alpha=0.0,\n",
       "                                        class_weight=None, criterion='gini',\n",
       "                                        max_depth=8, max_features='sqrt',\n",
       "                                        max_leaf_nodes=None, max_samples=None,\n",
       "                                        min_impurity_decrease=0.0,\n",
       "                                        min_impurity_split=None,\n",
       "                                        min_samples_leaf=1, min_samples_split=2,\n",
       "                                        min_weight_fraction_leaf=0.0,\n",
       "                                        n_estimators=29, n_jobs=None,\n",
       "                                        oob_score=False, random_state=10,\n",
       "                                        verbose=0, warm_start=False))],\n",
       "         verbose=False)"
      ]
     },
     "execution_count": 42,
     "metadata": {},
     "output_type": "execute_result"
    }
   ],
   "source": [
    "grid.best_estimator_"
   ]
  },
  {
   "cell_type": "code",
   "execution_count": 47,
   "metadata": {},
   "outputs": [
    {
     "data": {
      "text/plain": [
       "{'classify__max_depth': 8, 'classify__n_estimators': 29}"
      ]
     },
     "execution_count": 47,
     "metadata": {},
     "output_type": "execute_result"
    }
   ],
   "source": [
    "grid.cv_results_[\"params\"][grid.best_index_]"
   ]
  },
  {
   "cell_type": "code",
   "execution_count": 48,
   "metadata": {},
   "outputs": [
    {
     "data": {
      "text/plain": [
       "make_scorer(accuracy_score)"
      ]
     },
     "execution_count": 48,
     "metadata": {},
     "output_type": "execute_result"
    }
   ],
   "source": [
    "grid.scorer_"
   ]
  },
  {
   "cell_type": "code",
   "execution_count": 49,
   "metadata": {},
   "outputs": [
    {
     "data": {
      "text/plain": [
       "10"
      ]
     },
     "execution_count": 49,
     "metadata": {},
     "output_type": "execute_result"
    }
   ],
   "source": [
    "grid.n_splits_"
   ]
  },
  {
   "cell_type": "code",
   "execution_count": 40,
   "metadata": {},
   "outputs": [
    {
     "data": {
      "text/plain": [
       "{'mean_fit_time': array([0.02382228, 0.02334836, 0.02417586, 0.02470901, 0.02656717,\n",
       "        0.0286315 , 0.02835386, 0.02944024, 0.030896  , 0.03129838,\n",
       "        0.02204926, 0.02300174, 0.02400439, 0.02629158, 0.02706938,\n",
       "        0.02761126, 0.0289005 , 0.0293608 , 0.03032863, 0.0317028 ,\n",
       "        0.02265565, 0.02356884, 0.02441249, 0.02609348, 0.0280087 ,\n",
       "        0.02811782, 0.02904661, 0.03244009, 0.03175197, 0.03172305,\n",
       "        0.02421966, 0.02471104, 0.0256727 , 0.02892008, 0.03014758,\n",
       "        0.02946432, 0.03581803, 0.0334533 , 0.03234024, 0.03343244,\n",
       "        0.02608495, 0.02575316, 0.02679274, 0.02899811, 0.02979078,\n",
       "        0.03019729, 0.03092036, 0.03405225, 0.03325739, 0.03599787,\n",
       "        0.02564371, 0.02570107, 0.02654183, 0.02832749, 0.03000188,\n",
       "        0.03200684, 0.03306439, 0.03490212, 0.03771482, 0.03879402,\n",
       "        0.02607052, 0.02792861, 0.02965474, 0.0336462 , 0.03082309,\n",
       "        0.03361957, 0.03708863, 0.03587654, 0.0392755 , 0.03886063]),\n",
       " 'std_fit_time': array([0.00280155, 0.00089116, 0.0010552 , 0.0006542 , 0.00113977,\n",
       "        0.00280635, 0.00057903, 0.00127323, 0.0005416 , 0.00176303,\n",
       "        0.00077399, 0.00046764, 0.00063648, 0.001374  , 0.00076384,\n",
       "        0.00072373, 0.00113671, 0.00073749, 0.00100307, 0.00161937,\n",
       "        0.00076001, 0.00092289, 0.00065323, 0.0016879 , 0.00281383,\n",
       "        0.00085784, 0.00052822, 0.0033638 , 0.0009467 , 0.00058251,\n",
       "        0.00179633, 0.00060858, 0.00087066, 0.0021842 , 0.0020222 ,\n",
       "        0.00085288, 0.01163681, 0.00175313, 0.00066843, 0.00090072,\n",
       "        0.00404781, 0.00144106, 0.00083661, 0.00094816, 0.00126285,\n",
       "        0.0007306 , 0.00058006, 0.00272752, 0.00091007, 0.0024753 ,\n",
       "        0.00115865, 0.00069005, 0.00055823, 0.00134155, 0.00184671,\n",
       "        0.00296206, 0.00171708, 0.00173625, 0.0028765 , 0.00274818,\n",
       "        0.00103395, 0.00104844, 0.00276082, 0.00674293, 0.00130272,\n",
       "        0.00286119, 0.00271834, 0.00091205, 0.0025793 , 0.00257022]),\n",
       " 'mean_score_time': array([0.00191252, 0.00169497, 0.00199804, 0.00188546, 0.0020762 ,\n",
       "        0.00221975, 0.00204399, 0.00216732, 0.00219414, 0.00231435,\n",
       "        0.00175591, 0.00190251, 0.00170162, 0.00198936, 0.00201435,\n",
       "        0.00210552, 0.00213983, 0.00211759, 0.00239682, 0.00223575,\n",
       "        0.00200076, 0.00191007, 0.00180347, 0.0017983 , 0.00208671,\n",
       "        0.00200188, 0.00210526, 0.00218999, 0.00239706, 0.00230036,\n",
       "        0.00189803, 0.00190506, 0.00200071, 0.00208619, 0.00225224,\n",
       "        0.00228362, 0.00219045, 0.00239937, 0.00214796, 0.00249653,\n",
       "        0.00189524, 0.00199573, 0.00210187, 0.00212975, 0.00239544,\n",
       "        0.00220294, 0.00221832, 0.0024986 , 0.00240405, 0.00244403,\n",
       "        0.0019731 , 0.00166569, 0.00200431, 0.00203617, 0.00219438,\n",
       "        0.00219867, 0.00232387, 0.00269725, 0.00287893, 0.00291421,\n",
       "        0.00194924, 0.00189445, 0.00200648, 0.00219564, 0.00229719,\n",
       "        0.00230539, 0.00269625, 0.00261598, 0.00318689, 0.00277874]),\n",
       " 'std_score_time': array([8.35618503e-04, 4.50026721e-04, 1.19048009e-05, 2.99992896e-04,\n",
       "        3.07976027e-04, 3.94065899e-04, 1.73976684e-04, 4.24633398e-04,\n",
       "        3.99846502e-04, 4.61370956e-04, 3.93220226e-04, 2.91195283e-04,\n",
       "        4.54774380e-04, 4.23062331e-05, 5.94617848e-05, 3.03906371e-04,\n",
       "        4.57395980e-04, 3.01749072e-04, 4.93682857e-04, 3.92474396e-04,\n",
       "        7.66713640e-04, 5.50450571e-04, 4.00148934e-04, 4.00660591e-04,\n",
       "        2.95184695e-04, 1.41526080e-05, 2.95020299e-04, 3.93015874e-04,\n",
       "        6.46074301e-04, 4.58332756e-04, 2.99957890e-04, 3.04582179e-04,\n",
       "        1.88257701e-05, 3.03688868e-04, 5.35721170e-04, 4.33454626e-04,\n",
       "        4.01145805e-04, 4.88326453e-04, 2.31526852e-04, 5.02102857e-04,\n",
       "        5.37220673e-04, 4.45660590e-04, 3.01609085e-04, 3.31741780e-04,\n",
       "        4.90935393e-04, 3.94830479e-04, 4.07641628e-04, 4.92051744e-04,\n",
       "        4.93215046e-04, 4.69656438e-04, 3.63853433e-04, 4.49695568e-04,\n",
       "        4.28024835e-05, 5.01114849e-05, 3.95775322e-04, 3.98833544e-04,\n",
       "        4.97402163e-04, 6.34868722e-04, 3.38664649e-04, 2.47323912e-04,\n",
       "        1.26228940e-04, 2.94937437e-04, 2.63800865e-05, 4.06047613e-04,\n",
       "        4.54903842e-04, 4.44732513e-04, 4.51606673e-04, 4.69712905e-04,\n",
       "        9.78695628e-04, 3.95523883e-04]),\n",
       " 'param_classify__max_depth': masked_array(data=[3, 3, 3, 3, 3, 3, 3, 3, 3, 3, 4, 4, 4, 4, 4, 4, 4, 4,\n",
       "                    4, 4, 5, 5, 5, 5, 5, 5, 5, 5, 5, 5, 6, 6, 6, 6, 6, 6,\n",
       "                    6, 6, 6, 6, 7, 7, 7, 7, 7, 7, 7, 7, 7, 7, 8, 8, 8, 8,\n",
       "                    8, 8, 8, 8, 8, 8, 9, 9, 9, 9, 9, 9, 9, 9, 9, 9],\n",
       "              mask=[False, False, False, False, False, False, False, False,\n",
       "                    False, False, False, False, False, False, False, False,\n",
       "                    False, False, False, False, False, False, False, False,\n",
       "                    False, False, False, False, False, False, False, False,\n",
       "                    False, False, False, False, False, False, False, False,\n",
       "                    False, False, False, False, False, False, False, False,\n",
       "                    False, False, False, False, False, False, False, False,\n",
       "                    False, False, False, False, False, False, False, False,\n",
       "                    False, False, False, False, False, False],\n",
       "        fill_value='?',\n",
       "             dtype=object),\n",
       " 'param_classify__n_estimators': masked_array(data=[20, 21, 22, 23, 24, 25, 26, 27, 28, 29, 20, 21, 22, 23,\n",
       "                    24, 25, 26, 27, 28, 29, 20, 21, 22, 23, 24, 25, 26, 27,\n",
       "                    28, 29, 20, 21, 22, 23, 24, 25, 26, 27, 28, 29, 20, 21,\n",
       "                    22, 23, 24, 25, 26, 27, 28, 29, 20, 21, 22, 23, 24, 25,\n",
       "                    26, 27, 28, 29, 20, 21, 22, 23, 24, 25, 26, 27, 28, 29],\n",
       "              mask=[False, False, False, False, False, False, False, False,\n",
       "                    False, False, False, False, False, False, False, False,\n",
       "                    False, False, False, False, False, False, False, False,\n",
       "                    False, False, False, False, False, False, False, False,\n",
       "                    False, False, False, False, False, False, False, False,\n",
       "                    False, False, False, False, False, False, False, False,\n",
       "                    False, False, False, False, False, False, False, False,\n",
       "                    False, False, False, False, False, False, False, False,\n",
       "                    False, False, False, False, False, False],\n",
       "        fill_value='?',\n",
       "             dtype=object),\n",
       " 'params': [{'classify__max_depth': 3, 'classify__n_estimators': 20},\n",
       "  {'classify__max_depth': 3, 'classify__n_estimators': 21},\n",
       "  {'classify__max_depth': 3, 'classify__n_estimators': 22},\n",
       "  {'classify__max_depth': 3, 'classify__n_estimators': 23},\n",
       "  {'classify__max_depth': 3, 'classify__n_estimators': 24},\n",
       "  {'classify__max_depth': 3, 'classify__n_estimators': 25},\n",
       "  {'classify__max_depth': 3, 'classify__n_estimators': 26},\n",
       "  {'classify__max_depth': 3, 'classify__n_estimators': 27},\n",
       "  {'classify__max_depth': 3, 'classify__n_estimators': 28},\n",
       "  {'classify__max_depth': 3, 'classify__n_estimators': 29},\n",
       "  {'classify__max_depth': 4, 'classify__n_estimators': 20},\n",
       "  {'classify__max_depth': 4, 'classify__n_estimators': 21},\n",
       "  {'classify__max_depth': 4, 'classify__n_estimators': 22},\n",
       "  {'classify__max_depth': 4, 'classify__n_estimators': 23},\n",
       "  {'classify__max_depth': 4, 'classify__n_estimators': 24},\n",
       "  {'classify__max_depth': 4, 'classify__n_estimators': 25},\n",
       "  {'classify__max_depth': 4, 'classify__n_estimators': 26},\n",
       "  {'classify__max_depth': 4, 'classify__n_estimators': 27},\n",
       "  {'classify__max_depth': 4, 'classify__n_estimators': 28},\n",
       "  {'classify__max_depth': 4, 'classify__n_estimators': 29},\n",
       "  {'classify__max_depth': 5, 'classify__n_estimators': 20},\n",
       "  {'classify__max_depth': 5, 'classify__n_estimators': 21},\n",
       "  {'classify__max_depth': 5, 'classify__n_estimators': 22},\n",
       "  {'classify__max_depth': 5, 'classify__n_estimators': 23},\n",
       "  {'classify__max_depth': 5, 'classify__n_estimators': 24},\n",
       "  {'classify__max_depth': 5, 'classify__n_estimators': 25},\n",
       "  {'classify__max_depth': 5, 'classify__n_estimators': 26},\n",
       "  {'classify__max_depth': 5, 'classify__n_estimators': 27},\n",
       "  {'classify__max_depth': 5, 'classify__n_estimators': 28},\n",
       "  {'classify__max_depth': 5, 'classify__n_estimators': 29},\n",
       "  {'classify__max_depth': 6, 'classify__n_estimators': 20},\n",
       "  {'classify__max_depth': 6, 'classify__n_estimators': 21},\n",
       "  {'classify__max_depth': 6, 'classify__n_estimators': 22},\n",
       "  {'classify__max_depth': 6, 'classify__n_estimators': 23},\n",
       "  {'classify__max_depth': 6, 'classify__n_estimators': 24},\n",
       "  {'classify__max_depth': 6, 'classify__n_estimators': 25},\n",
       "  {'classify__max_depth': 6, 'classify__n_estimators': 26},\n",
       "  {'classify__max_depth': 6, 'classify__n_estimators': 27},\n",
       "  {'classify__max_depth': 6, 'classify__n_estimators': 28},\n",
       "  {'classify__max_depth': 6, 'classify__n_estimators': 29},\n",
       "  {'classify__max_depth': 7, 'classify__n_estimators': 20},\n",
       "  {'classify__max_depth': 7, 'classify__n_estimators': 21},\n",
       "  {'classify__max_depth': 7, 'classify__n_estimators': 22},\n",
       "  {'classify__max_depth': 7, 'classify__n_estimators': 23},\n",
       "  {'classify__max_depth': 7, 'classify__n_estimators': 24},\n",
       "  {'classify__max_depth': 7, 'classify__n_estimators': 25},\n",
       "  {'classify__max_depth': 7, 'classify__n_estimators': 26},\n",
       "  {'classify__max_depth': 7, 'classify__n_estimators': 27},\n",
       "  {'classify__max_depth': 7, 'classify__n_estimators': 28},\n",
       "  {'classify__max_depth': 7, 'classify__n_estimators': 29},\n",
       "  {'classify__max_depth': 8, 'classify__n_estimators': 20},\n",
       "  {'classify__max_depth': 8, 'classify__n_estimators': 21},\n",
       "  {'classify__max_depth': 8, 'classify__n_estimators': 22},\n",
       "  {'classify__max_depth': 8, 'classify__n_estimators': 23},\n",
       "  {'classify__max_depth': 8, 'classify__n_estimators': 24},\n",
       "  {'classify__max_depth': 8, 'classify__n_estimators': 25},\n",
       "  {'classify__max_depth': 8, 'classify__n_estimators': 26},\n",
       "  {'classify__max_depth': 8, 'classify__n_estimators': 27},\n",
       "  {'classify__max_depth': 8, 'classify__n_estimators': 28},\n",
       "  {'classify__max_depth': 8, 'classify__n_estimators': 29},\n",
       "  {'classify__max_depth': 9, 'classify__n_estimators': 20},\n",
       "  {'classify__max_depth': 9, 'classify__n_estimators': 21},\n",
       "  {'classify__max_depth': 9, 'classify__n_estimators': 22},\n",
       "  {'classify__max_depth': 9, 'classify__n_estimators': 23},\n",
       "  {'classify__max_depth': 9, 'classify__n_estimators': 24},\n",
       "  {'classify__max_depth': 9, 'classify__n_estimators': 25},\n",
       "  {'classify__max_depth': 9, 'classify__n_estimators': 26},\n",
       "  {'classify__max_depth': 9, 'classify__n_estimators': 27},\n",
       "  {'classify__max_depth': 9, 'classify__n_estimators': 28},\n",
       "  {'classify__max_depth': 9, 'classify__n_estimators': 29}],\n",
       " 'split0_test_score': array([0.82222222, 0.81111111, 0.82222222, 0.8       , 0.82222222,\n",
       "        0.8       , 0.82222222, 0.82222222, 0.82222222, 0.82222222,\n",
       "        0.81111111, 0.81111111, 0.81111111, 0.81111111, 0.81111111,\n",
       "        0.81111111, 0.81111111, 0.81111111, 0.81111111, 0.81111111,\n",
       "        0.8       , 0.8       , 0.8       , 0.82222222, 0.8       ,\n",
       "        0.83333333, 0.83333333, 0.8       , 0.81111111, 0.81111111,\n",
       "        0.78888889, 0.8       , 0.8       , 0.8       , 0.8       ,\n",
       "        0.8       , 0.78888889, 0.77777778, 0.77777778, 0.77777778,\n",
       "        0.78888889, 0.78888889, 0.8       , 0.8       , 0.8       ,\n",
       "        0.8       , 0.8       , 0.8       , 0.8       , 0.8       ,\n",
       "        0.77777778, 0.77777778, 0.77777778, 0.8       , 0.8       ,\n",
       "        0.8       , 0.8       , 0.78888889, 0.78888889, 0.81111111,\n",
       "        0.8       , 0.77777778, 0.77777778, 0.76666667, 0.78888889,\n",
       "        0.75555556, 0.77777778, 0.76666667, 0.76666667, 0.76666667]),\n",
       " 'split1_test_score': array([0.79775281, 0.79775281, 0.80898876, 0.79775281, 0.78651685,\n",
       "        0.78651685, 0.78651685, 0.78651685, 0.78651685, 0.78651685,\n",
       "        0.80898876, 0.82022472, 0.80898876, 0.80898876, 0.82022472,\n",
       "        0.82022472, 0.82022472, 0.80898876, 0.80898876, 0.80898876,\n",
       "        0.83146067, 0.83146067, 0.80898876, 0.80898876, 0.80898876,\n",
       "        0.80898876, 0.80898876, 0.80898876, 0.80898876, 0.80898876,\n",
       "        0.84269663, 0.83146067, 0.83146067, 0.84269663, 0.83146067,\n",
       "        0.83146067, 0.84269663, 0.84269663, 0.83146067, 0.85393258,\n",
       "        0.84269663, 0.83146067, 0.83146067, 0.84269663, 0.84269663,\n",
       "        0.85393258, 0.86516854, 0.85393258, 0.85393258, 0.86516854,\n",
       "        0.83146067, 0.83146067, 0.84269663, 0.85393258, 0.84269663,\n",
       "        0.85393258, 0.84269663, 0.84269663, 0.85393258, 0.85393258,\n",
       "        0.87640449, 0.87640449, 0.87640449, 0.87640449, 0.87640449,\n",
       "        0.86516854, 0.86516854, 0.86516854, 0.87640449, 0.85393258]),\n",
       " 'split2_test_score': array([0.76404494, 0.76404494, 0.76404494, 0.7752809 , 0.76404494,\n",
       "        0.76404494, 0.76404494, 0.7752809 , 0.76404494, 0.76404494,\n",
       "        0.78651685, 0.78651685, 0.78651685, 0.76404494, 0.78651685,\n",
       "        0.7752809 , 0.7752809 , 0.78651685, 0.78651685, 0.78651685,\n",
       "        0.76404494, 0.76404494, 0.75280899, 0.75280899, 0.75280899,\n",
       "        0.75280899, 0.75280899, 0.75280899, 0.75280899, 0.75280899,\n",
       "        0.75280899, 0.75280899, 0.75280899, 0.75280899, 0.75280899,\n",
       "        0.75280899, 0.75280899, 0.75280899, 0.75280899, 0.75280899,\n",
       "        0.75280899, 0.75280899, 0.75280899, 0.75280899, 0.75280899,\n",
       "        0.75280899, 0.75280899, 0.75280899, 0.75280899, 0.75280899,\n",
       "        0.75280899, 0.75280899, 0.75280899, 0.75280899, 0.75280899,\n",
       "        0.76404494, 0.76404494, 0.76404494, 0.76404494, 0.76404494,\n",
       "        0.75280899, 0.75280899, 0.75280899, 0.75280899, 0.75280899,\n",
       "        0.76404494, 0.76404494, 0.76404494, 0.76404494, 0.76404494]),\n",
       " 'split3_test_score': array([0.87640449, 0.86516854, 0.88764045, 0.87640449, 0.86516854,\n",
       "        0.86516854, 0.86516854, 0.86516854, 0.85393258, 0.85393258,\n",
       "        0.85393258, 0.85393258, 0.86516854, 0.86516854, 0.86516854,\n",
       "        0.86516854, 0.86516854, 0.86516854, 0.86516854, 0.86516854,\n",
       "        0.87640449, 0.87640449, 0.87640449, 0.88764045, 0.88764045,\n",
       "        0.88764045, 0.8988764 , 0.8988764 , 0.8988764 , 0.8988764 ,\n",
       "        0.87640449, 0.87640449, 0.85393258, 0.87640449, 0.88764045,\n",
       "        0.87640449, 0.87640449, 0.88764045, 0.8988764 , 0.8988764 ,\n",
       "        0.88764045, 0.88764045, 0.88764045, 0.88764045, 0.88764045,\n",
       "        0.88764045, 0.88764045, 0.8988764 , 0.88764045, 0.88764045,\n",
       "        0.86516854, 0.85393258, 0.85393258, 0.86516854, 0.86516854,\n",
       "        0.86516854, 0.85393258, 0.85393258, 0.87640449, 0.86516854,\n",
       "        0.84269663, 0.84269663, 0.84269663, 0.84269663, 0.84269663,\n",
       "        0.84269663, 0.84269663, 0.84269663, 0.84269663, 0.84269663]),\n",
       " 'split4_test_score': array([0.80898876, 0.80898876, 0.80898876, 0.80898876, 0.80898876,\n",
       "        0.80898876, 0.80898876, 0.80898876, 0.80898876, 0.80898876,\n",
       "        0.87640449, 0.87640449, 0.87640449, 0.87640449, 0.87640449,\n",
       "        0.87640449, 0.87640449, 0.87640449, 0.87640449, 0.87640449,\n",
       "        0.88764045, 0.87640449, 0.87640449, 0.87640449, 0.88764045,\n",
       "        0.87640449, 0.87640449, 0.87640449, 0.87640449, 0.87640449,\n",
       "        0.8988764 , 0.8988764 , 0.8988764 , 0.8988764 , 0.91011236,\n",
       "        0.8988764 , 0.91011236, 0.8988764 , 0.8988764 , 0.8988764 ,\n",
       "        0.91011236, 0.91011236, 0.92134831, 0.91011236, 0.91011236,\n",
       "        0.91011236, 0.91011236, 0.91011236, 0.91011236, 0.91011236,\n",
       "        0.8988764 , 0.8988764 , 0.8988764 , 0.8988764 , 0.8988764 ,\n",
       "        0.8988764 , 0.92134831, 0.8988764 , 0.91011236, 0.91011236,\n",
       "        0.91011236, 0.91011236, 0.8988764 , 0.8988764 , 0.8988764 ,\n",
       "        0.8988764 , 0.8988764 , 0.91011236, 0.91011236, 0.91011236]),\n",
       " 'split5_test_score': array([0.78651685, 0.78651685, 0.78651685, 0.78651685, 0.78651685,\n",
       "        0.78651685, 0.7752809 , 0.7752809 , 0.7752809 , 0.7752809 ,\n",
       "        0.79775281, 0.79775281, 0.79775281, 0.79775281, 0.80898876,\n",
       "        0.80898876, 0.80898876, 0.80898876, 0.80898876, 0.80898876,\n",
       "        0.79775281, 0.80898876, 0.80898876, 0.79775281, 0.78651685,\n",
       "        0.79775281, 0.79775281, 0.80898876, 0.78651685, 0.79775281,\n",
       "        0.80898876, 0.80898876, 0.80898876, 0.80898876, 0.80898876,\n",
       "        0.80898876, 0.80898876, 0.80898876, 0.82022472, 0.82022472,\n",
       "        0.79775281, 0.79775281, 0.79775281, 0.79775281, 0.79775281,\n",
       "        0.79775281, 0.80898876, 0.80898876, 0.80898876, 0.80898876,\n",
       "        0.82022472, 0.82022472, 0.82022472, 0.82022472, 0.82022472,\n",
       "        0.82022472, 0.82022472, 0.83146067, 0.82022472, 0.83146067,\n",
       "        0.80898876, 0.80898876, 0.80898876, 0.82022472, 0.82022472,\n",
       "        0.82022472, 0.80898876, 0.82022472, 0.82022472, 0.80898876]),\n",
       " 'split6_test_score': array([0.76404494, 0.76404494, 0.76404494, 0.76404494, 0.76404494,\n",
       "        0.76404494, 0.76404494, 0.76404494, 0.76404494, 0.76404494,\n",
       "        0.79775281, 0.79775281, 0.78651685, 0.79775281, 0.79775281,\n",
       "        0.79775281, 0.79775281, 0.79775281, 0.79775281, 0.79775281,\n",
       "        0.83146067, 0.83146067, 0.82022472, 0.83146067, 0.83146067,\n",
       "        0.83146067, 0.83146067, 0.82022472, 0.82022472, 0.82022472,\n",
       "        0.82022472, 0.80898876, 0.80898876, 0.80898876, 0.83146067,\n",
       "        0.82022472, 0.82022472, 0.80898876, 0.79775281, 0.80898876,\n",
       "        0.83146067, 0.83146067, 0.83146067, 0.83146067, 0.83146067,\n",
       "        0.83146067, 0.83146067, 0.83146067, 0.83146067, 0.83146067,\n",
       "        0.83146067, 0.84269663, 0.84269663, 0.84269663, 0.83146067,\n",
       "        0.83146067, 0.84269663, 0.83146067, 0.82022472, 0.83146067,\n",
       "        0.84269663, 0.84269663, 0.84269663, 0.84269663, 0.85393258,\n",
       "        0.83146067, 0.82022472, 0.83146067, 0.83146067, 0.83146067]),\n",
       " 'split7_test_score': array([0.73033708, 0.73033708, 0.71910112, 0.73033708, 0.73033708,\n",
       "        0.73033708, 0.73033708, 0.73033708, 0.73033708, 0.73033708,\n",
       "        0.7752809 , 0.7752809 , 0.7752809 , 0.7752809 , 0.7752809 ,\n",
       "        0.7752809 , 0.7752809 , 0.7752809 , 0.7752809 , 0.76404494,\n",
       "        0.7752809 , 0.76404494, 0.76404494, 0.76404494, 0.7752809 ,\n",
       "        0.7752809 , 0.7752809 , 0.7752809 , 0.7752809 , 0.76404494,\n",
       "        0.78651685, 0.78651685, 0.78651685, 0.78651685, 0.78651685,\n",
       "        0.78651685, 0.78651685, 0.78651685, 0.79775281, 0.79775281,\n",
       "        0.79775281, 0.80898876, 0.80898876, 0.80898876, 0.80898876,\n",
       "        0.80898876, 0.80898876, 0.80898876, 0.79775281, 0.80898876,\n",
       "        0.79775281, 0.79775281, 0.80898876, 0.80898876, 0.80898876,\n",
       "        0.80898876, 0.79775281, 0.80898876, 0.80898876, 0.80898876,\n",
       "        0.78651685, 0.79775281, 0.79775281, 0.79775281, 0.79775281,\n",
       "        0.79775281, 0.79775281, 0.79775281, 0.79775281, 0.79775281]),\n",
       " 'split8_test_score': array([0.82022472, 0.82022472, 0.80898876, 0.82022472, 0.82022472,\n",
       "        0.82022472, 0.82022472, 0.82022472, 0.82022472, 0.82022472,\n",
       "        0.85393258, 0.85393258, 0.84269663, 0.85393258, 0.85393258,\n",
       "        0.85393258, 0.85393258, 0.85393258, 0.85393258, 0.85393258,\n",
       "        0.85393258, 0.85393258, 0.85393258, 0.85393258, 0.86516854,\n",
       "        0.86516854, 0.84269663, 0.85393258, 0.85393258, 0.86516854,\n",
       "        0.84269663, 0.84269663, 0.84269663, 0.84269663, 0.85393258,\n",
       "        0.85393258, 0.85393258, 0.84269663, 0.84269663, 0.84269663,\n",
       "        0.83146067, 0.84269663, 0.85393258, 0.84269663, 0.84269663,\n",
       "        0.84269663, 0.82022472, 0.82022472, 0.83146067, 0.82022472,\n",
       "        0.84269663, 0.84269663, 0.85393258, 0.84269663, 0.85393258,\n",
       "        0.85393258, 0.85393258, 0.84269663, 0.83146067, 0.84269663,\n",
       "        0.82022472, 0.82022472, 0.82022472, 0.82022472, 0.83146067,\n",
       "        0.83146067, 0.83146067, 0.83146067, 0.84269663, 0.84269663]),\n",
       " 'split9_test_score': array([0.79775281, 0.79775281, 0.79775281, 0.79775281, 0.79775281,\n",
       "        0.79775281, 0.79775281, 0.79775281, 0.79775281, 0.79775281,\n",
       "        0.7752809 , 0.79775281, 0.80898876, 0.78651685, 0.79775281,\n",
       "        0.80898876, 0.80898876, 0.83146067, 0.82022472, 0.82022472,\n",
       "        0.78651685, 0.78651685, 0.7752809 , 0.7752809 , 0.7752809 ,\n",
       "        0.79775281, 0.80898876, 0.79775281, 0.79775281, 0.80898876,\n",
       "        0.80898876, 0.80898876, 0.80898876, 0.80898876, 0.80898876,\n",
       "        0.80898876, 0.80898876, 0.80898876, 0.80898876, 0.82022472,\n",
       "        0.80898876, 0.80898876, 0.80898876, 0.80898876, 0.80898876,\n",
       "        0.80898876, 0.80898876, 0.80898876, 0.80898876, 0.80898876,\n",
       "        0.82022472, 0.82022472, 0.83146067, 0.82022472, 0.82022472,\n",
       "        0.83146067, 0.83146067, 0.83146067, 0.82022472, 0.82022472,\n",
       "        0.83146067, 0.83146067, 0.83146067, 0.83146067, 0.83146067,\n",
       "        0.82022472, 0.83146067, 0.82022472, 0.82022472, 0.83146067]),\n",
       " 'mean_test_score': array([0.79682896, 0.79459426, 0.79682896, 0.79573034, 0.79458177,\n",
       "        0.79235955, 0.79345818, 0.79458177, 0.79233458, 0.79233458,\n",
       "        0.81369538, 0.81706617, 0.81594257, 0.81369538, 0.81931336,\n",
       "        0.81931336, 0.81931336, 0.82156055, 0.82043695, 0.81931336,\n",
       "        0.82044944, 0.81932584, 0.81370787, 0.81705368, 0.81707865,\n",
       "        0.82265918, 0.82265918, 0.81932584, 0.81818976, 0.82043695,\n",
       "        0.82270911, 0.82157303, 0.81932584, 0.82269663, 0.82719101,\n",
       "        0.82382022, 0.8249563 , 0.821598  , 0.8227216 , 0.82721598,\n",
       "        0.8249563 , 0.8260799 , 0.8294382 , 0.82831461, 0.82831461,\n",
       "        0.8294382 , 0.8294382 , 0.8294382 , 0.82831461, 0.8294382 ,\n",
       "        0.82384519, 0.82384519, 0.82833958, 0.8305618 , 0.8294382 ,\n",
       "        0.83280899, 0.83280899, 0.82945069, 0.82945069, 0.8339201 ,\n",
       "        0.82719101, 0.82609238, 0.82496879, 0.82498127, 0.82945069,\n",
       "        0.82274657, 0.82384519, 0.82498127, 0.82722846, 0.82498127]),\n",
       " 'std_test_score': array([0.03788285, 0.03492615, 0.04199228, 0.03618536, 0.03569892,\n",
       "        0.03458339, 0.03610953, 0.0353435 , 0.03397225, 0.03397225,\n",
       "        0.03376045, 0.03175378, 0.03260469, 0.03663008, 0.03267946,\n",
       "        0.03344318, 0.03344318, 0.03227606, 0.03210699, 0.03381857,\n",
       "        0.04039259, 0.03959395, 0.04172096, 0.04383968, 0.04625285,\n",
       "        0.04202483, 0.04172333, 0.0426635 , 0.04341935, 0.04461316,\n",
       "        0.04148016, 0.04052677, 0.03796622, 0.04093899, 0.04457659,\n",
       "        0.04100985, 0.04423665, 0.04425344, 0.04519282, 0.04527964,\n",
       "        0.04452112, 0.04395863, 0.04584986, 0.04337952, 0.04337952,\n",
       "        0.04388011, 0.04388011, 0.04473491, 0.04366958, 0.04388011,\n",
       "        0.03960309, 0.03896031, 0.03925444, 0.03789966, 0.03768922,\n",
       "        0.03583125, 0.04015121, 0.0348198 , 0.03988933, 0.03671958,\n",
       "        0.04254794, 0.04359557, 0.04151056, 0.04262694, 0.04051737,\n",
       "        0.04091842, 0.03797576, 0.04142534, 0.04290836, 0.04111945]),\n",
       " 'rank_test_score': array([62, 64, 61, 63, 65, 68, 67, 65, 69, 69, 59, 55, 57, 59, 49, 49, 49,\n",
       "        42, 44, 49, 43, 46, 58, 56, 54, 38, 38, 47, 53, 45, 36, 41, 47, 37,\n",
       "        20, 33, 28, 40, 35, 19, 28, 23,  9, 15, 15,  9,  9,  9, 15,  9, 30,\n",
       "        30, 14,  4,  8,  2,  2,  5,  5,  1, 20, 22, 27, 24,  7, 34, 30, 24,\n",
       "        18, 24])}"
      ]
     },
     "execution_count": 40,
     "metadata": {},
     "output_type": "execute_result"
    }
   ],
   "source": [
    "grid.cv_results_"
   ]
  },
  {
   "cell_type": "markdown",
   "metadata": {},
   "source": [
    "## Pipeline について\n",
    "【PipelineとGridSeaechCVを組み合わせたパラメータチューニングの解説記事】<br>\n",
    "https://qiita.com/R0w0/items/3b3d8e660b8abc1f804d <br>\n",
    "<br>\n",
    "組み合わせた場合、GridSearchCV に渡す tuned_params は、Pipeline構築の際にestimatorに対応付けた名前(est_name)と調整するパラメータ(tuning_param)を、次のように渡す点に注意<br>\n",
    "<br>\n",
    "`\"est_name__tuning_param\"`<br>\n",
    "<br>\n",
    "より具体的には、今回の例を用いて<br>\n",
    "`param_test = {\"classify__n_estimators\": list(range(20, 30, 1)),\n",
    "              \"classify__max_depth\": list(range(3, 10, 1))}`<br>\n",
    "<br>\n",
    "となることに注意。<br>\n",
    "<br>\n",
    "【Pipelineの引数とメンバ、メソッド】<br>\n",
    "<br>\n",
    "■ 引数\n",
    "- steps: タプル(name, transform) のリスト(fit/transformメソッドが実装されているもの)。最後の一つはestimatorである必要がある。\n",
    "- memory: fitが実行されたtransformerを一時的にキャッシュするディレクトリのパスを指定\n",
    "- verbose: fittingの各ステップでの所要時間を表示するか否か。\n",
    "\n",
    "■ メンバ<br>\n",
    "named_steps: ディクショナリ型。key は string, value はestimatorなどのインスタンス。<br>\n",
    "<br>\n",
    "■ メソッド\n",
    "- decision_functions(self, X): transform, を最終段のestimatorに適用\n",
    "- fit(self, X, y): モデルのフィッティングを実行\n",
    "- fit_predict(self, X, y): 最終段のestimatorにおける fit_predictを実行\n",
    "- fit_transform(self, X, y): transform と fitting を実行\n",
    "- get_params(self, deep): Pipelineのパラメータを取得する。\n",
    "- predict(self, X): 入力データにtransformを実行し、最終段のestimatorで予測を実行する\n",
    "- predict_log_proba(self, X): 入力データにtransformを実行し、最終段のestimatorでpredict_log_probaを実行する\n",
    "- predict_proba(self, X): 入力データにtransformを実行し、最終段のestimatorでpredict_probaを実行する\n",
    "- score(self, X, y): 入力データにtransformを実行し、最終段のestimatorでscoreを算出する。\n",
    "- score_samples(self, X): 入力データにtransformを実行し、最終段のestimatorでscore_samplesを実行する。\n",
    "- set_params(self, **kwargs): この予測器のパラメータを設定する。"
   ]
  },
  {
   "cell_type": "code",
   "execution_count": 50,
   "metadata": {},
   "outputs": [
    {
     "data": {
      "text/plain": [
       "Pipeline(memory=None,\n",
       "         steps=[('classify',\n",
       "                 RandomForestClassifier(bootstrap=True, ccp_alpha=0.0,\n",
       "                                        class_weight=None, criterion='gini',\n",
       "                                        max_depth=None, max_features='sqrt',\n",
       "                                        max_leaf_nodes=None, max_samples=None,\n",
       "                                        min_impurity_decrease=0.0,\n",
       "                                        min_impurity_split=None,\n",
       "                                        min_samples_leaf=1, min_samples_split=2,\n",
       "                                        min_weight_fraction_leaf=0.0,\n",
       "                                        n_estimators=100, n_jobs=None,\n",
       "                                        oob_score=False, random_state=10,\n",
       "                                        verbose=0, warm_start=False))],\n",
       "         verbose=False)"
      ]
     },
     "execution_count": 50,
     "metadata": {},
     "output_type": "execute_result"
    }
   ],
   "source": [
    "pipe"
   ]
  },
  {
   "cell_type": "code",
   "execution_count": 53,
   "metadata": {},
   "outputs": [
    {
     "data": {
      "text/plain": [
       "{'classify': RandomForestClassifier(bootstrap=True, ccp_alpha=0.0, class_weight=None,\n",
       "                        criterion='gini', max_depth=None, max_features='sqrt',\n",
       "                        max_leaf_nodes=None, max_samples=None,\n",
       "                        min_impurity_decrease=0.0, min_impurity_split=None,\n",
       "                        min_samples_leaf=1, min_samples_split=2,\n",
       "                        min_weight_fraction_leaf=0.0, n_estimators=100,\n",
       "                        n_jobs=None, oob_score=False, random_state=10, verbose=0,\n",
       "                        warm_start=False)}"
      ]
     },
     "execution_count": 53,
     "metadata": {},
     "output_type": "execute_result"
    }
   ],
   "source": [
    "pipe.named_steps"
   ]
  },
  {
   "cell_type": "code",
   "execution_count": 54,
   "metadata": {},
   "outputs": [
    {
     "data": {
      "text/plain": [
       "RandomForestClassifier(bootstrap=True, ccp_alpha=0.0, class_weight=None,\n",
       "                       criterion='gini', max_depth=None, max_features='sqrt',\n",
       "                       max_leaf_nodes=None, max_samples=None,\n",
       "                       min_impurity_decrease=0.0, min_impurity_split=None,\n",
       "                       min_samples_leaf=1, min_samples_split=2,\n",
       "                       min_weight_fraction_leaf=0.0, n_estimators=100,\n",
       "                       n_jobs=None, oob_score=False, random_state=10, verbose=0,\n",
       "                       warm_start=False)"
      ]
     },
     "execution_count": 54,
     "metadata": {},
     "output_type": "execute_result"
    }
   ],
   "source": [
    "pipe.named_steps[\"classify\"]"
   ]
  },
  {
   "cell_type": "code",
   "execution_count": 55,
   "metadata": {},
   "outputs": [
    {
     "data": {
      "text/plain": [
       "100"
      ]
     },
     "execution_count": 55,
     "metadata": {},
     "output_type": "execute_result"
    }
   ],
   "source": [
    "pipe.named_steps[\"classify\"].n_estimators"
   ]
  },
  {
   "cell_type": "code",
   "execution_count": 56,
   "metadata": {},
   "outputs": [
    {
     "data": {
      "text/plain": [
       "{'memory': None,\n",
       " 'steps': [('classify',\n",
       "   RandomForestClassifier(bootstrap=True, ccp_alpha=0.0, class_weight=None,\n",
       "                          criterion='gini', max_depth=None, max_features='sqrt',\n",
       "                          max_leaf_nodes=None, max_samples=None,\n",
       "                          min_impurity_decrease=0.0, min_impurity_split=None,\n",
       "                          min_samples_leaf=1, min_samples_split=2,\n",
       "                          min_weight_fraction_leaf=0.0, n_estimators=100,\n",
       "                          n_jobs=None, oob_score=False, random_state=10, verbose=0,\n",
       "                          warm_start=False))],\n",
       " 'verbose': False,\n",
       " 'classify': RandomForestClassifier(bootstrap=True, ccp_alpha=0.0, class_weight=None,\n",
       "                        criterion='gini', max_depth=None, max_features='sqrt',\n",
       "                        max_leaf_nodes=None, max_samples=None,\n",
       "                        min_impurity_decrease=0.0, min_impurity_split=None,\n",
       "                        min_samples_leaf=1, min_samples_split=2,\n",
       "                        min_weight_fraction_leaf=0.0, n_estimators=100,\n",
       "                        n_jobs=None, oob_score=False, random_state=10, verbose=0,\n",
       "                        warm_start=False),\n",
       " 'classify__bootstrap': True,\n",
       " 'classify__ccp_alpha': 0.0,\n",
       " 'classify__class_weight': None,\n",
       " 'classify__criterion': 'gini',\n",
       " 'classify__max_depth': None,\n",
       " 'classify__max_features': 'sqrt',\n",
       " 'classify__max_leaf_nodes': None,\n",
       " 'classify__max_samples': None,\n",
       " 'classify__min_impurity_decrease': 0.0,\n",
       " 'classify__min_impurity_split': None,\n",
       " 'classify__min_samples_leaf': 1,\n",
       " 'classify__min_samples_split': 2,\n",
       " 'classify__min_weight_fraction_leaf': 0.0,\n",
       " 'classify__n_estimators': 100,\n",
       " 'classify__n_jobs': None,\n",
       " 'classify__oob_score': False,\n",
       " 'classify__random_state': 10,\n",
       " 'classify__verbose': 0,\n",
       " 'classify__warm_start': False}"
      ]
     },
     "execution_count": 56,
     "metadata": {},
     "output_type": "execute_result"
    }
   ],
   "source": [
    "pipe.get_params()"
   ]
  },
  {
   "cell_type": "code",
   "execution_count": null,
   "metadata": {},
   "outputs": [],
   "source": []
  }
 ],
 "metadata": {
  "kernelspec": {
   "display_name": "Python 3",
   "language": "python",
   "name": "python3"
  },
  "language_info": {
   "codemirror_mode": {
    "name": "ipython",
    "version": 3
   },
   "file_extension": ".py",
   "mimetype": "text/x-python",
   "name": "python",
   "nbconvert_exporter": "python",
   "pygments_lexer": "ipython3",
   "version": "3.7.5"
  }
 },
 "nbformat": 4,
 "nbformat_minor": 4
}
