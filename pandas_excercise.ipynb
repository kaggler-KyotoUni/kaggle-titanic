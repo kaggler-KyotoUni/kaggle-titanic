{
  "nbformat": 4,
  "nbformat_minor": 0,
  "metadata": {
    "colab": {
      "name": "LSTM_flow.ipynb",
      "provenance": [],
      "collapsed_sections": [],
      "include_colab_link": true
    },
    "kernelspec": {
      "name": "python3",
      "display_name": "Python 3"
    },
    "accelerator": "TPU"
  },
  "cells": [
    {
      "cell_type": "markdown",
      "metadata": {
        "id": "view-in-github",
        "colab_type": "text"
      },
      "source": [
        "<a href=\"https://colab.research.google.com/github/kaggler-KyotoUni/kaggle-titanic/blob/chopprin_branch/pandas_excercise.ipynb\" target=\"_parent\"><img src=\"https://colab.research.google.com/assets/colab-badge.svg\" alt=\"Open In Colab\"/></a>"
      ]
    },
    {
      "cell_type": "code",
      "metadata": {
        "id": "hiQu8lWqp-Se",
        "colab_type": "code",
        "colab": {}
      },
      "source": [
        "from googleapiclient.discovery import build\n",
        "import io, os\n",
        "from googleapiclient.http import MediaIoBaseDownload\n",
        "from google.colab import auth\n",
        "\n",
        "auth.authenticate_user()\n",
        "\n",
        "drive_service = build('drive', 'v3')\n",
        "results = drive_service.files().list(\n",
        "        q=\"name = 'kaggle.json'\", fields=\"files(id)\").execute()\n",
        "kaggle_api_key = results.get('files', [])\n",
        "\n",
        "filename = \"/root/.kaggle/kaggle.json\"\n",
        "os.makedirs(os.path.dirname(filename), exist_ok=True)\n",
        "\n",
        "request = drive_service.files().get_media(fileId=kaggle_api_key[0]['id'])\n",
        "fh = io.FileIO(filename, 'wb')\n",
        "downloader = MediaIoBaseDownload(fh, request)\n",
        "done = False\n",
        "while done is False:\n",
        "    status, done = downloader.next_chunk()\n",
        "    print(\"Download %d%%.\" % int(status.progress() * 100))\n",
        "os.chmod(filename, 600)"
      ],
      "execution_count": null,
      "outputs": []
    },
    {
      "cell_type": "code",
      "metadata": {
        "id": "hlY0Lhaz8XQW",
        "colab_type": "code",
        "colab": {
          "base_uri": "https://localhost:8080/",
          "height": 181
        },
        "outputId": "b7f14b8b-08c8-4d0c-d937-8db6906e2821"
      },
      "source": [
        "%load_ext autoreload\n",
        "import pandas as pd \n",
        "pd.set_option('display.max_columns', 500)\n",
        "pd.set_option('display.max_rows', 500)\n",
        "import numpy as np \n",
        "\n",
        "import matplotlib.pyplot as plt \n",
        "plt.rc('figure',figsize=[10.0, 3.0])\n",
        "\n",
        "import seaborn as sns; sns.set()\n",
        "import os\n",
        "import glob\n",
        "from tqdm import tqdm\n",
        "import warnings\n",
        "warnings.filterwarnings('ignore')\n",
        "\n",
        "from itertools import cycle\n",
        "pd.set_option('max_columns', 50)\n",
        "plt.style.use('bmh')\n",
        "color_cycle = cycle(plt.rcParams['axes.prop_cycle'].by_key()['color'])\n",
        "\n",
        "# メモリ解放の為\n",
        "import gc\n",
        "\n",
        "from google.colab import drive\n",
        "drive.mount('/content/drive')\n",
        "\n",
        "import tensorflow as tf \n",
        "tf.__version__\n",
        "\n",
        "# データは1回しか読み込みしなくてもgoogle colab上に移したほうが速いとの事\n",
        "# !mkdir \"/content/data/\"\n",
        "# !cp -r \"/content/drive/My Drive/kaggle/data/titanic\" \"/content/data/\" \n",
        "# moduleはgoogle driveにおいとく\n",
        "# !mkdir \"/content/module/\"\n",
        "# !cp -r \"/content/drive/My Drive/kaggle/module\" \"/content/module/\""
      ],
      "execution_count": 4,
      "outputs": [
        {
          "output_type": "stream",
          "text": [
            "The autoreload extension is already loaded. To reload it, use:\n",
            "  %reload_ext autoreload\n",
            "Go to this URL in a browser: https://accounts.google.com/o/oauth2/auth?client_id=947318989803-6bn6qk8qdgf4n4g3pfee6491hc0brc4i.apps.googleusercontent.com&redirect_uri=urn%3aietf%3awg%3aoauth%3a2.0%3aoob&response_type=code&scope=email%20https%3a%2f%2fwww.googleapis.com%2fauth%2fdocs.test%20https%3a%2f%2fwww.googleapis.com%2fauth%2fdrive%20https%3a%2f%2fwww.googleapis.com%2fauth%2fdrive.photos.readonly%20https%3a%2f%2fwww.googleapis.com%2fauth%2fpeopleapi.readonly\n",
            "\n",
            "Enter your authorization code:\n",
            "··········\n",
            "Mounted at /content/drive\n"
          ],
          "name": "stdout"
        },
        {
          "output_type": "execute_result",
          "data": {
            "application/vnd.google.colaboratory.intrinsic+json": {
              "type": "string"
            },
            "text/plain": [
              "'2.2.0'"
            ]
          },
          "metadata": {
            "tags": []
          },
          "execution_count": 4
        }
      ]
    },
    {
      "cell_type": "code",
      "metadata": {
        "id": "KxUFjobHltme",
        "colab_type": "code",
        "colab": {
          "base_uri": "https://localhost:8080/",
          "height": 35
        },
        "outputId": "6bd51a00-3f25-460f-cdd6-d52226eae573"
      },
      "source": [
        "# 自作もジュールのimport\n",
        "%autoreload\n",
        "%cd \"/content/drive/My Drive/kaggle/module/\"\n",
        "import load_data as ld\n",
        "import eda_data as ed"
      ],
      "execution_count": 5,
      "outputs": [
        {
          "output_type": "stream",
          "text": [
            "/content/drive/My Drive/kaggle/module\n"
          ],
          "name": "stdout"
        }
      ]
    },
    {
      "cell_type": "code",
      "metadata": {
        "id": "Socfd1QaMjz7",
        "colab_type": "code",
        "colab": {
          "base_uri": "https://localhost:8080/",
          "height": 179
        },
        "outputId": "eeadc4ce-9779-44d9-e76b-335f6aea0257"
      },
      "source": [
        "%cd /content/\n",
        "!ls\n",
        "train = pd.read_csv(\"./train.csv\")\n",
        "test = pd.read_csv(\"./test.csv\")\n",
        "gender = pd.read_csv(\"./gender_submission.csv\")\n",
        "\n",
        "print(\"Read finished\")\n",
        "print(\"@@@@@@@@@@@@@@@@@@\")\n",
        "\n",
        "csv_list = [train, test]\n",
        "#csv_list = [cal, stv, ste, ss, sellp]\n",
        "\n",
        "for i, csv in enumerate(tqdm(csv_list)):\n",
        "    csv_list[i] = ld.reduce_mem_usage(csv)\n",
        "print(\"Memory usage reduced\")\n",
        "print(\"@@@@@@@@@@@@@@@@@@\")"
      ],
      "execution_count": 6,
      "outputs": [
        {
          "output_type": "stream",
          "text": [
            "/content\n",
            "adc.json  drive  gender_submission.csv\tsample_data  test.csv  train.csv\n"
          ],
          "name": "stdout"
        },
        {
          "output_type": "stream",
          "text": [
            "100%|██████████| 2/2 [00:00<00:00, 87.29it/s]"
          ],
          "name": "stderr"
        },
        {
          "output_type": "stream",
          "text": [
            "Read finished\n",
            "@@@@@@@@@@@@@@@@@@\n",
            "Mem. usage decreased to  0.04 Mb (47.8% reduction)\n",
            "Mem. usage decreased to  0.02 Mb (44.2% reduction)\n",
            "Memory usage reduced\n",
            "@@@@@@@@@@@@@@@@@@\n"
          ],
          "name": "stdout"
        },
        {
          "output_type": "stream",
          "text": [
            "\n"
          ],
          "name": "stderr"
        }
      ]
    },
    {
      "cell_type": "code",
      "metadata": {
        "id": "jTJAzFi9WHIm",
        "colab_type": "code",
        "colab": {
          "base_uri": "https://localhost:8080/",
          "height": 35
        },
        "outputId": "9bac38b7-85b1-4864-8489-e48ad28790a1"
      },
      "source": [
        "for i, csv in enumerate(tqdm(csv_list)):\n",
        "    csv_list[i] = csv.fillna(0)"
      ],
      "execution_count": 7,
      "outputs": [
        {
          "output_type": "stream",
          "text": [
            "100%|██████████| 2/2 [00:00<00:00, 120.43it/s]\n"
          ],
          "name": "stderr"
        }
      ]
    },
    {
      "cell_type": "code",
      "metadata": {
        "id": "mll995fJSNJo",
        "colab_type": "code",
        "colab": {}
      },
      "source": [
        ""
      ],
      "execution_count": null,
      "outputs": []
    },
    {
      "cell_type": "markdown",
      "metadata": {
        "id": "SdqXr3XNprWc",
        "colab_type": "text"
      },
      "source": [
        "# ApplyとMap関数について\n",
        "- kaggleのtitanicのデータを用意すること"
      ]
    },
    {
      "cell_type": "code",
      "metadata": {
        "id": "7w86XwZPqAVF",
        "colab_type": "code",
        "colab": {
          "base_uri": "https://localhost:8080/",
          "height": 53
        },
        "outputId": "91f34fe6-fcd7-495e-fb31-266321deb066"
      },
      "source": [
        "print(\"train shape : {}\".format(train.shape))\n",
        "print(\"test shape : {}\".format(test.shape))"
      ],
      "execution_count": 69,
      "outputs": [
        {
          "output_type": "stream",
          "text": [
            "train shape : (891, 12)\n",
            "test shape : (418, 11)\n"
          ],
          "name": "stdout"
        }
      ]
    },
    {
      "cell_type": "code",
      "metadata": {
        "id": "kS3TbdpKqACU",
        "colab_type": "code",
        "colab": {}
      },
      "source": [
        ""
      ],
      "execution_count": null,
      "outputs": []
    },
    {
      "cell_type": "markdown",
      "metadata": {
        "id": "5DmTNV75ijRl",
        "colab_type": "text"
      },
      "source": [
        "apply：DataFrame・Seriesの行・要素に関数を適用\n"
      ]
    },
    {
      "cell_type": "code",
      "metadata": {
        "id": "Jc027A6JoAmB",
        "colab_type": "code",
        "colab": {
          "base_uri": "https://localhost:8080/",
          "height": 233
        },
        "outputId": "c8dc068c-da0d-4bfb-e202-5f2af6eec92f"
      },
      "source": [
        "f_add_some_value = lambda x: x + 10\n",
        "train[\"Age\"].apply(f_add_some_value)"
      ],
      "execution_count": 67,
      "outputs": [
        {
          "output_type": "execute_result",
          "data": {
            "text/plain": [
              "0      32.0\n",
              "1      48.0\n",
              "2      36.0\n",
              "3      45.0\n",
              "4      45.0\n",
              "       ... \n",
              "886    37.0\n",
              "887    29.0\n",
              "888     NaN\n",
              "889    36.0\n",
              "890    42.0\n",
              "Name: Age, Length: 891, dtype: float64"
            ]
          },
          "metadata": {
            "tags": []
          },
          "execution_count": 67
        }
      ]
    },
    {
      "cell_type": "code",
      "metadata": {
        "id": "oQ1VljwRhYO2",
        "colab_type": "code",
        "colab": {
          "base_uri": "https://localhost:8080/",
          "height": 233
        },
        "outputId": "5a6198a3-35f0-4151-c0d7-e7d48bf7eae8"
      },
      "source": [
        "# 引数が２つ以上の場合もapplyで対応可能\n",
        "def f_add_some_value(column, value):\n",
        "  return column + value\n",
        "\n",
        "# 1つめの引数はtrain[\"Age\"]に含まれており，2つめ以降の引数をapply中で適用\n",
        "train[\"Age\"].apply(f_add_some_value, value = 10)"
      ],
      "execution_count": 64,
      "outputs": [
        {
          "output_type": "execute_result",
          "data": {
            "text/plain": [
              "0      32.0\n",
              "1      48.0\n",
              "2      36.0\n",
              "3      45.0\n",
              "4      45.0\n",
              "       ... \n",
              "886    37.0\n",
              "887    29.0\n",
              "888     NaN\n",
              "889    36.0\n",
              "890    42.0\n",
              "Name: Age, Length: 891, dtype: float64"
            ]
          },
          "metadata": {
            "tags": []
          },
          "execution_count": 64
        }
      ]
    },
    {
      "cell_type": "code",
      "metadata": {
        "id": "JfzSXXDnhYEl",
        "colab_type": "code",
        "colab": {
          "base_uri": "https://localhost:8080/",
          "height": 415
        },
        "outputId": "56929051-cc67-406c-f699-d151052d2962"
      },
      "source": [
        "# value_counts()はSeriesに対してのみ適用可能\n",
        "index = 1\n",
        "train.iloc[:,index].value_counts()\n",
        "\n",
        "# 無理矢理DataFrameに対してvalue_countsを適用する場合はapplyを使えば可能\n",
        "f_value_counts = lambda x: x.value_counts()\n",
        "train.apply(f_value_counts)"
      ],
      "execution_count": 51,
      "outputs": [
        {
          "output_type": "execute_result",
          "data": {
            "text/html": [
              "<div>\n",
              "<style scoped>\n",
              "    .dataframe tbody tr th:only-of-type {\n",
              "        vertical-align: middle;\n",
              "    }\n",
              "\n",
              "    .dataframe tbody tr th {\n",
              "        vertical-align: top;\n",
              "    }\n",
              "\n",
              "    .dataframe thead th {\n",
              "        text-align: right;\n",
              "    }\n",
              "</style>\n",
              "<table border=\"1\" class=\"dataframe\">\n",
              "  <thead>\n",
              "    <tr style=\"text-align: right;\">\n",
              "      <th></th>\n",
              "      <th>PassengerId</th>\n",
              "      <th>Survived</th>\n",
              "      <th>Pclass</th>\n",
              "      <th>Name</th>\n",
              "      <th>Sex</th>\n",
              "      <th>Age</th>\n",
              "      <th>SibSp</th>\n",
              "      <th>Parch</th>\n",
              "      <th>Ticket</th>\n",
              "      <th>Fare</th>\n",
              "      <th>Cabin</th>\n",
              "      <th>Embarked</th>\n",
              "    </tr>\n",
              "  </thead>\n",
              "  <tbody>\n",
              "    <tr>\n",
              "      <th>0</th>\n",
              "      <td>NaN</td>\n",
              "      <td>549.0</td>\n",
              "      <td>NaN</td>\n",
              "      <td>NaN</td>\n",
              "      <td>NaN</td>\n",
              "      <td>NaN</td>\n",
              "      <td>608.0</td>\n",
              "      <td>678.0</td>\n",
              "      <td>NaN</td>\n",
              "      <td>15.0</td>\n",
              "      <td>NaN</td>\n",
              "      <td>NaN</td>\n",
              "    </tr>\n",
              "    <tr>\n",
              "      <th>0.419921875</th>\n",
              "      <td>NaN</td>\n",
              "      <td>NaN</td>\n",
              "      <td>NaN</td>\n",
              "      <td>NaN</td>\n",
              "      <td>NaN</td>\n",
              "      <td>1.0</td>\n",
              "      <td>NaN</td>\n",
              "      <td>NaN</td>\n",
              "      <td>NaN</td>\n",
              "      <td>NaN</td>\n",
              "      <td>NaN</td>\n",
              "      <td>NaN</td>\n",
              "    </tr>\n",
              "    <tr>\n",
              "      <th>0.669921875</th>\n",
              "      <td>NaN</td>\n",
              "      <td>NaN</td>\n",
              "      <td>NaN</td>\n",
              "      <td>NaN</td>\n",
              "      <td>NaN</td>\n",
              "      <td>1.0</td>\n",
              "      <td>NaN</td>\n",
              "      <td>NaN</td>\n",
              "      <td>NaN</td>\n",
              "      <td>NaN</td>\n",
              "      <td>NaN</td>\n",
              "      <td>NaN</td>\n",
              "    </tr>\n",
              "    <tr>\n",
              "      <th>0.75</th>\n",
              "      <td>NaN</td>\n",
              "      <td>NaN</td>\n",
              "      <td>NaN</td>\n",
              "      <td>NaN</td>\n",
              "      <td>NaN</td>\n",
              "      <td>2.0</td>\n",
              "      <td>NaN</td>\n",
              "      <td>NaN</td>\n",
              "      <td>NaN</td>\n",
              "      <td>NaN</td>\n",
              "      <td>NaN</td>\n",
              "      <td>NaN</td>\n",
              "    </tr>\n",
              "    <tr>\n",
              "      <th>0.830078125</th>\n",
              "      <td>NaN</td>\n",
              "      <td>NaN</td>\n",
              "      <td>NaN</td>\n",
              "      <td>NaN</td>\n",
              "      <td>NaN</td>\n",
              "      <td>2.0</td>\n",
              "      <td>NaN</td>\n",
              "      <td>NaN</td>\n",
              "      <td>NaN</td>\n",
              "      <td>NaN</td>\n",
              "      <td>NaN</td>\n",
              "      <td>NaN</td>\n",
              "    </tr>\n",
              "    <tr>\n",
              "      <th>...</th>\n",
              "      <td>...</td>\n",
              "      <td>...</td>\n",
              "      <td>...</td>\n",
              "      <td>...</td>\n",
              "      <td>...</td>\n",
              "      <td>...</td>\n",
              "      <td>...</td>\n",
              "      <td>...</td>\n",
              "      <td>...</td>\n",
              "      <td>...</td>\n",
              "      <td>...</td>\n",
              "      <td>...</td>\n",
              "    </tr>\n",
              "    <tr>\n",
              "      <th>del Carlo, Mr. Sebastiano</th>\n",
              "      <td>NaN</td>\n",
              "      <td>NaN</td>\n",
              "      <td>NaN</td>\n",
              "      <td>1.0</td>\n",
              "      <td>NaN</td>\n",
              "      <td>NaN</td>\n",
              "      <td>NaN</td>\n",
              "      <td>NaN</td>\n",
              "      <td>NaN</td>\n",
              "      <td>NaN</td>\n",
              "      <td>NaN</td>\n",
              "      <td>NaN</td>\n",
              "    </tr>\n",
              "    <tr>\n",
              "      <th>female</th>\n",
              "      <td>NaN</td>\n",
              "      <td>NaN</td>\n",
              "      <td>NaN</td>\n",
              "      <td>NaN</td>\n",
              "      <td>314.0</td>\n",
              "      <td>NaN</td>\n",
              "      <td>NaN</td>\n",
              "      <td>NaN</td>\n",
              "      <td>NaN</td>\n",
              "      <td>NaN</td>\n",
              "      <td>NaN</td>\n",
              "      <td>NaN</td>\n",
              "    </tr>\n",
              "    <tr>\n",
              "      <th>male</th>\n",
              "      <td>NaN</td>\n",
              "      <td>NaN</td>\n",
              "      <td>NaN</td>\n",
              "      <td>NaN</td>\n",
              "      <td>577.0</td>\n",
              "      <td>NaN</td>\n",
              "      <td>NaN</td>\n",
              "      <td>NaN</td>\n",
              "      <td>NaN</td>\n",
              "      <td>NaN</td>\n",
              "      <td>NaN</td>\n",
              "      <td>NaN</td>\n",
              "    </tr>\n",
              "    <tr>\n",
              "      <th>van Billiard, Mr. Austin Blyler</th>\n",
              "      <td>NaN</td>\n",
              "      <td>NaN</td>\n",
              "      <td>NaN</td>\n",
              "      <td>1.0</td>\n",
              "      <td>NaN</td>\n",
              "      <td>NaN</td>\n",
              "      <td>NaN</td>\n",
              "      <td>NaN</td>\n",
              "      <td>NaN</td>\n",
              "      <td>NaN</td>\n",
              "      <td>NaN</td>\n",
              "      <td>NaN</td>\n",
              "    </tr>\n",
              "    <tr>\n",
              "      <th>van Melkebeke, Mr. Philemon</th>\n",
              "      <td>NaN</td>\n",
              "      <td>NaN</td>\n",
              "      <td>NaN</td>\n",
              "      <td>1.0</td>\n",
              "      <td>NaN</td>\n",
              "      <td>NaN</td>\n",
              "      <td>NaN</td>\n",
              "      <td>NaN</td>\n",
              "      <td>NaN</td>\n",
              "      <td>NaN</td>\n",
              "      <td>NaN</td>\n",
              "      <td>NaN</td>\n",
              "    </tr>\n",
              "  </tbody>\n",
              "</table>\n",
              "<p>2841 rows × 12 columns</p>\n",
              "</div>"
            ],
            "text/plain": [
              "                                 PassengerId  Survived  Pclass  Name    Sex  \\\n",
              "0                                        NaN     549.0     NaN   NaN    NaN   \n",
              "0.419921875                              NaN       NaN     NaN   NaN    NaN   \n",
              "0.669921875                              NaN       NaN     NaN   NaN    NaN   \n",
              "0.75                                     NaN       NaN     NaN   NaN    NaN   \n",
              "0.830078125                              NaN       NaN     NaN   NaN    NaN   \n",
              "...                                      ...       ...     ...   ...    ...   \n",
              "del Carlo, Mr. Sebastiano                NaN       NaN     NaN   1.0    NaN   \n",
              "female                                   NaN       NaN     NaN   NaN  314.0   \n",
              "male                                     NaN       NaN     NaN   NaN  577.0   \n",
              "van Billiard, Mr. Austin Blyler          NaN       NaN     NaN   1.0    NaN   \n",
              "van Melkebeke, Mr. Philemon              NaN       NaN     NaN   1.0    NaN   \n",
              "\n",
              "                                 Age  SibSp  Parch  Ticket  Fare  Cabin  \\\n",
              "0                                NaN  608.0  678.0     NaN  15.0    NaN   \n",
              "0.419921875                      1.0    NaN    NaN     NaN   NaN    NaN   \n",
              "0.669921875                      1.0    NaN    NaN     NaN   NaN    NaN   \n",
              "0.75                             2.0    NaN    NaN     NaN   NaN    NaN   \n",
              "0.830078125                      2.0    NaN    NaN     NaN   NaN    NaN   \n",
              "...                              ...    ...    ...     ...   ...    ...   \n",
              "del Carlo, Mr. Sebastiano        NaN    NaN    NaN     NaN   NaN    NaN   \n",
              "female                           NaN    NaN    NaN     NaN   NaN    NaN   \n",
              "male                             NaN    NaN    NaN     NaN   NaN    NaN   \n",
              "van Billiard, Mr. Austin Blyler  NaN    NaN    NaN     NaN   NaN    NaN   \n",
              "van Melkebeke, Mr. Philemon      NaN    NaN    NaN     NaN   NaN    NaN   \n",
              "\n",
              "                                 Embarked  \n",
              "0                                     NaN  \n",
              "0.419921875                           NaN  \n",
              "0.669921875                           NaN  \n",
              "0.75                                  NaN  \n",
              "0.830078125                           NaN  \n",
              "...                                   ...  \n",
              "del Carlo, Mr. Sebastiano             NaN  \n",
              "female                                NaN  \n",
              "male                                  NaN  \n",
              "van Billiard, Mr. Austin Blyler       NaN  \n",
              "van Melkebeke, Mr. Philemon           NaN  \n",
              "\n",
              "[2841 rows x 12 columns]"
            ]
          },
          "metadata": {
            "tags": []
          },
          "execution_count": 51
        }
      ]
    },
    {
      "cell_type": "code",
      "metadata": {
        "id": "ZDWvfPrbjUPY",
        "colab_type": "code",
        "colab": {}
      },
      "source": [
        ""
      ],
      "execution_count": null,
      "outputs": []
    },
    {
      "cell_type": "markdown",
      "metadata": {
        "id": "o8XX5UGHjTt-",
        "colab_type": "text"
      },
      "source": [
        "Series各要素に関数を適用：map"
      ]
    },
    {
      "cell_type": "code",
      "metadata": {
        "id": "lX5ij-X5imQa",
        "colab_type": "code",
        "colab": {
          "base_uri": "https://localhost:8080/",
          "height": 233
        },
        "outputId": "25dad9eb-8a5a-473d-daa3-784bee1015e1"
      },
      "source": [
        "index = 3\n",
        "f_brackets = lambda x: '[{}]'.format(x) # 自作関数の定義\n",
        "print(train.iloc[:,3].map(f_brackets))"
      ],
      "execution_count": 31,
      "outputs": [
        {
          "output_type": "stream",
          "text": [
            "0                              [Braund, Mr. Owen Harris]\n",
            "1      [Cumings, Mrs. John Bradley (Florence Briggs T...\n",
            "2                               [Heikkinen, Miss. Laina]\n",
            "3         [Futrelle, Mrs. Jacques Heath (Lily May Peel)]\n",
            "4                             [Allen, Mr. William Henry]\n",
            "                             ...                        \n",
            "886                              [Montvila, Rev. Juozas]\n",
            "887                       [Graham, Miss. Margaret Edith]\n",
            "888           [Johnston, Miss. Catherine Helen \"Carrie\"]\n",
            "889                              [Behr, Mr. Karl Howell]\n",
            "890                                [Dooley, Mr. Patrick]\n",
            "Name: Name, Length: 891, dtype: object\n"
          ],
          "name": "stdout"
        }
      ]
    },
    {
      "cell_type": "code",
      "metadata": {
        "id": "s6qsQ2TXimDr",
        "colab_type": "code",
        "colab": {}
      },
      "source": [
        ""
      ],
      "execution_count": null,
      "outputs": []
    }
  ]
}